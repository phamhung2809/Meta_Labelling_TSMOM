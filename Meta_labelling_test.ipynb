{
  "cells": [
    {
      "cell_type": "markdown",
      "metadata": {
        "id": "doAvLDWfmv9z"
      },
      "source": [
        "# 0. Import Libaries + Data"
      ]
    },
    {
      "cell_type": "code",
      "execution_count": 1,
      "metadata": {},
      "outputs": [
        {
          "name": "stdout",
          "output_type": "stream",
          "text": [
            "Requirement already satisfied: changepoynt in c:\\users\\npw\\anaconda3\\lib\\site-packages (0.0.9)\n",
            "Requirement already satisfied: numpy>=1.23.5 in c:\\users\\npw\\anaconda3\\lib\\site-packages (from changepoynt) (1.26.4)\n",
            "Requirement already satisfied: numba>=0.56.4 in c:\\users\\npw\\anaconda3\\lib\\site-packages (from changepoynt) (0.60.0)\n",
            "Requirement already satisfied: scipy>=1.10.1 in c:\\users\\npw\\anaconda3\\lib\\site-packages (from changepoynt) (1.13.1)\n",
            "Requirement already satisfied: fbpca>=1.0 in c:\\users\\npw\\anaconda3\\lib\\site-packages (from changepoynt) (1.0)\n",
            "Requirement already satisfied: matplotlib>=3.7.1 in c:\\users\\npw\\anaconda3\\lib\\site-packages (from changepoynt) (3.9.2)\n",
            "Requirement already satisfied: stumpy>=1.11.1 in c:\\users\\npw\\anaconda3\\lib\\site-packages (from changepoynt) (1.13.0)\n",
            "Requirement already satisfied: rocket-fft in c:\\users\\npw\\anaconda3\\lib\\site-packages (from changepoynt) (0.2.5)\n",
            "Requirement already satisfied: contourpy>=1.0.1 in c:\\users\\npw\\anaconda3\\lib\\site-packages (from matplotlib>=3.7.1->changepoynt) (1.2.0)\n",
            "Requirement already satisfied: cycler>=0.10 in c:\\users\\npw\\anaconda3\\lib\\site-packages (from matplotlib>=3.7.1->changepoynt) (0.11.0)\n",
            "Requirement already satisfied: fonttools>=4.22.0 in c:\\users\\npw\\anaconda3\\lib\\site-packages (from matplotlib>=3.7.1->changepoynt) (4.51.0)\n",
            "Requirement already satisfied: kiwisolver>=1.3.1 in c:\\users\\npw\\anaconda3\\lib\\site-packages (from matplotlib>=3.7.1->changepoynt) (1.4.4)\n",
            "Requirement already satisfied: packaging>=20.0 in c:\\users\\npw\\anaconda3\\lib\\site-packages (from matplotlib>=3.7.1->changepoynt) (24.1)\n",
            "Requirement already satisfied: pillow>=8 in c:\\users\\npw\\anaconda3\\lib\\site-packages (from matplotlib>=3.7.1->changepoynt) (10.4.0)\n",
            "Requirement already satisfied: pyparsing>=2.3.1 in c:\\users\\npw\\anaconda3\\lib\\site-packages (from matplotlib>=3.7.1->changepoynt) (3.1.2)\n",
            "Requirement already satisfied: python-dateutil>=2.7 in c:\\users\\npw\\anaconda3\\lib\\site-packages (from matplotlib>=3.7.1->changepoynt) (2.9.0.post0)\n",
            "Requirement already satisfied: llvmlite<0.44,>=0.43.0dev0 in c:\\users\\npw\\anaconda3\\lib\\site-packages (from numba>=0.56.4->changepoynt) (0.43.0)\n",
            "Requirement already satisfied: six>=1.5 in c:\\users\\npw\\anaconda3\\lib\\site-packages (from python-dateutil>=2.7->matplotlib>=3.7.1->changepoynt) (1.16.0)\n"
          ]
        }
      ],
      "source": [
        "!pip install changepoynt"
      ]
    },
    {
      "cell_type": "code",
      "execution_count": null,
      "metadata": {
        "colab": {
          "base_uri": "https://localhost:8080/"
        },
        "collapsed": true,
        "id": "0o4uhqYwmtxv",
        "outputId": "6c320bfc-db9c-43ee-e864-9853dcbd0a36"
      },
      "outputs": [],
      "source": [
        "import matplotlib.pyplot as plt\n",
        "import seaborn as sns\n",
        "# sns.set_style('whitegrid')\n",
        "import matplotlib.dates as mdates\n",
        "\n",
        "from datetime import datetime\n",
        "import dateutil.parser\n",
        "import copy\n",
        "\n",
        "import warnings\n",
        "warnings.filterwarnings(\"ignore\")"
      ]
    },
    {
      "cell_type": "code",
      "execution_count": 3,
      "metadata": {},
      "outputs": [
        {
          "name": "stdout",
          "output_type": "stream",
          "text": [
            "WARNING:tensorflow:From c:\\Users\\NPW\\anaconda3\\Lib\\site-packages\\tf_keras\\src\\losses.py:2976: The name tf.losses.sparse_softmax_cross_entropy is deprecated. Please use tf.compat.v1.losses.sparse_softmax_cross_entropy instead.\n",
            "\n",
            "WARNING:tensorflow:From c:\\Users\\NPW\\anaconda3\\Lib\\site-packages\\tensorflow_probability\\python\\internal\\backend\\numpy\\_utils.py:48: The name tf.logging.TaskLevelStatusMessage is deprecated. Please use tf.compat.v1.logging.TaskLevelStatusMessage instead.\n",
            "\n",
            "WARNING:tensorflow:From c:\\Users\\NPW\\anaconda3\\Lib\\site-packages\\tensorflow_probability\\python\\internal\\backend\\numpy\\_utils.py:48: The name tf.control_flow_v2_enabled is deprecated. Please use tf.compat.v1.control_flow_v2_enabled instead.\n",
            "\n"
          ]
        },
        {
          "data": {
            "text/html": [
              "<!DOCTYPE html>\n",
              "<html>\n",
              "\n",
              "<head>\n",
              "    <meta charset=\"UTF-8\">\n",
              "    <meta name=\"viewport\" content=\"width=device-width, initial-scale=1.0\">\n",
              "    <link href=\"https://fonts.googleapis.com/css2?family=Lexend:wght@400;500;600;700&display=swap\" rel=\"stylesheet\">\n",
              "    <style>\n",
              "        .vnstock-ad-banner {\n",
              "            all: initial;\n",
              "            font-family: 'Lexend', sans-serif;\n",
              "            display: flex;\n",
              "            flex-wrap: wrap;\n",
              "            max-width: 100%;\n",
              "            margin: 12px 0;\n",
              "            border-radius: 10px;\n",
              "            overflow: hidden;\n",
              "            background: #ffffff;\n",
              "            box-shadow: 0 4px 12px rgba(0, 0, 0, 0.08);\n",
              "            color: #333;\n",
              "        }\n",
              "\n",
              "        .vnstock-ad-content {\n",
              "            flex: 1;\n",
              "            padding: 12px 16px;\n",
              "            display: flex;\n",
              "            flex-direction: column;\n",
              "            justify-content: center;\n",
              "        }\n",
              "\n",
              "        .vnstock-ad-title {\n",
              "            margin: 0 0 10px 0;\n",
              "            line-height: 1.3;\n",
              "            font-size: 18px;\n",
              "            font-weight: 700;\n",
              "            color: #4CAF50;\n",
              "        }\n",
              "\n",
              "        .title-highlight {\n",
              "            color: #8C52FF;\n",
              "        }\n",
              "\n",
              "        .vnstock-ad-features {\n",
              "            list-style: none;\n",
              "            padding-left: 0;\n",
              "            margin: 10px 0 12px 0;\n",
              "            font-size: 13px;\n",
              "            line-height: 1.4;\n",
              "        }\n",
              "\n",
              "        .vnstock-ad-features li {\n",
              "            margin-bottom: 6px;\n",
              "        }\n",
              "\n",
              "        .feature-highlight {\n",
              "            color: #8C52FF;\n",
              "            font-weight: 600;\n",
              "        }\n",
              "\n",
              "        .button-container {\n",
              "            text-align: center;\n",
              "        }\n",
              "\n",
              "        .vnstock-ad-button {\n",
              "            display: inline-block;\n",
              "            background-color: #4CAF50;\n",
              "            color: #fff;\n",
              "            padding: 6px 16px;\n",
              "            text-decoration: none;\n",
              "            font-size: 13px;\n",
              "            border-radius: 20px;\n",
              "            font-weight: 600;\n",
              "            transition: all 0.2s;\n",
              "            box-shadow: 0 2px 6px rgba(76, 175, 80, 0.2);\n",
              "        }\n",
              "\n",
              "        .vnstock-ad-button:hover {\n",
              "            background-color: #8C52FF;\n",
              "            color: white;\n",
              "            transform: translateY(-1px);\n",
              "            box-shadow: 0 4px 8px rgba(140, 82, 255, 0.3);\n",
              "        }\n",
              "\n",
              "        .vnstock-ad-image {\n",
              "            flex: 1;\n",
              "            min-width: 180px;\n",
              "            max-width: 45%;\n",
              "        }\n",
              "\n",
              "        .vnstock-ad-image img {\n",
              "            width: 100%;\n",
              "            height: 100%;\n",
              "            max-height: 250px;\n",
              "            object-fit: cover;\n",
              "            display: block;\n",
              "        }\n",
              "\n",
              "        @media (max-width: 768px) {\n",
              "            .vnstock-ad-banner {\n",
              "                flex-direction: column;\n",
              "            }\n",
              "\n",
              "            .vnstock-ad-image {\n",
              "                min-width: auto;\n",
              "                max-width: 100%;\n",
              "            }\n",
              "        }\n",
              "    </style>\n",
              "</head>\n",
              "\n",
              "<body>\n",
              "    <div class=\"vnstock-ad-banner\">\n",
              "        <div class=\"vnstock-ad-content\">\n",
              "            <h2 class=\"vnstock-ad-title\">\n",
              "                <span class=\"title-highlight\">🤖 Python Coding với AI:</span> Học chủ động qua video ghi hình\n",
              "            </h2>\n",
              "            <ul class=\"vnstock-ad-features\">\n",
              "                <li><span class=\"feature-highlight\">🎥 Khóa học live đã khởi động:</span> Xem lại video bài giảng tại\n",
              "                    website, theo dõi tiến độ rõ ràng</li>\n",
              "                <li><span class=\"feature-highlight\">⚡ Điều khiển AI viết code Python:</span> Không cần học thuộc lòng,\n",
              "                    học ứng biến với AI agent</li>\n",
              "                <li><span class=\"feature-highlight\">🤖 Tập trung vào AI thực chiến:</span> Viết bot, phân tích dữ liệu\n",
              "                    bằng Python nhờ sức mạnh AI</li>\n",
              "                <li><span class=\"feature-highlight\">💡 Cộng đồng chất lượng cao:</span> 100+ nhà đầu tư, chuyên gia &\n",
              "                    lập trình viên cùng học hỏi</li>\n",
              "            </ul>\n",
              "            <div class=\"button-container\">\n",
              "                <a href=\"https://vnstocks.com/lp-khoa-hoc-python-chung-khoan\" class=\"vnstock-ad-button\">\n",
              "                    Đăng ký học ngay ›\n",
              "                </a>\n",
              "            </div>\n",
              "        </div>\n",
              "        <a href=\"https://vnstocks.com/lp-khoa-hoc-python-chung-khoan\" class=\"vnstock-ad-image\">\n",
              "            <img src=\"https://vnstocks.com/img/cta-python-chung-khoan-k11-start-now.jpg\"\n",
              "                alt=\"Khóa học Python Coding với AI\"\n",
              "                style=\"width: 100%; height: 100%; max-height: 250px; object-fit: cover; display: block;\">\n",
              "        </a>\n",
              "    </div>\n",
              "</body>\n",
              "\n",
              "</html>"
            ],
            "text/plain": [
              "<IPython.core.display.HTML object>"
            ]
          },
          "metadata": {},
          "output_type": "display_data"
        },
        {
          "data": {
            "text/markdown": [
              "Phiên bản Vnstock 3.2.6 đã có mặt, vui lòng cập nhật với câu lệnh : `pip install vnstock --upgrade`.\n",
              "Lịch sử phiên bản: https://vnstocks.com/docs/tai-lieu/lich-su-phien-ban\n",
              "Phiên bản hiện tại 3.2.3"
            ],
            "text/plain": [
              "<IPython.core.display.Markdown object>"
            ]
          },
          "metadata": {},
          "output_type": "display_data"
        },
        {
          "data": {
            "text/markdown": [
              "Phiên bản Vnai 2.0.4 đã có mặt, vui lòng cập nhật với câu lệnh : `pip install vnai --upgrade`.\n",
              "Lịch sử phiên bản: https://pypi.org/project/vnai/#history\n",
              "Phiên bản hiện tại 2.0.2"
            ],
            "text/plain": [
              "<IPython.core.display.Markdown object>"
            ]
          },
          "metadata": {},
          "output_type": "display_data"
        }
      ],
      "source": [
        "from model import *\n",
        "from preprocess import *\n",
        "from crawling import *"
      ]
    },
    {
      "cell_type": "code",
      "execution_count": 4,
      "metadata": {
        "colab": {
          "base_uri": "https://localhost:8080/"
        },
        "collapsed": true,
        "id": "6juVE8DH7UPi",
        "outputId": "8851c304-27fb-4337-b98e-33461d07ec23"
      },
      "outputs": [],
      "source": [
        "start_time = '2017-12-31'\n",
        "# start_time = '2023-12-31'\n",
        "end_time = '2025-03-01'\n",
        "\n",
        "list_choice = 'VN30'\n",
        "\n",
        "daily_full = VN_Stock_fully_data(start_time, end_time)"
      ]
    },
    {
      "cell_type": "code",
      "execution_count": 5,
      "metadata": {
        "collapsed": true,
        "id": "khM1H_ACx9x3"
      },
      "outputs": [],
      "source": [
        "# start_time = '2017-12-31'\n",
        "# start_time = '2011-12-31'\n",
        "\n",
        "# end_time = '2025-03-01'\n",
        "\n",
        "# list_choice = 'VN30'\n",
        "\n",
        "# daily_test = VN_Stock_close_data(start_time, end_time)\n",
        "# daily_test"
      ]
    },
    {
      "cell_type": "markdown",
      "metadata": {
        "id": "TfDs02blnK3u"
      },
      "source": [
        "# 1. Analysis"
      ]
    },
    {
      "cell_type": "code",
      "execution_count": 6,
      "metadata": {
        "id": "oABJBFOzpUm1"
      },
      "outputs": [],
      "source": [
        "def describe_data_list(data):\n",
        "  ''' Hàm mô tả dữ liệu\n",
        "      INPUT: data_list(list): Một list bao gồm các dataframe\n",
        "        * Lưu ý: Nếu chỉ sử dụng 1 công ty, chỉ cần truyền vào 1 dataframe dưới dạng list: (VD: [df])\n",
        "      OUTPUT: các thông tin chung và mô tả các biến số của tất cả dataframe có trong list\n",
        "  '''\n",
        "  print(data.name)\n",
        "  print(data.info())\n",
        "  print(data.describe())\n",
        "  print(\"=========================================\")\n",
        "\n",
        "  return"
      ]
    },
    {
      "cell_type": "markdown",
      "metadata": {
        "id": "hnI0uU8enN8i"
      },
      "source": [
        "# 2. Cleaning Data"
      ]
    },
    {
      "cell_type": "markdown",
      "metadata": {
        "id": "IN79-KmKnRvW"
      },
      "source": [
        "# 3. Feature Engineering"
      ]
    },
    {
      "cell_type": "code",
      "execution_count": 8,
      "metadata": {
        "id": "shhBFQnYN1q5"
      },
      "outputs": [
        {
          "name": "stdout",
          "output_type": "stream",
          "text": [
            "0.11713733333333337 13.282666666666664 23.90939712145356\n",
            "0.11713733333333337 13.282666666666664 23.90939712145356\n",
            "2.7362942777777794 52.28933333333334 501.82528104786667\n",
            "0.9336229444444448 25.207166666666666 54.284417347305755\n",
            "3.1592567222222225 49.42466666666667 172.39155878443003\n",
            "0.7917605000000003 24.379333333333335 52.29478459434966\n",
            "1.1137827777777773 52.771 1279.826477872727\n",
            "4.681389611111111 68.76733333333334 95.00768554762892\n",
            "0.8750943333333335 19.05666666666667 91.91116537206706\n",
            "0.18985655555555558 11.647 21.202973021669916\n",
            "0.32027788888888886 16.270833333333336 49.276578173302845\n",
            "0.1170104444444444 7.5598333333333345 44.50437820600708\n",
            "0.17400294444444447 13.072666666666668 24.547414647111413\n",
            "8.761588055555556 73.167 461.16340072759203\n",
            "2.347770055555556 41.985666666666674 218.08663553199844\n",
            "2.010812333333333 43.48533333333334 53.00047306748066\n",
            "4.182456777777783 71.76650000000001 251.01089037678526\n",
            "0.08740988888888883 7.76 12.663747889832567\n",
            "0.32300694444444444 21.473333333333333 6.241689675051922\n",
            "0.5038542777777777 14.825666666666667 68.92354779311799\n",
            "0.7082611111111112 21.56583333333333 72.3508124571134\n",
            "0.29692399999999997 14.959 28.523709217644598\n",
            "0.09239044444444437 11.654333333333332 16.430166741196665\n",
            "1.2116015555555548 43.117333333333335 143.5491997078613\n",
            "4.031172888888888 58.251 152.49143719451544\n",
            "0.16918422222222207 13.367833333333333 36.86686535334589\n",
            "3.722824499999998 83.23916666666666 518.0464846119031\n",
            "9.180222222222213 117.15166666666669 278.2175543694625\n",
            "3.33550761111111 70.846 98.46239742117864\n",
            "0.2609922777777779 15.928 30.456554689327906\n",
            "1.1000049444444433 28.8275 26.71735179098083\n"
          ]
        }
      ],
      "source": [
        "num_feature = feature_engineering(daily_full[0])[1] - 2\n",
        "feature = pd.DataFrame(np.empty((0, num_feature + 2)))\n",
        "for x in range(0,30):\n",
        "  temp = feature_engineering(daily_full[x])[0]\n",
        "  feature.columns = temp.columns\n",
        "  feature = pd.concat([feature,temp], axis = 0)\n",
        "  # print(feature.shape)\n",
        "feature = feature.sort_index()\n"
      ]
    },
    {
      "cell_type": "code",
      "execution_count": 9,
      "metadata": {},
      "outputs": [
        {
          "data": {
            "text/plain": [
              "good_signal\n",
              "1.0    33917\n",
              "0.0    10943\n",
              "Name: count, dtype: int64"
            ]
          },
          "execution_count": 9,
          "metadata": {},
          "output_type": "execute_result"
        }
      ],
      "source": [
        "feature['good_signal'].value_counts()"
      ]
    },
    {
      "cell_type": "code",
      "execution_count": 10,
      "metadata": {
        "colab": {
          "base_uri": "https://localhost:8080/",
          "height": 444
        },
        "id": "gc3f6YcET4oQ",
        "outputId": "66e13c0a-6f4c-4e36-c69a-6508ea0858e3"
      },
      "outputs": [
        {
          "data": {
            "text/html": [
              "<div>\n",
              "<style scoped>\n",
              "    .dataframe tbody tr th:only-of-type {\n",
              "        vertical-align: middle;\n",
              "    }\n",
              "\n",
              "    .dataframe tbody tr th {\n",
              "        vertical-align: top;\n",
              "    }\n",
              "\n",
              "    .dataframe thead th {\n",
              "        text-align: right;\n",
              "    }\n",
              "</style>\n",
              "<table border=\"1\" class=\"dataframe\">\n",
              "  <thead>\n",
              "    <tr style=\"text-align: right;\">\n",
              "      <th></th>\n",
              "      <th>Symbol</th>\n",
              "      <th>RSI20</th>\n",
              "      <th>PSY20</th>\n",
              "      <th>RSI60</th>\n",
              "      <th>PSY60</th>\n",
              "      <th>RSI252</th>\n",
              "      <th>PSY252</th>\n",
              "      <th>ROC1</th>\n",
              "      <th>ROC3</th>\n",
              "      <th>ROC5</th>\n",
              "      <th>ROC20</th>\n",
              "      <th>ROC60</th>\n",
              "      <th>MACD_1_5</th>\n",
              "      <th>MACD_5_20</th>\n",
              "      <th>MACD_20_60</th>\n",
              "      <th>VWAP</th>\n",
              "      <th>changepoint_bocd</th>\n",
              "      <th>signal_momentum</th>\n",
              "      <th>good_signal</th>\n",
              "      <th>Close</th>\n",
              "    </tr>\n",
              "  </thead>\n",
              "  <tbody>\n",
              "    <tr>\n",
              "      <th>2019-01-04</th>\n",
              "      <td>ACB</td>\n",
              "      <td>0.261905</td>\n",
              "      <td>0.25</td>\n",
              "      <td>0.403909</td>\n",
              "      <td>0.333333</td>\n",
              "      <td>0.492348</td>\n",
              "      <td>0.456349</td>\n",
              "      <td>0.006410</td>\n",
              "      <td>-0.044140</td>\n",
              "      <td>-0.014129</td>\n",
              "      <td>-0.087209</td>\n",
              "      <td>-0.158177</td>\n",
              "      <td>-0.088069</td>\n",
              "      <td>-0.143337</td>\n",
              "      <td>-0.156807</td>\n",
              "      <td>7.463786</td>\n",
              "      <td>0.036866</td>\n",
              "      <td>-0.021807</td>\n",
              "      <td>0.0</td>\n",
              "      <td>6.28</td>\n",
              "    </tr>\n",
              "    <tr>\n",
              "      <th>2019-01-04</th>\n",
              "      <td>VJC</td>\n",
              "      <td>0.123959</td>\n",
              "      <td>0.30</td>\n",
              "      <td>0.319276</td>\n",
              "      <td>0.383333</td>\n",
              "      <td>0.495924</td>\n",
              "      <td>0.456349</td>\n",
              "      <td>-0.010331</td>\n",
              "      <td>-0.041695</td>\n",
              "      <td>-0.057384</td>\n",
              "      <td>-0.124827</td>\n",
              "      <td>-0.206901</td>\n",
              "      <td>-2.454183</td>\n",
              "      <td>-5.481703</td>\n",
              "      <td>-6.273283</td>\n",
              "      <td>145.110446</td>\n",
              "      <td>0.259387</td>\n",
              "      <td>-0.101584</td>\n",
              "      <td>1.0</td>\n",
              "      <td>114.00</td>\n",
              "    </tr>\n",
              "    <tr>\n",
              "      <th>2019-01-04</th>\n",
              "      <td>VRE</td>\n",
              "      <td>0.225907</td>\n",
              "      <td>0.30</td>\n",
              "      <td>0.414148</td>\n",
              "      <td>0.433333</td>\n",
              "      <td>0.468317</td>\n",
              "      <td>0.432540</td>\n",
              "      <td>-0.007432</td>\n",
              "      <td>-0.014391</td>\n",
              "      <td>-0.058181</td>\n",
              "      <td>-0.165312</td>\n",
              "      <td>-0.157679</td>\n",
              "      <td>-0.672996</td>\n",
              "      <td>-1.584344</td>\n",
              "      <td>-0.887964</td>\n",
              "      <td>36.513193</td>\n",
              "      <td>0.096357</td>\n",
              "      <td>-0.129684</td>\n",
              "      <td>1.0</td>\n",
              "      <td>26.71</td>\n",
              "    </tr>\n",
              "    <tr>\n",
              "      <th>2019-01-04</th>\n",
              "      <td>BID</td>\n",
              "      <td>0.389565</td>\n",
              "      <td>0.30</td>\n",
              "      <td>0.454268</td>\n",
              "      <td>0.383333</td>\n",
              "      <td>0.510975</td>\n",
              "      <td>0.484127</td>\n",
              "      <td>-0.014156</td>\n",
              "      <td>-0.082719</td>\n",
              "      <td>-0.032240</td>\n",
              "      <td>-0.067987</td>\n",
              "      <td>-0.107637</td>\n",
              "      <td>-0.577409</td>\n",
              "      <td>-0.292983</td>\n",
              "      <td>0.155836</td>\n",
              "      <td>17.735836</td>\n",
              "      <td>0.046111</td>\n",
              "      <td>-0.014156</td>\n",
              "      <td>1.0</td>\n",
              "      <td>17.41</td>\n",
              "    </tr>\n",
              "    <tr>\n",
              "      <th>2019-01-04</th>\n",
              "      <td>SHB</td>\n",
              "      <td>0.229167</td>\n",
              "      <td>0.10</td>\n",
              "      <td>0.364055</td>\n",
              "      <td>0.216667</td>\n",
              "      <td>0.478261</td>\n",
              "      <td>0.365079</td>\n",
              "      <td>0.000000</td>\n",
              "      <td>-0.026119</td>\n",
              "      <td>-0.026119</td>\n",
              "      <td>-0.090592</td>\n",
              "      <td>-0.184375</td>\n",
              "      <td>-0.035637</td>\n",
              "      <td>-0.075726</td>\n",
              "      <td>-0.112358</td>\n",
              "      <td>3.978772</td>\n",
              "      <td>0.036408</td>\n",
              "      <td>-0.064516</td>\n",
              "      <td>0.0</td>\n",
              "      <td>2.61</td>\n",
              "    </tr>\n",
              "    <tr>\n",
              "      <th>...</th>\n",
              "      <td>...</td>\n",
              "      <td>...</td>\n",
              "      <td>...</td>\n",
              "      <td>...</td>\n",
              "      <td>...</td>\n",
              "      <td>...</td>\n",
              "      <td>...</td>\n",
              "      <td>...</td>\n",
              "      <td>...</td>\n",
              "      <td>...</td>\n",
              "      <td>...</td>\n",
              "      <td>...</td>\n",
              "      <td>...</td>\n",
              "      <td>...</td>\n",
              "      <td>...</td>\n",
              "      <td>...</td>\n",
              "      <td>...</td>\n",
              "      <td>...</td>\n",
              "      <td>...</td>\n",
              "      <td>...</td>\n",
              "    </tr>\n",
              "    <tr>\n",
              "      <th>2025-02-28</th>\n",
              "      <td>BVH</td>\n",
              "      <td>0.688312</td>\n",
              "      <td>0.45</td>\n",
              "      <td>0.637387</td>\n",
              "      <td>0.466667</td>\n",
              "      <td>0.561680</td>\n",
              "      <td>0.440476</td>\n",
              "      <td>-0.020761</td>\n",
              "      <td>-0.010490</td>\n",
              "      <td>-0.024138</td>\n",
              "      <td>0.114173</td>\n",
              "      <td>0.274775</td>\n",
              "      <td>-0.643901</td>\n",
              "      <td>1.894701</td>\n",
              "      <td>3.271105</td>\n",
              "      <td>50.101616</td>\n",
              "      <td>0.000000</td>\n",
              "      <td>0.143434</td>\n",
              "      <td>1.0</td>\n",
              "      <td>56.60</td>\n",
              "    </tr>\n",
              "    <tr>\n",
              "      <th>2025-02-28</th>\n",
              "      <td>BID</td>\n",
              "      <td>0.595960</td>\n",
              "      <td>0.50</td>\n",
              "      <td>0.574335</td>\n",
              "      <td>0.516667</td>\n",
              "      <td>0.483083</td>\n",
              "      <td>0.428571</td>\n",
              "      <td>0.000000</td>\n",
              "      <td>-0.007273</td>\n",
              "      <td>0.001222</td>\n",
              "      <td>0.023750</td>\n",
              "      <td>0.074803</td>\n",
              "      <td>-0.046944</td>\n",
              "      <td>0.462302</td>\n",
              "      <td>0.735471</td>\n",
              "      <td>27.245200</td>\n",
              "      <td>0.000000</td>\n",
              "      <td>0.047315</td>\n",
              "      <td>1.0</td>\n",
              "      <td>40.95</td>\n",
              "    </tr>\n",
              "    <tr>\n",
              "      <th>2025-02-28</th>\n",
              "      <td>VPB</td>\n",
              "      <td>0.579592</td>\n",
              "      <td>0.50</td>\n",
              "      <td>0.516949</td>\n",
              "      <td>0.416667</td>\n",
              "      <td>0.512124</td>\n",
              "      <td>0.436508</td>\n",
              "      <td>0.000000</td>\n",
              "      <td>-0.002654</td>\n",
              "      <td>-0.007396</td>\n",
              "      <td>0.021196</td>\n",
              "      <td>0.012938</td>\n",
              "      <td>0.002604</td>\n",
              "      <td>0.194517</td>\n",
              "      <td>0.069097</td>\n",
              "      <td>17.136746</td>\n",
              "      <td>0.000000</td>\n",
              "      <td>0.043309</td>\n",
              "      <td>1.0</td>\n",
              "      <td>18.79</td>\n",
              "    </tr>\n",
              "    <tr>\n",
              "      <th>2025-02-28</th>\n",
              "      <td>VIB</td>\n",
              "      <td>0.523585</td>\n",
              "      <td>0.55</td>\n",
              "      <td>0.613520</td>\n",
              "      <td>0.516667</td>\n",
              "      <td>0.530721</td>\n",
              "      <td>0.396825</td>\n",
              "      <td>0.005035</td>\n",
              "      <td>0.000000</td>\n",
              "      <td>0.007064</td>\n",
              "      <td>0.005035</td>\n",
              "      <td>0.097910</td>\n",
              "      <td>0.067507</td>\n",
              "      <td>0.199288</td>\n",
              "      <td>0.553448</td>\n",
              "      <td>15.558699</td>\n",
              "      <td>0.000000</td>\n",
              "      <td>0.075431</td>\n",
              "      <td>1.0</td>\n",
              "      <td>19.96</td>\n",
              "    </tr>\n",
              "    <tr>\n",
              "      <th>2025-02-28</th>\n",
              "      <td>VRE</td>\n",
              "      <td>0.619718</td>\n",
              "      <td>0.45</td>\n",
              "      <td>0.465116</td>\n",
              "      <td>0.316667</td>\n",
              "      <td>0.438129</td>\n",
              "      <td>0.373016</td>\n",
              "      <td>0.011628</td>\n",
              "      <td>0.008696</td>\n",
              "      <td>0.008696</td>\n",
              "      <td>0.051360</td>\n",
              "      <td>-0.033333</td>\n",
              "      <td>0.141282</td>\n",
              "      <td>0.271823</td>\n",
              "      <td>-0.156772</td>\n",
              "      <td>27.646515</td>\n",
              "      <td>0.000000</td>\n",
              "      <td>0.032641</td>\n",
              "      <td>1.0</td>\n",
              "      <td>17.40</td>\n",
              "    </tr>\n",
              "  </tbody>\n",
              "</table>\n",
              "<p>44860 rows × 20 columns</p>\n",
              "</div>"
            ],
            "text/plain": [
              "           Symbol     RSI20  PSY20     RSI60     PSY60    RSI252    PSY252  \\\n",
              "2019-01-04    ACB  0.261905   0.25  0.403909  0.333333  0.492348  0.456349   \n",
              "2019-01-04    VJC  0.123959   0.30  0.319276  0.383333  0.495924  0.456349   \n",
              "2019-01-04    VRE  0.225907   0.30  0.414148  0.433333  0.468317  0.432540   \n",
              "2019-01-04    BID  0.389565   0.30  0.454268  0.383333  0.510975  0.484127   \n",
              "2019-01-04    SHB  0.229167   0.10  0.364055  0.216667  0.478261  0.365079   \n",
              "...           ...       ...    ...       ...       ...       ...       ...   \n",
              "2025-02-28    BVH  0.688312   0.45  0.637387  0.466667  0.561680  0.440476   \n",
              "2025-02-28    BID  0.595960   0.50  0.574335  0.516667  0.483083  0.428571   \n",
              "2025-02-28    VPB  0.579592   0.50  0.516949  0.416667  0.512124  0.436508   \n",
              "2025-02-28    VIB  0.523585   0.55  0.613520  0.516667  0.530721  0.396825   \n",
              "2025-02-28    VRE  0.619718   0.45  0.465116  0.316667  0.438129  0.373016   \n",
              "\n",
              "                ROC1      ROC3      ROC5     ROC20     ROC60  MACD_1_5  \\\n",
              "2019-01-04  0.006410 -0.044140 -0.014129 -0.087209 -0.158177 -0.088069   \n",
              "2019-01-04 -0.010331 -0.041695 -0.057384 -0.124827 -0.206901 -2.454183   \n",
              "2019-01-04 -0.007432 -0.014391 -0.058181 -0.165312 -0.157679 -0.672996   \n",
              "2019-01-04 -0.014156 -0.082719 -0.032240 -0.067987 -0.107637 -0.577409   \n",
              "2019-01-04  0.000000 -0.026119 -0.026119 -0.090592 -0.184375 -0.035637   \n",
              "...              ...       ...       ...       ...       ...       ...   \n",
              "2025-02-28 -0.020761 -0.010490 -0.024138  0.114173  0.274775 -0.643901   \n",
              "2025-02-28  0.000000 -0.007273  0.001222  0.023750  0.074803 -0.046944   \n",
              "2025-02-28  0.000000 -0.002654 -0.007396  0.021196  0.012938  0.002604   \n",
              "2025-02-28  0.005035  0.000000  0.007064  0.005035  0.097910  0.067507   \n",
              "2025-02-28  0.011628  0.008696  0.008696  0.051360 -0.033333  0.141282   \n",
              "\n",
              "            MACD_5_20  MACD_20_60        VWAP  changepoint_bocd  \\\n",
              "2019-01-04  -0.143337   -0.156807    7.463786          0.036866   \n",
              "2019-01-04  -5.481703   -6.273283  145.110446          0.259387   \n",
              "2019-01-04  -1.584344   -0.887964   36.513193          0.096357   \n",
              "2019-01-04  -0.292983    0.155836   17.735836          0.046111   \n",
              "2019-01-04  -0.075726   -0.112358    3.978772          0.036408   \n",
              "...               ...         ...         ...               ...   \n",
              "2025-02-28   1.894701    3.271105   50.101616          0.000000   \n",
              "2025-02-28   0.462302    0.735471   27.245200          0.000000   \n",
              "2025-02-28   0.194517    0.069097   17.136746          0.000000   \n",
              "2025-02-28   0.199288    0.553448   15.558699          0.000000   \n",
              "2025-02-28   0.271823   -0.156772   27.646515          0.000000   \n",
              "\n",
              "            signal_momentum  good_signal   Close  \n",
              "2019-01-04        -0.021807          0.0    6.28  \n",
              "2019-01-04        -0.101584          1.0  114.00  \n",
              "2019-01-04        -0.129684          1.0   26.71  \n",
              "2019-01-04        -0.014156          1.0   17.41  \n",
              "2019-01-04        -0.064516          0.0    2.61  \n",
              "...                     ...          ...     ...  \n",
              "2025-02-28         0.143434          1.0   56.60  \n",
              "2025-02-28         0.047315          1.0   40.95  \n",
              "2025-02-28         0.043309          1.0   18.79  \n",
              "2025-02-28         0.075431          1.0   19.96  \n",
              "2025-02-28         0.032641          1.0   17.40  \n",
              "\n",
              "[44860 rows x 20 columns]"
            ]
          },
          "execution_count": 10,
          "metadata": {},
          "output_type": "execute_result"
        }
      ],
      "source": [
        "# feature = pd.get_dummies(feature, columns=['Symbol'], drop_first = True)\n",
        "# feature = feature.drop(['Symbol'],axis = 1)\n",
        "feature"
      ]
    },
    {
      "cell_type": "code",
      "execution_count": 11,
      "metadata": {},
      "outputs": [],
      "source": [
        "# feature.to_csv(\"feature.csv\")"
      ]
    },
    {
      "cell_type": "code",
      "execution_count": 12,
      "metadata": {
        "id": "5SMU-u5NGUCp"
      },
      "outputs": [],
      "source": [
        "# corr = feature.drop(columns = ['Symbol']).corr()\n",
        "# corr.style.background_gradient(cmap='coolwarm')"
      ]
    },
    {
      "cell_type": "code",
      "execution_count": 13,
      "metadata": {
        "id": "U-EUBaqkGbnG"
      },
      "outputs": [],
      "source": [
        "def prepare_X_y(df, keep = []):\n",
        "    ''' Hàm chia X,y từ dữ liệu\n",
        "          INPUT: df(dataframe): dữ liệu đã được tạo feature\n",
        "          OUTPUT: X,y(dataframe): X là các biến độc lập, y là biến phụ thuộc sử dụng trong các mô hình\n",
        "    '''\n",
        "    columns = df.columns.tolist()\n",
        "    remove_list = ['Symbol', 'Close', 'good_signal']\n",
        "    remove_list = list(set(remove_list) - set(keep))\n",
        "    columns = list(set(columns) - set(remove_list))\n",
        "    X = df[columns]\n",
        "    info = df[['Symbol', 'Close']]\n",
        "    y = df['good_signal']\n",
        "\n",
        "    return X, y , info\n",
        "\n",
        "def split_train_test(X, y, info, train_size=0.8):\n",
        "    ''' Hàm chia tập train, test cho dữ liệu:\n",
        "          INPUT:\n",
        "            X,y(dataframe): X là các biến độc lập, y là biến phụ thuộc sử dụng trong các mô hình\n",
        "            train_size: tỉ lệ chia train/test; mặc định là 0.8\n",
        "          OUTPUT: trainX, testX ,trainY, testY(dataframe): các tập train/test đã được chia ra\n",
        "    '''\n",
        "    # Chia tập train/test\n",
        "    # trainX, testX ,trainY, testY = train_test_split(X, y, train_size=train_size, shuffle=False)\n",
        "\n",
        "    split_idx = int(len(X) * train_size)  # Compute the split index\n",
        "\n",
        "    trainX, testX = X.loc[X.index <= dateutil.parser.parse(str(X.iloc[[split_idx]].index[0]))], X.loc[X.index > dateutil.parser.parse(str(X.iloc[[split_idx]].index[0]))]  # Non-overlapping split\n",
        "    trainY, testY = y.loc[y.index <= dateutil.parser.parse(str(y.iloc[[split_idx]].index[0]))], y.loc[y.index > dateutil.parser.parse(str(y.iloc[[split_idx]].index[0]))]\n",
        "    infoX, infoY = info.loc[info.index <= dateutil.parser.parse(str(info.iloc[[split_idx]].index[0]))], info.loc[info.index > dateutil.parser.parse(str(info.iloc[[split_idx]].index[0]))]\n",
        "\n",
        "    # In ra những thông tin chi tiết về kích cỡ tập train/test; và khoảng thời gian xử lí\n",
        "    print('TrainX:' + str(trainX.shape) + f\". Dữ liệu từ ngày {trainX.index.min().date()} đến {trainX.index.max().date()}\")\n",
        "    print('TrainY:' + str(trainY.shape) + f\". Dữ liệu từ ngày {trainY.index.min().date()} đến {trainY.index.max().date()}\")\n",
        "    print('TestX:' + str(testX.shape) + f\". Dữ liệu từ ngày {testX.index.min().date()} đến {testX.index.max().date()}\")\n",
        "    print('TestY:' + str(testY.shape) + f\". Dữ liệu từ ngày {testY.index.min().date()} đến {testY.index.max().date()}\")\n",
        "\n",
        "    return trainX, testX ,trainY, testY , infoX, infoY"
      ]
    },
    {
      "cell_type": "code",
      "execution_count": 34,
      "metadata": {
        "colab": {
          "base_uri": "https://localhost:8080/"
        },
        "collapsed": true,
        "id": "R-V-XgEZGhiV",
        "outputId": "3916e704-3c90-4e73-d138-5ba3be77888f"
      },
      "outputs": [
        {
          "name": "stdout",
          "output_type": "stream",
          "text": [
            "TrainX:(35890, 17). Dữ liệu từ ngày 2019-01-04 đến 2023-12-13\n",
            "TrainY:(35890,). Dữ liệu từ ngày 2019-01-04 đến 2023-12-13\n",
            "TestX:(8970, 17). Dữ liệu từ ngày 2023-12-14 đến 2025-02-28\n",
            "TestY:(8970,). Dữ liệu từ ngày 2023-12-14 đến 2025-02-28\n",
            "               ROC60     ROC20  MACD_5_20        VWAP     RSI60    RSI252  \\\n",
            "2019-01-04 -0.158177 -0.087209  -0.143337    7.463786  0.403909  0.492348   \n",
            "2019-01-04 -0.206901 -0.124827  -5.481703  145.110446  0.319276  0.495924   \n",
            "2019-01-04 -0.157679 -0.165312  -1.584344   36.513193  0.414148  0.468317   \n",
            "2019-01-04 -0.107637 -0.067987  -0.292983   17.735836  0.454268  0.510975   \n",
            "2019-01-04 -0.184375 -0.090592  -0.075726    3.978772  0.364055  0.478261   \n",
            "...              ...       ...        ...         ...       ...       ...   \n",
            "2023-12-13 -0.067294 -0.010359   0.256678   23.608515  0.445388  0.510857   \n",
            "2023-12-13 -0.006980 -0.041054   0.044225   11.993403  0.493491  0.530260   \n",
            "2023-12-13 -0.181495 -0.045643   0.030914   30.716581  0.408273  0.472456   \n",
            "2023-12-13 -0.122277  0.001604   0.260425   19.007687  0.455635  0.548689   \n",
            "2023-12-13 -0.093252 -0.030820   0.073692   13.501869  0.438710  0.523398   \n",
            "\n",
            "            changepoint_bocd      ROC3      ROC1     PSY60    PSY252  \\\n",
            "2019-01-04          0.036866 -0.044140  0.006410  0.333333  0.456349   \n",
            "2019-01-04          0.259387 -0.041695 -0.010331  0.383333  0.456349   \n",
            "2019-01-04          0.096357 -0.014391 -0.007432  0.433333  0.432540   \n",
            "2019-01-04          0.046111 -0.082719 -0.014156  0.383333  0.484127   \n",
            "2019-01-04          0.036408 -0.026119  0.000000  0.216667  0.365079   \n",
            "...                      ...       ...       ...       ...       ...   \n",
            "2023-12-13          0.046257 -0.005576 -0.009259  0.416667  0.492063   \n",
            "2023-12-13          0.038494 -0.004453 -0.008866  0.433333  0.440476   \n",
            "2023-12-13          0.042537 -0.014989 -0.027484  0.466667  0.444444   \n",
            "2023-12-13          0.037214 -0.018468 -0.018468  0.500000  0.507937   \n",
            "2023-12-13          0.038581 -0.015979 -0.008054  0.500000  0.480159   \n",
            "\n",
            "               RSI20  MACD_1_5  signal_momentum      ROC5  PSY20  MACD_20_60  \n",
            "2019-01-04  0.261905 -0.088069        -0.021807 -0.014129   0.25   -0.156807  \n",
            "2019-01-04  0.123959 -2.454183        -0.101584 -0.057384   0.30   -6.273283  \n",
            "2019-01-04  0.225907 -0.672996        -0.129684 -0.058181   0.30   -0.887964  \n",
            "2019-01-04  0.389565 -0.577409        -0.014156 -0.032240   0.30    0.155836  \n",
            "2019-01-04  0.229167 -0.035637        -0.064516 -0.026119   0.10   -0.112358  \n",
            "...              ...       ...              ...       ...    ...         ...  \n",
            "2023-12-13  0.456522 -0.062252         0.090946  0.003752   0.40    0.010440  \n",
            "2023-12-13  0.353712 -0.042035         0.032322  0.000000   0.45    0.032505  \n",
            "2023-12-13  0.414062 -0.241024         0.013216  0.004367   0.45   -1.340966  \n",
            "2023-12-13  0.502088 -0.374936         0.178302 -0.047655   0.55    0.550342  \n",
            "2023-12-13  0.399142 -0.083614         0.057981 -0.008054   0.45   -0.054713  \n",
            "\n",
            "[35890 rows x 17 columns]\n",
            "2019-01-04    0.0\n",
            "2019-01-04    1.0\n",
            "2019-01-04    1.0\n",
            "2019-01-04    1.0\n",
            "2019-01-04    0.0\n",
            "             ... \n",
            "2023-12-13    1.0\n",
            "2023-12-13    1.0\n",
            "2023-12-13    1.0\n",
            "2023-12-13    1.0\n",
            "2023-12-13    1.0\n",
            "Name: good_signal, Length: 35890, dtype: float64\n"
          ]
        }
      ],
      "source": [
        "X, y,info = prepare_X_y(feature)\n",
        "\n",
        "trainX, testX ,trainY, testY, infoX,infoY = split_train_test(X, y,info)\n",
        "print(trainX)\n",
        "print(trainY)"
      ]
    },
    {
      "cell_type": "markdown",
      "metadata": {
        "id": "MYmNYqKUnVTr"
      },
      "source": [
        "# 4. Model"
      ]
    },
    {
      "cell_type": "markdown",
      "metadata": {
        "id": "w9z2oEF4n7c3"
      },
      "source": [
        "## Random forest"
      ]
    },
    {
      "cell_type": "code",
      "execution_count": 31,
      "metadata": {
        "colab": {
          "base_uri": "https://localhost:8080/"
        },
        "id": "O10gP2a4oDQ4",
        "outputId": "af13ad98-c212-43f9-adbf-0d06ec86c8a0"
      },
      "outputs": [],
      "source": [
        "test_model = train_random_forest(trainX,trainY)\n",
        "\n",
        "# test_model = train_random_forest_optuna(trainX,trainY)"
      ]
    },
    {
      "cell_type": "code",
      "execution_count": 32,
      "metadata": {
        "colab": {
          "base_uri": "https://localhost:8080/"
        },
        "id": "DrOUePWpwz_e",
        "outputId": "77ba144f-74ed-4c0f-b6eb-d6539ed84ff5"
      },
      "outputs": [
        {
          "name": "stdout",
          "output_type": "stream",
          "text": [
            "              precision    recall  f1-score   support\n",
            "\n",
            "         0.0       1.00      1.00      1.00      8859\n",
            "         1.0       1.00      1.00      1.00     27031\n",
            "\n",
            "    accuracy                           1.00     35890\n",
            "   macro avg       1.00      1.00      1.00     35890\n",
            "weighted avg       1.00      1.00      1.00     35890\n",
            "\n"
          ]
        }
      ],
      "source": [
        "prediction = test_model.predict(trainX)\n",
        "print(classification_report(trainY, prediction))"
      ]
    },
    {
      "cell_type": "code",
      "execution_count": 33,
      "metadata": {
        "colab": {
          "base_uri": "https://localhost:8080/"
        },
        "id": "aq3Obm0cPq32",
        "outputId": "6dafc082-c77b-48de-961e-fec9611a1c73"
      },
      "outputs": [
        {
          "name": "stdout",
          "output_type": "stream",
          "text": [
            "              precision    recall  f1-score   support\n",
            "\n",
            "         0.0       0.51      0.60      0.55      2070\n",
            "         1.0       0.87      0.83      0.85      6900\n",
            "\n",
            "    accuracy                           0.78      8970\n",
            "   macro avg       0.69      0.72      0.70      8970\n",
            "weighted avg       0.79      0.78      0.78      8970\n",
            "\n"
          ]
        }
      ],
      "source": [
        "prediction = test_model.predict(testX)\n",
        "print(classification_report(testY, prediction))"
      ]
    },
    {
      "cell_type": "code",
      "execution_count": 36,
      "metadata": {
        "colab": {
          "base_uri": "https://localhost:8080/",
          "height": 474
        },
        "id": "TGTpvtX9P8uw",
        "outputId": "7652cb37-4ae6-4f19-ea43-f6836fbf9061"
      },
      "outputs": [
        {
          "data": {
            "image/png": "[encoded data removed]",
            "text/plain": [
              "<Figure size 640x480 with 1 Axes>"
            ]
          },
          "metadata": {},
          "output_type": "display_data"
        }
      ],
      "source": [
        "importances = test_model['classifier'].feature_importances_\n",
        "\n",
        "# feature_names = trainX.drop(columns = ['Symbol']).columns\n",
        "\n",
        "feature_names = trainX.columns\n",
        "\n",
        "\n",
        "forest_importances = pd.Series(importances, index=feature_names)\n",
        "\n",
        "std = np.std([tree.feature_importances_ for tree in test_model['classifier'].estimators_], axis=0)\n",
        "\n",
        "fig, ax = plt.subplots()\n",
        "forest_importances.plot.bar(yerr=std, ax=ax)\n",
        "ax.set_title(\"Feature importances using MDI\")\n",
        "ax.set_ylabel(\"Mean decrease in impurity\")\n",
        "fig.tight_layout()\n",
        "plt.show()"
      ]
    },
    {
      "cell_type": "code",
      "execution_count": 37,
      "metadata": {
        "id": "Zyiyu7JGZNBx"
      },
      "outputs": [],
      "source": [
        "# import pickle\n",
        "\n",
        "# # save the iris classification model as a pickle file\n",
        "# model_pkl_file = \"random_forest_model_0.8181.pkl\"\n",
        "\n",
        "# with open(model_pkl_file, 'wb') as file:\n",
        "#     pickle.dump(test_model, file)"
      ]
    },
    {
      "cell_type": "markdown",
      "metadata": {},
      "source": [
        "## Lasso"
      ]
    },
    {
      "cell_type": "code",
      "execution_count": 38,
      "metadata": {},
      "outputs": [
        {
          "name": "stdout",
          "output_type": "stream",
          "text": [
            "Trial 100 Complete [00h 00m 36s]\n",
            "loss: 0.4193105101585388\n",
            "\n",
            "Best loss So Far: 0.4168722629547119\n",
            "Total elapsed time: 00h 31m 30s\n",
            "Epoch 1/100\n",
            "\u001b[1m141/141\u001b[0m \u001b[32m━━━━━━━━━━━━━━━━━━━━\u001b[0m\u001b[37m\u001b[0m \u001b[1m1s\u001b[0m 3ms/step - loss: 0.6743\n",
            "Epoch 2/100\n",
            "\u001b[1m141/141\u001b[0m \u001b[32m━━━━━━━━━━━━━━━━━━━━\u001b[0m\u001b[37m\u001b[0m \u001b[1m0s\u001b[0m 2ms/step - loss: 0.4662\n",
            "Epoch 3/100\n",
            "\u001b[1m141/141\u001b[0m \u001b[32m━━━━━━━━━━━━━━━━━━━━\u001b[0m\u001b[37m\u001b[0m \u001b[1m0s\u001b[0m 2ms/step - loss: 0.4550\n",
            "Epoch 4/100\n",
            "\u001b[1m141/141\u001b[0m \u001b[32m━━━━━━━━━━━━━━━━━━━━\u001b[0m\u001b[37m\u001b[0m \u001b[1m0s\u001b[0m 2ms/step - loss: 0.4481\n",
            "Epoch 5/100\n",
            "\u001b[1m141/141\u001b[0m \u001b[32m━━━━━━━━━━━━━━━━━━━━\u001b[0m\u001b[37m\u001b[0m \u001b[1m0s\u001b[0m 2ms/step - loss: 0.4483\n",
            "Epoch 6/100\n",
            "\u001b[1m141/141\u001b[0m \u001b[32m━━━━━━━━━━━━━━━━━━━━\u001b[0m\u001b[37m\u001b[0m \u001b[1m0s\u001b[0m 2ms/step - loss: 0.4399\n",
            "Epoch 7/100\n",
            "\u001b[1m141/141\u001b[0m \u001b[32m━━━━━━━━━━━━━━━━━━━━\u001b[0m\u001b[37m\u001b[0m \u001b[1m0s\u001b[0m 2ms/step - loss: 0.4378\n",
            "Epoch 8/100\n",
            "\u001b[1m141/141\u001b[0m \u001b[32m━━━━━━━━━━━━━━━━━━━━\u001b[0m\u001b[37m\u001b[0m \u001b[1m0s\u001b[0m 2ms/step - loss: 0.4307\n",
            "Epoch 9/100\n",
            "\u001b[1m141/141\u001b[0m \u001b[32m━━━━━━━━━━━━━━━━━━━━\u001b[0m\u001b[37m\u001b[0m \u001b[1m0s\u001b[0m 2ms/step - loss: 0.4299\n",
            "Epoch 10/100\n",
            "\u001b[1m141/141\u001b[0m \u001b[32m━━━━━━━━━━━━━━━━━━━━\u001b[0m\u001b[37m\u001b[0m \u001b[1m0s\u001b[0m 2ms/step - loss: 0.4288\n",
            "Epoch 11/100\n",
            "\u001b[1m141/141\u001b[0m \u001b[32m━━━━━━━━━━━━━━━━━━━━\u001b[0m\u001b[37m\u001b[0m \u001b[1m0s\u001b[0m 2ms/step - loss: 0.4392\n",
            "Epoch 12/100\n",
            "\u001b[1m141/141\u001b[0m \u001b[32m━━━━━━━━━━━━━━━━━━━━\u001b[0m\u001b[37m\u001b[0m \u001b[1m0s\u001b[0m 2ms/step - loss: 0.4249\n",
            "Epoch 13/100\n",
            "\u001b[1m141/141\u001b[0m \u001b[32m━━━━━━━━━━━━━━━━━━━━\u001b[0m\u001b[37m\u001b[0m \u001b[1m0s\u001b[0m 2ms/step - loss: 0.4291\n",
            "Epoch 14/100\n",
            "\u001b[1m141/141\u001b[0m \u001b[32m━━━━━━━━━━━━━━━━━━━━\u001b[0m\u001b[37m\u001b[0m \u001b[1m0s\u001b[0m 2ms/step - loss: 0.4328\n",
            "Epoch 15/100\n",
            "\u001b[1m141/141\u001b[0m \u001b[32m━━━━━━━━━━━━━━━━━━━━\u001b[0m\u001b[37m\u001b[0m \u001b[1m0s\u001b[0m 3ms/step - loss: 0.4287\n",
            "Epoch 16/100\n",
            "\u001b[1m141/141\u001b[0m \u001b[32m━━━━━━━━━━━━━━━━━━━━\u001b[0m\u001b[37m\u001b[0m \u001b[1m0s\u001b[0m 2ms/step - loss: 0.4254\n",
            "Epoch 17/100\n",
            "\u001b[1m141/141\u001b[0m \u001b[32m━━━━━━━━━━━━━━━━━━━━\u001b[0m\u001b[37m\u001b[0m \u001b[1m0s\u001b[0m 2ms/step - loss: 0.4243\n",
            "Epoch 18/100\n",
            "\u001b[1m141/141\u001b[0m \u001b[32m━━━━━━━━━━━━━━━━━━━━\u001b[0m\u001b[37m\u001b[0m \u001b[1m0s\u001b[0m 2ms/step - loss: 0.4255\n",
            "Epoch 19/100\n",
            "\u001b[1m141/141\u001b[0m \u001b[32m━━━━━━━━━━━━━━━━━━━━\u001b[0m\u001b[37m\u001b[0m \u001b[1m0s\u001b[0m 2ms/step - loss: 0.4271\n",
            "Epoch 20/100\n",
            "\u001b[1m141/141\u001b[0m \u001b[32m━━━━━━━━━━━━━━━━━━━━\u001b[0m\u001b[37m\u001b[0m \u001b[1m0s\u001b[0m 2ms/step - loss: 0.4274\n",
            "Epoch 21/100\n",
            "\u001b[1m141/141\u001b[0m \u001b[32m━━━━━━━━━━━━━━━━━━━━\u001b[0m\u001b[37m\u001b[0m \u001b[1m0s\u001b[0m 2ms/step - loss: 0.4244\n",
            "Epoch 22/100\n",
            "\u001b[1m141/141\u001b[0m \u001b[32m━━━━━━━━━━━━━━━━━━━━\u001b[0m\u001b[37m\u001b[0m \u001b[1m0s\u001b[0m 2ms/step - loss: 0.4229\n",
            "Epoch 23/100\n",
            "\u001b[1m141/141\u001b[0m \u001b[32m━━━━━━━━━━━━━━━━━━━━\u001b[0m\u001b[37m\u001b[0m \u001b[1m0s\u001b[0m 2ms/step - loss: 0.4194\n",
            "Epoch 24/100\n",
            "\u001b[1m141/141\u001b[0m \u001b[32m━━━━━━━━━━━━━━━━━━━━\u001b[0m\u001b[37m\u001b[0m \u001b[1m0s\u001b[0m 2ms/step - loss: 0.4252\n",
            "Epoch 25/100\n",
            "\u001b[1m141/141\u001b[0m \u001b[32m━━━━━━━━━━━━━━━━━━━━\u001b[0m\u001b[37m\u001b[0m \u001b[1m0s\u001b[0m 3ms/step - loss: 0.4257\n",
            "Epoch 26/100\n",
            "\u001b[1m141/141\u001b[0m \u001b[32m━━━━━━━━━━━━━━━━━━━━\u001b[0m\u001b[37m\u001b[0m \u001b[1m0s\u001b[0m 2ms/step - loss: 0.4185\n",
            "Epoch 27/100\n",
            "\u001b[1m141/141\u001b[0m \u001b[32m━━━━━━━━━━━━━━━━━━━━\u001b[0m\u001b[37m\u001b[0m \u001b[1m0s\u001b[0m 2ms/step - loss: 0.4241\n",
            "Epoch 28/100\n",
            "\u001b[1m141/141\u001b[0m \u001b[32m━━━━━━━━━━━━━━━━━━━━\u001b[0m\u001b[37m\u001b[0m \u001b[1m0s\u001b[0m 2ms/step - loss: 0.4188\n",
            "Epoch 29/100\n",
            "\u001b[1m141/141\u001b[0m \u001b[32m━━━━━━━━━━━━━━━━━━━━\u001b[0m\u001b[37m\u001b[0m \u001b[1m0s\u001b[0m 2ms/step - loss: 0.4242\n",
            "Epoch 30/100\n",
            "\u001b[1m141/141\u001b[0m \u001b[32m━━━━━━━━━━━━━━━━━━━━\u001b[0m\u001b[37m\u001b[0m \u001b[1m0s\u001b[0m 2ms/step - loss: 0.4235\n",
            "Epoch 31/100\n",
            "\u001b[1m141/141\u001b[0m \u001b[32m━━━━━━━━━━━━━━━━━━━━\u001b[0m\u001b[37m\u001b[0m \u001b[1m0s\u001b[0m 2ms/step - loss: 0.4247\n",
            "Epoch 32/100\n",
            "\u001b[1m141/141\u001b[0m \u001b[32m━━━━━━━━━━━━━━━━━━━━\u001b[0m\u001b[37m\u001b[0m \u001b[1m0s\u001b[0m 2ms/step - loss: 0.4209\n",
            "Epoch 33/100\n",
            "\u001b[1m141/141\u001b[0m \u001b[32m━━━━━━━━━━━━━━━━━━━━\u001b[0m\u001b[37m\u001b[0m \u001b[1m0s\u001b[0m 2ms/step - loss: 0.4235\n",
            "Epoch 34/100\n",
            "\u001b[1m141/141\u001b[0m \u001b[32m━━━━━━━━━━━━━━━━━━━━\u001b[0m\u001b[37m\u001b[0m \u001b[1m0s\u001b[0m 2ms/step - loss: 0.4260\n",
            "Epoch 35/100\n",
            "\u001b[1m141/141\u001b[0m \u001b[32m━━━━━━━━━━━━━━━━━━━━\u001b[0m\u001b[37m\u001b[0m \u001b[1m0s\u001b[0m 2ms/step - loss: 0.4242\n",
            "Epoch 36/100\n",
            "\u001b[1m141/141\u001b[0m \u001b[32m━━━━━━━━━━━━━━━━━━━━\u001b[0m\u001b[37m\u001b[0m \u001b[1m0s\u001b[0m 2ms/step - loss: 0.4206\n",
            "Epoch 37/100\n",
            "\u001b[1m141/141\u001b[0m \u001b[32m━━━━━━━━━━━━━━━━━━━━\u001b[0m\u001b[37m\u001b[0m \u001b[1m0s\u001b[0m 2ms/step - loss: 0.4184\n",
            "Epoch 38/100\n",
            "\u001b[1m141/141\u001b[0m \u001b[32m━━━━━━━━━━━━━━━━━━━━\u001b[0m\u001b[37m\u001b[0m \u001b[1m0s\u001b[0m 2ms/step - loss: 0.4205\n",
            "Epoch 39/100\n",
            "\u001b[1m141/141\u001b[0m \u001b[32m━━━━━━━━━━━━━━━━━━━━\u001b[0m\u001b[37m\u001b[0m \u001b[1m0s\u001b[0m 2ms/step - loss: 0.4235\n",
            "Epoch 40/100\n",
            "\u001b[1m141/141\u001b[0m \u001b[32m━━━━━━━━━━━━━━━━━━━━\u001b[0m\u001b[37m\u001b[0m \u001b[1m0s\u001b[0m 2ms/step - loss: 0.4207\n",
            "Epoch 41/100\n",
            "\u001b[1m141/141\u001b[0m \u001b[32m━━━━━━━━━━━━━━━━━━━━\u001b[0m\u001b[37m\u001b[0m \u001b[1m0s\u001b[0m 3ms/step - loss: 0.4208\n",
            "Epoch 42/100\n",
            "\u001b[1m141/141\u001b[0m \u001b[32m━━━━━━━━━━━━━━━━━━━━\u001b[0m\u001b[37m\u001b[0m \u001b[1m0s\u001b[0m 2ms/step - loss: 0.4243\n",
            "Epoch 43/100\n",
            "\u001b[1m141/141\u001b[0m \u001b[32m━━━━━━━━━━━━━━━━━━━━\u001b[0m\u001b[37m\u001b[0m \u001b[1m0s\u001b[0m 2ms/step - loss: 0.4210\n",
            "Epoch 44/100\n",
            "\u001b[1m141/141\u001b[0m \u001b[32m━━━━━━━━━━━━━━━━━━━━\u001b[0m\u001b[37m\u001b[0m \u001b[1m0s\u001b[0m 2ms/step - loss: 0.4155\n",
            "Epoch 45/100\n",
            "\u001b[1m141/141\u001b[0m \u001b[32m━━━━━━━━━━━━━━━━━━━━\u001b[0m\u001b[37m\u001b[0m \u001b[1m0s\u001b[0m 2ms/step - loss: 0.4249\n",
            "Epoch 46/100\n",
            "\u001b[1m141/141\u001b[0m \u001b[32m━━━━━━━━━━━━━━━━━━━━\u001b[0m\u001b[37m\u001b[0m \u001b[1m0s\u001b[0m 2ms/step - loss: 0.4220\n",
            "Epoch 47/100\n",
            "\u001b[1m141/141\u001b[0m \u001b[32m━━━━━━━━━━━━━━━━━━━━\u001b[0m\u001b[37m\u001b[0m \u001b[1m0s\u001b[0m 2ms/step - loss: 0.4211\n",
            "Epoch 48/100\n",
            "\u001b[1m141/141\u001b[0m \u001b[32m━━━━━━━━━━━━━━━━━━━━\u001b[0m\u001b[37m\u001b[0m \u001b[1m0s\u001b[0m 2ms/step - loss: 0.4192\n",
            "Epoch 49/100\n",
            "\u001b[1m141/141\u001b[0m \u001b[32m━━━━━━━━━━━━━━━━━━━━\u001b[0m\u001b[37m\u001b[0m \u001b[1m0s\u001b[0m 2ms/step - loss: 0.4177\n",
            "Epoch 50/100\n",
            "\u001b[1m141/141\u001b[0m \u001b[32m━━━━━━━━━━━━━━━━━━━━\u001b[0m\u001b[37m\u001b[0m \u001b[1m0s\u001b[0m 2ms/step - loss: 0.4190\n",
            "Epoch 51/100\n",
            "\u001b[1m141/141\u001b[0m \u001b[32m━━━━━━━━━━━━━━━━━━━━\u001b[0m\u001b[37m\u001b[0m \u001b[1m0s\u001b[0m 2ms/step - loss: 0.4155\n",
            "Epoch 52/100\n",
            "\u001b[1m141/141\u001b[0m \u001b[32m━━━━━━━━━━━━━━━━━━━━\u001b[0m\u001b[37m\u001b[0m \u001b[1m0s\u001b[0m 2ms/step - loss: 0.4202\n",
            "Epoch 53/100\n",
            "\u001b[1m141/141\u001b[0m \u001b[32m━━━━━━━━━━━━━━━━━━━━\u001b[0m\u001b[37m\u001b[0m \u001b[1m0s\u001b[0m 2ms/step - loss: 0.4238\n",
            "Epoch 54/100\n",
            "\u001b[1m141/141\u001b[0m \u001b[32m━━━━━━━━━━━━━━━━━━━━\u001b[0m\u001b[37m\u001b[0m \u001b[1m0s\u001b[0m 3ms/step - loss: 0.4194\n",
            "Epoch 55/100\n",
            "\u001b[1m141/141\u001b[0m \u001b[32m━━━━━━━━━━━━━━━━━━━━\u001b[0m\u001b[37m\u001b[0m \u001b[1m0s\u001b[0m 2ms/step - loss: 0.4186\n",
            "Epoch 56/100\n",
            "\u001b[1m141/141\u001b[0m \u001b[32m━━━━━━━━━━━━━━━━━━━━\u001b[0m\u001b[37m\u001b[0m \u001b[1m0s\u001b[0m 3ms/step - loss: 0.4206\n",
            "Epoch 57/100\n",
            "\u001b[1m141/141\u001b[0m \u001b[32m━━━━━━━━━━━━━━━━━━━━\u001b[0m\u001b[37m\u001b[0m \u001b[1m0s\u001b[0m 2ms/step - loss: 0.4228\n",
            "Epoch 58/100\n",
            "\u001b[1m141/141\u001b[0m \u001b[32m━━━━━━━━━━━━━━━━━━━━\u001b[0m\u001b[37m\u001b[0m \u001b[1m0s\u001b[0m 2ms/step - loss: 0.4257\n",
            "Epoch 59/100\n",
            "\u001b[1m141/141\u001b[0m \u001b[32m━━━━━━━━━━━━━━━━━━━━\u001b[0m\u001b[37m\u001b[0m \u001b[1m0s\u001b[0m 2ms/step - loss: 0.4196\n",
            "Epoch 60/100\n",
            "\u001b[1m141/141\u001b[0m \u001b[32m━━━━━━━━━━━━━━━━━━━━\u001b[0m\u001b[37m\u001b[0m \u001b[1m0s\u001b[0m 2ms/step - loss: 0.4193\n",
            "Epoch 61/100\n",
            "\u001b[1m141/141\u001b[0m \u001b[32m━━━━━━━━━━━━━━━━━━━━\u001b[0m\u001b[37m\u001b[0m \u001b[1m0s\u001b[0m 2ms/step - loss: 0.4181\n",
            "Epoch 62/100\n",
            "\u001b[1m141/141\u001b[0m \u001b[32m━━━━━━━━━━━━━━━━━━━━\u001b[0m\u001b[37m\u001b[0m \u001b[1m0s\u001b[0m 2ms/step - loss: 0.4178\n",
            "Epoch 63/100\n",
            "\u001b[1m141/141\u001b[0m \u001b[32m━━━━━━━━━━━━━━━━━━━━\u001b[0m\u001b[37m\u001b[0m \u001b[1m0s\u001b[0m 2ms/step - loss: 0.4206\n",
            "Epoch 64/100\n",
            "\u001b[1m141/141\u001b[0m \u001b[32m━━━━━━━━━━━━━━━━━━━━\u001b[0m\u001b[37m\u001b[0m \u001b[1m0s\u001b[0m 2ms/step - loss: 0.4204\n",
            "Epoch 65/100\n",
            "\u001b[1m141/141\u001b[0m \u001b[32m━━━━━━━━━━━━━━━━━━━━\u001b[0m\u001b[37m\u001b[0m \u001b[1m0s\u001b[0m 2ms/step - loss: 0.4197\n",
            "Epoch 66/100\n",
            "\u001b[1m141/141\u001b[0m \u001b[32m━━━━━━━━━━━━━━━━━━━━\u001b[0m\u001b[37m\u001b[0m \u001b[1m0s\u001b[0m 2ms/step - loss: 0.4235\n",
            "Epoch 67/100\n",
            "\u001b[1m141/141\u001b[0m \u001b[32m━━━━━━━━━━━━━━━━━━━━\u001b[0m\u001b[37m\u001b[0m \u001b[1m0s\u001b[0m 2ms/step - loss: 0.4221\n",
            "Epoch 68/100\n",
            "\u001b[1m141/141\u001b[0m \u001b[32m━━━━━━━━━━━━━━━━━━━━\u001b[0m\u001b[37m\u001b[0m \u001b[1m0s\u001b[0m 2ms/step - loss: 0.4171\n",
            "Epoch 69/100\n",
            "\u001b[1m141/141\u001b[0m \u001b[32m━━━━━━━━━━━━━━━━━━━━\u001b[0m\u001b[37m\u001b[0m \u001b[1m0s\u001b[0m 2ms/step - loss: 0.4235\n",
            "Epoch 70/100\n",
            "\u001b[1m141/141\u001b[0m \u001b[32m━━━━━━━━━━━━━━━━━━━━\u001b[0m\u001b[37m\u001b[0m \u001b[1m0s\u001b[0m 2ms/step - loss: 0.4143\n",
            "Epoch 71/100\n",
            "\u001b[1m141/141\u001b[0m \u001b[32m━━━━━━━━━━━━━━━━━━━━\u001b[0m\u001b[37m\u001b[0m \u001b[1m0s\u001b[0m 2ms/step - loss: 0.4194\n",
            "Epoch 72/100\n",
            "\u001b[1m141/141\u001b[0m \u001b[32m━━━━━━━━━━━━━━━━━━━━\u001b[0m\u001b[37m\u001b[0m \u001b[1m0s\u001b[0m 2ms/step - loss: 0.4161\n",
            "Epoch 73/100\n",
            "\u001b[1m141/141\u001b[0m \u001b[32m━━━━━━━━━━━━━━━━━━━━\u001b[0m\u001b[37m\u001b[0m \u001b[1m0s\u001b[0m 2ms/step - loss: 0.4214\n",
            "Epoch 74/100\n",
            "\u001b[1m141/141\u001b[0m \u001b[32m━━━━━━━━━━━━━━━━━━━━\u001b[0m\u001b[37m\u001b[0m \u001b[1m0s\u001b[0m 2ms/step - loss: 0.4165\n",
            "Epoch 75/100\n",
            "\u001b[1m141/141\u001b[0m \u001b[32m━━━━━━━━━━━━━━━━━━━━\u001b[0m\u001b[37m\u001b[0m \u001b[1m0s\u001b[0m 2ms/step - loss: 0.4185\n",
            "Epoch 76/100\n",
            "\u001b[1m141/141\u001b[0m \u001b[32m━━━━━━━━━━━━━━━━━━━━\u001b[0m\u001b[37m\u001b[0m \u001b[1m0s\u001b[0m 2ms/step - loss: 0.4171\n",
            "Epoch 77/100\n",
            "\u001b[1m141/141\u001b[0m \u001b[32m━━━━━━━━━━━━━━━━━━━━\u001b[0m\u001b[37m\u001b[0m \u001b[1m0s\u001b[0m 2ms/step - loss: 0.4208\n",
            "Epoch 78/100\n",
            "\u001b[1m141/141\u001b[0m \u001b[32m━━━━━━━━━━━━━━━━━━━━\u001b[0m\u001b[37m\u001b[0m \u001b[1m0s\u001b[0m 2ms/step - loss: 0.4185\n",
            "Epoch 79/100\n",
            "\u001b[1m141/141\u001b[0m \u001b[32m━━━━━━━━━━━━━━━━━━━━\u001b[0m\u001b[37m\u001b[0m \u001b[1m0s\u001b[0m 2ms/step - loss: 0.4174\n",
            "Epoch 80/100\n",
            "\u001b[1m141/141\u001b[0m \u001b[32m━━━━━━━━━━━━━━━━━━━━\u001b[0m\u001b[37m\u001b[0m \u001b[1m0s\u001b[0m 2ms/step - loss: 0.4213\n",
            "Epoch 81/100\n",
            "\u001b[1m141/141\u001b[0m \u001b[32m━━━━━━━━━━━━━━━━━━━━\u001b[0m\u001b[37m\u001b[0m \u001b[1m0s\u001b[0m 2ms/step - loss: 0.4247\n",
            "Epoch 82/100\n",
            "\u001b[1m141/141\u001b[0m \u001b[32m━━━━━━━━━━━━━━━━━━━━\u001b[0m\u001b[37m\u001b[0m \u001b[1m0s\u001b[0m 2ms/step - loss: 0.4189\n",
            "Epoch 83/100\n",
            "\u001b[1m141/141\u001b[0m \u001b[32m━━━━━━━━━━━━━━━━━━━━\u001b[0m\u001b[37m\u001b[0m \u001b[1m0s\u001b[0m 2ms/step - loss: 0.4196\n",
            "Epoch 84/100\n",
            "\u001b[1m141/141\u001b[0m \u001b[32m━━━━━━━━━━━━━━━━━━━━\u001b[0m\u001b[37m\u001b[0m \u001b[1m0s\u001b[0m 2ms/step - loss: 0.4191\n",
            "Epoch 85/100\n",
            "\u001b[1m141/141\u001b[0m \u001b[32m━━━━━━━━━━━━━━━━━━━━\u001b[0m\u001b[37m\u001b[0m \u001b[1m0s\u001b[0m 2ms/step - loss: 0.4170\n",
            "Epoch 86/100\n",
            "\u001b[1m141/141\u001b[0m \u001b[32m━━━━━━━━━━━━━━━━━━━━\u001b[0m\u001b[37m\u001b[0m \u001b[1m0s\u001b[0m 2ms/step - loss: 0.4185\n",
            "Epoch 87/100\n",
            "\u001b[1m141/141\u001b[0m \u001b[32m━━━━━━━━━━━━━━━━━━━━\u001b[0m\u001b[37m\u001b[0m \u001b[1m0s\u001b[0m 2ms/step - loss: 0.4157\n",
            "Epoch 88/100\n",
            "\u001b[1m141/141\u001b[0m \u001b[32m━━━━━━━━━━━━━━━━━━━━\u001b[0m\u001b[37m\u001b[0m \u001b[1m0s\u001b[0m 2ms/step - loss: 0.4130\n",
            "Epoch 89/100\n",
            "\u001b[1m141/141\u001b[0m \u001b[32m━━━━━━━━━━━━━━━━━━━━\u001b[0m\u001b[37m\u001b[0m \u001b[1m0s\u001b[0m 3ms/step - loss: 0.4202\n",
            "Epoch 90/100\n",
            "\u001b[1m141/141\u001b[0m \u001b[32m━━━━━━━━━━━━━━━━━━━━\u001b[0m\u001b[37m\u001b[0m \u001b[1m0s\u001b[0m 2ms/step - loss: 0.4178\n",
            "Epoch 91/100\n",
            "\u001b[1m141/141\u001b[0m \u001b[32m━━━━━━━━━━━━━━━━━━━━\u001b[0m\u001b[37m\u001b[0m \u001b[1m0s\u001b[0m 2ms/step - loss: 0.4137\n",
            "Epoch 92/100\n",
            "\u001b[1m141/141\u001b[0m \u001b[32m━━━━━━━━━━━━━━━━━━━━\u001b[0m\u001b[37m\u001b[0m \u001b[1m0s\u001b[0m 2ms/step - loss: 0.4173\n",
            "Epoch 93/100\n",
            "\u001b[1m141/141\u001b[0m \u001b[32m━━━━━━━━━━━━━━━━━━━━\u001b[0m\u001b[37m\u001b[0m \u001b[1m0s\u001b[0m 2ms/step - loss: 0.4186\n",
            "Epoch 94/100\n",
            "\u001b[1m141/141\u001b[0m \u001b[32m━━━━━━━━━━━━━━━━━━━━\u001b[0m\u001b[37m\u001b[0m \u001b[1m0s\u001b[0m 2ms/step - loss: 0.4154\n",
            "Epoch 95/100\n",
            "\u001b[1m141/141\u001b[0m \u001b[32m━━━━━━━━━━━━━━━━━━━━\u001b[0m\u001b[37m\u001b[0m \u001b[1m0s\u001b[0m 2ms/step - loss: 0.4125\n",
            "Epoch 96/100\n",
            "\u001b[1m141/141\u001b[0m \u001b[32m━━━━━━━━━━━━━━━━━━━━\u001b[0m\u001b[37m\u001b[0m \u001b[1m0s\u001b[0m 2ms/step - loss: 0.4146\n",
            "Epoch 97/100\n",
            "\u001b[1m141/141\u001b[0m \u001b[32m━━━━━━━━━━━━━━━━━━━━\u001b[0m\u001b[37m\u001b[0m \u001b[1m0s\u001b[0m 2ms/step - loss: 0.4181\n",
            "Epoch 98/100\n",
            "\u001b[1m141/141\u001b[0m \u001b[32m━━━━━━━━━━━━━━━━━━━━\u001b[0m\u001b[37m\u001b[0m \u001b[1m0s\u001b[0m 2ms/step - loss: 0.4163\n",
            "Epoch 99/100\n",
            "\u001b[1m141/141\u001b[0m \u001b[32m━━━━━━━━━━━━━━━━━━━━\u001b[0m\u001b[37m\u001b[0m \u001b[1m0s\u001b[0m 2ms/step - loss: 0.4168\n",
            "Epoch 100/100\n",
            "\u001b[1m141/141\u001b[0m \u001b[32m━━━━━━━━━━━━━━━━━━━━\u001b[0m\u001b[37m\u001b[0m \u001b[1m0s\u001b[0m 2ms/step - loss: 0.4184\n"
          ]
        }
      ],
      "source": [
        "model, history = train_Lasso_supervised(trainX, trainY,1,1, num_feature= num_feature - 1,binary = True)\n",
        "# model, history = train_LSTM_supervised(trainX, trainY,1,binary = True)  "
      ]
    },
    {
      "cell_type": "code",
      "execution_count": 39,
      "metadata": {},
      "outputs": [
        {
          "data": {
            "text/html": [
              "<pre style=\"white-space:pre;overflow-x:auto;line-height:normal;font-family:Menlo,'DejaVu Sans Mono',consolas,'Courier New',monospace\"><span style=\"font-weight: bold\">Model: \"sequential_1\"</span>\n",
              "</pre>\n"
            ],
            "text/plain": [
              "\u001b[1mModel: \"sequential_1\"\u001b[0m\n"
            ]
          },
          "metadata": {},
          "output_type": "display_data"
        },
        {
          "data": {
            "text/html": [
              "<pre style=\"white-space:pre;overflow-x:auto;line-height:normal;font-family:Menlo,'DejaVu Sans Mono',consolas,'Courier New',monospace\">┏━━━━━━━━━━━━━━━━━━━━━━━━━━━━━━━━━┳━━━━━━━━━━━━━━━━━━━━━━━━┳━━━━━━━━━━━━━━━┓\n",
              "┃<span style=\"font-weight: bold\"> Layer (type)                    </span>┃<span style=\"font-weight: bold\"> Output Shape           </span>┃<span style=\"font-weight: bold\">       Param # </span>┃\n",
              "┡━━━━━━━━━━━━━━━━━━━━━━━━━━━━━━━━━╇━━━━━━━━━━━━━━━━━━━━━━━━╇━━━━━━━━━━━━━━━┩\n",
              "│ dense_1 (<span style=\"color: #0087ff; text-decoration-color: #0087ff\">Dense</span>)                 │ (<span style=\"color: #00d7ff; text-decoration-color: #00d7ff\">None</span>, <span style=\"color: #00af00; text-decoration-color: #00af00\">1</span>)              │            <span style=\"color: #00af00; text-decoration-color: #00af00\">19</span> │\n",
              "└─────────────────────────────────┴────────────────────────┴───────────────┘\n",
              "</pre>\n"
            ],
            "text/plain": [
              "┏━━━━━━━━━━━━━━━━━━━━━━━━━━━━━━━━━┳━━━━━━━━━━━━━━━━━━━━━━━━┳━━━━━━━━━━━━━━━┓\n",
              "┃\u001b[1m \u001b[0m\u001b[1mLayer (type)                   \u001b[0m\u001b[1m \u001b[0m┃\u001b[1m \u001b[0m\u001b[1mOutput Shape          \u001b[0m\u001b[1m \u001b[0m┃\u001b[1m \u001b[0m\u001b[1m      Param #\u001b[0m\u001b[1m \u001b[0m┃\n",
              "┡━━━━━━━━━━━━━━━━━━━━━━━━━━━━━━━━━╇━━━━━━━━━━━━━━━━━━━━━━━━╇━━━━━━━━━━━━━━━┩\n",
              "│ dense_1 (\u001b[38;5;33mDense\u001b[0m)                 │ (\u001b[38;5;45mNone\u001b[0m, \u001b[38;5;34m1\u001b[0m)              │            \u001b[38;5;34m19\u001b[0m │\n",
              "└─────────────────────────────────┴────────────────────────┴───────────────┘\n"
            ]
          },
          "metadata": {},
          "output_type": "display_data"
        },
        {
          "data": {
            "text/html": [
              "<pre style=\"white-space:pre;overflow-x:auto;line-height:normal;font-family:Menlo,'DejaVu Sans Mono',consolas,'Courier New',monospace\"><span style=\"font-weight: bold\"> Total params: </span><span style=\"color: #00af00; text-decoration-color: #00af00\">59</span> (240.00 B)\n",
              "</pre>\n"
            ],
            "text/plain": [
              "\u001b[1m Total params: \u001b[0m\u001b[38;5;34m59\u001b[0m (240.00 B)\n"
            ]
          },
          "metadata": {},
          "output_type": "display_data"
        },
        {
          "data": {
            "text/html": [
              "<pre style=\"white-space:pre;overflow-x:auto;line-height:normal;font-family:Menlo,'DejaVu Sans Mono',consolas,'Courier New',monospace\"><span style=\"font-weight: bold\"> Trainable params: </span><span style=\"color: #00af00; text-decoration-color: #00af00\">19</span> (76.00 B)\n",
              "</pre>\n"
            ],
            "text/plain": [
              "\u001b[1m Trainable params: \u001b[0m\u001b[38;5;34m19\u001b[0m (76.00 B)\n"
            ]
          },
          "metadata": {},
          "output_type": "display_data"
        },
        {
          "data": {
            "text/html": [
              "<pre style=\"white-space:pre;overflow-x:auto;line-height:normal;font-family:Menlo,'DejaVu Sans Mono',consolas,'Courier New',monospace\"><span style=\"font-weight: bold\"> Non-trainable params: </span><span style=\"color: #00af00; text-decoration-color: #00af00\">0</span> (0.00 B)\n",
              "</pre>\n"
            ],
            "text/plain": [
              "\u001b[1m Non-trainable params: \u001b[0m\u001b[38;5;34m0\u001b[0m (0.00 B)\n"
            ]
          },
          "metadata": {},
          "output_type": "display_data"
        },
        {
          "data": {
            "text/html": [
              "<pre style=\"white-space:pre;overflow-x:auto;line-height:normal;font-family:Menlo,'DejaVu Sans Mono',consolas,'Courier New',monospace\"><span style=\"font-weight: bold\"> Optimizer params: </span><span style=\"color: #00af00; text-decoration-color: #00af00\">40</span> (164.00 B)\n",
              "</pre>\n"
            ],
            "text/plain": [
              "\u001b[1m Optimizer params: \u001b[0m\u001b[38;5;34m40\u001b[0m (164.00 B)\n"
            ]
          },
          "metadata": {},
          "output_type": "display_data"
        }
      ],
      "source": [
        "model.summary()"
      ]
    },
    {
      "cell_type": "code",
      "execution_count": 43,
      "metadata": {},
      "outputs": [
        {
          "data": {
            "image/png": "[encoded data removed]",
            "text/plain": [
              "<Figure size 800x500 with 1 Axes>"
            ]
          },
          "metadata": {},
          "output_type": "display_data"
        }
      ],
      "source": [
        "import seaborn as sns\n",
        "\n",
        "pd.DataFrame(history.history).plot(figsize=(8,5), linewidth=2, grid=True)\n",
        "plt.xlabel(\"Epochs\")\n",
        "plt.ylabel(\"Loss\")\n",
        "plt.style.use('default')\n",
        "plt.show()"
      ]
    },
    {
      "cell_type": "code",
      "execution_count": 41,
      "metadata": {},
      "outputs": [
        {
          "name": "stdout",
          "output_type": "stream",
          "text": [
            "\u001b[1m1122/1122\u001b[0m \u001b[32m━━━━━━━━━━━━━━━━━━━━\u001b[0m\u001b[37m\u001b[0m \u001b[1m2s\u001b[0m 1ms/step\n",
            "              precision    recall  f1-score   support\n",
            "\n",
            "         0.0       0.00      0.00      0.00      8859\n",
            "         1.0       0.75      1.00      0.86     27031\n",
            "\n",
            "    accuracy                           0.75     35890\n",
            "   macro avg       0.38      0.50      0.43     35890\n",
            "weighted avg       0.57      0.75      0.65     35890\n",
            "\n"
          ]
        }
      ],
      "source": [
        "prediction = model.predict(trainX)\n",
        "print(classification_report( trainY, prediction))"
      ]
    },
    {
      "cell_type": "code",
      "execution_count": 42,
      "metadata": {},
      "outputs": [
        {
          "name": "stdout",
          "output_type": "stream",
          "text": [
            "              precision    recall  f1-score   support\n",
            "\n",
            "         0.0       0.51      0.60      0.55      2070\n",
            "         1.0       0.87      0.83      0.85      6900\n",
            "\n",
            "    accuracy                           0.78      8970\n",
            "   macro avg       0.69      0.72      0.70      8970\n",
            "weighted avg       0.79      0.78      0.78      8970\n",
            "\n"
          ]
        }
      ],
      "source": [
        "prediction = test_model.predict(testX)\n",
        "print(classification_report( testY, prediction))"
      ]
    },
    {
      "cell_type": "markdown",
      "metadata": {},
      "source": [
        "## MLP"
      ]
    },
    {
      "cell_type": "code",
      "execution_count": null,
      "metadata": {},
      "outputs": [
        {
          "name": "stdout",
          "output_type": "stream",
          "text": [
            "Trial 100 Complete [00h 00m 37s]\n",
            "loss: 0.5606769323348999\n",
            "\n",
            "Best loss So Far: 0.33298125863075256\n",
            "Total elapsed time: 00h 42m 11s\n",
            "Epoch 1/100\n",
            "\u001b[1m116/141\u001b[0m \u001b[32m━━━━━━━━━━━━━━━━\u001b[0m\u001b[37m━━━━\u001b[0m \u001b[1m0s\u001b[0m 2ms/step - loss: 10.0122\n",
            "Epoch 1: loss improved from inf to 5.96381, saving model to Checkpoint/checkpoint_mlp_sup_binary.model.keras\n",
            "\u001b[1m141/141\u001b[0m \u001b[32m━━━━━━━━━━━━━━━━━━━━\u001b[0m\u001b[37m\u001b[0m \u001b[1m1s\u001b[0m 3ms/step - loss: 9.3414 \n",
            "Epoch 2/100\n",
            "\u001b[1m141/141\u001b[0m \u001b[32m━━━━━━━━━━━━━━━━━━━━\u001b[0m\u001b[37m\u001b[0m \u001b[1m0s\u001b[0m 2ms/step - loss: 1.5138\n",
            "Epoch 2: loss improved from 5.96381 to 1.41007, saving model to Checkpoint/checkpoint_mlp_sup_binary.model.keras\n",
            "\u001b[1m141/141\u001b[0m \u001b[32m━━━━━━━━━━━━━━━━━━━━\u001b[0m\u001b[37m\u001b[0m \u001b[1m0s\u001b[0m 2ms/step - loss: 1.5131\n",
            "Epoch 3/100\n",
            "\u001b[1m135/141\u001b[0m \u001b[32m━━━━━━━━━━━━━━━━━━━\u001b[0m\u001b[37m━\u001b[0m \u001b[1m0s\u001b[0m 2ms/step - loss: 1.1956\n",
            "Epoch 3: loss improved from 1.41007 to 1.11446, saving model to Checkpoint/checkpoint_mlp_sup_binary.model.keras\n",
            "\u001b[1m141/141\u001b[0m \u001b[32m━━━━━━━━━━━━━━━━━━━━\u001b[0m\u001b[37m\u001b[0m \u001b[1m0s\u001b[0m 2ms/step - loss: 1.1917\n",
            "Epoch 4/100\n",
            "\u001b[1m123/141\u001b[0m \u001b[32m━━━━━━━━━━━━━━━━━\u001b[0m\u001b[37m━━━\u001b[0m \u001b[1m0s\u001b[0m 2ms/step - loss: 0.9275\n",
            "Epoch 4: loss improved from 1.11446 to 0.86309, saving model to Checkpoint/checkpoint_mlp_sup_binary.model.keras\n",
            "\u001b[1m141/141\u001b[0m \u001b[32m━━━━━━━━━━━━━━━━━━━━\u001b[0m\u001b[37m\u001b[0m \u001b[1m0s\u001b[0m 3ms/step - loss: 0.9197\n",
            "Epoch 5/100\n",
            "\u001b[1m134/141\u001b[0m \u001b[32m━━━━━━━━━━━━━━━━━━━\u001b[0m\u001b[37m━\u001b[0m \u001b[1m0s\u001b[0m 2ms/step - loss: 0.7034\n",
            "Epoch 5: loss improved from 0.86309 to 0.65782, saving model to Checkpoint/checkpoint_mlp_sup_binary.model.keras\n",
            "\u001b[1m141/141\u001b[0m \u001b[32m━━━━━━━━━━━━━━━━━━━━\u001b[0m\u001b[37m\u001b[0m \u001b[1m0s\u001b[0m 2ms/step - loss: 0.7009\n",
            "Epoch 6/100\n",
            "\u001b[1m138/141\u001b[0m \u001b[32m━━━━━━━━━━━━━━━━━━━\u001b[0m\u001b[37m━\u001b[0m \u001b[1m0s\u001b[0m 2ms/step - loss: 0.5474\n",
            "Epoch 6: loss improved from 0.65782 to 0.52794, saving model to Checkpoint/checkpoint_mlp_sup_binary.model.keras\n",
            "\u001b[1m141/141\u001b[0m \u001b[32m━━━━━━━━━━━━━━━━━━━━\u001b[0m\u001b[37m\u001b[0m \u001b[1m0s\u001b[0m 3ms/step - loss: 0.5468\n",
            "Epoch 7/100\n",
            "\u001b[1m131/141\u001b[0m \u001b[32m━━━━━━━━━━━━━━━━━━\u001b[0m\u001b[37m━━\u001b[0m \u001b[1m0s\u001b[0m 2ms/step - loss: 0.4942\n",
            "Epoch 7: loss improved from 0.52794 to 0.48296, saving model to Checkpoint/checkpoint_mlp_sup_binary.model.keras\n",
            "\u001b[1m141/141\u001b[0m \u001b[32m━━━━━━━━━━━━━━━━━━━━\u001b[0m\u001b[37m\u001b[0m \u001b[1m0s\u001b[0m 3ms/step - loss: 0.4933\n",
            "Epoch 8/100\n",
            "\u001b[1m118/141\u001b[0m \u001b[32m━━━━━━━━━━━━━━━━\u001b[0m\u001b[37m━━━━\u001b[0m \u001b[1m0s\u001b[0m 2ms/step - loss: 0.4667\n",
            "Epoch 8: loss improved from 0.48296 to 0.46437, saving model to Checkpoint/checkpoint_mlp_sup_binary.model.keras\n",
            "\u001b[1m141/141\u001b[0m \u001b[32m━━━━━━━━━━━━━━━━━━━━\u001b[0m\u001b[37m\u001b[0m \u001b[1m0s\u001b[0m 2ms/step - loss: 0.4662\n",
            "Epoch 9/100\n",
            "\u001b[1m132/141\u001b[0m \u001b[32m━━━━━━━━━━━━━━━━━━\u001b[0m\u001b[37m━━\u001b[0m \u001b[1m0s\u001b[0m 2ms/step - loss: 0.4607\n",
            "Epoch 9: loss improved from 0.46437 to 0.45403, saving model to Checkpoint/checkpoint_mlp_sup_binary.model.keras\n",
            "\u001b[1m141/141\u001b[0m \u001b[32m━━━━━━━━━━━━━━━━━━━━\u001b[0m\u001b[37m\u001b[0m \u001b[1m0s\u001b[0m 3ms/step - loss: 0.4602\n",
            "Epoch 10/100\n",
            "\u001b[1m135/141\u001b[0m \u001b[32m━━━━━━━━━━━━━━━━━━━\u001b[0m\u001b[37m━\u001b[0m \u001b[1m0s\u001b[0m 5ms/step - loss: 0.4464\n",
            "Epoch 10: loss improved from 0.45403 to 0.44549, saving model to Checkpoint/checkpoint_mlp_sup_binary.model.keras\n",
            "\u001b[1m141/141\u001b[0m \u001b[32m━━━━━━━━━━━━━━━━━━━━\u001b[0m\u001b[37m\u001b[0m \u001b[1m1s\u001b[0m 6ms/step - loss: 0.4464\n",
            "Epoch 11/100\n",
            "\u001b[1m133/141\u001b[0m \u001b[32m━━━━━━━━━━━━━━━━━━\u001b[0m\u001b[37m━━\u001b[0m \u001b[1m0s\u001b[0m 6ms/step - loss: 0.4410\n",
            "Epoch 11: loss improved from 0.44549 to 0.43917, saving model to Checkpoint/checkpoint_mlp_sup_binary.model.keras\n",
            "\u001b[1m141/141\u001b[0m \u001b[32m━━━━━━━━━━━━━━━━━━━━\u001b[0m\u001b[37m\u001b[0m \u001b[1m2s\u001b[0m 7ms/step - loss: 0.4409\n",
            "Epoch 12/100\n",
            "\u001b[1m140/141\u001b[0m \u001b[32m━━━━━━━━━━━━━━━━━━━\u001b[0m\u001b[37m━\u001b[0m \u001b[1m0s\u001b[0m 5ms/step - loss: 0.4342\n",
            "Epoch 12: loss improved from 0.43917 to 0.43450, saving model to Checkpoint/checkpoint_mlp_sup_binary.model.keras\n",
            "\u001b[1m141/141\u001b[0m \u001b[32m━━━━━━━━━━━━━━━━━━━━\u001b[0m\u001b[37m\u001b[0m \u001b[1m1s\u001b[0m 6ms/step - loss: 0.4342\n",
            "Epoch 13/100\n",
            "\u001b[1m132/141\u001b[0m \u001b[32m━━━━━━━━━━━━━━━━━━\u001b[0m\u001b[37m━━\u001b[0m \u001b[1m0s\u001b[0m 6ms/step - loss: 0.4290\n",
            "Epoch 13: loss improved from 0.43450 to 0.42954, saving model to Checkpoint/checkpoint_mlp_sup_binary.model.keras\n",
            "\u001b[1m141/141\u001b[0m \u001b[32m━━━━━━━━━━━━━━━━━━━━\u001b[0m\u001b[37m\u001b[0m \u001b[1m2s\u001b[0m 7ms/step - loss: 0.4291\n",
            "Epoch 14/100\n",
            "\u001b[1m133/141\u001b[0m \u001b[32m━━━━━━━━━━━━━━━━━━\u001b[0m\u001b[37m━━\u001b[0m \u001b[1m0s\u001b[0m 3ms/step - loss: 0.4260\n",
            "Epoch 14: loss improved from 0.42954 to 0.42599, saving model to Checkpoint/checkpoint_mlp_sup_binary.model.keras\n",
            "\u001b[1m141/141\u001b[0m \u001b[32m━━━━━━━━━━━━━━━━━━━━\u001b[0m\u001b[37m\u001b[0m \u001b[1m1s\u001b[0m 3ms/step - loss: 0.4259\n",
            "Epoch 15/100\n",
            "\u001b[1m133/141\u001b[0m \u001b[32m━━━━━━━━━━━━━━━━━━\u001b[0m\u001b[37m━━\u001b[0m \u001b[1m0s\u001b[0m 3ms/step - loss: 0.4200\n",
            "Epoch 15: loss improved from 0.42599 to 0.42199, saving model to Checkpoint/checkpoint_mlp_sup_binary.model.keras\n",
            "\u001b[1m141/141\u001b[0m \u001b[32m━━━━━━━━━━━━━━━━━━━━\u001b[0m\u001b[37m\u001b[0m \u001b[1m1s\u001b[0m 3ms/step - loss: 0.4201\n",
            "Epoch 16/100\n",
            "\u001b[1m139/141\u001b[0m \u001b[32m━━━━━━━━━━━━━━━━━━━\u001b[0m\u001b[37m━\u001b[0m \u001b[1m0s\u001b[0m 4ms/step - loss: 0.4235\n",
            "Epoch 16: loss improved from 0.42199 to 0.41797, saving model to Checkpoint/checkpoint_mlp_sup_binary.model.keras\n",
            "\u001b[1m141/141\u001b[0m \u001b[32m━━━━━━━━━━━━━━━━━━━━\u001b[0m\u001b[37m\u001b[0m \u001b[1m1s\u001b[0m 5ms/step - loss: 0.4234\n",
            "Epoch 17/100\n",
            "\u001b[1m129/141\u001b[0m \u001b[32m━━━━━━━━━━━━━━━━━━\u001b[0m\u001b[37m━━\u001b[0m \u001b[1m0s\u001b[0m 4ms/step - loss: 0.4161\n",
            "Epoch 17: loss improved from 0.41797 to 0.41613, saving model to Checkpoint/checkpoint_mlp_sup_binary.model.keras\n",
            "\u001b[1m141/141\u001b[0m \u001b[32m━━━━━━━━━━━━━━━━━━━━\u001b[0m\u001b[37m\u001b[0m \u001b[1m1s\u001b[0m 4ms/step - loss: 0.4162\n",
            "Epoch 18/100\n",
            "\u001b[1m140/141\u001b[0m \u001b[32m━━━━━━━━━━━━━━━━━━━\u001b[0m\u001b[37m━\u001b[0m \u001b[1m0s\u001b[0m 3ms/step - loss: 0.4125\n",
            "Epoch 18: loss improved from 0.41613 to 0.41343, saving model to Checkpoint/checkpoint_mlp_sup_binary.model.keras\n",
            "\u001b[1m141/141\u001b[0m \u001b[32m━━━━━━━━━━━━━━━━━━━━\u001b[0m\u001b[37m\u001b[0m \u001b[1m1s\u001b[0m 4ms/step - loss: 0.4125\n",
            "Epoch 19/100\n",
            "\u001b[1m138/141\u001b[0m \u001b[32m━━━━━━━━━━━━━━━━━━━\u001b[0m\u001b[37m━\u001b[0m \u001b[1m0s\u001b[0m 3ms/step - loss: 0.4095\n",
            "Epoch 19: loss improved from 0.41343 to 0.41171, saving model to Checkpoint/checkpoint_mlp_sup_binary.model.keras\n",
            "\u001b[1m141/141\u001b[0m \u001b[32m━━━━━━━━━━━━━━━━━━━━\u001b[0m\u001b[37m\u001b[0m \u001b[1m1s\u001b[0m 4ms/step - loss: 0.4096\n",
            "Epoch 20/100\n",
            "\u001b[1m127/141\u001b[0m \u001b[32m━━━━━━━━━━━━━━━━━━\u001b[0m\u001b[37m━━\u001b[0m \u001b[1m0s\u001b[0m 3ms/step - loss: 0.4096\n",
            "Epoch 20: loss improved from 0.41171 to 0.41003, saving model to Checkpoint/checkpoint_mlp_sup_binary.model.keras\n",
            "\u001b[1m141/141\u001b[0m \u001b[32m━━━━━━━━━━━━━━━━━━━━\u001b[0m\u001b[37m\u001b[0m \u001b[1m1s\u001b[0m 3ms/step - loss: 0.4097\n",
            "Epoch 21/100\n",
            "\u001b[1m139/141\u001b[0m \u001b[32m━━━━━━━━━━━━━━━━━━━\u001b[0m\u001b[37m━\u001b[0m \u001b[1m0s\u001b[0m 3ms/step - loss: 0.4040\n",
            "Epoch 21: loss improved from 0.41003 to 0.40708, saving model to Checkpoint/checkpoint_mlp_sup_binary.model.keras\n",
            "\u001b[1m141/141\u001b[0m \u001b[32m━━━━━━━━━━━━━━━━━━━━\u001b[0m\u001b[37m\u001b[0m \u001b[1m1s\u001b[0m 3ms/step - loss: 0.4040\n",
            "Epoch 22/100\n",
            "\u001b[1m132/141\u001b[0m \u001b[32m━━━━━━━━━━━━━━━━━━\u001b[0m\u001b[37m━━\u001b[0m \u001b[1m0s\u001b[0m 3ms/step - loss: 0.4074\n",
            "Epoch 22: loss improved from 0.40708 to 0.40568, saving model to Checkpoint/checkpoint_mlp_sup_binary.model.keras\n",
            "\u001b[1m141/141\u001b[0m \u001b[32m━━━━━━━━━━━━━━━━━━━━\u001b[0m\u001b[37m\u001b[0m \u001b[1m1s\u001b[0m 4ms/step - loss: 0.4073\n",
            "Epoch 23/100\n",
            "\u001b[1m138/141\u001b[0m \u001b[32m━━━━━━━━━━━━━━━━━━━\u001b[0m\u001b[37m━\u001b[0m \u001b[1m0s\u001b[0m 3ms/step - loss: 0.4001\n",
            "Epoch 23: loss improved from 0.40568 to 0.40404, saving model to Checkpoint/checkpoint_mlp_sup_binary.model.keras\n",
            "\u001b[1m141/141\u001b[0m \u001b[32m━━━━━━━━━━━━━━━━━━━━\u001b[0m\u001b[37m\u001b[0m \u001b[1m0s\u001b[0m 3ms/step - loss: 0.4003\n",
            "Epoch 24/100\n",
            "\u001b[1m131/141\u001b[0m \u001b[32m━━━━━━━━━━━━━━━━━━\u001b[0m\u001b[37m━━\u001b[0m \u001b[1m0s\u001b[0m 3ms/step - loss: 0.4000\n",
            "Epoch 24: loss improved from 0.40404 to 0.40226, saving model to Checkpoint/checkpoint_mlp_sup_binary.model.keras\n",
            "\u001b[1m141/141\u001b[0m \u001b[32m━━━━━━━━━━━━━━━━━━━━\u001b[0m\u001b[37m\u001b[0m \u001b[1m1s\u001b[0m 3ms/step - loss: 0.4002\n",
            "Epoch 25/100\n",
            "\u001b[1m141/141\u001b[0m \u001b[32m━━━━━━━━━━━━━━━━━━━━\u001b[0m\u001b[37m\u001b[0m \u001b[1m0s\u001b[0m 3ms/step - loss: 0.4015\n",
            "Epoch 25: loss improved from 0.40226 to 0.40069, saving model to Checkpoint/checkpoint_mlp_sup_binary.model.keras\n",
            "\u001b[1m141/141\u001b[0m \u001b[32m━━━━━━━━━━━━━━━━━━━━\u001b[0m\u001b[37m\u001b[0m \u001b[1m1s\u001b[0m 4ms/step - loss: 0.4015\n",
            "Epoch 26/100\n",
            "\u001b[1m128/141\u001b[0m \u001b[32m━━━━━━━━━━━━━━━━━━\u001b[0m\u001b[37m━━\u001b[0m \u001b[1m0s\u001b[0m 3ms/step - loss: 0.4007\n",
            "Epoch 26: loss improved from 0.40069 to 0.39949, saving model to Checkpoint/checkpoint_mlp_sup_binary.model.keras\n",
            "\u001b[1m141/141\u001b[0m \u001b[32m━━━━━━━━━━━━━━━━━━━━\u001b[0m\u001b[37m\u001b[0m \u001b[1m1s\u001b[0m 4ms/step - loss: 0.4005\n",
            "Epoch 27/100\n",
            "\u001b[1m139/141\u001b[0m \u001b[32m━━━━━━━━━━━━━━━━━━━\u001b[0m\u001b[37m━\u001b[0m \u001b[1m0s\u001b[0m 3ms/step - loss: 0.3948\n",
            "Epoch 27: loss improved from 0.39949 to 0.39792, saving model to Checkpoint/checkpoint_mlp_sup_binary.model.keras\n",
            "\u001b[1m141/141\u001b[0m \u001b[32m━━━━━━━━━━━━━━━━━━━━\u001b[0m\u001b[37m\u001b[0m \u001b[1m1s\u001b[0m 4ms/step - loss: 0.3949\n",
            "Epoch 28/100\n",
            "\u001b[1m137/141\u001b[0m \u001b[32m━━━━━━━━━━━━━━━━━━━\u001b[0m\u001b[37m━\u001b[0m \u001b[1m0s\u001b[0m 3ms/step - loss: 0.3930\n",
            "Epoch 28: loss improved from 0.39792 to 0.39696, saving model to Checkpoint/checkpoint_mlp_sup_binary.model.keras\n",
            "\u001b[1m141/141\u001b[0m \u001b[32m━━━━━━━━━━━━━━━━━━━━\u001b[0m\u001b[37m\u001b[0m \u001b[1m1s\u001b[0m 4ms/step - loss: 0.3931\n",
            "Epoch 29/100\n",
            "\u001b[1m129/141\u001b[0m \u001b[32m━━━━━━━━━━━━━━━━━━\u001b[0m\u001b[37m━━\u001b[0m \u001b[1m0s\u001b[0m 3ms/step - loss: 0.3939\n",
            "Epoch 29: loss improved from 0.39696 to 0.39475, saving model to Checkpoint/checkpoint_mlp_sup_binary.model.keras\n",
            "\u001b[1m141/141\u001b[0m \u001b[32m━━━━━━━━━━━━━━━━━━━━\u001b[0m\u001b[37m\u001b[0m \u001b[1m1s\u001b[0m 3ms/step - loss: 0.3940\n",
            "Epoch 30/100\n",
            "\u001b[1m140/141\u001b[0m \u001b[32m━━━━━━━━━━━━━━━━━━━\u001b[0m\u001b[37m━\u001b[0m \u001b[1m0s\u001b[0m 4ms/step - loss: 0.3950\n",
            "Epoch 30: loss improved from 0.39475 to 0.39385, saving model to Checkpoint/checkpoint_mlp_sup_binary.model.keras\n",
            "\u001b[1m141/141\u001b[0m \u001b[32m━━━━━━━━━━━━━━━━━━━━\u001b[0m\u001b[37m\u001b[0m \u001b[1m1s\u001b[0m 4ms/step - loss: 0.3950\n",
            "Epoch 31/100\n",
            "\u001b[1m140/141\u001b[0m \u001b[32m━━━━━━━━━━━━━━━━━━━\u001b[0m\u001b[37m━\u001b[0m \u001b[1m0s\u001b[0m 5ms/step - loss: 0.3926\n",
            "Epoch 31: loss improved from 0.39385 to 0.39217, saving model to Checkpoint/checkpoint_mlp_sup_binary.model.keras\n",
            "\u001b[1m141/141\u001b[0m \u001b[32m━━━━━━━━━━━━━━━━━━━━\u001b[0m\u001b[37m\u001b[0m \u001b[1m1s\u001b[0m 6ms/step - loss: 0.3925\n",
            "Epoch 32/100\n",
            "\u001b[1m136/141\u001b[0m \u001b[32m━━━━━━━━━━━━━━━━━━━\u001b[0m\u001b[37m━\u001b[0m \u001b[1m0s\u001b[0m 4ms/step - loss: 0.3958\n",
            "Epoch 32: loss improved from 0.39217 to 0.39098, saving model to Checkpoint/checkpoint_mlp_sup_binary.model.keras\n",
            "\u001b[1m141/141\u001b[0m \u001b[32m━━━━━━━━━━━━━━━━━━━━\u001b[0m\u001b[37m\u001b[0m \u001b[1m1s\u001b[0m 5ms/step - loss: 0.3956\n",
            "Epoch 33/100\n",
            "\u001b[1m140/141\u001b[0m \u001b[32m━━━━━━━━━━━━━━━━━━━\u001b[0m\u001b[37m━\u001b[0m \u001b[1m0s\u001b[0m 5ms/step - loss: 0.3925\n",
            "Epoch 33: loss improved from 0.39098 to 0.38984, saving model to Checkpoint/checkpoint_mlp_sup_binary.model.keras\n",
            "\u001b[1m141/141\u001b[0m \u001b[32m━━━━━━━━━━━━━━━━━━━━\u001b[0m\u001b[37m\u001b[0m \u001b[1m1s\u001b[0m 6ms/step - loss: 0.3925\n",
            "Epoch 34/100\n",
            "\u001b[1m134/141\u001b[0m \u001b[32m━━━━━━━━━━━━━━━━━━━\u001b[0m\u001b[37m━\u001b[0m \u001b[1m0s\u001b[0m 3ms/step - loss: 0.3910\n",
            "Epoch 34: loss improved from 0.38984 to 0.38743, saving model to Checkpoint/checkpoint_mlp_sup_binary.model.keras\n",
            "\u001b[1m141/141\u001b[0m \u001b[32m━━━━━━━━━━━━━━━━━━━━\u001b[0m\u001b[37m\u001b[0m \u001b[1m1s\u001b[0m 4ms/step - loss: 0.3908\n",
            "Epoch 35/100\n",
            "\u001b[1m135/141\u001b[0m \u001b[32m━━━━━━━━━━━━━━━━━━━\u001b[0m\u001b[37m━\u001b[0m \u001b[1m0s\u001b[0m 2ms/step - loss: 0.3909\n",
            "Epoch 35: loss did not improve from 0.38743\n",
            "\u001b[1m141/141\u001b[0m \u001b[32m━━━━━━━━━━━━━━━━━━━━\u001b[0m\u001b[37m\u001b[0m \u001b[1m0s\u001b[0m 2ms/step - loss: 0.3908\n",
            "Epoch 36/100\n",
            "\u001b[1m130/141\u001b[0m \u001b[32m━━━━━━━━━━━━━━━━━━\u001b[0m\u001b[37m━━\u001b[0m \u001b[1m0s\u001b[0m 2ms/step - loss: 0.3861\n",
            "Epoch 36: loss improved from 0.38743 to 0.38580, saving model to Checkpoint/checkpoint_mlp_sup_binary.model.keras\n",
            "\u001b[1m141/141\u001b[0m \u001b[32m━━━━━━━━━━━━━━━━━━━━\u001b[0m\u001b[37m\u001b[0m \u001b[1m0s\u001b[0m 2ms/step - loss: 0.3861\n",
            "Epoch 37/100\n",
            "\u001b[1m127/141\u001b[0m \u001b[32m━━━━━━━━━━━━━━━━━━\u001b[0m\u001b[37m━━\u001b[0m \u001b[1m0s\u001b[0m 2ms/step - loss: 0.3829\n",
            "Epoch 37: loss improved from 0.38580 to 0.38387, saving model to Checkpoint/checkpoint_mlp_sup_binary.model.keras\n",
            "\u001b[1m141/141\u001b[0m \u001b[32m━━━━━━━━━━━━━━━━━━━━\u001b[0m\u001b[37m\u001b[0m \u001b[1m0s\u001b[0m 3ms/step - loss: 0.3830\n",
            "Epoch 38/100\n",
            "\u001b[1m128/141\u001b[0m \u001b[32m━━━━━━━━━━━━━━━━━━\u001b[0m\u001b[37m━━\u001b[0m \u001b[1m0s\u001b[0m 2ms/step - loss: 0.3859\n",
            "Epoch 38: loss improved from 0.38387 to 0.38176, saving model to Checkpoint/checkpoint_mlp_sup_binary.model.keras\n",
            "\u001b[1m141/141\u001b[0m \u001b[32m━━━━━━━━━━━━━━━━━━━━\u001b[0m\u001b[37m\u001b[0m \u001b[1m0s\u001b[0m 3ms/step - loss: 0.3855\n",
            "Epoch 39/100\n",
            "\u001b[1m136/141\u001b[0m \u001b[32m━━━━━━━━━━━━━━━━━━━\u001b[0m\u001b[37m━\u001b[0m \u001b[1m0s\u001b[0m 2ms/step - loss: 0.3836\n",
            "Epoch 39: loss improved from 0.38176 to 0.38129, saving model to Checkpoint/checkpoint_mlp_sup_binary.model.keras\n",
            "\u001b[1m141/141\u001b[0m \u001b[32m━━━━━━━━━━━━━━━━━━━━\u001b[0m\u001b[37m\u001b[0m \u001b[1m0s\u001b[0m 3ms/step - loss: 0.3835\n",
            "Epoch 40/100\n",
            "\u001b[1m132/141\u001b[0m \u001b[32m━━━━━━━━━━━━━━━━━━\u001b[0m\u001b[37m━━\u001b[0m \u001b[1m0s\u001b[0m 2ms/step - loss: 0.3792\n",
            "Epoch 40: loss improved from 0.38129 to 0.37967, saving model to Checkpoint/checkpoint_mlp_sup_binary.model.keras\n",
            "\u001b[1m141/141\u001b[0m \u001b[32m━━━━━━━━━━━━━━━━━━━━\u001b[0m\u001b[37m\u001b[0m \u001b[1m0s\u001b[0m 3ms/step - loss: 0.3793\n",
            "Epoch 41/100\n",
            "\u001b[1m124/141\u001b[0m \u001b[32m━━━━━━━━━━━━━━━━━\u001b[0m\u001b[37m━━━\u001b[0m \u001b[1m0s\u001b[0m 2ms/step - loss: 0.3779\n",
            "Epoch 41: loss improved from 0.37967 to 0.37797, saving model to Checkpoint/checkpoint_mlp_sup_binary.model.keras\n",
            "\u001b[1m141/141\u001b[0m \u001b[32m━━━━━━━━━━━━━━━━━━━━\u001b[0m\u001b[37m\u001b[0m \u001b[1m0s\u001b[0m 3ms/step - loss: 0.3778\n",
            "Epoch 42/100\n",
            "\u001b[1m132/141\u001b[0m \u001b[32m━━━━━━━━━━━━━━━━━━\u001b[0m\u001b[37m━━\u001b[0m \u001b[1m0s\u001b[0m 2ms/step - loss: 0.3751\n",
            "Epoch 42: loss improved from 0.37797 to 0.37701, saving model to Checkpoint/checkpoint_mlp_sup_binary.model.keras\n",
            "\u001b[1m141/141\u001b[0m \u001b[32m━━━━━━━━━━━━━━━━━━━━\u001b[0m\u001b[37m\u001b[0m \u001b[1m0s\u001b[0m 2ms/step - loss: 0.3753\n",
            "Epoch 43/100\n",
            "\u001b[1m126/141\u001b[0m \u001b[32m━━━━━━━━━━━━━━━━━\u001b[0m\u001b[37m━━━\u001b[0m \u001b[1m0s\u001b[0m 2ms/step - loss: 0.3761\n",
            "Epoch 43: loss improved from 0.37701 to 0.37559, saving model to Checkpoint/checkpoint_mlp_sup_binary.model.keras\n",
            "\u001b[1m141/141\u001b[0m \u001b[32m━━━━━━━━━━━━━━━━━━━━\u001b[0m\u001b[37m\u001b[0m \u001b[1m0s\u001b[0m 2ms/step - loss: 0.3761\n",
            "Epoch 44/100\n",
            "\u001b[1m135/141\u001b[0m \u001b[32m━━━━━━━━━━━━━━━━━━━\u001b[0m\u001b[37m━\u001b[0m \u001b[1m0s\u001b[0m 2ms/step - loss: 0.3751\n",
            "Epoch 44: loss improved from 0.37559 to 0.37423, saving model to Checkpoint/checkpoint_mlp_sup_binary.model.keras\n",
            "\u001b[1m141/141\u001b[0m \u001b[32m━━━━━━━━━━━━━━━━━━━━\u001b[0m\u001b[37m\u001b[0m \u001b[1m0s\u001b[0m 2ms/step - loss: 0.3750\n",
            "Epoch 45/100\n",
            "\u001b[1m118/141\u001b[0m \u001b[32m━━━━━━━━━━━━━━━━\u001b[0m\u001b[37m━━━━\u001b[0m \u001b[1m0s\u001b[0m 3ms/step - loss: 0.3734\n",
            "Epoch 45: loss improved from 0.37423 to 0.37318, saving model to Checkpoint/checkpoint_mlp_sup_binary.model.keras\n",
            "\u001b[1m141/141\u001b[0m \u001b[32m━━━━━━━━━━━━━━━━━━━━\u001b[0m\u001b[37m\u001b[0m \u001b[1m0s\u001b[0m 3ms/step - loss: 0.3735\n",
            "Epoch 46/100\n",
            "\u001b[1m130/141\u001b[0m \u001b[32m━━━━━━━━━━━━━━━━━━\u001b[0m\u001b[37m━━\u001b[0m \u001b[1m0s\u001b[0m 2ms/step - loss: 0.3758\n",
            "Epoch 46: loss improved from 0.37318 to 0.37083, saving model to Checkpoint/checkpoint_mlp_sup_binary.model.keras\n",
            "\u001b[1m141/141\u001b[0m \u001b[32m━━━━━━━━━━━━━━━━━━━━\u001b[0m\u001b[37m\u001b[0m \u001b[1m0s\u001b[0m 3ms/step - loss: 0.3754\n",
            "Epoch 47/100\n",
            "\u001b[1m137/141\u001b[0m \u001b[32m━━━━━━━━━━━━━━━━━━━\u001b[0m\u001b[37m━\u001b[0m \u001b[1m0s\u001b[0m 3ms/step - loss: 0.3713\n",
            "Epoch 47: loss did not improve from 0.37083\n",
            "\u001b[1m141/141\u001b[0m \u001b[32m━━━━━━━━━━━━━━━━━━━━\u001b[0m\u001b[37m\u001b[0m \u001b[1m0s\u001b[0m 3ms/step - loss: 0.3713\n",
            "Epoch 48/100\n",
            "\u001b[1m117/141\u001b[0m \u001b[32m━━━━━━━━━━━━━━━━\u001b[0m\u001b[37m━━━━\u001b[0m \u001b[1m0s\u001b[0m 2ms/step - loss: 0.3668\n",
            "Epoch 48: loss improved from 0.37083 to 0.36946, saving model to Checkpoint/checkpoint_mlp_sup_binary.model.keras\n",
            "\u001b[1m141/141\u001b[0m \u001b[32m━━━━━━━━━━━━━━━━━━━━\u001b[0m\u001b[37m\u001b[0m \u001b[1m0s\u001b[0m 2ms/step - loss: 0.3673\n",
            "Epoch 49/100\n",
            "\u001b[1m134/141\u001b[0m \u001b[32m━━━━━━━━━━━━━━━━━━━\u001b[0m\u001b[37m━\u001b[0m \u001b[1m0s\u001b[0m 2ms/step - loss: 0.3701\n",
            "Epoch 49: loss improved from 0.36946 to 0.36813, saving model to Checkpoint/checkpoint_mlp_sup_binary.model.keras\n",
            "\u001b[1m141/141\u001b[0m \u001b[32m━━━━━━━━━━━━━━━━━━━━\u001b[0m\u001b[37m\u001b[0m \u001b[1m0s\u001b[0m 2ms/step - loss: 0.3699\n",
            "Epoch 50/100\n",
            "\u001b[1m113/141\u001b[0m \u001b[32m━━━━━━━━━━━━━━━━\u001b[0m\u001b[37m━━━━\u001b[0m \u001b[1m0s\u001b[0m 2ms/step - loss: 0.3683\n",
            "Epoch 50: loss improved from 0.36813 to 0.36679, saving model to Checkpoint/checkpoint_mlp_sup_binary.model.keras\n",
            "\u001b[1m141/141\u001b[0m \u001b[32m━━━━━━━━━━━━━━━━━━━━\u001b[0m\u001b[37m\u001b[0m \u001b[1m0s\u001b[0m 2ms/step - loss: 0.3681\n",
            "Epoch 51/100\n",
            "\u001b[1m141/141\u001b[0m \u001b[32m━━━━━━━━━━━━━━━━━━━━\u001b[0m\u001b[37m\u001b[0m \u001b[1m0s\u001b[0m 2ms/step - loss: 0.3640\n",
            "Epoch 51: loss improved from 0.36679 to 0.36563, saving model to Checkpoint/checkpoint_mlp_sup_binary.model.keras\n",
            "\u001b[1m141/141\u001b[0m \u001b[32m━━━━━━━━━━━━━━━━━━━━\u001b[0m\u001b[37m\u001b[0m \u001b[1m0s\u001b[0m 2ms/step - loss: 0.3640\n",
            "Epoch 52/100\n",
            "\u001b[1m126/141\u001b[0m \u001b[32m━━━━━━━━━━━━━━━━━\u001b[0m\u001b[37m━━━\u001b[0m \u001b[1m0s\u001b[0m 2ms/step - loss: 0.3632\n",
            "Epoch 52: loss improved from 0.36563 to 0.36464, saving model to Checkpoint/checkpoint_mlp_sup_binary.model.keras\n",
            "\u001b[1m141/141\u001b[0m \u001b[32m━━━━━━━━━━━━━━━━━━━━\u001b[0m\u001b[37m\u001b[0m \u001b[1m0s\u001b[0m 3ms/step - loss: 0.3633\n",
            "Epoch 53/100\n",
            "\u001b[1m139/141\u001b[0m \u001b[32m━━━━━━━━━━━━━━━━━━━\u001b[0m\u001b[37m━\u001b[0m \u001b[1m0s\u001b[0m 2ms/step - loss: 0.3630\n",
            "Epoch 53: loss improved from 0.36464 to 0.36345, saving model to Checkpoint/checkpoint_mlp_sup_binary.model.keras\n",
            "\u001b[1m141/141\u001b[0m \u001b[32m━━━━━━━━━━━━━━━━━━━━\u001b[0m\u001b[37m\u001b[0m \u001b[1m0s\u001b[0m 2ms/step - loss: 0.3630\n",
            "Epoch 54/100\n",
            "\u001b[1m129/141\u001b[0m \u001b[32m━━━━━━━━━━━━━━━━━━\u001b[0m\u001b[37m━━\u001b[0m \u001b[1m0s\u001b[0m 2ms/step - loss: 0.3635\n",
            "Epoch 54: loss improved from 0.36345 to 0.36234, saving model to Checkpoint/checkpoint_mlp_sup_binary.model.keras\n",
            "\u001b[1m141/141\u001b[0m \u001b[32m━━━━━━━━━━━━━━━━━━━━\u001b[0m\u001b[37m\u001b[0m \u001b[1m0s\u001b[0m 3ms/step - loss: 0.3634\n",
            "Epoch 55/100\n",
            "\u001b[1m130/141\u001b[0m \u001b[32m━━━━━━━━━━━━━━━━━━\u001b[0m\u001b[37m━━\u001b[0m \u001b[1m0s\u001b[0m 2ms/step - loss: 0.3582\n",
            "Epoch 55: loss improved from 0.36234 to 0.36120, saving model to Checkpoint/checkpoint_mlp_sup_binary.model.keras\n",
            "\u001b[1m141/141\u001b[0m \u001b[32m━━━━━━━━━━━━━━━━━━━━\u001b[0m\u001b[37m\u001b[0m \u001b[1m0s\u001b[0m 2ms/step - loss: 0.3585\n",
            "Epoch 56/100\n",
            "\u001b[1m132/141\u001b[0m \u001b[32m━━━━━━━━━━━━━━━━━━\u001b[0m\u001b[37m━━\u001b[0m \u001b[1m0s\u001b[0m 2ms/step - loss: 0.3637\n",
            "Epoch 56: loss improved from 0.36120 to 0.36090, saving model to Checkpoint/checkpoint_mlp_sup_binary.model.keras\n",
            "\u001b[1m141/141\u001b[0m \u001b[32m━━━━━━━━━━━━━━━━━━━━\u001b[0m\u001b[37m\u001b[0m \u001b[1m0s\u001b[0m 2ms/step - loss: 0.3635\n",
            "Epoch 57/100\n",
            "\u001b[1m131/141\u001b[0m \u001b[32m━━━━━━━━━━━━━━━━━━\u001b[0m\u001b[37m━━\u001b[0m \u001b[1m0s\u001b[0m 2ms/step - loss: 0.3598\n",
            "Epoch 57: loss improved from 0.36090 to 0.36006, saving model to Checkpoint/checkpoint_mlp_sup_binary.model.keras\n",
            "\u001b[1m141/141\u001b[0m \u001b[32m━━━━━━━━━━━━━━━━━━━━\u001b[0m\u001b[37m\u001b[0m \u001b[1m0s\u001b[0m 2ms/step - loss: 0.3598\n",
            "Epoch 58/100\n",
            "\u001b[1m126/141\u001b[0m \u001b[32m━━━━━━━━━━━━━━━━━\u001b[0m\u001b[37m━━━\u001b[0m \u001b[1m0s\u001b[0m 2ms/step - loss: 0.3594\n",
            "Epoch 58: loss improved from 0.36006 to 0.35933, saving model to Checkpoint/checkpoint_mlp_sup_binary.model.keras\n",
            "\u001b[1m141/141\u001b[0m \u001b[32m━━━━━━━━━━━━━━━━━━━━\u001b[0m\u001b[37m\u001b[0m \u001b[1m0s\u001b[0m 2ms/step - loss: 0.3594\n",
            "Epoch 59/100\n",
            "\u001b[1m126/141\u001b[0m \u001b[32m━━━━━━━━━━━━━━━━━\u001b[0m\u001b[37m━━━\u001b[0m \u001b[1m0s\u001b[0m 2ms/step - loss: 0.3569\n",
            "Epoch 59: loss improved from 0.35933 to 0.35809, saving model to Checkpoint/checkpoint_mlp_sup_binary.model.keras\n",
            "\u001b[1m141/141\u001b[0m \u001b[32m━━━━━━━━━━━━━━━━━━━━\u001b[0m\u001b[37m\u001b[0m \u001b[1m0s\u001b[0m 2ms/step - loss: 0.3571\n",
            "Epoch 60/100\n",
            "\u001b[1m136/141\u001b[0m \u001b[32m━━━━━━━━━━━━━━━━━━━\u001b[0m\u001b[37m━\u001b[0m \u001b[1m0s\u001b[0m 2ms/step - loss: 0.3556\n",
            "Epoch 60: loss improved from 0.35809 to 0.35718, saving model to Checkpoint/checkpoint_mlp_sup_binary.model.keras\n",
            "\u001b[1m141/141\u001b[0m \u001b[32m━━━━━━━━━━━━━━━━━━━━\u001b[0m\u001b[37m\u001b[0m \u001b[1m0s\u001b[0m 2ms/step - loss: 0.3557\n",
            "Epoch 61/100\n",
            "\u001b[1m138/141\u001b[0m \u001b[32m━━━━━━━━━━━━━━━━━━━\u001b[0m\u001b[37m━\u001b[0m \u001b[1m0s\u001b[0m 2ms/step - loss: 0.3564\n",
            "Epoch 61: loss improved from 0.35718 to 0.35625, saving model to Checkpoint/checkpoint_mlp_sup_binary.model.keras\n",
            "\u001b[1m141/141\u001b[0m \u001b[32m━━━━━━━━━━━━━━━━━━━━\u001b[0m\u001b[37m\u001b[0m \u001b[1m0s\u001b[0m 2ms/step - loss: 0.3564\n",
            "Epoch 62/100\n",
            "\u001b[1m133/141\u001b[0m \u001b[32m━━━━━━━━━━━━━━━━━━\u001b[0m\u001b[37m━━\u001b[0m \u001b[1m0s\u001b[0m 3ms/step - loss: 0.3553\n",
            "Epoch 62: loss improved from 0.35625 to 0.35534, saving model to Checkpoint/checkpoint_mlp_sup_binary.model.keras\n",
            "\u001b[1m141/141\u001b[0m \u001b[32m━━━━━━━━━━━━━━━━━━━━\u001b[0m\u001b[37m\u001b[0m \u001b[1m0s\u001b[0m 3ms/step - loss: 0.3553\n",
            "Epoch 63/100\n",
            "\u001b[1m128/141\u001b[0m \u001b[32m━━━━━━━━━━━━━━━━━━\u001b[0m\u001b[37m━━\u001b[0m \u001b[1m0s\u001b[0m 2ms/step - loss: 0.3544\n",
            "Epoch 63: loss improved from 0.35534 to 0.35524, saving model to Checkpoint/checkpoint_mlp_sup_binary.model.keras\n",
            "\u001b[1m141/141\u001b[0m \u001b[32m━━━━━━━━━━━━━━━━━━━━\u001b[0m\u001b[37m\u001b[0m \u001b[1m0s\u001b[0m 2ms/step - loss: 0.3545\n",
            "Epoch 64/100\n",
            "\u001b[1m139/141\u001b[0m \u001b[32m━━━━━━━━━━━━━━━━━━━\u001b[0m\u001b[37m━\u001b[0m \u001b[1m0s\u001b[0m 2ms/step - loss: 0.3539\n",
            "Epoch 64: loss improved from 0.35524 to 0.35409, saving model to Checkpoint/checkpoint_mlp_sup_binary.model.keras\n",
            "\u001b[1m141/141\u001b[0m \u001b[32m━━━━━━━━━━━━━━━━━━━━\u001b[0m\u001b[37m\u001b[0m \u001b[1m0s\u001b[0m 3ms/step - loss: 0.3539\n",
            "Epoch 65/100\n",
            "\u001b[1m119/141\u001b[0m \u001b[32m━━━━━━━━━━━━━━━━\u001b[0m\u001b[37m━━━━\u001b[0m \u001b[1m0s\u001b[0m 3ms/step - loss: 0.3517\n",
            "Epoch 65: loss improved from 0.35409 to 0.35284, saving model to Checkpoint/checkpoint_mlp_sup_binary.model.keras\n",
            "\u001b[1m141/141\u001b[0m \u001b[32m━━━━━━━━━━━━━━━━━━━━\u001b[0m\u001b[37m\u001b[0m \u001b[1m0s\u001b[0m 3ms/step - loss: 0.3519\n",
            "Epoch 66/100\n",
            "\u001b[1m137/141\u001b[0m \u001b[32m━━━━━━━━━━━━━━━━━━━\u001b[0m\u001b[37m━\u001b[0m \u001b[1m0s\u001b[0m 3ms/step - loss: 0.3527\n",
            "Epoch 66: loss improved from 0.35284 to 0.35272, saving model to Checkpoint/checkpoint_mlp_sup_binary.model.keras\n",
            "\u001b[1m141/141\u001b[0m \u001b[32m━━━━━━━━━━━━━━━━━━━━\u001b[0m\u001b[37m\u001b[0m \u001b[1m1s\u001b[0m 4ms/step - loss: 0.3527\n",
            "Epoch 67/100\n",
            "\u001b[1m119/141\u001b[0m \u001b[32m━━━━━━━━━━━━━━━━\u001b[0m\u001b[37m━━━━\u001b[0m \u001b[1m0s\u001b[0m 1ms/step - loss: 0.3500 \n",
            "Epoch 67: loss improved from 0.35272 to 0.35122, saving model to Checkpoint/checkpoint_mlp_sup_binary.model.keras\n",
            "\u001b[1m141/141\u001b[0m \u001b[32m━━━━━━━━━━━━━━━━━━━━\u001b[0m\u001b[37m\u001b[0m \u001b[1m0s\u001b[0m 2ms/step - loss: 0.3502\n",
            "Epoch 68/100\n",
            "\u001b[1m115/141\u001b[0m \u001b[32m━━━━━━━━━━━━━━━━\u001b[0m\u001b[37m━━━━\u001b[0m \u001b[1m0s\u001b[0m 2ms/step - loss: 0.3528\n",
            "Epoch 68: loss improved from 0.35122 to 0.35047, saving model to Checkpoint/checkpoint_mlp_sup_binary.model.keras\n",
            "\u001b[1m141/141\u001b[0m \u001b[32m━━━━━━━━━━━━━━━━━━━━\u001b[0m\u001b[37m\u001b[0m \u001b[1m0s\u001b[0m 2ms/step - loss: 0.3525\n",
            "Epoch 69/100\n",
            "\u001b[1m132/141\u001b[0m \u001b[32m━━━━━━━━━━━━━━━━━━\u001b[0m\u001b[37m━━\u001b[0m \u001b[1m0s\u001b[0m 2ms/step - loss: 0.3477\n",
            "Epoch 69: loss improved from 0.35047 to 0.34991, saving model to Checkpoint/checkpoint_mlp_sup_binary.model.keras\n",
            "\u001b[1m141/141\u001b[0m \u001b[32m━━━━━━━━━━━━━━━━━━━━\u001b[0m\u001b[37m\u001b[0m \u001b[1m0s\u001b[0m 2ms/step - loss: 0.3478\n",
            "Epoch 70/100\n",
            "\u001b[1m139/141\u001b[0m \u001b[32m━━━━━━━━━━━━━━━━━━━\u001b[0m\u001b[37m━\u001b[0m \u001b[1m0s\u001b[0m 2ms/step - loss: 0.3469\n",
            "Epoch 70: loss improved from 0.34991 to 0.34925, saving model to Checkpoint/checkpoint_mlp_sup_binary.model.keras\n",
            "\u001b[1m141/141\u001b[0m \u001b[32m━━━━━━━━━━━━━━━━━━━━\u001b[0m\u001b[37m\u001b[0m \u001b[1m0s\u001b[0m 3ms/step - loss: 0.3469\n",
            "Epoch 71/100\n",
            "\u001b[1m136/141\u001b[0m \u001b[32m━━━━━━━━━━━━━━━━━━━\u001b[0m\u001b[37m━\u001b[0m \u001b[1m0s\u001b[0m 3ms/step - loss: 0.3473\n",
            "Epoch 71: loss improved from 0.34925 to 0.34911, saving model to Checkpoint/checkpoint_mlp_sup_binary.model.keras\n",
            "\u001b[1m141/141\u001b[0m \u001b[32m━━━━━━━━━━━━━━━━━━━━\u001b[0m\u001b[37m\u001b[0m \u001b[1m1s\u001b[0m 3ms/step - loss: 0.3474\n",
            "Epoch 72/100\n",
            "\u001b[1m117/141\u001b[0m \u001b[32m━━━━━━━━━━━━━━━━\u001b[0m\u001b[37m━━━━\u001b[0m \u001b[1m0s\u001b[0m 2ms/step - loss: 0.3462\n",
            "Epoch 72: loss improved from 0.34911 to 0.34785, saving model to Checkpoint/checkpoint_mlp_sup_binary.model.keras\n",
            "\u001b[1m141/141\u001b[0m \u001b[32m━━━━━━━━━━━━━━━━━━━━\u001b[0m\u001b[37m\u001b[0m \u001b[1m0s\u001b[0m 3ms/step - loss: 0.3465\n",
            "Epoch 73/100\n",
            "\u001b[1m138/141\u001b[0m \u001b[32m━━━━━━━━━━━━━━━━━━━\u001b[0m\u001b[37m━\u001b[0m \u001b[1m0s\u001b[0m 2ms/step - loss: 0.3466\n",
            "Epoch 73: loss improved from 0.34785 to 0.34774, saving model to Checkpoint/checkpoint_mlp_sup_binary.model.keras\n",
            "\u001b[1m141/141\u001b[0m \u001b[32m━━━━━━━━━━━━━━━━━━━━\u001b[0m\u001b[37m\u001b[0m \u001b[1m0s\u001b[0m 3ms/step - loss: 0.3466\n",
            "Epoch 74/100\n",
            "\u001b[1m128/141\u001b[0m \u001b[32m━━━━━━━━━━━━━━━━━━\u001b[0m\u001b[37m━━\u001b[0m \u001b[1m0s\u001b[0m 2ms/step - loss: 0.3431\n",
            "Epoch 74: loss improved from 0.34774 to 0.34692, saving model to Checkpoint/checkpoint_mlp_sup_binary.model.keras\n",
            "\u001b[1m141/141\u001b[0m \u001b[32m━━━━━━━━━━━━━━━━━━━━\u001b[0m\u001b[37m\u001b[0m \u001b[1m0s\u001b[0m 2ms/step - loss: 0.3435\n",
            "Epoch 75/100\n",
            "\u001b[1m137/141\u001b[0m \u001b[32m━━━━━━━━━━━━━━━━━━━\u001b[0m\u001b[37m━\u001b[0m \u001b[1m0s\u001b[0m 2ms/step - loss: 0.3460\n",
            "Epoch 75: loss improved from 0.34692 to 0.34609, saving model to Checkpoint/checkpoint_mlp_sup_binary.model.keras\n",
            "\u001b[1m141/141\u001b[0m \u001b[32m━━━━━━━━━━━━━━━━━━━━\u001b[0m\u001b[37m\u001b[0m \u001b[1m0s\u001b[0m 3ms/step - loss: 0.3460\n",
            "Epoch 76/100\n",
            "\u001b[1m139/141\u001b[0m \u001b[32m━━━━━━━━━━━━━━━━━━━\u001b[0m\u001b[37m━\u001b[0m \u001b[1m0s\u001b[0m 3ms/step - loss: 0.3490\n",
            "Epoch 76: loss improved from 0.34609 to 0.34531, saving model to Checkpoint/checkpoint_mlp_sup_binary.model.keras\n",
            "\u001b[1m141/141\u001b[0m \u001b[32m━━━━━━━━━━━━━━━━━━━━\u001b[0m\u001b[37m\u001b[0m \u001b[1m1s\u001b[0m 3ms/step - loss: 0.3489\n",
            "Epoch 77/100\n",
            "\u001b[1m131/141\u001b[0m \u001b[32m━━━━━━━━━━━━━━━━━━\u001b[0m\u001b[37m━━\u001b[0m \u001b[1m0s\u001b[0m 2ms/step - loss: 0.3465\n",
            "Epoch 77: loss improved from 0.34531 to 0.34486, saving model to Checkpoint/checkpoint_mlp_sup_binary.model.keras\n",
            "\u001b[1m141/141\u001b[0m \u001b[32m━━━━━━━━━━━━━━━━━━━━\u001b[0m\u001b[37m\u001b[0m \u001b[1m0s\u001b[0m 2ms/step - loss: 0.3464\n",
            "Epoch 78/100\n",
            "\u001b[1m139/141\u001b[0m \u001b[32m━━━━━━━━━━━━━━━━━━━\u001b[0m\u001b[37m━\u001b[0m \u001b[1m0s\u001b[0m 2ms/step - loss: 0.3481\n",
            "Epoch 78: loss improved from 0.34486 to 0.34450, saving model to Checkpoint/checkpoint_mlp_sup_binary.model.keras\n",
            "\u001b[1m141/141\u001b[0m \u001b[32m━━━━━━━━━━━━━━━━━━━━\u001b[0m\u001b[37m\u001b[0m \u001b[1m0s\u001b[0m 3ms/step - loss: 0.3480\n",
            "Epoch 79/100\n",
            "\u001b[1m141/141\u001b[0m \u001b[32m━━━━━━━━━━━━━━━━━━━━\u001b[0m\u001b[37m\u001b[0m \u001b[1m0s\u001b[0m 3ms/step - loss: 0.3434\n",
            "Epoch 79: loss improved from 0.34450 to 0.34408, saving model to Checkpoint/checkpoint_mlp_sup_binary.model.keras\n",
            "\u001b[1m141/141\u001b[0m \u001b[32m━━━━━━━━━━━━━━━━━━━━\u001b[0m\u001b[37m\u001b[0m \u001b[1m1s\u001b[0m 3ms/step - loss: 0.3434\n",
            "Epoch 80/100\n",
            "\u001b[1m139/141\u001b[0m \u001b[32m━━━━━━━━━━━━━━━━━━━\u001b[0m\u001b[37m━\u001b[0m \u001b[1m0s\u001b[0m 2ms/step - loss: 0.3419\n",
            "Epoch 80: loss improved from 0.34408 to 0.34397, saving model to Checkpoint/checkpoint_mlp_sup_binary.model.keras\n",
            "\u001b[1m141/141\u001b[0m \u001b[32m━━━━━━━━━━━━━━━━━━━━\u001b[0m\u001b[37m\u001b[0m \u001b[1m0s\u001b[0m 3ms/step - loss: 0.3419\n",
            "Epoch 81/100\n",
            "\u001b[1m125/141\u001b[0m \u001b[32m━━━━━━━━━━━━━━━━━\u001b[0m\u001b[37m━━━\u001b[0m \u001b[1m0s\u001b[0m 2ms/step - loss: 0.3453\n",
            "Epoch 81: loss improved from 0.34397 to 0.34280, saving model to Checkpoint/checkpoint_mlp_sup_binary.model.keras\n",
            "\u001b[1m141/141\u001b[0m \u001b[32m━━━━━━━━━━━━━━━━━━━━\u001b[0m\u001b[37m\u001b[0m \u001b[1m0s\u001b[0m 3ms/step - loss: 0.3450\n",
            "Epoch 82/100\n",
            "\u001b[1m120/141\u001b[0m \u001b[32m━━━━━━━━━━━━━━━━━\u001b[0m\u001b[37m━━━\u001b[0m \u001b[1m0s\u001b[0m 2ms/step - loss: 0.3407\n",
            "Epoch 82: loss improved from 0.34280 to 0.34233, saving model to Checkpoint/checkpoint_mlp_sup_binary.model.keras\n",
            "\u001b[1m141/141\u001b[0m \u001b[32m━━━━━━━━━━━━━━━━━━━━\u001b[0m\u001b[37m\u001b[0m \u001b[1m0s\u001b[0m 2ms/step - loss: 0.3410\n",
            "Epoch 83/100\n",
            "\u001b[1m113/141\u001b[0m \u001b[32m━━━━━━━━━━━━━━━━\u001b[0m\u001b[37m━━━━\u001b[0m \u001b[1m0s\u001b[0m 2ms/step - loss: 0.3468\n",
            "Epoch 83: loss did not improve from 0.34233\n",
            "\u001b[1m141/141\u001b[0m \u001b[32m━━━━━━━━━━━━━━━━━━━━\u001b[0m\u001b[37m\u001b[0m \u001b[1m0s\u001b[0m 2ms/step - loss: 0.3461\n",
            "Epoch 84/100\n",
            "\u001b[1m121/141\u001b[0m \u001b[32m━━━━━━━━━━━━━━━━━\u001b[0m\u001b[37m━━━\u001b[0m \u001b[1m0s\u001b[0m 2ms/step - loss: 0.3435\n",
            "Epoch 84: loss did not improve from 0.34233\n",
            "\u001b[1m141/141\u001b[0m \u001b[32m━━━━━━━━━━━━━━━━━━━━\u001b[0m\u001b[37m\u001b[0m \u001b[1m0s\u001b[0m 2ms/step - loss: 0.3434\n",
            "Epoch 85/100\n",
            "\u001b[1m140/141\u001b[0m \u001b[32m━━━━━━━━━━━━━━━━━━━\u001b[0m\u001b[37m━\u001b[0m \u001b[1m0s\u001b[0m 3ms/step - loss: 0.3424\n",
            "Epoch 85: loss improved from 0.34233 to 0.34115, saving model to Checkpoint/checkpoint_mlp_sup_binary.model.keras\n",
            "\u001b[1m141/141\u001b[0m \u001b[32m━━━━━━━━━━━━━━━━━━━━\u001b[0m\u001b[37m\u001b[0m \u001b[1m0s\u001b[0m 3ms/step - loss: 0.3424\n",
            "Epoch 86/100\n",
            "\u001b[1m125/141\u001b[0m \u001b[32m━━━━━━━━━━━━━━━━━\u001b[0m\u001b[37m━━━\u001b[0m \u001b[1m0s\u001b[0m 3ms/step - loss: 0.3433\n",
            "Epoch 86: loss improved from 0.34115 to 0.34113, saving model to Checkpoint/checkpoint_mlp_sup_binary.model.keras\n",
            "\u001b[1m141/141\u001b[0m \u001b[32m━━━━━━━━━━━━━━━━━━━━\u001b[0m\u001b[37m\u001b[0m \u001b[1m1s\u001b[0m 4ms/step - loss: 0.3430\n",
            "Epoch 87/100\n",
            "\u001b[1m137/141\u001b[0m \u001b[32m━━━━━━━━━━━━━━━━━━━\u001b[0m\u001b[37m━\u001b[0m \u001b[1m0s\u001b[0m 3ms/step - loss: 0.3409\n",
            "Epoch 87: loss improved from 0.34113 to 0.34077, saving model to Checkpoint/checkpoint_mlp_sup_binary.model.keras\n",
            "\u001b[1m141/141\u001b[0m \u001b[32m━━━━━━━━━━━━━━━━━━━━\u001b[0m\u001b[37m\u001b[0m \u001b[1m1s\u001b[0m 4ms/step - loss: 0.3409\n",
            "Epoch 88/100\n",
            "\u001b[1m128/141\u001b[0m \u001b[32m━━━━━━━━━━━━━━━━━━\u001b[0m\u001b[37m━━\u001b[0m \u001b[1m0s\u001b[0m 2ms/step - loss: 0.3369\n",
            "Epoch 88: loss improved from 0.34077 to 0.33974, saving model to Checkpoint/checkpoint_mlp_sup_binary.model.keras\n",
            "\u001b[1m141/141\u001b[0m \u001b[32m━━━━━━━━━━━━━━━━━━━━\u001b[0m\u001b[37m\u001b[0m \u001b[1m0s\u001b[0m 3ms/step - loss: 0.3372\n",
            "Epoch 89/100\n",
            "\u001b[1m125/141\u001b[0m \u001b[32m━━━━━━━━━━━━━━━━━\u001b[0m\u001b[37m━━━\u001b[0m \u001b[1m0s\u001b[0m 2ms/step - loss: 0.3412\n",
            "Epoch 89: loss improved from 0.33974 to 0.33973, saving model to Checkpoint/checkpoint_mlp_sup_binary.model.keras\n",
            "\u001b[1m141/141\u001b[0m \u001b[32m━━━━━━━━━━━━━━━━━━━━\u001b[0m\u001b[37m\u001b[0m \u001b[1m0s\u001b[0m 3ms/step - loss: 0.3411\n",
            "Epoch 90/100\n",
            "\u001b[1m140/141\u001b[0m \u001b[32m━━━━━━━━━━━━━━━━━━━\u001b[0m\u001b[37m━\u001b[0m \u001b[1m0s\u001b[0m 3ms/step - loss: 0.3386\n",
            "Epoch 90: loss improved from 0.33973 to 0.33955, saving model to Checkpoint/checkpoint_mlp_sup_binary.model.keras\n",
            "\u001b[1m141/141\u001b[0m \u001b[32m━━━━━━━━━━━━━━━━━━━━\u001b[0m\u001b[37m\u001b[0m \u001b[1m0s\u001b[0m 3ms/step - loss: 0.3386\n",
            "Epoch 91/100\n",
            "\u001b[1m119/141\u001b[0m \u001b[32m━━━━━━━━━━━━━━━━\u001b[0m\u001b[37m━━━━\u001b[0m \u001b[1m0s\u001b[0m 2ms/step - loss: 0.3430\n",
            "Epoch 91: loss improved from 0.33955 to 0.33876, saving model to Checkpoint/checkpoint_mlp_sup_binary.model.keras\n",
            "\u001b[1m141/141\u001b[0m \u001b[32m━━━━━━━━━━━━━━━━━━━━\u001b[0m\u001b[37m\u001b[0m \u001b[1m0s\u001b[0m 3ms/step - loss: 0.3423\n",
            "Epoch 92/100\n",
            "\u001b[1m124/141\u001b[0m \u001b[32m━━━━━━━━━━━━━━━━━\u001b[0m\u001b[37m━━━\u001b[0m \u001b[1m0s\u001b[0m 2ms/step - loss: 0.3372\n",
            "Epoch 92: loss improved from 0.33876 to 0.33822, saving model to Checkpoint/checkpoint_mlp_sup_binary.model.keras\n",
            "\u001b[1m141/141\u001b[0m \u001b[32m━━━━━━━━━━━━━━━━━━━━\u001b[0m\u001b[37m\u001b[0m \u001b[1m0s\u001b[0m 2ms/step - loss: 0.3372\n",
            "Epoch 93/100\n",
            "\u001b[1m129/141\u001b[0m \u001b[32m━━━━━━━━━━━━━━━━━━\u001b[0m\u001b[37m━━\u001b[0m \u001b[1m0s\u001b[0m 2ms/step - loss: 0.3382\n",
            "Epoch 93: loss improved from 0.33822 to 0.33798, saving model to Checkpoint/checkpoint_mlp_sup_binary.model.keras\n",
            "\u001b[1m141/141\u001b[0m \u001b[32m━━━━━━━━━━━━━━━━━━━━\u001b[0m\u001b[37m\u001b[0m \u001b[1m0s\u001b[0m 2ms/step - loss: 0.3381\n",
            "Epoch 94/100\n",
            "\u001b[1m123/141\u001b[0m \u001b[32m━━━━━━━━━━━━━━━━━\u001b[0m\u001b[37m━━━\u001b[0m \u001b[1m0s\u001b[0m 2ms/step - loss: 0.3396\n",
            "Epoch 94: loss improved from 0.33798 to 0.33778, saving model to Checkpoint/checkpoint_mlp_sup_binary.model.keras\n",
            "\u001b[1m141/141\u001b[0m \u001b[32m━━━━━━━━━━━━━━━━━━━━\u001b[0m\u001b[37m\u001b[0m \u001b[1m0s\u001b[0m 2ms/step - loss: 0.3394\n",
            "Epoch 95/100\n",
            "\u001b[1m124/141\u001b[0m \u001b[32m━━━━━━━━━━━━━━━━━\u001b[0m\u001b[37m━━━\u001b[0m \u001b[1m0s\u001b[0m 3ms/step - loss: 0.3387\n",
            "Epoch 95: loss did not improve from 0.33778\n",
            "\u001b[1m141/141\u001b[0m \u001b[32m━━━━━━━━━━━━━━━━━━━━\u001b[0m\u001b[37m\u001b[0m \u001b[1m0s\u001b[0m 3ms/step - loss: 0.3386\n",
            "Epoch 96/100\n",
            "\u001b[1m127/141\u001b[0m \u001b[32m━━━━━━━━━━━━━━━━━━\u001b[0m\u001b[37m━━\u001b[0m \u001b[1m0s\u001b[0m 2ms/step - loss: 0.3386\n",
            "Epoch 96: loss improved from 0.33778 to 0.33704, saving model to Checkpoint/checkpoint_mlp_sup_binary.model.keras\n",
            "\u001b[1m141/141\u001b[0m \u001b[32m━━━━━━━━━━━━━━━━━━━━\u001b[0m\u001b[37m\u001b[0m \u001b[1m0s\u001b[0m 2ms/step - loss: 0.3385\n",
            "Epoch 97/100\n",
            "\u001b[1m139/141\u001b[0m \u001b[32m━━━━━━━━━━━━━━━━━━━\u001b[0m\u001b[37m━\u001b[0m \u001b[1m0s\u001b[0m 1ms/step - loss: 0.3391\n",
            "Epoch 97: loss improved from 0.33704 to 0.33661, saving model to Checkpoint/checkpoint_mlp_sup_binary.model.keras\n",
            "\u001b[1m141/141\u001b[0m \u001b[32m━━━━━━━━━━━━━━━━━━━━\u001b[0m\u001b[37m\u001b[0m \u001b[1m0s\u001b[0m 2ms/step - loss: 0.3390\n",
            "Epoch 98/100\n",
            "\u001b[1m129/141\u001b[0m \u001b[32m━━━━━━━━━━━━━━━━━━\u001b[0m\u001b[37m━━\u001b[0m \u001b[1m0s\u001b[0m 2ms/step - loss: 0.3385\n",
            "Epoch 98: loss did not improve from 0.33661\n",
            "\u001b[1m141/141\u001b[0m \u001b[32m━━━━━━━━━━━━━━━━━━━━\u001b[0m\u001b[37m\u001b[0m \u001b[1m0s\u001b[0m 2ms/step - loss: 0.3383\n",
            "Epoch 99/100\n",
            "\u001b[1m110/141\u001b[0m \u001b[32m━━━━━━━━━━━━━━━\u001b[0m\u001b[37m━━━━━\u001b[0m \u001b[1m0s\u001b[0m 1ms/step - loss: 0.3346\n",
            "Epoch 99: loss did not improve from 0.33661\n",
            "\u001b[1m141/141\u001b[0m \u001b[32m━━━━━━━━━━━━━━━━━━━━\u001b[0m\u001b[37m\u001b[0m \u001b[1m0s\u001b[0m 2ms/step - loss: 0.3350\n",
            "Epoch 100/100\n",
            "\u001b[1m139/141\u001b[0m \u001b[32m━━━━━━━━━━━━━━━━━━━\u001b[0m\u001b[37m━\u001b[0m \u001b[1m0s\u001b[0m 2ms/step - loss: 0.3371\n",
            "Epoch 100: loss improved from 0.33661 to 0.33625, saving model to Checkpoint/checkpoint_mlp_sup_binary.model.keras\n",
            "\u001b[1m141/141\u001b[0m \u001b[32m━━━━━━━━━━━━━━━━━━━━\u001b[0m\u001b[37m\u001b[0m \u001b[1m0s\u001b[0m 2ms/step - loss: 0.3370\n"
          ]
        }
      ],
      "source": [
        "test_model, history = train_MLP_supervised(trainX, trainY,1,1,  num_feature= num_feature- 1,binary = True)"
      ]
    },
    {
      "cell_type": "code",
      "execution_count": 49,
      "metadata": {},
      "outputs": [
        {
          "data": {
            "image/png": "[encoded data removed]",
            "text/plain": [
              "<Figure size 800x500 with 1 Axes>"
            ]
          },
          "metadata": {},
          "output_type": "display_data"
        }
      ],
      "source": [
        "pd.DataFrame(history.history).plot(figsize=(8,5))\n",
        "plt.xlabel(\"Epochs\")\n",
        "plt.ylabel(\"Loss\")\n",
        "plt.grid()\n",
        "plt.style.use('default')\n",
        "plt.show()"
      ]
    },
    {
      "cell_type": "code",
      "execution_count": null,
      "metadata": {},
      "outputs": [
        {
          "data": {
            "text/html": [
              "<pre style=\"white-space:pre;overflow-x:auto;line-height:normal;font-family:Menlo,'DejaVu Sans Mono',consolas,'Courier New',monospace\"><span style=\"font-weight: bold\">Model: \"sequential_1\"</span>\n",
              "</pre>\n"
            ],
            "text/plain": [
              "\u001b[1mModel: \"sequential_1\"\u001b[0m\n"
            ]
          },
          "metadata": {},
          "output_type": "display_data"
        },
        {
          "data": {
            "text/html": [
              "<pre style=\"white-space:pre;overflow-x:auto;line-height:normal;font-family:Menlo,'DejaVu Sans Mono',consolas,'Courier New',monospace\">┏━━━━━━━━━━━━━━━━━━━━━━━━━━━━━━━━━┳━━━━━━━━━━━━━━━━━━━━━━━━┳━━━━━━━━━━━━━━━┓\n",
              "┃<span style=\"font-weight: bold\"> Layer (type)                    </span>┃<span style=\"font-weight: bold\"> Output Shape           </span>┃<span style=\"font-weight: bold\">       Param # </span>┃\n",
              "┡━━━━━━━━━━━━━━━━━━━━━━━━━━━━━━━━━╇━━━━━━━━━━━━━━━━━━━━━━━━╇━━━━━━━━━━━━━━━┩\n",
              "│ dropout_2 (<span style=\"color: #0087ff; text-decoration-color: #0087ff\">Dropout</span>)             │ (<span style=\"color: #00d7ff; text-decoration-color: #00d7ff\">None</span>, <span style=\"color: #00af00; text-decoration-color: #00af00\">11</span>)             │             <span style=\"color: #00af00; text-decoration-color: #00af00\">0</span> │\n",
              "├─────────────────────────────────┼────────────────────────┼───────────────┤\n",
              "│ dense_2 (<span style=\"color: #0087ff; text-decoration-color: #0087ff\">Dense</span>)                 │ (<span style=\"color: #00d7ff; text-decoration-color: #00d7ff\">None</span>, <span style=\"color: #00af00; text-decoration-color: #00af00\">5</span>)              │            <span style=\"color: #00af00; text-decoration-color: #00af00\">60</span> │\n",
              "├─────────────────────────────────┼────────────────────────┼───────────────┤\n",
              "│ dropout_3 (<span style=\"color: #0087ff; text-decoration-color: #0087ff\">Dropout</span>)             │ (<span style=\"color: #00d7ff; text-decoration-color: #00d7ff\">None</span>, <span style=\"color: #00af00; text-decoration-color: #00af00\">5</span>)              │             <span style=\"color: #00af00; text-decoration-color: #00af00\">0</span> │\n",
              "├─────────────────────────────────┼────────────────────────┼───────────────┤\n",
              "│ dense_3 (<span style=\"color: #0087ff; text-decoration-color: #0087ff\">Dense</span>)                 │ (<span style=\"color: #00d7ff; text-decoration-color: #00d7ff\">None</span>, <span style=\"color: #00af00; text-decoration-color: #00af00\">11</span>)             │            <span style=\"color: #00af00; text-decoration-color: #00af00\">66</span> │\n",
              "└─────────────────────────────────┴────────────────────────┴───────────────┘\n",
              "</pre>\n"
            ],
            "text/plain": [
              "┏━━━━━━━━━━━━━━━━━━━━━━━━━━━━━━━━━┳━━━━━━━━━━━━━━━━━━━━━━━━┳━━━━━━━━━━━━━━━┓\n",
              "┃\u001b[1m \u001b[0m\u001b[1mLayer (type)                   \u001b[0m\u001b[1m \u001b[0m┃\u001b[1m \u001b[0m\u001b[1mOutput Shape          \u001b[0m\u001b[1m \u001b[0m┃\u001b[1m \u001b[0m\u001b[1m      Param #\u001b[0m\u001b[1m \u001b[0m┃\n",
              "┡━━━━━━━━━━━━━━━━━━━━━━━━━━━━━━━━━╇━━━━━━━━━━━━━━━━━━━━━━━━╇━━━━━━━━━━━━━━━┩\n",
              "│ dropout_2 (\u001b[38;5;33mDropout\u001b[0m)             │ (\u001b[38;5;45mNone\u001b[0m, \u001b[38;5;34m11\u001b[0m)             │             \u001b[38;5;34m0\u001b[0m │\n",
              "├─────────────────────────────────┼────────────────────────┼───────────────┤\n",
              "│ dense_2 (\u001b[38;5;33mDense\u001b[0m)                 │ (\u001b[38;5;45mNone\u001b[0m, \u001b[38;5;34m5\u001b[0m)              │            \u001b[38;5;34m60\u001b[0m │\n",
              "├─────────────────────────────────┼────────────────────────┼───────────────┤\n",
              "│ dropout_3 (\u001b[38;5;33mDropout\u001b[0m)             │ (\u001b[38;5;45mNone\u001b[0m, \u001b[38;5;34m5\u001b[0m)              │             \u001b[38;5;34m0\u001b[0m │\n",
              "├─────────────────────────────────┼────────────────────────┼───────────────┤\n",
              "│ dense_3 (\u001b[38;5;33mDense\u001b[0m)                 │ (\u001b[38;5;45mNone\u001b[0m, \u001b[38;5;34m11\u001b[0m)             │            \u001b[38;5;34m66\u001b[0m │\n",
              "└─────────────────────────────────┴────────────────────────┴───────────────┘\n"
            ]
          },
          "metadata": {},
          "output_type": "display_data"
        },
        {
          "data": {
            "text/html": [
              "<pre style=\"white-space:pre;overflow-x:auto;line-height:normal;font-family:Menlo,'DejaVu Sans Mono',consolas,'Courier New',monospace\"><span style=\"font-weight: bold\"> Total params: </span><span style=\"color: #00af00; text-decoration-color: #00af00\">380</span> (1.49 KB)\n",
              "</pre>\n"
            ],
            "text/plain": [
              "\u001b[1m Total params: \u001b[0m\u001b[38;5;34m380\u001b[0m (1.49 KB)\n"
            ]
          },
          "metadata": {},
          "output_type": "display_data"
        },
        {
          "data": {
            "text/html": [
              "<pre style=\"white-space:pre;overflow-x:auto;line-height:normal;font-family:Menlo,'DejaVu Sans Mono',consolas,'Courier New',monospace\"><span style=\"font-weight: bold\"> Trainable params: </span><span style=\"color: #00af00; text-decoration-color: #00af00\">126</span> (504.00 B)\n",
              "</pre>\n"
            ],
            "text/plain": [
              "\u001b[1m Trainable params: \u001b[0m\u001b[38;5;34m126\u001b[0m (504.00 B)\n"
            ]
          },
          "metadata": {},
          "output_type": "display_data"
        },
        {
          "data": {
            "text/html": [
              "<pre style=\"white-space:pre;overflow-x:auto;line-height:normal;font-family:Menlo,'DejaVu Sans Mono',consolas,'Courier New',monospace\"><span style=\"font-weight: bold\"> Non-trainable params: </span><span style=\"color: #00af00; text-decoration-color: #00af00\">0</span> (0.00 B)\n",
              "</pre>\n"
            ],
            "text/plain": [
              "\u001b[1m Non-trainable params: \u001b[0m\u001b[38;5;34m0\u001b[0m (0.00 B)\n"
            ]
          },
          "metadata": {},
          "output_type": "display_data"
        },
        {
          "data": {
            "text/html": [
              "<pre style=\"white-space:pre;overflow-x:auto;line-height:normal;font-family:Menlo,'DejaVu Sans Mono',consolas,'Courier New',monospace\"><span style=\"font-weight: bold\"> Optimizer params: </span><span style=\"color: #00af00; text-decoration-color: #00af00\">254</span> (1020.00 B)\n",
              "</pre>\n"
            ],
            "text/plain": [
              "\u001b[1m Optimizer params: \u001b[0m\u001b[38;5;34m254\u001b[0m (1020.00 B)\n"
            ]
          },
          "metadata": {},
          "output_type": "display_data"
        }
      ],
      "source": [
        "model.summary()"
      ]
    },
    {
      "cell_type": "code",
      "execution_count": 51,
      "metadata": {},
      "outputs": [
        {
          "name": "stdout",
          "output_type": "stream",
          "text": [
            "\u001b[1m1122/1122\u001b[0m \u001b[32m━━━━━━━━━━━━━━━━━━━━\u001b[0m\u001b[37m\u001b[0m \u001b[1m1s\u001b[0m 1ms/step\n",
            "              precision    recall  f1-score   support\n",
            "\n",
            "         0.0       0.00      0.00      0.00      8859\n",
            "         1.0       0.75      1.00      0.86     27031\n",
            "\n",
            "    accuracy                           0.75     35890\n",
            "   macro avg       0.38      0.50      0.43     35890\n",
            "weighted avg       0.57      0.75      0.65     35890\n",
            "\n"
          ]
        }
      ],
      "source": [
        "prediction = model.predict(trainX)\n",
        "print(classification_report(trainY, prediction))"
      ]
    },
    {
      "cell_type": "code",
      "execution_count": null,
      "metadata": {},
      "outputs": [
        {
          "name": "stdout",
          "output_type": "stream",
          "text": [
            "              precision    recall  f1-score   support\n",
            "\n",
            "         0.0       0.95      0.97      0.96      8121\n",
            "         1.0       0.66      0.47      0.55       849\n",
            "\n",
            "    accuracy                           0.93      8970\n",
            "   macro avg       0.80      0.72      0.75      8970\n",
            "weighted avg       0.92      0.93      0.92      8970\n",
            "\n"
          ]
        }
      ],
      "source": [
        "prediction = test_model.predict(testX)\n",
        "print(classification_report(testY, prediction))"
      ]
    },
    {
      "cell_type": "code",
      "execution_count": null,
      "metadata": {},
      "outputs": [
        {
          "data": {
            "text/plain": [
              "(array([0., 1.]), array([8361,  609], dtype=int64))"
            ]
          },
          "execution_count": 105,
          "metadata": {},
          "output_type": "execute_result"
        }
      ],
      "source": [
        "np.unique(prediction, return_counts= True)"
      ]
    },
    {
      "cell_type": "markdown",
      "metadata": {},
      "source": [
        "## LSTM"
      ]
    },
    {
      "cell_type": "code",
      "execution_count": 36,
      "metadata": {},
      "outputs": [
        {
          "name": "stdout",
          "output_type": "stream",
          "text": [
            "TrainX:(35890, 18). Dữ liệu từ ngày 2019-01-04 đến 2023-12-13\n",
            "TrainY:(35890,). Dữ liệu từ ngày 2019-01-04 đến 2023-12-13\n",
            "TestX:(8970, 18). Dữ liệu từ ngày 2023-12-14 đến 2025-02-28\n",
            "TestY:(8970,). Dữ liệu từ ngày 2023-12-14 đến 2025-02-28\n",
            "(34390, 50, 17)\n",
            "(34390,)\n"
          ]
        }
      ],
      "source": [
        "X, y,info = prepare_X_y(feature, keep = ['Symbol'])\n",
        "\n",
        "trainX, testX ,trainY, testY, infoX,infoY = split_train_test(X, y,info)\n",
        "\n",
        "train_df = pd.concat([trainX, trainY], axis=1)\n",
        "\n",
        "sequence_length = 50\n",
        "trainX, trainY = [], []\n",
        "\n",
        "# Tự động lấy feature columns\n",
        "feature_cols = train_df.drop(columns=[\"Symbol\", \"good_signal\"]).columns\n",
        "\n",
        "# Group theo công ty\n",
        "for company_id, group in train_df.groupby(\"Symbol\"):\n",
        "    group = group.sort_index()  \n",
        "    features = group[feature_cols].values\n",
        "    labels = group[\"good_signal\"].values\n",
        "\n",
        "    for i in range(len(group) - sequence_length):\n",
        "        trainX.append(features[i:i+sequence_length])\n",
        "        trainY.append(labels[i+sequence_length]) \n",
        "\n",
        "trainX = np.array(trainX)  \n",
        "trainY = np.array(trainY)  \n",
        "\n",
        "print(trainX.shape)\n",
        "print(trainY.shape)\n"
      ]
    },
    {
      "cell_type": "code",
      "execution_count": 15,
      "metadata": {},
      "outputs": [
        {
          "name": "stdout",
          "output_type": "stream",
          "text": [
            "Trial 2 Complete [00h 10m 27s]\n",
            "loss: 0.39196696877479553\n",
            "\n",
            "Best loss So Far: 0.3895151615142822\n",
            "Total elapsed time: 00h 26m 37s\n",
            "Epoch 1/100\n",
            "\u001b[1m538/538\u001b[0m \u001b[32m━━━━━━━━━━━━━━━━━━━━\u001b[0m\u001b[37m\u001b[0m \u001b[1m13s\u001b[0m 18ms/step - loss: 0.7151\n",
            "Epoch 2/100\n",
            "\u001b[1m538/538\u001b[0m \u001b[32m━━━━━━━━━━━━━━━━━━━━\u001b[0m\u001b[37m\u001b[0m \u001b[1m9s\u001b[0m 18ms/step - loss: 0.5509\n",
            "Epoch 3/100\n",
            "\u001b[1m538/538\u001b[0m \u001b[32m━━━━━━━━━━━━━━━━━━━━\u001b[0m\u001b[37m\u001b[0m \u001b[1m9s\u001b[0m 17ms/step - loss: 0.5165\n",
            "Epoch 4/100\n",
            "\u001b[1m538/538\u001b[0m \u001b[32m━━━━━━━━━━━━━━━━━━━━\u001b[0m\u001b[37m\u001b[0m \u001b[1m9s\u001b[0m 17ms/step - loss: 0.4986\n",
            "Epoch 5/100\n",
            "\u001b[1m538/538\u001b[0m \u001b[32m━━━━━━━━━━━━━━━━━━━━\u001b[0m\u001b[37m\u001b[0m \u001b[1m10s\u001b[0m 18ms/step - loss: 0.4811\n",
            "Epoch 6/100\n",
            "\u001b[1m538/538\u001b[0m \u001b[32m━━━━━━━━━━━━━━━━━━━━\u001b[0m\u001b[37m\u001b[0m \u001b[1m10s\u001b[0m 18ms/step - loss: 0.4683\n",
            "Epoch 7/100\n",
            "\u001b[1m538/538\u001b[0m \u001b[32m━━━━━━━━━━━━━━━━━━━━\u001b[0m\u001b[37m\u001b[0m \u001b[1m10s\u001b[0m 18ms/step - loss: 0.4598\n",
            "Epoch 8/100\n",
            "\u001b[1m538/538\u001b[0m \u001b[32m━━━━━━━━━━━━━━━━━━━━\u001b[0m\u001b[37m\u001b[0m \u001b[1m10s\u001b[0m 19ms/step - loss: 0.4508\n",
            "Epoch 9/100\n",
            "\u001b[1m538/538\u001b[0m \u001b[32m━━━━━━━━━━━━━━━━━━━━\u001b[0m\u001b[37m\u001b[0m \u001b[1m11s\u001b[0m 20ms/step - loss: 0.4460\n",
            "Epoch 10/100\n",
            "\u001b[1m538/538\u001b[0m \u001b[32m━━━━━━━━━━━━━━━━━━━━\u001b[0m\u001b[37m\u001b[0m \u001b[1m11s\u001b[0m 20ms/step - loss: 0.4445\n",
            "Epoch 11/100\n",
            "\u001b[1m538/538\u001b[0m \u001b[32m━━━━━━━━━━━━━━━━━━━━\u001b[0m\u001b[37m\u001b[0m \u001b[1m10s\u001b[0m 18ms/step - loss: 0.4411\n",
            "Epoch 12/100\n",
            "\u001b[1m538/538\u001b[0m \u001b[32m━━━━━━━━━━━━━━━━━━━━\u001b[0m\u001b[37m\u001b[0m \u001b[1m10s\u001b[0m 19ms/step - loss: 0.4364\n",
            "Epoch 13/100\n",
            "\u001b[1m538/538\u001b[0m \u001b[32m━━━━━━━━━━━━━━━━━━━━\u001b[0m\u001b[37m\u001b[0m \u001b[1m10s\u001b[0m 19ms/step - loss: 0.4342\n",
            "Epoch 14/100\n",
            "\u001b[1m538/538\u001b[0m \u001b[32m━━━━━━━━━━━━━━━━━━━━\u001b[0m\u001b[37m\u001b[0m \u001b[1m10s\u001b[0m 19ms/step - loss: 0.4321\n",
            "Epoch 15/100\n",
            "\u001b[1m538/538\u001b[0m \u001b[32m━━━━━━━━━━━━━━━━━━━━\u001b[0m\u001b[37m\u001b[0m \u001b[1m10s\u001b[0m 19ms/step - loss: 0.4284\n",
            "Epoch 16/100\n",
            "\u001b[1m538/538\u001b[0m \u001b[32m━━━━━━━━━━━━━━━━━━━━\u001b[0m\u001b[37m\u001b[0m \u001b[1m10s\u001b[0m 19ms/step - loss: 0.4332\n",
            "Epoch 17/100\n",
            "\u001b[1m538/538\u001b[0m \u001b[32m━━━━━━━━━━━━━━━━━━━━\u001b[0m\u001b[37m\u001b[0m \u001b[1m10s\u001b[0m 19ms/step - loss: 0.4338\n",
            "Epoch 18/100\n",
            "\u001b[1m538/538\u001b[0m \u001b[32m━━━━━━━━━━━━━━━━━━━━\u001b[0m\u001b[37m\u001b[0m \u001b[1m10s\u001b[0m 19ms/step - loss: 0.4259\n",
            "Epoch 19/100\n",
            "\u001b[1m538/538\u001b[0m \u001b[32m━━━━━━━━━━━━━━━━━━━━\u001b[0m\u001b[37m\u001b[0m \u001b[1m10s\u001b[0m 19ms/step - loss: 0.4268\n",
            "Epoch 20/100\n",
            "\u001b[1m538/538\u001b[0m \u001b[32m━━━━━━━━━━━━━━━━━━━━\u001b[0m\u001b[37m\u001b[0m \u001b[1m10s\u001b[0m 19ms/step - loss: 0.4249\n",
            "Epoch 21/100\n",
            "\u001b[1m538/538\u001b[0m \u001b[32m━━━━━━━━━━━━━━━━━━━━\u001b[0m\u001b[37m\u001b[0m \u001b[1m11s\u001b[0m 20ms/step - loss: 0.4253\n",
            "Epoch 22/100\n",
            "\u001b[1m538/538\u001b[0m \u001b[32m━━━━━━━━━━━━━━━━━━━━\u001b[0m\u001b[37m\u001b[0m \u001b[1m11s\u001b[0m 19ms/step - loss: 0.4224\n",
            "Epoch 23/100\n",
            "\u001b[1m538/538\u001b[0m \u001b[32m━━━━━━━━━━━━━━━━━━━━\u001b[0m\u001b[37m\u001b[0m \u001b[1m11s\u001b[0m 20ms/step - loss: 0.4186\n",
            "Epoch 24/100\n",
            "\u001b[1m538/538\u001b[0m \u001b[32m━━━━━━━━━━━━━━━━━━━━\u001b[0m\u001b[37m\u001b[0m \u001b[1m11s\u001b[0m 21ms/step - loss: 0.4230\n",
            "Epoch 25/100\n",
            "\u001b[1m538/538\u001b[0m \u001b[32m━━━━━━━━━━━━━━━━━━━━\u001b[0m\u001b[37m\u001b[0m \u001b[1m10s\u001b[0m 19ms/step - loss: 0.4272\n",
            "Epoch 26/100\n",
            "\u001b[1m538/538\u001b[0m \u001b[32m━━━━━━━━━━━━━━━━━━━━\u001b[0m\u001b[37m\u001b[0m \u001b[1m10s\u001b[0m 18ms/step - loss: 0.4209\n",
            "Epoch 27/100\n",
            "\u001b[1m538/538\u001b[0m \u001b[32m━━━━━━━━━━━━━━━━━━━━\u001b[0m\u001b[37m\u001b[0m \u001b[1m10s\u001b[0m 19ms/step - loss: 0.4164\n",
            "Epoch 28/100\n",
            "\u001b[1m538/538\u001b[0m \u001b[32m━━━━━━━━━━━━━━━━━━━━\u001b[0m\u001b[37m\u001b[0m \u001b[1m10s\u001b[0m 18ms/step - loss: 0.4209\n",
            "Epoch 29/100\n",
            "\u001b[1m538/538\u001b[0m \u001b[32m━━━━━━━━━━━━━━━━━━━━\u001b[0m\u001b[37m\u001b[0m \u001b[1m10s\u001b[0m 18ms/step - loss: 0.4199\n",
            "Epoch 30/100\n",
            "\u001b[1m538/538\u001b[0m \u001b[32m━━━━━━━━━━━━━━━━━━━━\u001b[0m\u001b[37m\u001b[0m \u001b[1m10s\u001b[0m 19ms/step - loss: 0.4195\n",
            "Epoch 31/100\n",
            "\u001b[1m538/538\u001b[0m \u001b[32m━━━━━━━━━━━━━━━━━━━━\u001b[0m\u001b[37m\u001b[0m \u001b[1m11s\u001b[0m 20ms/step - loss: 0.4165\n",
            "Epoch 32/100\n",
            "\u001b[1m538/538\u001b[0m \u001b[32m━━━━━━━━━━━━━━━━━━━━\u001b[0m\u001b[37m\u001b[0m \u001b[1m11s\u001b[0m 20ms/step - loss: 0.4166\n",
            "Epoch 33/100\n",
            "\u001b[1m538/538\u001b[0m \u001b[32m━━━━━━━━━━━━━━━━━━━━\u001b[0m\u001b[37m\u001b[0m \u001b[1m10s\u001b[0m 19ms/step - loss: 0.4160\n",
            "Epoch 34/100\n",
            "\u001b[1m538/538\u001b[0m \u001b[32m━━━━━━━━━━━━━━━━━━━━\u001b[0m\u001b[37m\u001b[0m \u001b[1m10s\u001b[0m 19ms/step - loss: 0.4152\n",
            "Epoch 35/100\n",
            "\u001b[1m538/538\u001b[0m \u001b[32m━━━━━━━━━━━━━━━━━━━━\u001b[0m\u001b[37m\u001b[0m \u001b[1m10s\u001b[0m 19ms/step - loss: 0.4096\n",
            "Epoch 36/100\n",
            "\u001b[1m538/538\u001b[0m \u001b[32m━━━━━━━━━━━━━━━━━━━━\u001b[0m\u001b[37m\u001b[0m \u001b[1m10s\u001b[0m 19ms/step - loss: 0.4121\n",
            "Epoch 37/100\n",
            "\u001b[1m538/538\u001b[0m \u001b[32m━━━━━━━━━━━━━━━━━━━━\u001b[0m\u001b[37m\u001b[0m \u001b[1m10s\u001b[0m 19ms/step - loss: 0.4142\n",
            "Epoch 38/100\n",
            "\u001b[1m538/538\u001b[0m \u001b[32m━━━━━━━━━━━━━━━━━━━━\u001b[0m\u001b[37m\u001b[0m \u001b[1m10s\u001b[0m 19ms/step - loss: 0.4160\n",
            "Epoch 39/100\n",
            "\u001b[1m538/538\u001b[0m \u001b[32m━━━━━━━━━━━━━━━━━━━━\u001b[0m\u001b[37m\u001b[0m \u001b[1m11s\u001b[0m 19ms/step - loss: 0.4125\n",
            "Epoch 40/100\n",
            "\u001b[1m538/538\u001b[0m \u001b[32m━━━━━━━━━━━━━━━━━━━━\u001b[0m\u001b[37m\u001b[0m \u001b[1m10s\u001b[0m 19ms/step - loss: 0.4084\n",
            "Epoch 41/100\n",
            "\u001b[1m538/538\u001b[0m \u001b[32m━━━━━━━━━━━━━━━━━━━━\u001b[0m\u001b[37m\u001b[0m \u001b[1m10s\u001b[0m 19ms/step - loss: 0.4064\n",
            "Epoch 42/100\n",
            "\u001b[1m538/538\u001b[0m \u001b[32m━━━━━━━━━━━━━━━━━━━━\u001b[0m\u001b[37m\u001b[0m \u001b[1m11s\u001b[0m 21ms/step - loss: 0.4059\n",
            "Epoch 43/100\n",
            "\u001b[1m538/538\u001b[0m \u001b[32m━━━━━━━━━━━━━━━━━━━━\u001b[0m\u001b[37m\u001b[0m \u001b[1m11s\u001b[0m 20ms/step - loss: 0.4093\n",
            "Epoch 44/100\n",
            "\u001b[1m538/538\u001b[0m \u001b[32m━━━━━━━━━━━━━━━━━━━━\u001b[0m\u001b[37m\u001b[0m \u001b[1m10s\u001b[0m 19ms/step - loss: 0.4071\n",
            "Epoch 45/100\n",
            "\u001b[1m538/538\u001b[0m \u001b[32m━━━━━━━━━━━━━━━━━━━━\u001b[0m\u001b[37m\u001b[0m \u001b[1m10s\u001b[0m 19ms/step - loss: 0.4094\n",
            "Epoch 46/100\n",
            "\u001b[1m538/538\u001b[0m \u001b[32m━━━━━━━━━━━━━━━━━━━━\u001b[0m\u001b[37m\u001b[0m \u001b[1m10s\u001b[0m 19ms/step - loss: 0.4067\n",
            "Epoch 47/100\n",
            "\u001b[1m538/538\u001b[0m \u001b[32m━━━━━━━━━━━━━━━━━━━━\u001b[0m\u001b[37m\u001b[0m \u001b[1m11s\u001b[0m 20ms/step - loss: 0.4098\n",
            "Epoch 48/100\n",
            "\u001b[1m538/538\u001b[0m \u001b[32m━━━━━━━━━━━━━━━━━━━━\u001b[0m\u001b[37m\u001b[0m \u001b[1m11s\u001b[0m 20ms/step - loss: 0.4063\n",
            "Epoch 49/100\n",
            "\u001b[1m538/538\u001b[0m \u001b[32m━━━━━━━━━━━━━━━━━━━━\u001b[0m\u001b[37m\u001b[0m \u001b[1m11s\u001b[0m 20ms/step - loss: 0.4004\n",
            "Epoch 50/100\n",
            "\u001b[1m538/538\u001b[0m \u001b[32m━━━━━━━━━━━━━━━━━━━━\u001b[0m\u001b[37m\u001b[0m \u001b[1m10s\u001b[0m 19ms/step - loss: 0.4021\n",
            "Epoch 51/100\n",
            "\u001b[1m538/538\u001b[0m \u001b[32m━━━━━━━━━━━━━━━━━━━━\u001b[0m\u001b[37m\u001b[0m \u001b[1m10s\u001b[0m 19ms/step - loss: 0.4055\n",
            "Epoch 52/100\n",
            "\u001b[1m538/538\u001b[0m \u001b[32m━━━━━━━━━━━━━━━━━━━━\u001b[0m\u001b[37m\u001b[0m \u001b[1m10s\u001b[0m 19ms/step - loss: 0.4017\n",
            "Epoch 53/100\n",
            "\u001b[1m538/538\u001b[0m \u001b[32m━━━━━━━━━━━━━━━━━━━━\u001b[0m\u001b[37m\u001b[0m \u001b[1m10s\u001b[0m 19ms/step - loss: 0.3970\n",
            "Epoch 54/100\n",
            "\u001b[1m538/538\u001b[0m \u001b[32m━━━━━━━━━━━━━━━━━━━━\u001b[0m\u001b[37m\u001b[0m \u001b[1m10s\u001b[0m 19ms/step - loss: 0.4018\n",
            "Epoch 55/100\n",
            "\u001b[1m538/538\u001b[0m \u001b[32m━━━━━━━━━━━━━━━━━━━━\u001b[0m\u001b[37m\u001b[0m \u001b[1m10s\u001b[0m 19ms/step - loss: 0.4032\n",
            "Epoch 56/100\n",
            "\u001b[1m538/538\u001b[0m \u001b[32m━━━━━━━━━━━━━━━━━━━━\u001b[0m\u001b[37m\u001b[0m \u001b[1m11s\u001b[0m 21ms/step - loss: 0.3963\n",
            "Epoch 57/100\n",
            "\u001b[1m538/538\u001b[0m \u001b[32m━━━━━━━━━━━━━━━━━━━━\u001b[0m\u001b[37m\u001b[0m \u001b[1m11s\u001b[0m 20ms/step - loss: 0.4006\n",
            "Epoch 58/100\n",
            "\u001b[1m538/538\u001b[0m \u001b[32m━━━━━━━━━━━━━━━━━━━━\u001b[0m\u001b[37m\u001b[0m \u001b[1m10s\u001b[0m 19ms/step - loss: 0.4020\n",
            "Epoch 59/100\n",
            "\u001b[1m538/538\u001b[0m \u001b[32m━━━━━━━━━━━━━━━━━━━━\u001b[0m\u001b[37m\u001b[0m \u001b[1m10s\u001b[0m 19ms/step - loss: 0.3976\n",
            "Epoch 60/100\n",
            "\u001b[1m538/538\u001b[0m \u001b[32m━━━━━━━━━━━━━━━━━━━━\u001b[0m\u001b[37m\u001b[0m \u001b[1m11s\u001b[0m 19ms/step - loss: 0.3988\n",
            "Epoch 61/100\n",
            "\u001b[1m538/538\u001b[0m \u001b[32m━━━━━━━━━━━━━━━━━━━━\u001b[0m\u001b[37m\u001b[0m \u001b[1m11s\u001b[0m 20ms/step - loss: 0.4003\n",
            "Epoch 62/100\n",
            "\u001b[1m538/538\u001b[0m \u001b[32m━━━━━━━━━━━━━━━━━━━━\u001b[0m\u001b[37m\u001b[0m \u001b[1m10s\u001b[0m 19ms/step - loss: 0.3974\n",
            "Epoch 63/100\n",
            "\u001b[1m538/538\u001b[0m \u001b[32m━━━━━━━━━━━━━━━━━━━━\u001b[0m\u001b[37m\u001b[0m \u001b[1m11s\u001b[0m 20ms/step - loss: 0.3965\n",
            "Epoch 64/100\n",
            "\u001b[1m538/538\u001b[0m \u001b[32m━━━━━━━━━━━━━━━━━━━━\u001b[0m\u001b[37m\u001b[0m \u001b[1m10s\u001b[0m 19ms/step - loss: 0.3975\n",
            "Epoch 65/100\n",
            "\u001b[1m538/538\u001b[0m \u001b[32m━━━━━━━━━━━━━━━━━━━━\u001b[0m\u001b[37m\u001b[0m \u001b[1m10s\u001b[0m 19ms/step - loss: 0.3986\n",
            "Epoch 66/100\n",
            "\u001b[1m538/538\u001b[0m \u001b[32m━━━━━━━━━━━━━━━━━━━━\u001b[0m\u001b[37m\u001b[0m \u001b[1m10s\u001b[0m 19ms/step - loss: 0.3982\n",
            "Epoch 67/100\n",
            "\u001b[1m538/538\u001b[0m \u001b[32m━━━━━━━━━━━━━━━━━━━━\u001b[0m\u001b[37m\u001b[0m \u001b[1m11s\u001b[0m 20ms/step - loss: 0.3977\n",
            "Epoch 68/100\n",
            "\u001b[1m538/538\u001b[0m \u001b[32m━━━━━━━━━━━━━━━━━━━━\u001b[0m\u001b[37m\u001b[0m \u001b[1m12s\u001b[0m 22ms/step - loss: 0.3972\n",
            "Epoch 69/100\n",
            "\u001b[1m538/538\u001b[0m \u001b[32m━━━━━━━━━━━━━━━━━━━━\u001b[0m\u001b[37m\u001b[0m \u001b[1m11s\u001b[0m 20ms/step - loss: 0.3981\n",
            "Epoch 70/100\n",
            "\u001b[1m538/538\u001b[0m \u001b[32m━━━━━━━━━━━━━━━━━━━━\u001b[0m\u001b[37m\u001b[0m \u001b[1m11s\u001b[0m 21ms/step - loss: 0.3957\n",
            "Epoch 71/100\n",
            "\u001b[1m538/538\u001b[0m \u001b[32m━━━━━━━━━━━━━━━━━━━━\u001b[0m\u001b[37m\u001b[0m \u001b[1m10s\u001b[0m 19ms/step - loss: 0.3934\n",
            "Epoch 72/100\n",
            "\u001b[1m538/538\u001b[0m \u001b[32m━━━━━━━━━━━━━━━━━━━━\u001b[0m\u001b[37m\u001b[0m \u001b[1m11s\u001b[0m 20ms/step - loss: 0.3937\n",
            "Epoch 73/100\n",
            "\u001b[1m538/538\u001b[0m \u001b[32m━━━━━━━━━━━━━━━━━━━━\u001b[0m\u001b[37m\u001b[0m \u001b[1m10s\u001b[0m 19ms/step - loss: 0.3970\n",
            "Epoch 74/100\n",
            "\u001b[1m538/538\u001b[0m \u001b[32m━━━━━━━━━━━━━━━━━━━━\u001b[0m\u001b[37m\u001b[0m \u001b[1m10s\u001b[0m 19ms/step - loss: 0.3889\n",
            "Epoch 75/100\n",
            "\u001b[1m538/538\u001b[0m \u001b[32m━━━━━━━━━━━━━━━━━━━━\u001b[0m\u001b[37m\u001b[0m \u001b[1m10s\u001b[0m 19ms/step - loss: 0.3935\n",
            "Epoch 76/100\n",
            "\u001b[1m538/538\u001b[0m \u001b[32m━━━━━━━━━━━━━━━━━━━━\u001b[0m\u001b[37m\u001b[0m \u001b[1m10s\u001b[0m 19ms/step - loss: 0.3915\n",
            "Epoch 77/100\n",
            "\u001b[1m538/538\u001b[0m \u001b[32m━━━━━━━━━━━━━━━━━━━━\u001b[0m\u001b[37m\u001b[0m \u001b[1m11s\u001b[0m 21ms/step - loss: 0.3932\n",
            "Epoch 78/100\n",
            "\u001b[1m538/538\u001b[0m \u001b[32m━━━━━━━━━━━━━━━━━━━━\u001b[0m\u001b[37m\u001b[0m \u001b[1m10s\u001b[0m 19ms/step - loss: 0.3911\n",
            "Epoch 79/100\n",
            "\u001b[1m538/538\u001b[0m \u001b[32m━━━━━━━━━━━━━━━━━━━━\u001b[0m\u001b[37m\u001b[0m \u001b[1m10s\u001b[0m 19ms/step - loss: 0.3980\n",
            "Epoch 80/100\n",
            "\u001b[1m538/538\u001b[0m \u001b[32m━━━━━━━━━━━━━━━━━━━━\u001b[0m\u001b[37m\u001b[0m \u001b[1m11s\u001b[0m 21ms/step - loss: 0.3985\n",
            "Epoch 81/100\n",
            "\u001b[1m538/538\u001b[0m \u001b[32m━━━━━━━━━━━━━━━━━━━━\u001b[0m\u001b[37m\u001b[0m \u001b[1m10s\u001b[0m 19ms/step - loss: 0.3930\n",
            "Epoch 82/100\n",
            "\u001b[1m538/538\u001b[0m \u001b[32m━━━━━━━━━━━━━━━━━━━━\u001b[0m\u001b[37m\u001b[0m \u001b[1m10s\u001b[0m 19ms/step - loss: 0.3969\n",
            "Epoch 83/100\n",
            "\u001b[1m538/538\u001b[0m \u001b[32m━━━━━━━━━━━━━━━━━━━━\u001b[0m\u001b[37m\u001b[0m \u001b[1m11s\u001b[0m 20ms/step - loss: 0.3914\n",
            "Epoch 84/100\n",
            "\u001b[1m538/538\u001b[0m \u001b[32m━━━━━━━━━━━━━━━━━━━━\u001b[0m\u001b[37m\u001b[0m \u001b[1m10s\u001b[0m 19ms/step - loss: 0.3923\n",
            "Epoch 85/100\n",
            "\u001b[1m538/538\u001b[0m \u001b[32m━━━━━━━━━━━━━━━━━━━━\u001b[0m\u001b[37m\u001b[0m \u001b[1m10s\u001b[0m 19ms/step - loss: 0.3934\n",
            "Epoch 86/100\n",
            "\u001b[1m538/538\u001b[0m \u001b[32m━━━━━━━━━━━━━━━━━━━━\u001b[0m\u001b[37m\u001b[0m \u001b[1m11s\u001b[0m 20ms/step - loss: 0.3942\n",
            "Epoch 87/100\n",
            "\u001b[1m538/538\u001b[0m \u001b[32m━━━━━━━━━━━━━━━━━━━━\u001b[0m\u001b[37m\u001b[0m \u001b[1m10s\u001b[0m 19ms/step - loss: 0.3904\n",
            "Epoch 88/100\n",
            "\u001b[1m538/538\u001b[0m \u001b[32m━━━━━━━━━━━━━━━━━━━━\u001b[0m\u001b[37m\u001b[0m \u001b[1m10s\u001b[0m 19ms/step - loss: 0.3868\n",
            "Epoch 89/100\n",
            "\u001b[1m538/538\u001b[0m \u001b[32m━━━━━━━━━━━━━━━━━━━━\u001b[0m\u001b[37m\u001b[0m \u001b[1m10s\u001b[0m 19ms/step - loss: 0.3949\n",
            "Epoch 90/100\n",
            "\u001b[1m538/538\u001b[0m \u001b[32m━━━━━━━━━━━━━━━━━━━━\u001b[0m\u001b[37m\u001b[0m \u001b[1m11s\u001b[0m 21ms/step - loss: 0.3912\n",
            "Epoch 91/100\n",
            "\u001b[1m538/538\u001b[0m \u001b[32m━━━━━━━━━━━━━━━━━━━━\u001b[0m\u001b[37m\u001b[0m \u001b[1m11s\u001b[0m 19ms/step - loss: 0.3916\n",
            "Epoch 92/100\n",
            "\u001b[1m538/538\u001b[0m \u001b[32m━━━━━━━━━━━━━━━━━━━━\u001b[0m\u001b[37m\u001b[0m \u001b[1m10s\u001b[0m 18ms/step - loss: 0.3892\n",
            "Epoch 93/100\n",
            "\u001b[1m538/538\u001b[0m \u001b[32m━━━━━━━━━━━━━━━━━━━━\u001b[0m\u001b[37m\u001b[0m \u001b[1m10s\u001b[0m 19ms/step - loss: 0.3854\n",
            "Epoch 94/100\n",
            "\u001b[1m538/538\u001b[0m \u001b[32m━━━━━━━━━━━━━━━━━━━━\u001b[0m\u001b[37m\u001b[0m \u001b[1m10s\u001b[0m 19ms/step - loss: 0.3960\n",
            "Epoch 95/100\n",
            "\u001b[1m538/538\u001b[0m \u001b[32m━━━━━━━━━━━━━━━━━━━━\u001b[0m\u001b[37m\u001b[0m \u001b[1m11s\u001b[0m 20ms/step - loss: 0.3902\n",
            "Epoch 96/100\n",
            "\u001b[1m538/538\u001b[0m \u001b[32m━━━━━━━━━━━━━━━━━━━━\u001b[0m\u001b[37m\u001b[0m \u001b[1m10s\u001b[0m 19ms/step - loss: 0.3962\n",
            "Epoch 97/100\n",
            "\u001b[1m538/538\u001b[0m \u001b[32m━━━━━━━━━━━━━━━━━━━━\u001b[0m\u001b[37m\u001b[0m \u001b[1m10s\u001b[0m 19ms/step - loss: 0.3851\n",
            "Epoch 98/100\n",
            "\u001b[1m538/538\u001b[0m \u001b[32m━━━━━━━━━━━━━━━━━━━━\u001b[0m\u001b[37m\u001b[0m \u001b[1m10s\u001b[0m 19ms/step - loss: 0.3924\n",
            "Epoch 99/100\n",
            "\u001b[1m538/538\u001b[0m \u001b[32m━━━━━━━━━━━━━━━━━━━━\u001b[0m\u001b[37m\u001b[0m \u001b[1m10s\u001b[0m 19ms/step - loss: 0.3903\n",
            "Epoch 100/100\n",
            "\u001b[1m538/538\u001b[0m \u001b[32m━━━━━━━━━━━━━━━━━━━━\u001b[0m\u001b[37m\u001b[0m \u001b[1m11s\u001b[0m 21ms/step - loss: 0.3894\n"
          ]
        }
      ],
      "source": [
        "model, history = train_LSTM_supervised(trainX, trainY,1, num_feature= num_feature - 1,binary = True)  "
      ]
    },
    {
      "cell_type": "code",
      "execution_count": 32,
      "metadata": {},
      "outputs": [
        {
          "data": {
            "image/png": "[encoded data removed]",
            "text/plain": [
              "<Figure size 800x500 with 1 Axes>"
            ]
          },
          "metadata": {},
          "output_type": "display_data"
        }
      ],
      "source": [
        "import seaborn as sns\n",
        "\n",
        "pd.DataFrame(history.history).plot(figsize=(8,5))\n",
        "plt.xlabel(\"Epochs\")\n",
        "plt.ylabel(\"Loss\")\n",
        "plt.grid()\n",
        "plt.style.use('default')\n",
        "plt.show()"
      ]
    },
    {
      "cell_type": "code",
      "execution_count": 37,
      "metadata": {},
      "outputs": [
        {
          "name": "stdout",
          "output_type": "stream",
          "text": [
            "\u001b[1m1075/1075\u001b[0m \u001b[32m━━━━━━━━━━━━━━━━━━━━\u001b[0m\u001b[37m\u001b[0m \u001b[1m3s\u001b[0m 3ms/step\n",
            "              precision    recall  f1-score   support\n",
            "\n",
            "         0.0       0.00      0.00      0.00      8588\n",
            "         1.0       0.75      1.00      0.86     25802\n",
            "\n",
            "    accuracy                           0.75     34390\n",
            "   macro avg       0.38      0.50      0.43     34390\n",
            "weighted avg       0.56      0.75      0.64     34390\n",
            "\n"
          ]
        }
      ],
      "source": [
        "prediction = model.predict(trainX)\n",
        "print(classification_report(trainY, prediction))"
      ]
    },
    {
      "cell_type": "code",
      "execution_count": null,
      "metadata": {},
      "outputs": [],
      "source": [
        "prediction = model.predict(testX)\n",
        "print(classification_report( testY, prediction))"
      ]
    }
  ],
  "metadata": {
    "colab": {
      "provenance": []
    },
    "kernelspec": {
      "display_name": "base",
      "language": "python",
      "name": "python3"
    },
    "language_info": {
      "codemirror_mode": {
        "name": "ipython",
        "version": 3
      },
      "file_extension": ".py",
      "mimetype": "text/x-python",
      "name": "python",
      "nbconvert_exporter": "python",
      "pygments_lexer": "ipython3",
      "version": "3.12.7"
    }
  },
  "nbformat": 4,
  "nbformat_minor": 0
}
