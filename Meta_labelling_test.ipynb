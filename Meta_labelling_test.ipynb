{
  "cells": [
    {
      "cell_type": "markdown",
      "metadata": {
        "id": "doAvLDWfmv9z"
      },
      "source": [
        "# 0. Import Libaries + Data"
      ]
    },
    {
      "cell_type": "code",
      "execution_count": 36,
      "metadata": {},
      "outputs": [
        {
          "name": "stdout",
          "output_type": "stream",
          "text": [
            "Requirement already satisfied: changepoynt in c:\\users\\npw\\anaconda3\\lib\\site-packages (0.0.9)\n",
            "Requirement already satisfied: numpy>=1.23.5 in c:\\users\\npw\\anaconda3\\lib\\site-packages (from changepoynt) (1.26.4)\n",
            "Requirement already satisfied: numba>=0.56.4 in c:\\users\\npw\\anaconda3\\lib\\site-packages (from changepoynt) (0.60.0)\n",
            "Requirement already satisfied: scipy>=1.10.1 in c:\\users\\npw\\anaconda3\\lib\\site-packages (from changepoynt) (1.13.1)\n",
            "Requirement already satisfied: fbpca>=1.0 in c:\\users\\npw\\anaconda3\\lib\\site-packages (from changepoynt) (1.0)\n",
            "Requirement already satisfied: matplotlib>=3.7.1 in c:\\users\\npw\\anaconda3\\lib\\site-packages (from changepoynt) (3.9.2)\n",
            "Requirement already satisfied: stumpy>=1.11.1 in c:\\users\\npw\\anaconda3\\lib\\site-packages (from changepoynt) (1.13.0)\n",
            "Requirement already satisfied: rocket-fft in c:\\users\\npw\\anaconda3\\lib\\site-packages (from changepoynt) (0.2.5)\n",
            "Requirement already satisfied: contourpy>=1.0.1 in c:\\users\\npw\\anaconda3\\lib\\site-packages (from matplotlib>=3.7.1->changepoynt) (1.2.0)\n",
            "Requirement already satisfied: cycler>=0.10 in c:\\users\\npw\\anaconda3\\lib\\site-packages (from matplotlib>=3.7.1->changepoynt) (0.11.0)\n",
            "Requirement already satisfied: fonttools>=4.22.0 in c:\\users\\npw\\anaconda3\\lib\\site-packages (from matplotlib>=3.7.1->changepoynt) (4.51.0)\n",
            "Requirement already satisfied: kiwisolver>=1.3.1 in c:\\users\\npw\\anaconda3\\lib\\site-packages (from matplotlib>=3.7.1->changepoynt) (1.4.4)\n",
            "Requirement already satisfied: packaging>=20.0 in c:\\users\\npw\\anaconda3\\lib\\site-packages (from matplotlib>=3.7.1->changepoynt) (24.1)\n",
            "Requirement already satisfied: pillow>=8 in c:\\users\\npw\\anaconda3\\lib\\site-packages (from matplotlib>=3.7.1->changepoynt) (10.4.0)\n",
            "Requirement already satisfied: pyparsing>=2.3.1 in c:\\users\\npw\\anaconda3\\lib\\site-packages (from matplotlib>=3.7.1->changepoynt) (3.1.2)\n",
            "Requirement already satisfied: python-dateutil>=2.7 in c:\\users\\npw\\anaconda3\\lib\\site-packages (from matplotlib>=3.7.1->changepoynt) (2.9.0.post0)\n",
            "Requirement already satisfied: llvmlite<0.44,>=0.43.0dev0 in c:\\users\\npw\\anaconda3\\lib\\site-packages (from numba>=0.56.4->changepoynt) (0.43.0)\n",
            "Requirement already satisfied: six>=1.5 in c:\\users\\npw\\anaconda3\\lib\\site-packages (from python-dateutil>=2.7->matplotlib>=3.7.1->changepoynt) (1.16.0)\n"
          ]
        }
      ],
      "source": [
        "!pip install changepoynt"
      ]
    },
    {
      "cell_type": "code",
      "execution_count": 37,
      "metadata": {
        "colab": {
          "base_uri": "https://localhost:8080/"
        },
        "collapsed": true,
        "id": "0o4uhqYwmtxv",
        "outputId": "6c320bfc-db9c-43ee-e864-9853dcbd0a36"
      },
      "outputs": [],
      "source": [
        "# import pandas as pd\n",
        "# import numpy as np\n",
        "\n",
        "import matplotlib.pyplot as plt\n",
        "import seaborn as sns\n",
        "# sns.set_style('whitegrid')\n",
        "plt.style.use(\"fivethirtyeight\")\n",
        "import matplotlib.dates as mdates\n",
        "\n",
        "from datetime import datetime\n",
        "import dateutil.parser\n",
        "import copy\n",
        "\n",
        "# from sklearn.model_selection import train_test_split, TimeSeriesSplit, cross_val_score\n",
        "# from sklearn.metrics import classification_report,roc_auc_score, make_scorer\n",
        "# from sklearn.preprocessing import FunctionTransformer\n",
        "# from sklearn.ensemble import RandomForestClassifier\n",
        "# from sklearn.tree import DecisionTreeClassifier\n",
        "# from sklearn.preprocessing import MinMaxScaler,StandardScaler\n",
        "# from sklearn.pipeline import Pipeline\n",
        "# from sklearn.decomposition import PCA\n",
        "# from sklearn.base import BaseEstimator, TransformerMixin\n",
        "\n",
        "\n",
        "# import tensorflow as tf\n",
        "# from tensorflow.keras import backend as K\n",
        "# from keras.models import Sequential\n",
        "# from keras.layers import Dense, Dropout\n",
        "# from keras.callbacks import EarlyStopping, ModelCheckpoint, Callback\n",
        "# from keras.regularizers import l1, l2\n",
        "# from keras.optimizers import Adam\n",
        "\n",
        "# from sklearn import tree\n",
        "# from sklearn.base import BaseEstimator\n",
        "# from sklearn.preprocessing import StandardScaler\n",
        "\n",
        "# from hypopt import GridSearch\n",
        "# import keras_tuner as kt\n",
        "\n",
        "# from keras.models import Sequential\n",
        "# from keras.layers import Dense, LSTM\n",
        "# from keras.losses import BinaryCrossentropy\n",
        "\n",
        "# from optuna import Trial, create_study, create_trial\n",
        "\n",
        "\n",
        "\n",
        "import warnings\n",
        "warnings.filterwarnings(\"ignore\")"
      ]
    },
    {
      "cell_type": "code",
      "execution_count": 38,
      "metadata": {},
      "outputs": [],
      "source": [
        "from model import *\n",
        "from preprocess import *\n",
        "from crawling import *"
      ]
    },
    {
      "cell_type": "code",
      "execution_count": 39,
      "metadata": {
        "colab": {
          "base_uri": "https://localhost:8080/"
        },
        "collapsed": true,
        "id": "6juVE8DH7UPi",
        "outputId": "8851c304-27fb-4337-b98e-33461d07ec23"
      },
      "outputs": [],
      "source": [
        "start_time = '2017-12-31'\n",
        "# start_time = '2023-12-31'\n",
        "end_time = '2025-03-01'\n",
        "\n",
        "list_choice = 'VN30'\n",
        "\n",
        "daily_full = VN_Stock_fully_data(start_time, end_time)"
      ]
    },
    {
      "cell_type": "code",
      "execution_count": 40,
      "metadata": {
        "collapsed": true,
        "id": "5obMbd82vs_9"
      },
      "outputs": [],
      "source": [
        "# start_time = '2017-12-31'\n",
        "# end_time = '2025-03-01'\n",
        "\n",
        "# list_choice = 'VN30'\n",
        "\n",
        "# hourly_test = VN_Stock_close_data(start_time, end_time, interval = '1H')\n",
        "# hourly_test"
      ]
    },
    {
      "cell_type": "code",
      "execution_count": 41,
      "metadata": {
        "collapsed": true,
        "id": "khM1H_ACx9x3"
      },
      "outputs": [],
      "source": [
        "# start_time = '2017-12-31'\n",
        "# end_time = '2025-03-01'\n",
        "\n",
        "# list_choice = 'VN30'\n",
        "\n",
        "# daily_test = VN_Stock_close_data(start_time, end_time)\n",
        "# daily_test"
      ]
    },
    {
      "cell_type": "code",
      "execution_count": 42,
      "metadata": {
        "id": "XtuYLePwv77U"
      },
      "outputs": [],
      "source": [
        "# plt.plot(30 - daily_test.isna().sum(axis = 1))\n",
        "# plt.title(f\"Số lượng công ty trên {list_choice} có dữ liệu theo thời gian\")\n",
        "# plt.xlabel(\"Thời gian\")\n",
        "# plt.ylabel(\"Số lượng công ty\")"
      ]
    },
    {
      "cell_type": "markdown",
      "metadata": {
        "id": "TfDs02blnK3u"
      },
      "source": [
        "# 1. Analysis"
      ]
    },
    {
      "cell_type": "code",
      "execution_count": 43,
      "metadata": {
        "id": "oABJBFOzpUm1"
      },
      "outputs": [],
      "source": [
        "def describe_data_list(data):\n",
        "  ''' Hàm mô tả dữ liệu\n",
        "      INPUT: data_list(list): Một list bao gồm các dataframe\n",
        "        * Lưu ý: Nếu chỉ sử dụng 1 công ty, chỉ cần truyền vào 1 dataframe dưới dạng list: (VD: [df])\n",
        "      OUTPUT: các thông tin chung và mô tả các biến số của tất cả dataframe có trong list\n",
        "  '''\n",
        "  print(data.name)\n",
        "  print(data.info())\n",
        "  print(data.describe())\n",
        "  print(\"=========================================\")\n",
        "\n",
        "  return"
      ]
    },
    {
      "cell_type": "code",
      "execution_count": 44,
      "metadata": {
        "id": "YF1lqfdHnUA5"
      },
      "outputs": [],
      "source": [
        "# plt.figure(figsize = (24, 12))\n",
        "# plt.tight_layout()\n",
        "# plt.xticks([])\n",
        "# plt.yticks([])\n",
        "# sns.reset_orig()\n",
        "# plt.suptitle(\"Khối lượng giao dịch của các công ty trong VN30\")\n",
        "# for x in range(1,31):\n",
        "#   ax = plt.subplot(5,6, x)\n",
        "#   ax.plot(daily_full[x-1].index,daily_full[x-1]['volume'])\n",
        "#   plt.xticks([])\n",
        "#   plt.title(daily_full[x-1].name)\n",
        "#   # plt.savefig(daily_full[x].name)"
      ]
    },
    {
      "cell_type": "markdown",
      "metadata": {
        "id": "hnI0uU8enN8i"
      },
      "source": [
        "# 2. Cleaning Data"
      ]
    },
    {
      "cell_type": "code",
      "execution_count": 45,
      "metadata": {},
      "outputs": [
        {
          "data": {
            "text/html": [
              "<div>\n",
              "<style scoped>\n",
              "    .dataframe tbody tr th:only-of-type {\n",
              "        vertical-align: middle;\n",
              "    }\n",
              "\n",
              "    .dataframe tbody tr th {\n",
              "        vertical-align: top;\n",
              "    }\n",
              "\n",
              "    .dataframe thead th {\n",
              "        text-align: right;\n",
              "    }\n",
              "</style>\n",
              "<table border=\"1\" class=\"dataframe\">\n",
              "  <thead>\n",
              "    <tr style=\"text-align: right;\">\n",
              "      <th></th>\n",
              "      <th>open</th>\n",
              "      <th>high</th>\n",
              "      <th>low</th>\n",
              "      <th>close</th>\n",
              "      <th>volume</th>\n",
              "    </tr>\n",
              "    <tr>\n",
              "      <th>Date</th>\n",
              "      <th></th>\n",
              "      <th></th>\n",
              "      <th></th>\n",
              "      <th></th>\n",
              "      <th></th>\n",
              "    </tr>\n",
              "  </thead>\n",
              "  <tbody>\n",
              "    <tr>\n",
              "      <th>2018-01-02</th>\n",
              "      <td>6.49</td>\n",
              "      <td>6.83</td>\n",
              "      <td>6.46</td>\n",
              "      <td>6.81</td>\n",
              "      <td>3657426</td>\n",
              "    </tr>\n",
              "    <tr>\n",
              "      <th>2018-01-03</th>\n",
              "      <td>6.81</td>\n",
              "      <td>6.86</td>\n",
              "      <td>6.67</td>\n",
              "      <td>6.79</td>\n",
              "      <td>5056543</td>\n",
              "    </tr>\n",
              "    <tr>\n",
              "      <th>2018-01-04</th>\n",
              "      <td>6.79</td>\n",
              "      <td>6.83</td>\n",
              "      <td>6.74</td>\n",
              "      <td>6.81</td>\n",
              "      <td>6365641</td>\n",
              "    </tr>\n",
              "    <tr>\n",
              "      <th>2018-01-05</th>\n",
              "      <td>6.84</td>\n",
              "      <td>6.93</td>\n",
              "      <td>6.74</td>\n",
              "      <td>6.81</td>\n",
              "      <td>6453452</td>\n",
              "    </tr>\n",
              "    <tr>\n",
              "      <th>2018-01-08</th>\n",
              "      <td>6.81</td>\n",
              "      <td>7.04</td>\n",
              "      <td>6.81</td>\n",
              "      <td>7.04</td>\n",
              "      <td>3879771</td>\n",
              "    </tr>\n",
              "    <tr>\n",
              "      <th>...</th>\n",
              "      <td>...</td>\n",
              "      <td>...</td>\n",
              "      <td>...</td>\n",
              "      <td>...</td>\n",
              "      <td>...</td>\n",
              "    </tr>\n",
              "    <tr>\n",
              "      <th>2025-02-24</th>\n",
              "      <td>21.76</td>\n",
              "      <td>21.93</td>\n",
              "      <td>21.76</td>\n",
              "      <td>21.85</td>\n",
              "      <td>6403121</td>\n",
              "    </tr>\n",
              "    <tr>\n",
              "      <th>2025-02-25</th>\n",
              "      <td>21.85</td>\n",
              "      <td>21.93</td>\n",
              "      <td>21.72</td>\n",
              "      <td>21.72</td>\n",
              "      <td>6482543</td>\n",
              "    </tr>\n",
              "    <tr>\n",
              "      <th>2025-02-26</th>\n",
              "      <td>21.76</td>\n",
              "      <td>21.81</td>\n",
              "      <td>21.68</td>\n",
              "      <td>21.68</td>\n",
              "      <td>5061653</td>\n",
              "    </tr>\n",
              "    <tr>\n",
              "      <th>2025-02-27</th>\n",
              "      <td>21.72</td>\n",
              "      <td>21.81</td>\n",
              "      <td>21.60</td>\n",
              "      <td>21.81</td>\n",
              "      <td>5661613</td>\n",
              "    </tr>\n",
              "    <tr>\n",
              "      <th>2025-02-28</th>\n",
              "      <td>21.72</td>\n",
              "      <td>21.89</td>\n",
              "      <td>21.56</td>\n",
              "      <td>21.72</td>\n",
              "      <td>5475462</td>\n",
              "    </tr>\n",
              "  </tbody>\n",
              "</table>\n",
              "<p>1782 rows × 5 columns</p>\n",
              "</div>"
            ],
            "text/plain": [
              "             open   high    low  close   volume\n",
              "Date                                           \n",
              "2018-01-02   6.49   6.83   6.46   6.81  3657426\n",
              "2018-01-03   6.81   6.86   6.67   6.79  5056543\n",
              "2018-01-04   6.79   6.83   6.74   6.81  6365641\n",
              "2018-01-05   6.84   6.93   6.74   6.81  6453452\n",
              "2018-01-08   6.81   7.04   6.81   7.04  3879771\n",
              "...           ...    ...    ...    ...      ...\n",
              "2025-02-24  21.76  21.93  21.76  21.85  6403121\n",
              "2025-02-25  21.85  21.93  21.72  21.72  6482543\n",
              "2025-02-26  21.76  21.81  21.68  21.68  5061653\n",
              "2025-02-27  21.72  21.81  21.60  21.81  5661613\n",
              "2025-02-28  21.72  21.89  21.56  21.72  5475462\n",
              "\n",
              "[1782 rows x 5 columns]"
            ]
          },
          "execution_count": 45,
          "metadata": {},
          "output_type": "execute_result"
        }
      ],
      "source": [
        "daily_full[0][\"Date\"] = daily_full[0].index\n",
        "daily_full[0].set_index(\"Date\", inplace = True)\n",
        "daily_full[0]"
      ]
    },
    {
      "cell_type": "markdown",
      "metadata": {
        "id": "IN79-KmKnRvW"
      },
      "source": [
        "# 3. Feature Engineering"
      ]
    },
    {
      "cell_type": "code",
      "execution_count": 46,
      "metadata": {
        "id": "shhBFQnYN1q5"
      },
      "outputs": [],
      "source": [
        "num_feature = feature_engineering(daily_full[0])[1] - 2\n",
        "feature = pd.DataFrame(np.empty((0, num_feature + 2)))\n",
        "for x in range(0,30):\n",
        "  temp = feature_engineering(daily_full[x])[0]\n",
        "  feature.columns = temp.columns\n",
        "  feature = pd.concat([feature,temp], axis = 0)\n",
        "  # print(feature.shape)\n",
        "feature = feature.sort_index()\n"
      ]
    },
    {
      "cell_type": "code",
      "execution_count": 47,
      "metadata": {},
      "outputs": [
        {
          "data": {
            "text/plain": [
              "good_signal\n",
              "0.0    37579\n",
              "1.0     7281\n",
              "Name: count, dtype: int64"
            ]
          },
          "execution_count": 47,
          "metadata": {},
          "output_type": "execute_result"
        }
      ],
      "source": [
        "feature['good_signal'].value_counts()"
      ]
    },
    {
      "cell_type": "code",
      "execution_count": 48,
      "metadata": {
        "colab": {
          "base_uri": "https://localhost:8080/",
          "height": 444
        },
        "id": "gc3f6YcET4oQ",
        "outputId": "66e13c0a-6f4c-4e36-c69a-6508ea0858e3"
      },
      "outputs": [
        {
          "data": {
            "text/html": [
              "<div>\n",
              "<style scoped>\n",
              "    .dataframe tbody tr th:only-of-type {\n",
              "        vertical-align: middle;\n",
              "    }\n",
              "\n",
              "    .dataframe tbody tr th {\n",
              "        vertical-align: top;\n",
              "    }\n",
              "\n",
              "    .dataframe thead th {\n",
              "        text-align: right;\n",
              "    }\n",
              "</style>\n",
              "<table border=\"1\" class=\"dataframe\">\n",
              "  <thead>\n",
              "    <tr style=\"text-align: right;\">\n",
              "      <th></th>\n",
              "      <th>Symbol</th>\n",
              "      <th>RSI20</th>\n",
              "      <th>PSY20</th>\n",
              "      <th>RSI60</th>\n",
              "      <th>PSY60</th>\n",
              "      <th>RSI252</th>\n",
              "      <th>PSY252</th>\n",
              "      <th>MACD_5_20</th>\n",
              "      <th>MACD_20_60</th>\n",
              "      <th>VWAP</th>\n",
              "      <th>signal_momentum</th>\n",
              "      <th>good_signal</th>\n",
              "      <th>Close</th>\n",
              "    </tr>\n",
              "  </thead>\n",
              "  <tbody>\n",
              "    <tr>\n",
              "      <th>2019-01-04</th>\n",
              "      <td>ACB</td>\n",
              "      <td>0.261905</td>\n",
              "      <td>0.25</td>\n",
              "      <td>0.403909</td>\n",
              "      <td>0.333333</td>\n",
              "      <td>0.492348</td>\n",
              "      <td>0.456349</td>\n",
              "      <td>-0.143337</td>\n",
              "      <td>-0.156807</td>\n",
              "      <td>7.463786</td>\n",
              "      <td>-0.087209</td>\n",
              "      <td>0.0</td>\n",
              "      <td>6.28</td>\n",
              "    </tr>\n",
              "    <tr>\n",
              "      <th>2019-01-04</th>\n",
              "      <td>VJC</td>\n",
              "      <td>0.123959</td>\n",
              "      <td>0.30</td>\n",
              "      <td>0.319276</td>\n",
              "      <td>0.383333</td>\n",
              "      <td>0.495924</td>\n",
              "      <td>0.456349</td>\n",
              "      <td>-5.481703</td>\n",
              "      <td>-6.273283</td>\n",
              "      <td>145.110446</td>\n",
              "      <td>-0.124827</td>\n",
              "      <td>0.0</td>\n",
              "      <td>114.00</td>\n",
              "    </tr>\n",
              "    <tr>\n",
              "      <th>2019-01-04</th>\n",
              "      <td>VRE</td>\n",
              "      <td>0.225907</td>\n",
              "      <td>0.30</td>\n",
              "      <td>0.414148</td>\n",
              "      <td>0.433333</td>\n",
              "      <td>0.468317</td>\n",
              "      <td>0.432540</td>\n",
              "      <td>-1.584344</td>\n",
              "      <td>-0.887964</td>\n",
              "      <td>36.513193</td>\n",
              "      <td>-0.165312</td>\n",
              "      <td>0.0</td>\n",
              "      <td>26.71</td>\n",
              "    </tr>\n",
              "    <tr>\n",
              "      <th>2019-01-04</th>\n",
              "      <td>BID</td>\n",
              "      <td>0.389565</td>\n",
              "      <td>0.30</td>\n",
              "      <td>0.454268</td>\n",
              "      <td>0.383333</td>\n",
              "      <td>0.510975</td>\n",
              "      <td>0.484127</td>\n",
              "      <td>-0.292983</td>\n",
              "      <td>0.155836</td>\n",
              "      <td>17.735836</td>\n",
              "      <td>-0.067987</td>\n",
              "      <td>0.0</td>\n",
              "      <td>17.41</td>\n",
              "    </tr>\n",
              "    <tr>\n",
              "      <th>2019-01-04</th>\n",
              "      <td>SHB</td>\n",
              "      <td>0.229167</td>\n",
              "      <td>0.10</td>\n",
              "      <td>0.364055</td>\n",
              "      <td>0.216667</td>\n",
              "      <td>0.478261</td>\n",
              "      <td>0.365079</td>\n",
              "      <td>-0.075726</td>\n",
              "      <td>-0.112358</td>\n",
              "      <td>3.978772</td>\n",
              "      <td>-0.090592</td>\n",
              "      <td>0.0</td>\n",
              "      <td>2.61</td>\n",
              "    </tr>\n",
              "    <tr>\n",
              "      <th>...</th>\n",
              "      <td>...</td>\n",
              "      <td>...</td>\n",
              "      <td>...</td>\n",
              "      <td>...</td>\n",
              "      <td>...</td>\n",
              "      <td>...</td>\n",
              "      <td>...</td>\n",
              "      <td>...</td>\n",
              "      <td>...</td>\n",
              "      <td>...</td>\n",
              "      <td>...</td>\n",
              "      <td>...</td>\n",
              "      <td>...</td>\n",
              "    </tr>\n",
              "    <tr>\n",
              "      <th>2025-02-28</th>\n",
              "      <td>BVH</td>\n",
              "      <td>0.688312</td>\n",
              "      <td>0.45</td>\n",
              "      <td>0.637387</td>\n",
              "      <td>0.466667</td>\n",
              "      <td>0.561680</td>\n",
              "      <td>0.440476</td>\n",
              "      <td>1.894701</td>\n",
              "      <td>3.271105</td>\n",
              "      <td>50.101616</td>\n",
              "      <td>0.114173</td>\n",
              "      <td>0.0</td>\n",
              "      <td>56.60</td>\n",
              "    </tr>\n",
              "    <tr>\n",
              "      <th>2025-02-28</th>\n",
              "      <td>BID</td>\n",
              "      <td>0.595960</td>\n",
              "      <td>0.50</td>\n",
              "      <td>0.574335</td>\n",
              "      <td>0.516667</td>\n",
              "      <td>0.483083</td>\n",
              "      <td>0.428571</td>\n",
              "      <td>0.462302</td>\n",
              "      <td>0.735471</td>\n",
              "      <td>27.245200</td>\n",
              "      <td>0.023750</td>\n",
              "      <td>0.0</td>\n",
              "      <td>40.95</td>\n",
              "    </tr>\n",
              "    <tr>\n",
              "      <th>2025-02-28</th>\n",
              "      <td>VPB</td>\n",
              "      <td>0.579592</td>\n",
              "      <td>0.50</td>\n",
              "      <td>0.516949</td>\n",
              "      <td>0.416667</td>\n",
              "      <td>0.512124</td>\n",
              "      <td>0.436508</td>\n",
              "      <td>0.194517</td>\n",
              "      <td>0.069097</td>\n",
              "      <td>17.136746</td>\n",
              "      <td>0.021196</td>\n",
              "      <td>0.0</td>\n",
              "      <td>18.79</td>\n",
              "    </tr>\n",
              "    <tr>\n",
              "      <th>2025-02-28</th>\n",
              "      <td>VIB</td>\n",
              "      <td>0.523585</td>\n",
              "      <td>0.55</td>\n",
              "      <td>0.613520</td>\n",
              "      <td>0.516667</td>\n",
              "      <td>0.530721</td>\n",
              "      <td>0.396825</td>\n",
              "      <td>0.199288</td>\n",
              "      <td>0.553448</td>\n",
              "      <td>15.558699</td>\n",
              "      <td>0.005035</td>\n",
              "      <td>0.0</td>\n",
              "      <td>19.96</td>\n",
              "    </tr>\n",
              "    <tr>\n",
              "      <th>2025-02-28</th>\n",
              "      <td>VRE</td>\n",
              "      <td>0.619718</td>\n",
              "      <td>0.45</td>\n",
              "      <td>0.465116</td>\n",
              "      <td>0.316667</td>\n",
              "      <td>0.438129</td>\n",
              "      <td>0.373016</td>\n",
              "      <td>0.271823</td>\n",
              "      <td>-0.156772</td>\n",
              "      <td>27.646515</td>\n",
              "      <td>0.051360</td>\n",
              "      <td>0.0</td>\n",
              "      <td>17.40</td>\n",
              "    </tr>\n",
              "  </tbody>\n",
              "</table>\n",
              "<p>44860 rows × 13 columns</p>\n",
              "</div>"
            ],
            "text/plain": [
              "           Symbol     RSI20  PSY20     RSI60     PSY60    RSI252    PSY252  \\\n",
              "2019-01-04    ACB  0.261905   0.25  0.403909  0.333333  0.492348  0.456349   \n",
              "2019-01-04    VJC  0.123959   0.30  0.319276  0.383333  0.495924  0.456349   \n",
              "2019-01-04    VRE  0.225907   0.30  0.414148  0.433333  0.468317  0.432540   \n",
              "2019-01-04    BID  0.389565   0.30  0.454268  0.383333  0.510975  0.484127   \n",
              "2019-01-04    SHB  0.229167   0.10  0.364055  0.216667  0.478261  0.365079   \n",
              "...           ...       ...    ...       ...       ...       ...       ...   \n",
              "2025-02-28    BVH  0.688312   0.45  0.637387  0.466667  0.561680  0.440476   \n",
              "2025-02-28    BID  0.595960   0.50  0.574335  0.516667  0.483083  0.428571   \n",
              "2025-02-28    VPB  0.579592   0.50  0.516949  0.416667  0.512124  0.436508   \n",
              "2025-02-28    VIB  0.523585   0.55  0.613520  0.516667  0.530721  0.396825   \n",
              "2025-02-28    VRE  0.619718   0.45  0.465116  0.316667  0.438129  0.373016   \n",
              "\n",
              "            MACD_5_20  MACD_20_60        VWAP  signal_momentum  good_signal  \\\n",
              "2019-01-04  -0.143337   -0.156807    7.463786        -0.087209          0.0   \n",
              "2019-01-04  -5.481703   -6.273283  145.110446        -0.124827          0.0   \n",
              "2019-01-04  -1.584344   -0.887964   36.513193        -0.165312          0.0   \n",
              "2019-01-04  -0.292983    0.155836   17.735836        -0.067987          0.0   \n",
              "2019-01-04  -0.075726   -0.112358    3.978772        -0.090592          0.0   \n",
              "...               ...         ...         ...              ...          ...   \n",
              "2025-02-28   1.894701    3.271105   50.101616         0.114173          0.0   \n",
              "2025-02-28   0.462302    0.735471   27.245200         0.023750          0.0   \n",
              "2025-02-28   0.194517    0.069097   17.136746         0.021196          0.0   \n",
              "2025-02-28   0.199288    0.553448   15.558699         0.005035          0.0   \n",
              "2025-02-28   0.271823   -0.156772   27.646515         0.051360          0.0   \n",
              "\n",
              "             Close  \n",
              "2019-01-04    6.28  \n",
              "2019-01-04  114.00  \n",
              "2019-01-04   26.71  \n",
              "2019-01-04   17.41  \n",
              "2019-01-04    2.61  \n",
              "...            ...  \n",
              "2025-02-28   56.60  \n",
              "2025-02-28   40.95  \n",
              "2025-02-28   18.79  \n",
              "2025-02-28   19.96  \n",
              "2025-02-28   17.40  \n",
              "\n",
              "[44860 rows x 13 columns]"
            ]
          },
          "execution_count": 48,
          "metadata": {},
          "output_type": "execute_result"
        }
      ],
      "source": [
        "# feature = pd.get_dummies(feature, columns=['Symbol'], drop_first = True)\n",
        "# feature = feature.drop(['Symbol'],axis = 1)\n",
        "feature"
      ]
    },
    {
      "cell_type": "code",
      "execution_count": 49,
      "metadata": {},
      "outputs": [],
      "source": [
        "# feature.to_csv(\"feature.csv\")"
      ]
    },
    {
      "cell_type": "code",
      "execution_count": 50,
      "metadata": {
        "id": "5SMU-u5NGUCp"
      },
      "outputs": [],
      "source": [
        "# corr = feature.drop(columns = ['Symbol']).corr()\n",
        "# corr.style.background_gradient(cmap='coolwarm')"
      ]
    },
    {
      "cell_type": "code",
      "execution_count": 51,
      "metadata": {
        "colab": {
          "base_uri": "https://localhost:8080/",
          "height": 444
        },
        "id": "G9V8UIfZ2l-s",
        "outputId": "37ada364-b33f-4376-9f11-d6171a505460"
      },
      "outputs": [
        {
          "data": {
            "text/html": [
              "<div>\n",
              "<style scoped>\n",
              "    .dataframe tbody tr th:only-of-type {\n",
              "        vertical-align: middle;\n",
              "    }\n",
              "\n",
              "    .dataframe tbody tr th {\n",
              "        vertical-align: top;\n",
              "    }\n",
              "\n",
              "    .dataframe thead th {\n",
              "        text-align: right;\n",
              "    }\n",
              "</style>\n",
              "<table border=\"1\" class=\"dataframe\">\n",
              "  <thead>\n",
              "    <tr style=\"text-align: right;\">\n",
              "      <th></th>\n",
              "      <th>Symbol</th>\n",
              "      <th>RSI20</th>\n",
              "      <th>PSY20</th>\n",
              "      <th>RSI60</th>\n",
              "      <th>PSY60</th>\n",
              "      <th>RSI252</th>\n",
              "      <th>PSY252</th>\n",
              "      <th>MACD_5_20</th>\n",
              "      <th>MACD_20_60</th>\n",
              "      <th>VWAP</th>\n",
              "      <th>signal_momentum</th>\n",
              "      <th>good_signal</th>\n",
              "      <th>Close</th>\n",
              "    </tr>\n",
              "  </thead>\n",
              "  <tbody>\n",
              "    <tr>\n",
              "      <th>2019-01-04</th>\n",
              "      <td>ACB</td>\n",
              "      <td>0.261905</td>\n",
              "      <td>0.25</td>\n",
              "      <td>0.403909</td>\n",
              "      <td>0.333333</td>\n",
              "      <td>0.492348</td>\n",
              "      <td>0.456349</td>\n",
              "      <td>-0.143337</td>\n",
              "      <td>-0.156807</td>\n",
              "      <td>7.463786</td>\n",
              "      <td>-0.087209</td>\n",
              "      <td>0.0</td>\n",
              "      <td>6.28</td>\n",
              "    </tr>\n",
              "    <tr>\n",
              "      <th>2019-01-04</th>\n",
              "      <td>VJC</td>\n",
              "      <td>0.123959</td>\n",
              "      <td>0.30</td>\n",
              "      <td>0.319276</td>\n",
              "      <td>0.383333</td>\n",
              "      <td>0.495924</td>\n",
              "      <td>0.456349</td>\n",
              "      <td>-5.481703</td>\n",
              "      <td>-6.273283</td>\n",
              "      <td>145.110446</td>\n",
              "      <td>-0.124827</td>\n",
              "      <td>0.0</td>\n",
              "      <td>114.00</td>\n",
              "    </tr>\n",
              "    <tr>\n",
              "      <th>2019-01-04</th>\n",
              "      <td>VRE</td>\n",
              "      <td>0.225907</td>\n",
              "      <td>0.30</td>\n",
              "      <td>0.414148</td>\n",
              "      <td>0.433333</td>\n",
              "      <td>0.468317</td>\n",
              "      <td>0.432540</td>\n",
              "      <td>-1.584344</td>\n",
              "      <td>-0.887964</td>\n",
              "      <td>36.513193</td>\n",
              "      <td>-0.165312</td>\n",
              "      <td>0.0</td>\n",
              "      <td>26.71</td>\n",
              "    </tr>\n",
              "    <tr>\n",
              "      <th>2019-01-04</th>\n",
              "      <td>BID</td>\n",
              "      <td>0.389565</td>\n",
              "      <td>0.30</td>\n",
              "      <td>0.454268</td>\n",
              "      <td>0.383333</td>\n",
              "      <td>0.510975</td>\n",
              "      <td>0.484127</td>\n",
              "      <td>-0.292983</td>\n",
              "      <td>0.155836</td>\n",
              "      <td>17.735836</td>\n",
              "      <td>-0.067987</td>\n",
              "      <td>0.0</td>\n",
              "      <td>17.41</td>\n",
              "    </tr>\n",
              "    <tr>\n",
              "      <th>2019-01-04</th>\n",
              "      <td>SHB</td>\n",
              "      <td>0.229167</td>\n",
              "      <td>0.10</td>\n",
              "      <td>0.364055</td>\n",
              "      <td>0.216667</td>\n",
              "      <td>0.478261</td>\n",
              "      <td>0.365079</td>\n",
              "      <td>-0.075726</td>\n",
              "      <td>-0.112358</td>\n",
              "      <td>3.978772</td>\n",
              "      <td>-0.090592</td>\n",
              "      <td>0.0</td>\n",
              "      <td>2.61</td>\n",
              "    </tr>\n",
              "    <tr>\n",
              "      <th>...</th>\n",
              "      <td>...</td>\n",
              "      <td>...</td>\n",
              "      <td>...</td>\n",
              "      <td>...</td>\n",
              "      <td>...</td>\n",
              "      <td>...</td>\n",
              "      <td>...</td>\n",
              "      <td>...</td>\n",
              "      <td>...</td>\n",
              "      <td>...</td>\n",
              "      <td>...</td>\n",
              "      <td>...</td>\n",
              "      <td>...</td>\n",
              "    </tr>\n",
              "    <tr>\n",
              "      <th>2025-02-28</th>\n",
              "      <td>BVH</td>\n",
              "      <td>0.688312</td>\n",
              "      <td>0.45</td>\n",
              "      <td>0.637387</td>\n",
              "      <td>0.466667</td>\n",
              "      <td>0.561680</td>\n",
              "      <td>0.440476</td>\n",
              "      <td>1.894701</td>\n",
              "      <td>3.271105</td>\n",
              "      <td>50.101616</td>\n",
              "      <td>0.114173</td>\n",
              "      <td>0.0</td>\n",
              "      <td>56.60</td>\n",
              "    </tr>\n",
              "    <tr>\n",
              "      <th>2025-02-28</th>\n",
              "      <td>BID</td>\n",
              "      <td>0.595960</td>\n",
              "      <td>0.50</td>\n",
              "      <td>0.574335</td>\n",
              "      <td>0.516667</td>\n",
              "      <td>0.483083</td>\n",
              "      <td>0.428571</td>\n",
              "      <td>0.462302</td>\n",
              "      <td>0.735471</td>\n",
              "      <td>27.245200</td>\n",
              "      <td>0.023750</td>\n",
              "      <td>0.0</td>\n",
              "      <td>40.95</td>\n",
              "    </tr>\n",
              "    <tr>\n",
              "      <th>2025-02-28</th>\n",
              "      <td>VPB</td>\n",
              "      <td>0.579592</td>\n",
              "      <td>0.50</td>\n",
              "      <td>0.516949</td>\n",
              "      <td>0.416667</td>\n",
              "      <td>0.512124</td>\n",
              "      <td>0.436508</td>\n",
              "      <td>0.194517</td>\n",
              "      <td>0.069097</td>\n",
              "      <td>17.136746</td>\n",
              "      <td>0.021196</td>\n",
              "      <td>0.0</td>\n",
              "      <td>18.79</td>\n",
              "    </tr>\n",
              "    <tr>\n",
              "      <th>2025-02-28</th>\n",
              "      <td>VIB</td>\n",
              "      <td>0.523585</td>\n",
              "      <td>0.55</td>\n",
              "      <td>0.613520</td>\n",
              "      <td>0.516667</td>\n",
              "      <td>0.530721</td>\n",
              "      <td>0.396825</td>\n",
              "      <td>0.199288</td>\n",
              "      <td>0.553448</td>\n",
              "      <td>15.558699</td>\n",
              "      <td>0.005035</td>\n",
              "      <td>0.0</td>\n",
              "      <td>19.96</td>\n",
              "    </tr>\n",
              "    <tr>\n",
              "      <th>2025-02-28</th>\n",
              "      <td>VRE</td>\n",
              "      <td>0.619718</td>\n",
              "      <td>0.45</td>\n",
              "      <td>0.465116</td>\n",
              "      <td>0.316667</td>\n",
              "      <td>0.438129</td>\n",
              "      <td>0.373016</td>\n",
              "      <td>0.271823</td>\n",
              "      <td>-0.156772</td>\n",
              "      <td>27.646515</td>\n",
              "      <td>0.051360</td>\n",
              "      <td>0.0</td>\n",
              "      <td>17.40</td>\n",
              "    </tr>\n",
              "  </tbody>\n",
              "</table>\n",
              "<p>44860 rows × 13 columns</p>\n",
              "</div>"
            ],
            "text/plain": [
              "           Symbol     RSI20  PSY20     RSI60     PSY60    RSI252    PSY252  \\\n",
              "2019-01-04    ACB  0.261905   0.25  0.403909  0.333333  0.492348  0.456349   \n",
              "2019-01-04    VJC  0.123959   0.30  0.319276  0.383333  0.495924  0.456349   \n",
              "2019-01-04    VRE  0.225907   0.30  0.414148  0.433333  0.468317  0.432540   \n",
              "2019-01-04    BID  0.389565   0.30  0.454268  0.383333  0.510975  0.484127   \n",
              "2019-01-04    SHB  0.229167   0.10  0.364055  0.216667  0.478261  0.365079   \n",
              "...           ...       ...    ...       ...       ...       ...       ...   \n",
              "2025-02-28    BVH  0.688312   0.45  0.637387  0.466667  0.561680  0.440476   \n",
              "2025-02-28    BID  0.595960   0.50  0.574335  0.516667  0.483083  0.428571   \n",
              "2025-02-28    VPB  0.579592   0.50  0.516949  0.416667  0.512124  0.436508   \n",
              "2025-02-28    VIB  0.523585   0.55  0.613520  0.516667  0.530721  0.396825   \n",
              "2025-02-28    VRE  0.619718   0.45  0.465116  0.316667  0.438129  0.373016   \n",
              "\n",
              "            MACD_5_20  MACD_20_60        VWAP  signal_momentum  good_signal  \\\n",
              "2019-01-04  -0.143337   -0.156807    7.463786        -0.087209          0.0   \n",
              "2019-01-04  -5.481703   -6.273283  145.110446        -0.124827          0.0   \n",
              "2019-01-04  -1.584344   -0.887964   36.513193        -0.165312          0.0   \n",
              "2019-01-04  -0.292983    0.155836   17.735836        -0.067987          0.0   \n",
              "2019-01-04  -0.075726   -0.112358    3.978772        -0.090592          0.0   \n",
              "...               ...         ...         ...              ...          ...   \n",
              "2025-02-28   1.894701    3.271105   50.101616         0.114173          0.0   \n",
              "2025-02-28   0.462302    0.735471   27.245200         0.023750          0.0   \n",
              "2025-02-28   0.194517    0.069097   17.136746         0.021196          0.0   \n",
              "2025-02-28   0.199288    0.553448   15.558699         0.005035          0.0   \n",
              "2025-02-28   0.271823   -0.156772   27.646515         0.051360          0.0   \n",
              "\n",
              "             Close  \n",
              "2019-01-04    6.28  \n",
              "2019-01-04  114.00  \n",
              "2019-01-04   26.71  \n",
              "2019-01-04   17.41  \n",
              "2019-01-04    2.61  \n",
              "...            ...  \n",
              "2025-02-28   56.60  \n",
              "2025-02-28   40.95  \n",
              "2025-02-28   18.79  \n",
              "2025-02-28   19.96  \n",
              "2025-02-28   17.40  \n",
              "\n",
              "[44860 rows x 13 columns]"
            ]
          },
          "execution_count": 51,
          "metadata": {},
          "output_type": "execute_result"
        }
      ],
      "source": [
        "feature"
      ]
    },
    {
      "cell_type": "code",
      "execution_count": 52,
      "metadata": {
        "id": "qTADypOZncfC"
      },
      "outputs": [],
      "source": [
        "def Volatility_scale(train_data, ignore_na=False, adjust = True, com = 60, min_periods=0):\n",
        "\n",
        "    scaled_data = pd.DataFrame(columns=train_data.columns, dtype=float)\n",
        "    scaled_data.drop(columns = ['Symbol'], inplace = True)\n",
        "\n",
        "    for company, group in train_data.groupby('Symbol'):  # Process each company separately\n",
        "      non_scaled_data = group[['signal_momentum',]]\n",
        "\n",
        "      # volume_data = group[['MA_volume20','MA_volume60','MA_volume252']]\n",
        "      volume_data = group[['Volume']]\n",
        "\n",
        "      temp = group\n",
        "      temp.drop(columns = ['signal_momentum','Symbol','Volume'], inplace = True)\n",
        "      # Tính daily volatility (vol)\n",
        "      temp = temp.ewm(ignore_na=ignore_na,\n",
        "                            adjust=adjust,\n",
        "                            com=com,\n",
        "                            min_periods=min_periods).std(bias = False)\n",
        "\n",
        "      temp  /= np.sqrt(252)  # scale lại theo 252 ngày active trading\n",
        "\n",
        "      volume_data = (volume_data - volume_data.rolling(window=60,min_periods = 1).mean()) / volume_data.rolling(window=60, min_periods = 1).std()\n",
        "\n",
        "      temp = pd.concat([temp, non_scaled_data], axis=1)\n",
        "      temp = pd.concat([temp, volume_data], axis=1)\n",
        "\n",
        "      scaled_data = pd.concat([scaled_data,temp], axis = 0)\n",
        "\n",
        "    return scaled_data\n",
        "\n",
        "scaler = FunctionTransformer(Volatility_scale)"
      ]
    },
    {
      "cell_type": "code",
      "execution_count": 53,
      "metadata": {
        "id": "DGgo0YsunbmT"
      },
      "outputs": [],
      "source": [
        "# def Volatility_scale(train_data, ignore_na=False, adjust = True, com = 60, min_periods=0):\n",
        "\n",
        "#     scaled_data = pd.DataFrame(columns=train_data.columns, dtype=float)\n",
        "#     scaled_data.drop(columns = ['Symbol'], inplace = True)\n",
        "\n",
        "#     for company, group in train_data.groupby('Symbol'):  # Process each company separately\n",
        "#     #   non_scaled_data = group[['signal_momentum','RSI20','RSI60','RSI252','PSY20','PSY60','PSY252']]\n",
        "\n",
        "#     #   # volume_data = group[['MA_volume20','MA_volume60','MA_volume252']]\n",
        "#     #   volume_data = group[['Volume']]\n",
        "\n",
        "#       temp = group\n",
        "#       temp.drop(columns = ['Symbol'], inplace = True)\n",
        "#     #   # Tính daily volatility (vol)\n",
        "#     #   temp = temp.ewm(ignore_na=ignore_na,\n",
        "#     #                         adjust=adjust,\n",
        "#     #                         com=com,\n",
        "#     #                         min_periods=min_periods).std(bias = False)\n",
        "\n",
        "#     #   temp  /= np.sqrt(252)  # scale lại theo 252 ngày active trading\n",
        "\n",
        "#     #   volume_data = (volume_data - volume_data.rolling(window=60,min_periods = 1).mean()) / volume_data.rolling(window=60, min_periods = 1).std()\n",
        "\n",
        "#     #   temp = pd.concat([temp, non_scaled_data], axis=1)\n",
        "#     #   temp = pd.concat([temp, volume_data], axis=1)\n",
        "\n",
        "#       scaled_data = pd.concat([scaled_data,temp], axis = 0)\n",
        "\n",
        "#     return scaled_data\n",
        "\n",
        "# scaler = FunctionTransformer(Volatility_scale)"
      ]
    },
    {
      "cell_type": "code",
      "execution_count": 54,
      "metadata": {
        "id": "5UnYsv08BAhz"
      },
      "outputs": [],
      "source": [
        "# corr = Volatility_scale(feature).corr()\n",
        "# corr.style.background_gradient(cmap='coolwarm')"
      ]
    },
    {
      "cell_type": "code",
      "execution_count": 55,
      "metadata": {
        "id": "_oDrvAqqdQg9"
      },
      "outputs": [],
      "source": [
        "# class TimeSeriesScalerDF(BaseEstimator, TransformerMixin):\n",
        "#     def __init__(self):\n",
        "#         self.previous_max = {}  # Store max per column\n",
        "\n",
        "#     def fit(self, X, y=None):\n",
        "#         return self\n",
        "\n",
        "#     def transform(self, X):\n",
        "#         X = X.copy()\n",
        "#         transformed_df = pd.DataFrame(index=X.index, columns=X.columns)\n",
        "\n",
        "#         for col in X.columns:\n",
        "#             col_values = X[col].values.astype(float)\n",
        "#             running_max = self.previous_max.get(col, col_values[0])  # Keep previous max\n",
        "\n",
        "#             transformed_col = np.zeros_like(col_values)\n",
        "#             for i in range(len(col_values)):\n",
        "#                 if i == 0 and col not in self.previous_max:\n",
        "#                     transformed_col[i] = col_values[i]  # Keep first value\n",
        "#                 else:\n",
        "#                     running_max = max(running_max, col_values[i - 1])\n",
        "#                     transformed_col[i] = (col_values[i] - running_max) / running_max if running_max != 0 else 0\n",
        "\n",
        "#             transformed_df[col] = transformed_col\n",
        "#             self.previous_max[col] = running_max  # Save max for next batch\n",
        "\n",
        "#         return transformed_df\n"
      ]
    },
    {
      "cell_type": "code",
      "execution_count": 56,
      "metadata": {
        "id": "uwSuwzQ8OoHw"
      },
      "outputs": [],
      "source": [
        "# for x ,y in trainX.groupby('Symbol'):\n",
        "#     print(f\"Processing {x}\")\n",
        "#     print(y)"
      ]
    },
    {
      "cell_type": "code",
      "execution_count": 57,
      "metadata": {
        "id": "Ans8qDnGK3Hh"
      },
      "outputs": [],
      "source": [
        "class TimeSeriesScalerDF(BaseEstimator, TransformerMixin):\n",
        "    def __init__(self, list_choice):\n",
        "        stock = Vnstock().stock(symbol='ACB', source='VCI')\n",
        "        self.company_column = stock.listing.symbols_by_group(list_choice) # Column name identifying companies\n",
        "        self.previous_min = {}  # Store cumulative min per (company, column)\n",
        "        self.previous_max = {}  # Store cumulative max per (company, column)\n",
        "\n",
        "    def fit(self, X, y=None):\n",
        "        return self\n",
        "\n",
        "    def transform(self, X):\n",
        "        X = X.copy()\n",
        "        transformed_df = pd.DataFrame(columns=X.columns, dtype=float)\n",
        "        transformed_df.drop(columns = ['Symbol'], inplace = True)\n",
        "        print(X.groupby(self.company_column))\n",
        "        for company, group in X.groupby('Symbol'):  # Process each company separately\n",
        "            temp = pd.DataFrame(index= group.index, columns=X.columns, dtype=float)\n",
        "            temp.drop(columns = ['Symbol'], inplace = True)\n",
        "            # print(f\"Processing {company}\")\n",
        "            # print(group)\n",
        "            for col in group.columns:\n",
        "                if col == 'Symbol':\n",
        "                    continue  # Skip the company column\n",
        "\n",
        "                col_values = group[col].astype(float)\n",
        "                # print(col_values)\n",
        "\n",
        "                # Retrieve previous min/max for this (company, column) pair\n",
        "                key = (company, col)\n",
        "                running_min = self.previous_min.get(key, col_values.iloc[0])\n",
        "                running_max = self.previous_max.get(key, col_values.iloc[0])\n",
        "\n",
        "                # Compute cumulative min and max\n",
        "                cumin_t = np.minimum.accumulate(np.insert(col_values.values, 0, running_min))[1:]\n",
        "                cumax_t = np.maximum.accumulate(np.insert(col_values.values, 0, running_max))[1:]\n",
        "\n",
        "                # print([cumin_t,cumax_t])\n",
        "\n",
        "                # Apply scaling formula\n",
        "                transformed_col = (col_values - cumin_t) / (cumax_t - cumin_t)\n",
        "                transformed_col = np.nan_to_num(transformed_col, nan=0.0)  # Handle division by zero\n",
        "\n",
        "                temp[col] = transformed_col\n",
        "\n",
        "                # Store the last min and max for future use\n",
        "                self.previous_min[key] = cumin_t[-1]\n",
        "                self.previous_max[key] = cumax_t[-1]\n",
        "\n",
        "            transformed_df = pd.concat([transformed_df,temp], axis = 0)\n",
        "            transformed_df = transformed_df.sort_index()\n",
        "\n",
        "        return transformed_df\n"
      ]
    },
    {
      "cell_type": "code",
      "execution_count": 58,
      "metadata": {
        "id": "U-EUBaqkGbnG"
      },
      "outputs": [],
      "source": [
        "def prepare_X_y(df):\n",
        "    ''' Hàm chia X,y từ dữ liệu\n",
        "          INPUT: df(dataframe): dữ liệu đã được tạo feature\n",
        "          OUTPUT: X,y(dataframe): X là các biến độc lập, y là biến phụ thuộc sử dụng trong các mô hình\n",
        "    '''\n",
        "    columns = df.columns.tolist()\n",
        "    remove_list = ['Symbol', 'Close', 'good_signal']\n",
        "    columns = list(set(columns) - set(remove_list))\n",
        "    X = df[columns]\n",
        "    info = df[['Symbol', 'Close']]\n",
        "    y = df['good_signal']\n",
        "\n",
        "    return X, y , info\n",
        "\n",
        "def split_train_test(X, y, info, train_size=0.8):\n",
        "    ''' Hàm chia tập train, test cho dữ liệu:\n",
        "          INPUT:\n",
        "            X,y(dataframe): X là các biến độc lập, y là biến phụ thuộc sử dụng trong các mô hình\n",
        "            train_size: tỉ lệ chia train/test; mặc định là 0.8\n",
        "          OUTPUT: trainX, testX ,trainY, testY(dataframe): các tập train/test đã được chia ra\n",
        "    '''\n",
        "    # Chia tập train/test\n",
        "    # trainX, testX ,trainY, testY = train_test_split(X, y, train_size=train_size, shuffle=False)\n",
        "\n",
        "    split_idx = int(len(X) * train_size)  # Compute the split index\n",
        "\n",
        "    trainX, testX = X.loc[X.index <= dateutil.parser.parse(str(X.iloc[[split_idx]].index[0]))], X.loc[X.index > dateutil.parser.parse(str(X.iloc[[split_idx]].index[0]))]  # Non-overlapping split\n",
        "    trainY, testY = y.loc[y.index <= dateutil.parser.parse(str(y.iloc[[split_idx]].index[0]))], y.loc[y.index > dateutil.parser.parse(str(y.iloc[[split_idx]].index[0]))]\n",
        "    infoX, infoY = info.loc[info.index <= dateutil.parser.parse(str(info.iloc[[split_idx]].index[0]))], info.loc[info.index > dateutil.parser.parse(str(info.iloc[[split_idx]].index[0]))]\n",
        "\n",
        "    # In ra những thông tin chi tiết về kích cỡ tập train/test; và khoảng thời gian xử lí\n",
        "    print('TrainX:' + str(trainX.shape) + f\". Dữ liệu từ ngày {trainX.index.min().date()} đến {trainX.index.max().date()}\")\n",
        "    print('TrainY:' + str(trainY.shape) + f\". Dữ liệu từ ngày {trainY.index.min().date()} đến {trainY.index.max().date()}\")\n",
        "    print('TestX:' + str(testX.shape) + f\". Dữ liệu từ ngày {testX.index.min().date()} đến {testX.index.max().date()}\")\n",
        "    print('TestY:' + str(testY.shape) + f\". Dữ liệu từ ngày {testY.index.min().date()} đến {testY.index.max().date()}\")\n",
        "\n",
        "    return trainX, testX ,trainY, testY , infoX, infoY"
      ]
    },
    {
      "cell_type": "code",
      "execution_count": 59,
      "metadata": {
        "id": "j6AVNZUNoAgG"
      },
      "outputs": [],
      "source": [
        "# def manual_time_series_split(data, n_splits = 5):\n",
        "#     \"\"\"Manually splits time series data into train-test sets.\"\"\"\n",
        "#     n_samples = len(data)\n",
        "#     split_size = (n_samples - n_splits) // (n_splits + 1)  # Size of each test set\n",
        "\n",
        "#     splits = []\n",
        "#     for i in range(n_splits):\n",
        "#         train_end = split_size * (i + 1) + i  # Expanding train set\n",
        "#         test_start = train_end\n",
        "#         test_end = test_start + split_size\n",
        "\n",
        "#         train_indices = np.argwhere(data.index <= dateutil.parser.parse(str(data.iloc[[train_end]].index[0]))).flatten().tolist()\n",
        "#         test_indices = np.argwhere((data.index <= dateutil.parser.parse(str(data.iloc[[test_end]].index[0]))) & (data.index > dateutil.parser.parse(str(data.iloc[[test_start]].index[0])))).flatten().tolist()\n",
        "\n",
        "#         splits.append((train_indices, test_indices))\n",
        "\n",
        "#     return splits"
      ]
    },
    {
      "cell_type": "code",
      "execution_count": 60,
      "metadata": {
        "id": "QuuAru5hbZO3"
      },
      "outputs": [],
      "source": [
        "# # Scale data before applying PCA\n",
        "# # Scaled_data = Volatility_scale(trainX)[1:]\n",
        "# Scaled_data = Volatility_scale(trainX)\n",
        "\n",
        "# # Use fit and transform method\n",
        "\n",
        "# # Set the n_components=3\n",
        "# principal=PCA(n_components=2)\n",
        "# principal.fit(Scaled_data)\n",
        "# x=principal.transform(Scaled_data)\n",
        "\n",
        "# # Check the dimensions of data after PCA\n",
        "# print(x.shape)\n",
        "\n",
        "# plt.figure(figsize=(10,10))\n",
        "# plt.scatter(x[:,0],x[:,1],c=trainY,cmap='plasma')\n",
        "# plt.xlabel('pc1')\n",
        "# plt.ylabel('pc2')\n",
        "# plt.show()\n",
        "\n"
      ]
    },
    {
      "cell_type": "code",
      "execution_count": 61,
      "metadata": {
        "colab": {
          "base_uri": "https://localhost:8080/"
        },
        "collapsed": true,
        "id": "R-V-XgEZGhiV",
        "outputId": "3916e704-3c90-4e73-d138-5ba3be77888f"
      },
      "outputs": [
        {
          "name": "stdout",
          "output_type": "stream",
          "text": [
            "TrainX:(35890, 10). Dữ liệu từ ngày 2019-01-04 đến 2023-12-13\n",
            "TrainY:(35890,). Dữ liệu từ ngày 2019-01-04 đến 2023-12-13\n",
            "TestX:(8970, 10). Dữ liệu từ ngày 2023-12-14 đến 2025-02-28\n",
            "TestY:(8970,). Dữ liệu từ ngày 2023-12-14 đến 2025-02-28\n",
            "              RSI252  MACD_5_20     PSY60     RSI60     RSI20        VWAP  \\\n",
            "2019-01-04  0.492348  -0.143337  0.333333  0.403909  0.261905    7.463786   \n",
            "2019-01-04  0.495924  -5.481703  0.383333  0.319276  0.123959  145.110446   \n",
            "2019-01-04  0.468317  -1.584344  0.433333  0.414148  0.225907   36.513193   \n",
            "2019-01-04  0.510975  -0.292983  0.383333  0.454268  0.389565   17.735836   \n",
            "2019-01-04  0.478261  -0.075726  0.216667  0.364055  0.229167    3.978772   \n",
            "...              ...        ...       ...       ...       ...         ...   \n",
            "2023-12-13  0.510857   0.256678  0.416667  0.445388  0.456522   23.608515   \n",
            "2023-12-13  0.530260   0.044225  0.433333  0.493491  0.353712   11.993403   \n",
            "2023-12-13  0.472456   0.030914  0.466667  0.408273  0.414062   30.716581   \n",
            "2023-12-13  0.548689   0.260425  0.500000  0.455635  0.502088   19.007687   \n",
            "2023-12-13  0.523398   0.073692  0.500000  0.438710  0.399142   13.501869   \n",
            "\n",
            "            signal_momentum  PSY20  MACD_20_60    PSY252  \n",
            "2019-01-04        -0.087209   0.25   -0.156807  0.456349  \n",
            "2019-01-04        -0.124827   0.30   -6.273283  0.456349  \n",
            "2019-01-04        -0.165312   0.30   -0.887964  0.432540  \n",
            "2019-01-04        -0.067987   0.30    0.155836  0.484127  \n",
            "2019-01-04        -0.090592   0.10   -0.112358  0.365079  \n",
            "...                     ...    ...         ...       ...  \n",
            "2023-12-13        -0.010359   0.40    0.010440  0.492063  \n",
            "2023-12-13        -0.041054   0.45    0.032505  0.440476  \n",
            "2023-12-13        -0.045643   0.45   -1.340966  0.444444  \n",
            "2023-12-13         0.001604   0.55    0.550342  0.507937  \n",
            "2023-12-13        -0.030820   0.45   -0.054713  0.480159  \n",
            "\n",
            "[35890 rows x 10 columns]\n",
            "2019-01-04    0.0\n",
            "2019-01-04    0.0\n",
            "2019-01-04    0.0\n",
            "2019-01-04    0.0\n",
            "2019-01-04    0.0\n",
            "             ... \n",
            "2023-12-13    0.0\n",
            "2023-12-13    0.0\n",
            "2023-12-13    0.0\n",
            "2023-12-13    0.0\n",
            "2023-12-13    0.0\n",
            "Name: good_signal, Length: 35890, dtype: float64\n"
          ]
        }
      ],
      "source": [
        "X, y,info = prepare_X_y(feature)\n",
        "\n",
        "trainX, testX ,trainY, testY, infoX,infoY = split_train_test(X, y,info)\n",
        "print(trainX)\n",
        "print(trainY)"
      ]
    },
    {
      "cell_type": "code",
      "execution_count": 62,
      "metadata": {
        "collapsed": true,
        "id": "jYMo-RCdc10Q"
      },
      "outputs": [],
      "source": [
        "# # Scale data before applying PCA\n",
        "# Scaled_data = TimeSeriesScalerDF().transform(trainX)\n",
        "# # Scaled_data = trainX\n",
        "\n",
        "# # Use fit and transform method\n",
        "\n",
        "# # Set the n_components=2\n",
        "\n",
        "# principal=PCA(n_components=2)\n",
        "# principal.fit(Scaled_data)\n",
        "# x=principal.transform(Scaled_data)\n",
        "\n",
        "# plt.figure(figsize=(10,10))\n",
        "# plt.scatter(x[:,0],x[:,1],c=trainY,cmap='plasma')\n",
        "# plt.xlabel('pc1')\n",
        "# plt.ylabel('pc2')\n",
        "# plt.show()\n"
      ]
    },
    {
      "cell_type": "code",
      "execution_count": 63,
      "metadata": {
        "id": "zQV2fHAKPOsq"
      },
      "outputs": [],
      "source": [
        "# trainX = pd.DataFrame(np.empty((0,36)))\n",
        "# testX = pd.DataFrame(np.empty((0,36)))\n",
        "# trainY = pd.Series()\n",
        "# testY = pd.Series()\n",
        "# for x in range(0,30):\n",
        "#   temp = feature_engineering(daily_full[x])\n",
        "\n",
        "#   X, y = prepare_X_y(temp)\n",
        "\n",
        "#   trainX_temp, testX_temp ,trainY_temp, testY_temp = split_train_test(X, y)\n",
        "#   trainX.columns = trainX_temp.columns\n",
        "#   trainX = pd.concat([trainX,trainX_temp], axis = 0)\n",
        "#   testX.columns = testX_temp.columns\n",
        "#   testX = pd.concat([testX,testX_temp], axis = 0)\n",
        "#   trainY = pd.concat([trainY,trainY_temp], axis = 0)\n",
        "#   testY = pd.concat([testY,testY_temp], axis = 0)\n",
        "\n",
        "#   print([trainX.shape,trainY.shape,testX.shape, testY.shape])"
      ]
    },
    {
      "cell_type": "markdown",
      "metadata": {
        "id": "MYmNYqKUnVTr"
      },
      "source": [
        "# 4. Model"
      ]
    },
    {
      "cell_type": "markdown",
      "metadata": {
        "id": "w9z2oEF4n7c3"
      },
      "source": [
        "## Random forest"
      ]
    },
    {
      "cell_type": "code",
      "execution_count": 64,
      "metadata": {
        "id": "DwMaIf5nLO2T"
      },
      "outputs": [],
      "source": [
        "# # Generate a sample time series dataset\n",
        "# X, y = make_regression(n_samples=100, n_features=5, noise=0.1, random_state=42)\n",
        "\n",
        "# # Manually define test fold indices for a time series split (5 folds)\n",
        "# n_samples = len(y)\n",
        "# n_splits = 5\n",
        "# test_size = n_samples // (n_splits + 1)  # Ensure growing training set\n",
        "# test_fold = np.full(n_samples, -1)  # Initialize all as training (-1)\n",
        "\n",
        "# for i in range(n_splits):\n",
        "#     start_test = (i + 1) * test_size\n",
        "#     end_test = start_test + test_size\n",
        "#     test_fold[start_test:end_test] = i  # Assign fold number\n",
        "\n",
        "# # Create PredefinedSplit\n",
        "# ps = PredefinedSplit(test_fold)\n",
        "\n",
        "\n",
        "# split_idx = int(len(X) * train_size)  # Compute the split index\n",
        "\n",
        "# trainX, testX = X.loc[X.index <= dateutil.parser.parse(str(X.iloc[[split_idx]].index[0]))], X.loc[X.index > dateutil.parser.parse(str(X.iloc[[split_idx]].index[0]))]  # Non-overlapping split\n",
        "# trainY, testY = y.loc[y.index <= dateutil.parser.parse(str(y.iloc[[split_idx]].index[0]))], y.loc[y.index > dateutil.parser.parse(str(y.iloc[[split_idx]].index[0]))]\n"
      ]
    },
    {
      "cell_type": "code",
      "execution_count": 65,
      "metadata": {
        "colab": {
          "base_uri": "https://localhost:8080/"
        },
        "id": "O10gP2a4oDQ4",
        "outputId": "af13ad98-c212-43f9-adbf-0d06ec86c8a0"
      },
      "outputs": [],
      "source": [
        "test_model = train_random_forest(trainX,trainY)\n",
        "\n",
        "# test_model = train_random_forest_optuna(trainX,trainY)"
      ]
    },
    {
      "cell_type": "code",
      "execution_count": 66,
      "metadata": {
        "colab": {
          "base_uri": "https://localhost:8080/"
        },
        "id": "DrOUePWpwz_e",
        "outputId": "77ba144f-74ed-4c0f-b6eb-d6539ed84ff5"
      },
      "outputs": [
        {
          "name": "stdout",
          "output_type": "stream",
          "text": [
            "              precision    recall  f1-score   support\n",
            "\n",
            "         0.0       1.00      1.00      1.00     29458\n",
            "         1.0       1.00      1.00      1.00      6432\n",
            "\n",
            "    accuracy                           1.00     35890\n",
            "   macro avg       1.00      1.00      1.00     35890\n",
            "weighted avg       1.00      1.00      1.00     35890\n",
            "\n"
          ]
        }
      ],
      "source": [
        "prediction = test_model.predict(trainX)\n",
        "print(classification_report(trainY, prediction))"
      ]
    },
    {
      "cell_type": "code",
      "execution_count": 67,
      "metadata": {
        "colab": {
          "base_uri": "https://localhost:8080/"
        },
        "id": "aq3Obm0cPq32",
        "outputId": "6dafc082-c77b-48de-961e-fec9611a1c73"
      },
      "outputs": [
        {
          "name": "stdout",
          "output_type": "stream",
          "text": [
            "              precision    recall  f1-score   support\n",
            "\n",
            "         0.0       0.93      0.97      0.95      8121\n",
            "         1.0       0.52      0.29      0.37       849\n",
            "\n",
            "    accuracy                           0.91      8970\n",
            "   macro avg       0.73      0.63      0.66      8970\n",
            "weighted avg       0.89      0.91      0.90      8970\n",
            "\n"
          ]
        }
      ],
      "source": [
        "prediction = test_model.predict(testX)\n",
        "print(classification_report(testY, prediction))"
      ]
    },
    {
      "cell_type": "code",
      "execution_count": 68,
      "metadata": {
        "id": "E1FGINydHeRw"
      },
      "outputs": [],
      "source": [
        "# prediction = test_model.predict(trainX)\n",
        "# prediction *= np.sign(trainX[\"signal_momentum\"])\n",
        "# print(classification_report(np.sign(trainX[\"signal_momentum\"]) * trainY, prediction))"
      ]
    },
    {
      "cell_type": "code",
      "execution_count": 69,
      "metadata": {
        "id": "lZvSKrVCHf7J"
      },
      "outputs": [],
      "source": [
        "# prediction = test_model.predict(testX)\n",
        "# prediction *= np.sign(testX[\"signal_momentum\"])\n",
        "# print(classification_report(np.sign(testX[\"signal_momentum\"]) * testY, prediction))"
      ]
    },
    {
      "cell_type": "code",
      "execution_count": 70,
      "metadata": {
        "colab": {
          "base_uri": "https://localhost:8080/",
          "height": 474
        },
        "id": "TGTpvtX9P8uw",
        "outputId": "7652cb37-4ae6-4f19-ea43-f6836fbf9061"
      },
      "outputs": [
        {
          "data": {
            "image/png": "[encoded data removed]",
            "text/plain": [
              "<Figure size 640x480 with 1 Axes>"
            ]
          },
          "metadata": {},
          "output_type": "display_data"
        }
      ],
      "source": [
        "importances = test_model['classifier'].feature_importances_\n",
        "\n",
        "# feature_names = trainX.drop(columns = ['Symbol']).columns\n",
        "\n",
        "feature_names = trainX.columns\n",
        "\n",
        "\n",
        "forest_importances = pd.Series(importances, index=feature_names)\n",
        "\n",
        "std = np.std([tree.feature_importances_ for tree in test_model['classifier'].estimators_], axis=0)\n",
        "\n",
        "fig, ax = plt.subplots()\n",
        "forest_importances.plot.bar(yerr=std, ax=ax)\n",
        "ax.set_title(\"Feature importances using MDI\")\n",
        "ax.set_ylabel(\"Mean decrease in impurity\")\n",
        "fig.tight_layout()\n",
        "plt.show()"
      ]
    },
    {
      "cell_type": "code",
      "execution_count": 35,
      "metadata": {
        "id": "Zyiyu7JGZNBx"
      },
      "outputs": [],
      "source": [
        "# import pickle\n",
        "\n",
        "# # save the iris classification model as a pickle file\n",
        "#   model_pkl_file = \"random_forest_model_0.5892.pkl\"\n",
        "\n",
        "# with open(model_pkl_file, 'wb') as file:\n",
        "#     pickle.dump(test_model, file)"
      ]
    },
    {
      "cell_type": "markdown",
      "metadata": {},
      "source": [
        "# Sharpe Loss"
      ]
    },
    {
      "cell_type": "code",
      "execution_count": 48,
      "metadata": {},
      "outputs": [
        {
          "name": "stdout",
          "output_type": "stream",
          "text": [
            "Trial 100 Complete [00h 00m 42s]\n",
            "loss: 0.39554449915885925\n",
            "\n",
            "Best loss So Far: 0.39507928490638733\n",
            "Total elapsed time: 00h 31m 15s\n",
            "Epoch 1/100\n",
            "\u001b[1m71/71\u001b[0m \u001b[32m━━━━━━━━━━━━━━━━━━━━\u001b[0m\u001b[37m\u001b[0m \u001b[1m1s\u001b[0m 3ms/step - loss: 1.7531 \n",
            "Epoch 2/100\n",
            "\u001b[1m71/71\u001b[0m \u001b[32m━━━━━━━━━━━━━━━━━━━━\u001b[0m\u001b[37m\u001b[0m \u001b[1m0s\u001b[0m 2ms/step - loss: 0.4547\n",
            "Epoch 3/100\n",
            "\u001b[1m71/71\u001b[0m \u001b[32m━━━━━━━━━━━━━━━━━━━━\u001b[0m\u001b[37m\u001b[0m \u001b[1m0s\u001b[0m 2ms/step - loss: 0.4267\n",
            "Epoch 4/100\n",
            "\u001b[1m71/71\u001b[0m \u001b[32m━━━━━━━━━━━━━━━━━━━━\u001b[0m\u001b[37m\u001b[0m \u001b[1m0s\u001b[0m 2ms/step - loss: 0.4173\n",
            "Epoch 5/100\n",
            "\u001b[1m71/71\u001b[0m \u001b[32m━━━━━━━━━━━━━━━━━━━━\u001b[0m\u001b[37m\u001b[0m \u001b[1m0s\u001b[0m 3ms/step - loss: 0.4134\n",
            "Epoch 6/100\n",
            "\u001b[1m71/71\u001b[0m \u001b[32m━━━━━━━━━━━━━━━━━━━━\u001b[0m\u001b[37m\u001b[0m \u001b[1m0s\u001b[0m 2ms/step - loss: 0.4134\n",
            "Epoch 7/100\n",
            "\u001b[1m71/71\u001b[0m \u001b[32m━━━━━━━━━━━━━━━━━━━━\u001b[0m\u001b[37m\u001b[0m \u001b[1m0s\u001b[0m 3ms/step - loss: 0.4094\n",
            "Epoch 8/100\n",
            "\u001b[1m71/71\u001b[0m \u001b[32m━━━━━━━━━━━━━━━━━━━━\u001b[0m\u001b[37m\u001b[0m \u001b[1m0s\u001b[0m 2ms/step - loss: 0.4079\n",
            "Epoch 9/100\n",
            "\u001b[1m71/71\u001b[0m \u001b[32m━━━━━━━━━━━━━━━━━━━━\u001b[0m\u001b[37m\u001b[0m \u001b[1m0s\u001b[0m 2ms/step - loss: 0.4068\n",
            "Epoch 10/100\n",
            "\u001b[1m71/71\u001b[0m \u001b[32m━━━━━━━━━━━━━━━━━━━━\u001b[0m\u001b[37m\u001b[0m \u001b[1m0s\u001b[0m 2ms/step - loss: 0.4052\n",
            "Epoch 11/100\n",
            "\u001b[1m71/71\u001b[0m \u001b[32m━━━━━━━━━━━━━━━━━━━━\u001b[0m\u001b[37m\u001b[0m \u001b[1m0s\u001b[0m 2ms/step - loss: 0.4082\n",
            "Epoch 12/100\n",
            "\u001b[1m71/71\u001b[0m \u001b[32m━━━━━━━━━━━━━━━━━━━━\u001b[0m\u001b[37m\u001b[0m \u001b[1m0s\u001b[0m 3ms/step - loss: 0.4040\n",
            "Epoch 13/100\n",
            "\u001b[1m71/71\u001b[0m \u001b[32m━━━━━━━━━━━━━━━━━━━━\u001b[0m\u001b[37m\u001b[0m \u001b[1m0s\u001b[0m 3ms/step - loss: 0.4024\n",
            "Epoch 14/100\n",
            "\u001b[1m71/71\u001b[0m \u001b[32m━━━━━━━━━━━━━━━━━━━━\u001b[0m\u001b[37m\u001b[0m \u001b[1m0s\u001b[0m 3ms/step - loss: 0.4033\n",
            "Epoch 15/100\n",
            "\u001b[1m71/71\u001b[0m \u001b[32m━━━━━━━━━━━━━━━━━━━━\u001b[0m\u001b[37m\u001b[0m \u001b[1m0s\u001b[0m 2ms/step - loss: 0.4131\n",
            "Epoch 16/100\n",
            "\u001b[1m71/71\u001b[0m \u001b[32m━━━━━━━━━━━━━━━━━━━━\u001b[0m\u001b[37m\u001b[0m \u001b[1m0s\u001b[0m 2ms/step - loss: 0.4043\n",
            "Epoch 17/100\n",
            "\u001b[1m71/71\u001b[0m \u001b[32m━━━━━━━━━━━━━━━━━━━━\u001b[0m\u001b[37m\u001b[0m \u001b[1m0s\u001b[0m 3ms/step - loss: 0.4014\n",
            "Epoch 18/100\n",
            "\u001b[1m71/71\u001b[0m \u001b[32m━━━━━━━━━━━━━━━━━━━━\u001b[0m\u001b[37m\u001b[0m \u001b[1m0s\u001b[0m 2ms/step - loss: 0.4080\n",
            "Epoch 19/100\n",
            "\u001b[1m71/71\u001b[0m \u001b[32m━━━━━━━━━━━━━━━━━━━━\u001b[0m\u001b[37m\u001b[0m \u001b[1m0s\u001b[0m 2ms/step - loss: 0.4001\n",
            "Epoch 20/100\n",
            "\u001b[1m71/71\u001b[0m \u001b[32m━━━━━━━━━━━━━━━━━━━━\u001b[0m\u001b[37m\u001b[0m \u001b[1m0s\u001b[0m 2ms/step - loss: 0.4031\n",
            "Epoch 21/100\n",
            "\u001b[1m71/71\u001b[0m \u001b[32m━━━━━━━━━━━━━━━━━━━━\u001b[0m\u001b[37m\u001b[0m \u001b[1m0s\u001b[0m 3ms/step - loss: 0.3985\n",
            "Epoch 22/100\n",
            "\u001b[1m71/71\u001b[0m \u001b[32m━━━━━━━━━━━━━━━━━━━━\u001b[0m\u001b[37m\u001b[0m \u001b[1m0s\u001b[0m 2ms/step - loss: 0.4018\n",
            "Epoch 23/100\n",
            "\u001b[1m71/71\u001b[0m \u001b[32m━━━━━━━━━━━━━━━━━━━━\u001b[0m\u001b[37m\u001b[0m \u001b[1m0s\u001b[0m 2ms/step - loss: 0.4014\n",
            "Epoch 24/100\n",
            "\u001b[1m71/71\u001b[0m \u001b[32m━━━━━━━━━━━━━━━━━━━━\u001b[0m\u001b[37m\u001b[0m \u001b[1m0s\u001b[0m 2ms/step - loss: 0.4018\n",
            "Epoch 25/100\n",
            "\u001b[1m71/71\u001b[0m \u001b[32m━━━━━━━━━━━━━━━━━━━━\u001b[0m\u001b[37m\u001b[0m \u001b[1m0s\u001b[0m 2ms/step - loss: 0.4021 \n",
            "Epoch 26/100\n",
            "\u001b[1m71/71\u001b[0m \u001b[32m━━━━━━━━━━━━━━━━━━━━\u001b[0m\u001b[37m\u001b[0m \u001b[1m0s\u001b[0m 2ms/step - loss: 0.4091\n",
            "Epoch 27/100\n",
            "\u001b[1m71/71\u001b[0m \u001b[32m━━━━━━━━━━━━━━━━━━━━\u001b[0m\u001b[37m\u001b[0m \u001b[1m0s\u001b[0m 2ms/step - loss: 0.4083\n",
            "Epoch 28/100\n",
            "\u001b[1m71/71\u001b[0m \u001b[32m━━━━━━━━━━━━━━━━━━━━\u001b[0m\u001b[37m\u001b[0m \u001b[1m0s\u001b[0m 2ms/step - loss: 0.3980\n",
            "Epoch 29/100\n",
            "\u001b[1m71/71\u001b[0m \u001b[32m━━━━━━━━━━━━━━━━━━━━\u001b[0m\u001b[37m\u001b[0m \u001b[1m0s\u001b[0m 2ms/step - loss: 0.4026\n",
            "Epoch 30/100\n",
            "\u001b[1m71/71\u001b[0m \u001b[32m━━━━━━━━━━━━━━━━━━━━\u001b[0m\u001b[37m\u001b[0m \u001b[1m0s\u001b[0m 2ms/step - loss: 0.4001\n",
            "Epoch 31/100\n",
            "\u001b[1m71/71\u001b[0m \u001b[32m━━━━━━━━━━━━━━━━━━━━\u001b[0m\u001b[37m\u001b[0m \u001b[1m0s\u001b[0m 2ms/step - loss: 0.3995\n",
            "Epoch 32/100\n",
            "\u001b[1m71/71\u001b[0m \u001b[32m━━━━━━━━━━━━━━━━━━━━\u001b[0m\u001b[37m\u001b[0m \u001b[1m0s\u001b[0m 2ms/step - loss: 0.4031\n",
            "Epoch 33/100\n",
            "\u001b[1m71/71\u001b[0m \u001b[32m━━━━━━━━━━━━━━━━━━━━\u001b[0m\u001b[37m\u001b[0m \u001b[1m0s\u001b[0m 2ms/step - loss: 0.4001\n",
            "Epoch 34/100\n",
            "\u001b[1m71/71\u001b[0m \u001b[32m━━━━━━━━━━━━━━━━━━━━\u001b[0m\u001b[37m\u001b[0m \u001b[1m0s\u001b[0m 2ms/step - loss: 0.4049\n",
            "Epoch 35/100\n",
            "\u001b[1m71/71\u001b[0m \u001b[32m━━━━━━━━━━━━━━━━━━━━\u001b[0m\u001b[37m\u001b[0m \u001b[1m0s\u001b[0m 2ms/step - loss: 0.4058\n",
            "Epoch 36/100\n",
            "\u001b[1m71/71\u001b[0m \u001b[32m━━━━━━━━━━━━━━━━━━━━\u001b[0m\u001b[37m\u001b[0m \u001b[1m0s\u001b[0m 2ms/step - loss: 0.4022\n",
            "Epoch 37/100\n",
            "\u001b[1m71/71\u001b[0m \u001b[32m━━━━━━━━━━━━━━━━━━━━\u001b[0m\u001b[37m\u001b[0m \u001b[1m0s\u001b[0m 2ms/step - loss: 0.4037\n",
            "Epoch 38/100\n",
            "\u001b[1m71/71\u001b[0m \u001b[32m━━━━━━━━━━━━━━━━━━━━\u001b[0m\u001b[37m\u001b[0m \u001b[1m0s\u001b[0m 2ms/step - loss: 0.3965\n",
            "Epoch 39/100\n",
            "\u001b[1m71/71\u001b[0m \u001b[32m━━━━━━━━━━━━━━━━━━━━\u001b[0m\u001b[37m\u001b[0m \u001b[1m0s\u001b[0m 2ms/step - loss: 0.4079\n",
            "Epoch 40/100\n",
            "\u001b[1m71/71\u001b[0m \u001b[32m━━━━━━━━━━━━━━━━━━━━\u001b[0m\u001b[37m\u001b[0m \u001b[1m0s\u001b[0m 2ms/step - loss: 0.4005\n",
            "Epoch 41/100\n",
            "\u001b[1m71/71\u001b[0m \u001b[32m━━━━━━━━━━━━━━━━━━━━\u001b[0m\u001b[37m\u001b[0m \u001b[1m0s\u001b[0m 2ms/step - loss: 0.4009\n",
            "Epoch 42/100\n",
            "\u001b[1m71/71\u001b[0m \u001b[32m━━━━━━━━━━━━━━━━━━━━\u001b[0m\u001b[37m\u001b[0m \u001b[1m0s\u001b[0m 2ms/step - loss: 0.3964\n",
            "Epoch 43/100\n",
            "\u001b[1m71/71\u001b[0m \u001b[32m━━━━━━━━━━━━━━━━━━━━\u001b[0m\u001b[37m\u001b[0m \u001b[1m0s\u001b[0m 2ms/step - loss: 0.4067\n",
            "Epoch 44/100\n",
            "\u001b[1m71/71\u001b[0m \u001b[32m━━━━━━━━━━━━━━━━━━━━\u001b[0m\u001b[37m\u001b[0m \u001b[1m0s\u001b[0m 2ms/step - loss: 0.3995\n",
            "Epoch 45/100\n",
            "\u001b[1m71/71\u001b[0m \u001b[32m━━━━━━━━━━━━━━━━━━━━\u001b[0m\u001b[37m\u001b[0m \u001b[1m0s\u001b[0m 2ms/step - loss: 0.4055\n",
            "Epoch 46/100\n",
            "\u001b[1m71/71\u001b[0m \u001b[32m━━━━━━━━━━━━━━━━━━━━\u001b[0m\u001b[37m\u001b[0m \u001b[1m0s\u001b[0m 2ms/step - loss: 0.4007\n",
            "Epoch 47/100\n",
            "\u001b[1m71/71\u001b[0m \u001b[32m━━━━━━━━━━━━━━━━━━━━\u001b[0m\u001b[37m\u001b[0m \u001b[1m0s\u001b[0m 2ms/step - loss: 0.3945\n",
            "Epoch 48/100\n",
            "\u001b[1m71/71\u001b[0m \u001b[32m━━━━━━━━━━━━━━━━━━━━\u001b[0m\u001b[37m\u001b[0m \u001b[1m0s\u001b[0m 2ms/step - loss: 0.3974\n",
            "Epoch 49/100\n",
            "\u001b[1m71/71\u001b[0m \u001b[32m━━━━━━━━━━━━━━━━━━━━\u001b[0m\u001b[37m\u001b[0m \u001b[1m0s\u001b[0m 2ms/step - loss: 0.3988\n",
            "Epoch 50/100\n",
            "\u001b[1m71/71\u001b[0m \u001b[32m━━━━━━━━━━━━━━━━━━━━\u001b[0m\u001b[37m\u001b[0m \u001b[1m0s\u001b[0m 3ms/step - loss: 0.3992\n",
            "Epoch 51/100\n",
            "\u001b[1m71/71\u001b[0m \u001b[32m━━━━━━━━━━━━━━━━━━━━\u001b[0m\u001b[37m\u001b[0m \u001b[1m0s\u001b[0m 2ms/step - loss: 0.3963 \n",
            "Epoch 52/100\n",
            "\u001b[1m71/71\u001b[0m \u001b[32m━━━━━━━━━━━━━━━━━━━━\u001b[0m\u001b[37m\u001b[0m \u001b[1m0s\u001b[0m 2ms/step - loss: 0.3925\n",
            "Epoch 53/100\n",
            "\u001b[1m71/71\u001b[0m \u001b[32m━━━━━━━━━━━━━━━━━━━━\u001b[0m\u001b[37m\u001b[0m \u001b[1m0s\u001b[0m 3ms/step - loss: 0.3941\n",
            "Epoch 54/100\n",
            "\u001b[1m71/71\u001b[0m \u001b[32m━━━━━━━━━━━━━━━━━━━━\u001b[0m\u001b[37m\u001b[0m \u001b[1m0s\u001b[0m 2ms/step - loss: 0.3938\n",
            "Epoch 55/100\n",
            "\u001b[1m71/71\u001b[0m \u001b[32m━━━━━━━━━━━━━━━━━━━━\u001b[0m\u001b[37m\u001b[0m \u001b[1m0s\u001b[0m 2ms/step - loss: 0.4016\n",
            "Epoch 56/100\n",
            "\u001b[1m71/71\u001b[0m \u001b[32m━━━━━━━━━━━━━━━━━━━━\u001b[0m\u001b[37m\u001b[0m \u001b[1m0s\u001b[0m 2ms/step - loss: 0.3956\n",
            "Epoch 57/100\n",
            "\u001b[1m71/71\u001b[0m \u001b[32m━━━━━━━━━━━━━━━━━━━━\u001b[0m\u001b[37m\u001b[0m \u001b[1m0s\u001b[0m 2ms/step - loss: 0.4036\n",
            "Epoch 58/100\n",
            "\u001b[1m71/71\u001b[0m \u001b[32m━━━━━━━━━━━━━━━━━━━━\u001b[0m\u001b[37m\u001b[0m \u001b[1m0s\u001b[0m 2ms/step - loss: 0.3973\n",
            "Epoch 59/100\n",
            "\u001b[1m71/71\u001b[0m \u001b[32m━━━━━━━━━━━━━━━━━━━━\u001b[0m\u001b[37m\u001b[0m \u001b[1m0s\u001b[0m 2ms/step - loss: 0.3998\n",
            "Epoch 60/100\n",
            "\u001b[1m71/71\u001b[0m \u001b[32m━━━━━━━━━━━━━━━━━━━━\u001b[0m\u001b[37m\u001b[0m \u001b[1m0s\u001b[0m 2ms/step - loss: 0.3974\n",
            "Epoch 61/100\n",
            "\u001b[1m71/71\u001b[0m \u001b[32m━━━━━━━━━━━━━━━━━━━━\u001b[0m\u001b[37m\u001b[0m \u001b[1m0s\u001b[0m 2ms/step - loss: 0.4004\n",
            "Epoch 62/100\n",
            "\u001b[1m71/71\u001b[0m \u001b[32m━━━━━━━━━━━━━━━━━━━━\u001b[0m\u001b[37m\u001b[0m \u001b[1m0s\u001b[0m 2ms/step - loss: 0.4002\n",
            "Epoch 63/100\n",
            "\u001b[1m71/71\u001b[0m \u001b[32m━━━━━━━━━━━━━━━━━━━━\u001b[0m\u001b[37m\u001b[0m \u001b[1m0s\u001b[0m 2ms/step - loss: 0.3940\n",
            "Epoch 64/100\n",
            "\u001b[1m71/71\u001b[0m \u001b[32m━━━━━━━━━━━━━━━━━━━━\u001b[0m\u001b[37m\u001b[0m \u001b[1m0s\u001b[0m 3ms/step - loss: 0.3962\n",
            "Epoch 65/100\n",
            "\u001b[1m71/71\u001b[0m \u001b[32m━━━━━━━━━━━━━━━━━━━━\u001b[0m\u001b[37m\u001b[0m \u001b[1m0s\u001b[0m 2ms/step - loss: 0.3907 \n",
            "Epoch 66/100\n",
            "\u001b[1m71/71\u001b[0m \u001b[32m━━━━━━━━━━━━━━━━━━━━\u001b[0m\u001b[37m\u001b[0m \u001b[1m0s\u001b[0m 2ms/step - loss: 0.3974\n",
            "Epoch 67/100\n",
            "\u001b[1m71/71\u001b[0m \u001b[32m━━━━━━━━━━━━━━━━━━━━\u001b[0m\u001b[37m\u001b[0m \u001b[1m0s\u001b[0m 2ms/step - loss: 0.3957\n",
            "Epoch 68/100\n",
            "\u001b[1m71/71\u001b[0m \u001b[32m━━━━━━━━━━━━━━━━━━━━\u001b[0m\u001b[37m\u001b[0m \u001b[1m0s\u001b[0m 2ms/step - loss: 0.3959\n",
            "Epoch 69/100\n",
            "\u001b[1m71/71\u001b[0m \u001b[32m━━━━━━━━━━━━━━━━━━━━\u001b[0m\u001b[37m\u001b[0m \u001b[1m0s\u001b[0m 2ms/step - loss: 0.4011\n",
            "Epoch 70/100\n",
            "\u001b[1m71/71\u001b[0m \u001b[32m━━━━━━━━━━━━━━━━━━━━\u001b[0m\u001b[37m\u001b[0m \u001b[1m0s\u001b[0m 2ms/step - loss: 0.3963\n",
            "Epoch 71/100\n",
            "\u001b[1m71/71\u001b[0m \u001b[32m━━━━━━━━━━━━━━━━━━━━\u001b[0m\u001b[37m\u001b[0m \u001b[1m0s\u001b[0m 2ms/step - loss: 0.3949\n",
            "Epoch 72/100\n",
            "\u001b[1m71/71\u001b[0m \u001b[32m━━━━━━━━━━━━━━━━━━━━\u001b[0m\u001b[37m\u001b[0m \u001b[1m0s\u001b[0m 2ms/step - loss: 0.3958\n",
            "Epoch 73/100\n",
            "\u001b[1m71/71\u001b[0m \u001b[32m━━━━━━━━━━━━━━━━━━━━\u001b[0m\u001b[37m\u001b[0m \u001b[1m0s\u001b[0m 2ms/step - loss: 0.3984\n",
            "Epoch 74/100\n",
            "\u001b[1m71/71\u001b[0m \u001b[32m━━━━━━━━━━━━━━━━━━━━\u001b[0m\u001b[37m\u001b[0m \u001b[1m0s\u001b[0m 2ms/step - loss: 0.3970\n",
            "Epoch 75/100\n",
            "\u001b[1m71/71\u001b[0m \u001b[32m━━━━━━━━━━━━━━━━━━━━\u001b[0m\u001b[37m\u001b[0m \u001b[1m0s\u001b[0m 2ms/step - loss: 0.3984\n",
            "Epoch 76/100\n",
            "\u001b[1m71/71\u001b[0m \u001b[32m━━━━━━━━━━━━━━━━━━━━\u001b[0m\u001b[37m\u001b[0m \u001b[1m0s\u001b[0m 2ms/step - loss: 0.3967\n",
            "Epoch 77/100\n",
            "\u001b[1m71/71\u001b[0m \u001b[32m━━━━━━━━━━━━━━━━━━━━\u001b[0m\u001b[37m\u001b[0m \u001b[1m0s\u001b[0m 2ms/step - loss: 0.3932\n",
            "Epoch 78/100\n",
            "\u001b[1m71/71\u001b[0m \u001b[32m━━━━━━━━━━━━━━━━━━━━\u001b[0m\u001b[37m\u001b[0m \u001b[1m0s\u001b[0m 3ms/step - loss: 0.3964\n",
            "Epoch 79/100\n",
            "\u001b[1m71/71\u001b[0m \u001b[32m━━━━━━━━━━━━━━━━━━━━\u001b[0m\u001b[37m\u001b[0m \u001b[1m0s\u001b[0m 3ms/step - loss: 0.3961\n",
            "Epoch 80/100\n",
            "\u001b[1m71/71\u001b[0m \u001b[32m━━━━━━━━━━━━━━━━━━━━\u001b[0m\u001b[37m\u001b[0m \u001b[1m0s\u001b[0m 2ms/step - loss: 0.3929\n",
            "Epoch 81/100\n",
            "\u001b[1m71/71\u001b[0m \u001b[32m━━━━━━━━━━━━━━━━━━━━\u001b[0m\u001b[37m\u001b[0m \u001b[1m0s\u001b[0m 2ms/step - loss: 0.3927\n",
            "Epoch 82/100\n",
            "\u001b[1m71/71\u001b[0m \u001b[32m━━━━━━━━━━━━━━━━━━━━\u001b[0m\u001b[37m\u001b[0m \u001b[1m0s\u001b[0m 2ms/step - loss: 0.3946\n",
            "Epoch 83/100\n",
            "\u001b[1m71/71\u001b[0m \u001b[32m━━━━━━━━━━━━━━━━━━━━\u001b[0m\u001b[37m\u001b[0m \u001b[1m0s\u001b[0m 2ms/step - loss: 0.3967\n",
            "Epoch 84/100\n",
            "\u001b[1m71/71\u001b[0m \u001b[32m━━━━━━━━━━━━━━━━━━━━\u001b[0m\u001b[37m\u001b[0m \u001b[1m0s\u001b[0m 2ms/step - loss: 0.3951\n",
            "Epoch 85/100\n",
            "\u001b[1m71/71\u001b[0m \u001b[32m━━━━━━━━━━━━━━━━━━━━\u001b[0m\u001b[37m\u001b[0m \u001b[1m0s\u001b[0m 2ms/step - loss: 0.3903\n",
            "Epoch 86/100\n",
            "\u001b[1m71/71\u001b[0m \u001b[32m━━━━━━━━━━━━━━━━━━━━\u001b[0m\u001b[37m\u001b[0m \u001b[1m0s\u001b[0m 2ms/step - loss: 0.3974\n",
            "Epoch 87/100\n",
            "\u001b[1m71/71\u001b[0m \u001b[32m━━━━━━━━━━━━━━━━━━━━\u001b[0m\u001b[37m\u001b[0m \u001b[1m0s\u001b[0m 3ms/step - loss: 0.3967\n",
            "Epoch 88/100\n",
            "\u001b[1m71/71\u001b[0m \u001b[32m━━━━━━━━━━━━━━━━━━━━\u001b[0m\u001b[37m\u001b[0m \u001b[1m0s\u001b[0m 2ms/step - loss: 0.3935\n",
            "Epoch 89/100\n",
            "\u001b[1m71/71\u001b[0m \u001b[32m━━━━━━━━━━━━━━━━━━━━\u001b[0m\u001b[37m\u001b[0m \u001b[1m0s\u001b[0m 2ms/step - loss: 0.3916\n",
            "Epoch 90/100\n",
            "\u001b[1m71/71\u001b[0m \u001b[32m━━━━━━━━━━━━━━━━━━━━\u001b[0m\u001b[37m\u001b[0m \u001b[1m0s\u001b[0m 2ms/step - loss: 0.3961\n",
            "Epoch 91/100\n",
            "\u001b[1m71/71\u001b[0m \u001b[32m━━━━━━━━━━━━━━━━━━━━\u001b[0m\u001b[37m\u001b[0m \u001b[1m0s\u001b[0m 2ms/step - loss: 0.3974\n",
            "Epoch 92/100\n",
            "\u001b[1m71/71\u001b[0m \u001b[32m━━━━━━━━━━━━━━━━━━━━\u001b[0m\u001b[37m\u001b[0m \u001b[1m0s\u001b[0m 2ms/step - loss: 0.3958\n",
            "Epoch 93/100\n",
            "\u001b[1m71/71\u001b[0m \u001b[32m━━━━━━━━━━━━━━━━━━━━\u001b[0m\u001b[37m\u001b[0m \u001b[1m0s\u001b[0m 2ms/step - loss: 0.4011\n",
            "Epoch 94/100\n",
            "\u001b[1m71/71\u001b[0m \u001b[32m━━━━━━━━━━━━━━━━━━━━\u001b[0m\u001b[37m\u001b[0m \u001b[1m0s\u001b[0m 2ms/step - loss: 0.4024\n",
            "Epoch 95/100\n",
            "\u001b[1m71/71\u001b[0m \u001b[32m━━━━━━━━━━━━━━━━━━━━\u001b[0m\u001b[37m\u001b[0m \u001b[1m0s\u001b[0m 2ms/step - loss: 0.3940\n",
            "Epoch 96/100\n",
            "\u001b[1m71/71\u001b[0m \u001b[32m━━━━━━━━━━━━━━━━━━━━\u001b[0m\u001b[37m\u001b[0m \u001b[1m0s\u001b[0m 2ms/step - loss: 0.4003\n",
            "Epoch 97/100\n",
            "\u001b[1m71/71\u001b[0m \u001b[32m━━━━━━━━━━━━━━━━━━━━\u001b[0m\u001b[37m\u001b[0m \u001b[1m0s\u001b[0m 4ms/step - loss: 0.3992\n",
            "Epoch 98/100\n",
            "\u001b[1m71/71\u001b[0m \u001b[32m━━━━━━━━━━━━━━━━━━━━\u001b[0m\u001b[37m\u001b[0m \u001b[1m0s\u001b[0m 2ms/step - loss: 0.3979\n",
            "Epoch 99/100\n",
            "\u001b[1m71/71\u001b[0m \u001b[32m━━━━━━━━━━━━━━━━━━━━\u001b[0m\u001b[37m\u001b[0m \u001b[1m0s\u001b[0m 2ms/step - loss: 0.3957\n",
            "Epoch 100/100\n",
            "\u001b[1m71/71\u001b[0m \u001b[32m━━━━━━━━━━━━━━━━━━━━\u001b[0m\u001b[37m\u001b[0m \u001b[1m0s\u001b[0m 2ms/step - loss: 0.3948\n"
          ]
        }
      ],
      "source": [
        "model, history = train_Lasso_supervised(trainX, trainY,1,1, num_feature= num_feature - 1,binary = True)\n",
        "# model, history = train_LSTM_supervised(trainX, trainY,1,binary = True)  "
      ]
    },
    {
      "cell_type": "code",
      "execution_count": null,
      "metadata": {},
      "outputs": [
        {
          "data": {
            "text/html": [
              "<pre style=\"white-space:pre;overflow-x:auto;line-height:normal;font-family:Menlo,'DejaVu Sans Mono',consolas,'Courier New',monospace\"><span style=\"font-weight: bold\">Model: \"sequential_1\"</span>\n",
              "</pre>\n"
            ],
            "text/plain": [
              "\u001b[1mModel: \"sequential_1\"\u001b[0m\n"
            ]
          },
          "metadata": {},
          "output_type": "display_data"
        },
        {
          "data": {
            "text/html": [
              "<pre style=\"white-space:pre;overflow-x:auto;line-height:normal;font-family:Menlo,'DejaVu Sans Mono',consolas,'Courier New',monospace\">┏━━━━━━━━━━━━━━━━━━━━━━━━━━━━━━━━━┳━━━━━━━━━━━━━━━━━━━━━━━━┳━━━━━━━━━━━━━━━┓\n",
              "┃<span style=\"font-weight: bold\"> Layer (type)                    </span>┃<span style=\"font-weight: bold\"> Output Shape           </span>┃<span style=\"font-weight: bold\">       Param # </span>┃\n",
              "┡━━━━━━━━━━━━━━━━━━━━━━━━━━━━━━━━━╇━━━━━━━━━━━━━━━━━━━━━━━━╇━━━━━━━━━━━━━━━┩\n",
              "│ dense_1 (<span style=\"color: #0087ff; text-decoration-color: #0087ff\">Dense</span>)                 │ (<span style=\"color: #00d7ff; text-decoration-color: #00d7ff\">None</span>, <span style=\"color: #00af00; text-decoration-color: #00af00\">11</span>)             │           <span style=\"color: #00af00; text-decoration-color: #00af00\">132</span> │\n",
              "└─────────────────────────────────┴────────────────────────┴───────────────┘\n",
              "</pre>\n"
            ],
            "text/plain": [
              "┏━━━━━━━━━━━━━━━━━━━━━━━━━━━━━━━━━┳━━━━━━━━━━━━━━━━━━━━━━━━┳━━━━━━━━━━━━━━━┓\n",
              "┃\u001b[1m \u001b[0m\u001b[1mLayer (type)                   \u001b[0m\u001b[1m \u001b[0m┃\u001b[1m \u001b[0m\u001b[1mOutput Shape          \u001b[0m\u001b[1m \u001b[0m┃\u001b[1m \u001b[0m\u001b[1m      Param #\u001b[0m\u001b[1m \u001b[0m┃\n",
              "┡━━━━━━━━━━━━━━━━━━━━━━━━━━━━━━━━━╇━━━━━━━━━━━━━━━━━━━━━━━━╇━━━━━━━━━━━━━━━┩\n",
              "│ dense_1 (\u001b[38;5;33mDense\u001b[0m)                 │ (\u001b[38;5;45mNone\u001b[0m, \u001b[38;5;34m11\u001b[0m)             │           \u001b[38;5;34m132\u001b[0m │\n",
              "└─────────────────────────────────┴────────────────────────┴───────────────┘\n"
            ]
          },
          "metadata": {},
          "output_type": "display_data"
        },
        {
          "data": {
            "text/html": [
              "<pre style=\"white-space:pre;overflow-x:auto;line-height:normal;font-family:Menlo,'DejaVu Sans Mono',consolas,'Courier New',monospace\"><span style=\"font-weight: bold\"> Total params: </span><span style=\"color: #00af00; text-decoration-color: #00af00\">398</span> (1.56 KB)\n",
              "</pre>\n"
            ],
            "text/plain": [
              "\u001b[1m Total params: \u001b[0m\u001b[38;5;34m398\u001b[0m (1.56 KB)\n"
            ]
          },
          "metadata": {},
          "output_type": "display_data"
        },
        {
          "data": {
            "text/html": [
              "<pre style=\"white-space:pre;overflow-x:auto;line-height:normal;font-family:Menlo,'DejaVu Sans Mono',consolas,'Courier New',monospace\"><span style=\"font-weight: bold\"> Trainable params: </span><span style=\"color: #00af00; text-decoration-color: #00af00\">132</span> (528.00 B)\n",
              "</pre>\n"
            ],
            "text/plain": [
              "\u001b[1m Trainable params: \u001b[0m\u001b[38;5;34m132\u001b[0m (528.00 B)\n"
            ]
          },
          "metadata": {},
          "output_type": "display_data"
        },
        {
          "data": {
            "text/html": [
              "<pre style=\"white-space:pre;overflow-x:auto;line-height:normal;font-family:Menlo,'DejaVu Sans Mono',consolas,'Courier New',monospace\"><span style=\"font-weight: bold\"> Non-trainable params: </span><span style=\"color: #00af00; text-decoration-color: #00af00\">0</span> (0.00 B)\n",
              "</pre>\n"
            ],
            "text/plain": [
              "\u001b[1m Non-trainable params: \u001b[0m\u001b[38;5;34m0\u001b[0m (0.00 B)\n"
            ]
          },
          "metadata": {},
          "output_type": "display_data"
        },
        {
          "data": {
            "text/html": [
              "<pre style=\"white-space:pre;overflow-x:auto;line-height:normal;font-family:Menlo,'DejaVu Sans Mono',consolas,'Courier New',monospace\"><span style=\"font-weight: bold\"> Optimizer params: </span><span style=\"color: #00af00; text-decoration-color: #00af00\">266</span> (1.04 KB)\n",
              "</pre>\n"
            ],
            "text/plain": [
              "\u001b[1m Optimizer params: \u001b[0m\u001b[38;5;34m266\u001b[0m (1.04 KB)\n"
            ]
          },
          "metadata": {},
          "output_type": "display_data"
        }
      ],
      "source": [
        "model.summary()"
      ]
    },
    {
      "cell_type": "code",
      "execution_count": null,
      "metadata": {},
      "outputs": [
        {
          "data": {
            "image/png": "[encoded data removed]",
            "text/plain": [
              "<Figure size 800x500 with 1 Axes>"
            ]
          },
          "metadata": {},
          "output_type": "display_data"
        }
      ],
      "source": [
        "pd.DataFrame(history.history).plot(figsize=(8,5))\n",
        "plt.show()"
      ]
    },
    {
      "cell_type": "code",
      "execution_count": null,
      "metadata": {},
      "outputs": [
        {
          "name": "stdout",
          "output_type": "stream",
          "text": [
            "              precision    recall  f1-score   support\n",
            "\n",
            "         0.0       1.00      1.00      1.00     29458\n",
            "         1.0       1.00      1.00      1.00      6432\n",
            "\n",
            "    accuracy                           1.00     35890\n",
            "   macro avg       1.00      1.00      1.00     35890\n",
            "weighted avg       1.00      1.00      1.00     35890\n",
            "\n"
          ]
        }
      ],
      "source": [
        "prediction = test_model.predict(trainX)\n",
        "print(classification_report( trainY, prediction))"
      ]
    },
    {
      "cell_type": "code",
      "execution_count": null,
      "metadata": {},
      "outputs": [
        {
          "name": "stdout",
          "output_type": "stream",
          "text": [
            "              precision    recall  f1-score   support\n",
            "\n",
            "         0.0       0.95      0.97      0.96      8121\n",
            "         1.0       0.66      0.47      0.55       849\n",
            "\n",
            "    accuracy                           0.93      8970\n",
            "   macro avg       0.80      0.72      0.75      8970\n",
            "weighted avg       0.92      0.93      0.92      8970\n",
            "\n"
          ]
        }
      ],
      "source": [
        "prediction = test_model.predict(testX)\n",
        "print(classification_report( testY, prediction))"
      ]
    },
    {
      "cell_type": "code",
      "execution_count": null,
      "metadata": {},
      "outputs": [
        {
          "data": {
            "text/plain": [
              "(array([0., 1.]), array([8361,  609], dtype=int64))"
            ]
          },
          "execution_count": 99,
          "metadata": {},
          "output_type": "execute_result"
        }
      ],
      "source": [
        "np.unique(prediction, return_counts= True)"
      ]
    },
    {
      "cell_type": "code",
      "execution_count": null,
      "metadata": {},
      "outputs": [
        {
          "name": "stdout",
          "output_type": "stream",
          "text": [
            "Trial 100 Complete [00h 00m 25s]\n",
            "loss: 0.47262969613075256\n",
            "\n",
            "Best loss So Far: 0.3775405287742615\n",
            "Total elapsed time: 00h 36m 54s\n",
            "Epoch 1/100\n",
            "\u001b[1m28/36\u001b[0m \u001b[32m━━━━━━━━━━━━━━━\u001b[0m\u001b[37m━━━━━\u001b[0m \u001b[1m0s\u001b[0m 4ms/step - loss: 0.6796\n",
            "Epoch 1: loss improved from inf to 0.53959, saving model to Checkpoint/checkpoint_mlp_sup_binary.model.keras\n",
            "\u001b[1m36/36\u001b[0m \u001b[32m━━━━━━━━━━━━━━━━━━━━\u001b[0m\u001b[37m\u001b[0m \u001b[1m1s\u001b[0m 6ms/step - loss: 0.6468\n",
            "Epoch 2/100\n",
            "\u001b[1m21/36\u001b[0m \u001b[32m━━━━━━━━━━━\u001b[0m\u001b[37m━━━━━━━━━\u001b[0m \u001b[1m0s\u001b[0m 3ms/step - loss: 0.4581 \n",
            "Epoch 2: loss improved from 0.53959 to 0.45307, saving model to Checkpoint/checkpoint_mlp_sup_binary.model.keras\n",
            "\u001b[1m36/36\u001b[0m \u001b[32m━━━━━━━━━━━━━━━━━━━━\u001b[0m\u001b[37m\u001b[0m \u001b[1m0s\u001b[0m 4ms/step - loss: 0.4565\n",
            "Epoch 3/100\n",
            "\u001b[1m31/36\u001b[0m \u001b[32m━━━━━━━━━━━━━━━━━\u001b[0m\u001b[37m━━━\u001b[0m \u001b[1m0s\u001b[0m 3ms/step - loss: 0.4427\n",
            "Epoch 3: loss improved from 0.45307 to 0.44692, saving model to Checkpoint/checkpoint_mlp_sup_binary.model.keras\n",
            "\u001b[1m36/36\u001b[0m \u001b[32m━━━━━━━━━━━━━━━━━━━━\u001b[0m\u001b[37m\u001b[0m \u001b[1m0s\u001b[0m 5ms/step - loss: 0.4434\n",
            "Epoch 4/100\n",
            "\u001b[1m20/36\u001b[0m \u001b[32m━━━━━━━━━━━\u001b[0m\u001b[37m━━━━━━━━━\u001b[0m \u001b[1m0s\u001b[0m 3ms/step - loss: 0.4318 \n",
            "Epoch 4: loss improved from 0.44692 to 0.42617, saving model to Checkpoint/checkpoint_mlp_sup_binary.model.keras\n",
            "\u001b[1m36/36\u001b[0m \u001b[32m━━━━━━━━━━━━━━━━━━━━\u001b[0m\u001b[37m\u001b[0m \u001b[1m0s\u001b[0m 4ms/step - loss: 0.4301\n",
            "Epoch 5/100\n",
            "\u001b[1m28/36\u001b[0m \u001b[32m━━━━━━━━━━━━━━━\u001b[0m\u001b[37m━━━━━\u001b[0m \u001b[1m0s\u001b[0m 4ms/step - loss: 0.4188\n",
            "Epoch 5: loss improved from 0.42617 to 0.41491, saving model to Checkpoint/checkpoint_mlp_sup_binary.model.keras\n",
            "\u001b[1m36/36\u001b[0m \u001b[32m━━━━━━━━━━━━━━━━━━━━\u001b[0m\u001b[37m\u001b[0m \u001b[1m0s\u001b[0m 5ms/step - loss: 0.4178\n",
            "Epoch 6/100\n",
            "\u001b[1m25/36\u001b[0m \u001b[32m━━━━━━━━━━━━━\u001b[0m\u001b[37m━━━━━━━\u001b[0m \u001b[1m0s\u001b[0m 2ms/step - loss: 0.4055 \n",
            "Epoch 6: loss improved from 0.41491 to 0.40591, saving model to Checkpoint/checkpoint_mlp_sup_binary.model.keras\n",
            "\u001b[1m36/36\u001b[0m \u001b[32m━━━━━━━━━━━━━━━━━━━━\u001b[0m\u001b[37m\u001b[0m \u001b[1m0s\u001b[0m 4ms/step - loss: 0.4058\n",
            "Epoch 7/100\n",
            "\u001b[1m35/36\u001b[0m \u001b[32m━━━━━━━━━━━━━━━━━━━\u001b[0m\u001b[37m━\u001b[0m \u001b[1m0s\u001b[0m 3ms/step - loss: 0.4123\n",
            "Epoch 7: loss did not improve from 0.40591\n",
            "\u001b[1m36/36\u001b[0m \u001b[32m━━━━━━━━━━━━━━━━━━━━\u001b[0m\u001b[37m\u001b[0m \u001b[1m0s\u001b[0m 4ms/step - loss: 0.4121\n",
            "Epoch 8/100\n",
            "\u001b[1m25/36\u001b[0m \u001b[32m━━━━━━━━━━━━━\u001b[0m\u001b[37m━━━━━━━\u001b[0m \u001b[1m0s\u001b[0m 2ms/step - loss: 0.4011 \n",
            "Epoch 8: loss did not improve from 0.40591\n",
            "\u001b[1m36/36\u001b[0m \u001b[32m━━━━━━━━━━━━━━━━━━━━\u001b[0m\u001b[37m\u001b[0m \u001b[1m0s\u001b[0m 3ms/step - loss: 0.4028\n",
            "Epoch 9/100\n",
            "\u001b[1m30/36\u001b[0m \u001b[32m━━━━━━━━━━━━━━━━\u001b[0m\u001b[37m━━━━\u001b[0m \u001b[1m0s\u001b[0m 4ms/step - loss: 0.4160\n",
            "Epoch 9: loss did not improve from 0.40591\n",
            "\u001b[1m36/36\u001b[0m \u001b[32m━━━━━━━━━━━━━━━━━━━━\u001b[0m\u001b[37m\u001b[0m \u001b[1m0s\u001b[0m 5ms/step - loss: 0.4144\n",
            "Epoch 10/100\n",
            "\u001b[1m34/36\u001b[0m \u001b[32m━━━━━━━━━━━━━━━━━━\u001b[0m\u001b[37m━━\u001b[0m \u001b[1m0s\u001b[0m 3ms/step - loss: 0.4006\n",
            "Epoch 10: loss improved from 0.40591 to 0.39884, saving model to Checkpoint/checkpoint_mlp_sup_binary.model.keras\n",
            "\u001b[1m36/36\u001b[0m \u001b[32m━━━━━━━━━━━━━━━━━━━━\u001b[0m\u001b[37m\u001b[0m \u001b[1m0s\u001b[0m 5ms/step - loss: 0.4005\n",
            "Epoch 11/100\n",
            "\u001b[1m22/36\u001b[0m \u001b[32m━━━━━━━━━━━━\u001b[0m\u001b[37m━━━━━━━━\u001b[0m \u001b[1m0s\u001b[0m 2ms/step - loss: 0.4066 \n",
            "Epoch 11: loss improved from 0.39884 to 0.39603, saving model to Checkpoint/checkpoint_mlp_sup_binary.model.keras\n",
            "\u001b[1m36/36\u001b[0m \u001b[32m━━━━━━━━━━━━━━━━━━━━\u001b[0m\u001b[37m\u001b[0m \u001b[1m0s\u001b[0m 4ms/step - loss: 0.4021\n",
            "Epoch 12/100\n",
            "\u001b[1m20/36\u001b[0m \u001b[32m━━━━━━━━━━━\u001b[0m\u001b[37m━━━━━━━━━\u001b[0m \u001b[1m0s\u001b[0m 3ms/step - loss: 0.4388 \n",
            "Epoch 12: loss did not improve from 0.39603\n",
            "\u001b[1m36/36\u001b[0m \u001b[32m━━━━━━━━━━━━━━━━━━━━\u001b[0m\u001b[37m\u001b[0m \u001b[1m0s\u001b[0m 3ms/step - loss: 0.4278\n",
            "Epoch 13/100\n",
            "\u001b[1m23/36\u001b[0m \u001b[32m━━━━━━━━━━━━\u001b[0m\u001b[37m━━━━━━━━\u001b[0m \u001b[1m0s\u001b[0m 2ms/step - loss: 0.4023 \n",
            "Epoch 13: loss did not improve from 0.39603\n",
            "\u001b[1m36/36\u001b[0m \u001b[32m━━━━━━━━━━━━━━━━━━━━\u001b[0m\u001b[37m\u001b[0m \u001b[1m0s\u001b[0m 3ms/step - loss: 0.4041\n",
            "Epoch 14/100\n",
            "\u001b[1m16/36\u001b[0m \u001b[32m━━━━━━━━\u001b[0m\u001b[37m━━━━━━━━━━━━\u001b[0m \u001b[1m0s\u001b[0m 3ms/step - loss: 0.3951 \n",
            "Epoch 14: loss did not improve from 0.39603\n",
            "\u001b[1m36/36\u001b[0m \u001b[32m━━━━━━━━━━━━━━━━━━━━\u001b[0m\u001b[37m\u001b[0m \u001b[1m0s\u001b[0m 4ms/step - loss: 0.3966\n",
            "Epoch 15/100\n",
            "\u001b[1m20/36\u001b[0m \u001b[32m━━━━━━━━━━━\u001b[0m\u001b[37m━━━━━━━━━\u001b[0m \u001b[1m0s\u001b[0m 3ms/step - loss: 0.4085 \n",
            "Epoch 15: loss did not improve from 0.39603\n",
            "\u001b[1m36/36\u001b[0m \u001b[32m━━━━━━━━━━━━━━━━━━━━\u001b[0m\u001b[37m\u001b[0m \u001b[1m0s\u001b[0m 3ms/step - loss: 0.4072\n",
            "Epoch 16/100\n",
            "\u001b[1m23/36\u001b[0m \u001b[32m━━━━━━━━━━━━\u001b[0m\u001b[37m━━━━━━━━\u001b[0m \u001b[1m0s\u001b[0m 2ms/step - loss: 0.4073 \n",
            "Epoch 16: loss did not improve from 0.39603\n",
            "\u001b[1m36/36\u001b[0m \u001b[32m━━━━━━━━━━━━━━━━━━━━\u001b[0m\u001b[37m\u001b[0m \u001b[1m0s\u001b[0m 4ms/step - loss: 0.4041\n",
            "Epoch 17/100\n",
            "\u001b[1m25/36\u001b[0m \u001b[32m━━━━━━━━━━━━━\u001b[0m\u001b[37m━━━━━━━\u001b[0m \u001b[1m0s\u001b[0m 4ms/step - loss: 0.4116\n",
            "Epoch 17: loss did not improve from 0.39603\n",
            "\u001b[1m36/36\u001b[0m \u001b[32m━━━━━━━━━━━━━━━━━━━━\u001b[0m\u001b[37m\u001b[0m \u001b[1m0s\u001b[0m 5ms/step - loss: 0.4115\n",
            "Epoch 18/100\n",
            "\u001b[1m27/36\u001b[0m \u001b[32m━━━━━━━━━━━━━━━\u001b[0m\u001b[37m━━━━━\u001b[0m \u001b[1m0s\u001b[0m 2ms/step - loss: 0.4073 \n",
            "Epoch 18: loss did not improve from 0.39603\n",
            "\u001b[1m36/36\u001b[0m \u001b[32m━━━━━━━━━━━━━━━━━━━━\u001b[0m\u001b[37m\u001b[0m \u001b[1m0s\u001b[0m 3ms/step - loss: 0.4050\n",
            "Epoch 19/100\n",
            "\u001b[1m25/36\u001b[0m \u001b[32m━━━━━━━━━━━━━\u001b[0m\u001b[37m━━━━━━━\u001b[0m \u001b[1m0s\u001b[0m 2ms/step - loss: 0.4229 \n",
            "Epoch 19: loss did not improve from 0.39603\n",
            "\u001b[1m36/36\u001b[0m \u001b[32m━━━━━━━━━━━━━━━━━━━━\u001b[0m\u001b[37m\u001b[0m \u001b[1m0s\u001b[0m 3ms/step - loss: 0.4212\n",
            "Epoch 20/100\n",
            "\u001b[1m35/36\u001b[0m \u001b[32m━━━━━━━━━━━━━━━━━━━\u001b[0m\u001b[37m━\u001b[0m \u001b[1m0s\u001b[0m 3ms/step - loss: 0.4154\n",
            "Epoch 20: loss did not improve from 0.39603\n",
            "\u001b[1m36/36\u001b[0m \u001b[32m━━━━━━━━━━━━━━━━━━━━\u001b[0m\u001b[37m\u001b[0m \u001b[1m0s\u001b[0m 4ms/step - loss: 0.4155\n",
            "Epoch 21/100\n",
            "\u001b[1m35/36\u001b[0m \u001b[32m━━━━━━━━━━━━━━━━━━━\u001b[0m\u001b[37m━\u001b[0m \u001b[1m0s\u001b[0m 5ms/step - loss: 0.4188\n",
            "Epoch 21: loss did not improve from 0.39603\n",
            "\u001b[1m36/36\u001b[0m \u001b[32m━━━━━━━━━━━━━━━━━━━━\u001b[0m\u001b[37m\u001b[0m \u001b[1m0s\u001b[0m 5ms/step - loss: 0.4192\n",
            "Epoch 22/100\n",
            "\u001b[1m23/36\u001b[0m \u001b[32m━━━━━━━━━━━━\u001b[0m\u001b[37m━━━━━━━━\u001b[0m \u001b[1m0s\u001b[0m 2ms/step - loss: 0.4191 \n",
            "Epoch 22: loss did not improve from 0.39603\n",
            "\u001b[1m36/36\u001b[0m \u001b[32m━━━━━━━━━━━━━━━━━━━━\u001b[0m\u001b[37m\u001b[0m \u001b[1m0s\u001b[0m 3ms/step - loss: 0.4196\n",
            "Epoch 23/100\n",
            "\u001b[1m19/36\u001b[0m \u001b[32m━━━━━━━━━━\u001b[0m\u001b[37m━━━━━━━━━━\u001b[0m \u001b[1m0s\u001b[0m 3ms/step - loss: 0.4120 \n",
            "Epoch 23: loss did not improve from 0.39603\n",
            "\u001b[1m36/36\u001b[0m \u001b[32m━━━━━━━━━━━━━━━━━━━━\u001b[0m\u001b[37m\u001b[0m \u001b[1m0s\u001b[0m 4ms/step - loss: 0.4119\n",
            "Epoch 24/100\n",
            "\u001b[1m30/36\u001b[0m \u001b[32m━━━━━━━━━━━━━━━━\u001b[0m\u001b[37m━━━━\u001b[0m \u001b[1m0s\u001b[0m 4ms/step - loss: 0.4058\n",
            "Epoch 24: loss did not improve from 0.39603\n",
            "\u001b[1m36/36\u001b[0m \u001b[32m━━━━━━━━━━━━━━━━━━━━\u001b[0m\u001b[37m\u001b[0m \u001b[1m0s\u001b[0m 4ms/step - loss: 0.4063\n",
            "Epoch 25/100\n",
            "\u001b[1m25/36\u001b[0m \u001b[32m━━━━━━━━━━━━━\u001b[0m\u001b[37m━━━━━━━\u001b[0m \u001b[1m0s\u001b[0m 2ms/step - loss: 0.4188 \n",
            "Epoch 25: loss did not improve from 0.39603\n",
            "\u001b[1m36/36\u001b[0m \u001b[32m━━━━━━━━━━━━━━━━━━━━\u001b[0m\u001b[37m\u001b[0m \u001b[1m0s\u001b[0m 3ms/step - loss: 0.4173\n",
            "Epoch 26/100\n",
            "\u001b[1m25/36\u001b[0m \u001b[32m━━━━━━━━━━━━━\u001b[0m\u001b[37m━━━━━━━\u001b[0m \u001b[1m0s\u001b[0m 2ms/step - loss: 0.4136 \n",
            "Epoch 26: loss did not improve from 0.39603\n",
            "\u001b[1m36/36\u001b[0m \u001b[32m━━━━━━━━━━━━━━━━━━━━\u001b[0m\u001b[37m\u001b[0m \u001b[1m0s\u001b[0m 3ms/step - loss: 0.4110\n",
            "Epoch 27/100\n",
            "\u001b[1m19/36\u001b[0m \u001b[32m━━━━━━━━━━\u001b[0m\u001b[37m━━━━━━━━━━\u001b[0m \u001b[1m0s\u001b[0m 3ms/step - loss: 0.4120 \n",
            "Epoch 27: loss did not improve from 0.39603\n",
            "\u001b[1m36/36\u001b[0m \u001b[32m━━━━━━━━━━━━━━━━━━━━\u001b[0m\u001b[37m\u001b[0m \u001b[1m0s\u001b[0m 3ms/step - loss: 0.4107\n",
            "Epoch 28/100\n",
            "\u001b[1m21/36\u001b[0m \u001b[32m━━━━━━━━━━━\u001b[0m\u001b[37m━━━━━━━━━\u001b[0m \u001b[1m0s\u001b[0m 3ms/step - loss: 0.4039 \n",
            "Epoch 28: loss did not improve from 0.39603\n",
            "\u001b[1m36/36\u001b[0m \u001b[32m━━━━━━━━━━━━━━━━━━━━\u001b[0m\u001b[37m\u001b[0m \u001b[1m0s\u001b[0m 3ms/step - loss: 0.4047\n",
            "Epoch 29/100\n",
            "\u001b[1m31/36\u001b[0m \u001b[32m━━━━━━━━━━━━━━━━━\u001b[0m\u001b[37m━━━\u001b[0m \u001b[1m0s\u001b[0m 3ms/step - loss: 0.4089\n",
            "Epoch 29: loss did not improve from 0.39603\n",
            "\u001b[1m36/36\u001b[0m \u001b[32m━━━━━━━━━━━━━━━━━━━━\u001b[0m\u001b[37m\u001b[0m \u001b[1m0s\u001b[0m 4ms/step - loss: 0.4090\n",
            "Epoch 30/100\n",
            "\u001b[1m29/36\u001b[0m \u001b[32m━━━━━━━━━━━━━━━━\u001b[0m\u001b[37m━━━━\u001b[0m \u001b[1m0s\u001b[0m 4ms/step - loss: 0.4078\n",
            "Epoch 30: loss did not improve from 0.39603\n",
            "\u001b[1m36/36\u001b[0m \u001b[32m━━━━━━━━━━━━━━━━━━━━\u001b[0m\u001b[37m\u001b[0m \u001b[1m0s\u001b[0m 4ms/step - loss: 0.4091\n",
            "Epoch 31/100\n",
            "\u001b[1m35/36\u001b[0m \u001b[32m━━━━━━━━━━━━━━━━━━━\u001b[0m\u001b[37m━\u001b[0m \u001b[1m0s\u001b[0m 3ms/step - loss: 0.4139 \n",
            "Epoch 31: loss did not improve from 0.39603\n",
            "\u001b[1m36/36\u001b[0m \u001b[32m━━━━━━━━━━━━━━━━━━━━\u001b[0m\u001b[37m\u001b[0m \u001b[1m0s\u001b[0m 4ms/step - loss: 0.4139\n",
            "Epoch 32/100\n",
            "\u001b[1m35/36\u001b[0m \u001b[32m━━━━━━━━━━━━━━━━━━━\u001b[0m\u001b[37m━\u001b[0m \u001b[1m0s\u001b[0m 3ms/step - loss: 0.4491\n",
            "Epoch 32: loss did not improve from 0.39603\n",
            "\u001b[1m36/36\u001b[0m \u001b[32m━━━━━━━━━━━━━━━━━━━━\u001b[0m\u001b[37m\u001b[0m \u001b[1m0s\u001b[0m 4ms/step - loss: 0.4481\n",
            "Epoch 33/100\n",
            "\u001b[1m35/36\u001b[0m \u001b[32m━━━━━━━━━━━━━━━━━━━\u001b[0m\u001b[37m━\u001b[0m \u001b[1m0s\u001b[0m 3ms/step - loss: 0.4160\n",
            "Epoch 33: loss did not improve from 0.39603\n",
            "\u001b[1m36/36\u001b[0m \u001b[32m━━━━━━━━━━━━━━━━━━━━\u001b[0m\u001b[37m\u001b[0m \u001b[1m0s\u001b[0m 4ms/step - loss: 0.4158\n",
            "Epoch 34/100\n",
            "\u001b[1m22/36\u001b[0m \u001b[32m━━━━━━━━━━━━\u001b[0m\u001b[37m━━━━━━━━\u001b[0m \u001b[1m0s\u001b[0m 2ms/step - loss: 0.4051 \n",
            "Epoch 34: loss did not improve from 0.39603\n",
            "\u001b[1m36/36\u001b[0m \u001b[32m━━━━━━━━━━━━━━━━━━━━\u001b[0m\u001b[37m\u001b[0m \u001b[1m0s\u001b[0m 4ms/step - loss: 0.4055\n",
            "Epoch 35/100\n",
            "\u001b[1m21/36\u001b[0m \u001b[32m━━━━━━━━━━━\u001b[0m\u001b[37m━━━━━━━━━\u001b[0m \u001b[1m0s\u001b[0m 3ms/step - loss: 0.4174 \n",
            "Epoch 35: loss did not improve from 0.39603\n",
            "\u001b[1m36/36\u001b[0m \u001b[32m━━━━━━━━━━━━━━━━━━━━\u001b[0m\u001b[37m\u001b[0m \u001b[1m0s\u001b[0m 3ms/step - loss: 0.4198\n",
            "Epoch 36/100\n",
            "\u001b[1m33/36\u001b[0m \u001b[32m━━━━━━━━━━━━━━━━━━\u001b[0m\u001b[37m━━\u001b[0m \u001b[1m0s\u001b[0m 3ms/step - loss: 0.4007\n",
            "Epoch 36: loss did not improve from 0.39603\n",
            "\u001b[1m36/36\u001b[0m \u001b[32m━━━━━━━━━━━━━━━━━━━━\u001b[0m\u001b[37m\u001b[0m \u001b[1m0s\u001b[0m 4ms/step - loss: 0.4013\n",
            "Epoch 37/100\n",
            "\u001b[1m21/36\u001b[0m \u001b[32m━━━━━━━━━━━\u001b[0m\u001b[37m━━━━━━━━━\u001b[0m \u001b[1m0s\u001b[0m 3ms/step - loss: 0.4072 \n",
            "Epoch 37: loss did not improve from 0.39603\n",
            "\u001b[1m36/36\u001b[0m \u001b[32m━━━━━━━━━━━━━━━━━━━━\u001b[0m\u001b[37m\u001b[0m \u001b[1m0s\u001b[0m 3ms/step - loss: 0.4061\n",
            "Epoch 38/100\n",
            "\u001b[1m29/36\u001b[0m \u001b[32m━━━━━━━━━━━━━━━━\u001b[0m\u001b[37m━━━━\u001b[0m \u001b[1m0s\u001b[0m 4ms/step - loss: 0.4074\n",
            "Epoch 38: loss did not improve from 0.39603\n",
            "\u001b[1m36/36\u001b[0m \u001b[32m━━━━━━━━━━━━━━━━━━━━\u001b[0m\u001b[37m\u001b[0m \u001b[1m0s\u001b[0m 4ms/step - loss: 0.4072\n",
            "Epoch 39/100\n",
            "\u001b[1m33/36\u001b[0m \u001b[32m━━━━━━━━━━━━━━━━━━\u001b[0m\u001b[37m━━\u001b[0m \u001b[1m0s\u001b[0m 3ms/step - loss: 0.4024\n",
            "Epoch 39: loss did not improve from 0.39603\n",
            "\u001b[1m36/36\u001b[0m \u001b[32m━━━━━━━━━━━━━━━━━━━━\u001b[0m\u001b[37m\u001b[0m \u001b[1m0s\u001b[0m 4ms/step - loss: 0.4028\n",
            "Epoch 40/100\n",
            "\u001b[1m25/36\u001b[0m \u001b[32m━━━━━━━━━━━━━\u001b[0m\u001b[37m━━━━━━━\u001b[0m \u001b[1m0s\u001b[0m 2ms/step - loss: 0.4013 \n",
            "Epoch 40: loss did not improve from 0.39603\n",
            "\u001b[1m36/36\u001b[0m \u001b[32m━━━━━━━━━━━━━━━━━━━━\u001b[0m\u001b[37m\u001b[0m \u001b[1m0s\u001b[0m 3ms/step - loss: 0.4014\n",
            "Epoch 41/100\n",
            "\u001b[1m18/36\u001b[0m \u001b[32m━━━━━━━━━━\u001b[0m\u001b[37m━━━━━━━━━━\u001b[0m \u001b[1m0s\u001b[0m 3ms/step - loss: 0.4044 \n",
            "Epoch 41: loss did not improve from 0.39603\n",
            "\u001b[1m36/36\u001b[0m \u001b[32m━━━━━━━━━━━━━━━━━━━━\u001b[0m\u001b[37m\u001b[0m \u001b[1m0s\u001b[0m 4ms/step - loss: 0.4049\n",
            "Epoch 42/100\n",
            "\u001b[1m17/36\u001b[0m \u001b[32m━━━━━━━━━\u001b[0m\u001b[37m━━━━━━━━━━━\u001b[0m \u001b[1m0s\u001b[0m 3ms/step - loss: 0.4094 \n",
            "Epoch 42: loss did not improve from 0.39603\n",
            "\u001b[1m36/36\u001b[0m \u001b[32m━━━━━━━━━━━━━━━━━━━━\u001b[0m\u001b[37m\u001b[0m \u001b[1m0s\u001b[0m 4ms/step - loss: 0.4089\n",
            "Epoch 43/100\n",
            "\u001b[1m35/36\u001b[0m \u001b[32m━━━━━━━━━━━━━━━━━━━\u001b[0m\u001b[37m━\u001b[0m \u001b[1m0s\u001b[0m 3ms/step - loss: 0.4148\n",
            "Epoch 43: loss did not improve from 0.39603\n",
            "\u001b[1m36/36\u001b[0m \u001b[32m━━━━━━━━━━━━━━━━━━━━\u001b[0m\u001b[37m\u001b[0m \u001b[1m0s\u001b[0m 4ms/step - loss: 0.4144\n",
            "Epoch 44/100\n",
            "\u001b[1m34/36\u001b[0m \u001b[32m━━━━━━━━━━━━━━━━━━\u001b[0m\u001b[37m━━\u001b[0m \u001b[1m0s\u001b[0m 3ms/step - loss: 0.4369\n",
            "Epoch 44: loss did not improve from 0.39603\n",
            "\u001b[1m36/36\u001b[0m \u001b[32m━━━━━━━━━━━━━━━━━━━━\u001b[0m\u001b[37m\u001b[0m \u001b[1m0s\u001b[0m 4ms/step - loss: 0.4355\n",
            "Epoch 45/100\n",
            "\u001b[1m29/36\u001b[0m \u001b[32m━━━━━━━━━━━━━━━━\u001b[0m\u001b[37m━━━━\u001b[0m \u001b[1m0s\u001b[0m 4ms/step - loss: 0.4073\n",
            "Epoch 45: loss did not improve from 0.39603\n",
            "\u001b[1m36/36\u001b[0m \u001b[32m━━━━━━━━━━━━━━━━━━━━\u001b[0m\u001b[37m\u001b[0m \u001b[1m0s\u001b[0m 5ms/step - loss: 0.4071\n",
            "Epoch 46/100\n",
            "\u001b[1m32/36\u001b[0m \u001b[32m━━━━━━━━━━━━━━━━━\u001b[0m\u001b[37m━━━\u001b[0m \u001b[1m0s\u001b[0m 3ms/step - loss: 0.4089\n",
            "Epoch 46: loss did not improve from 0.39603\n",
            "\u001b[1m36/36\u001b[0m \u001b[32m━━━━━━━━━━━━━━━━━━━━\u001b[0m\u001b[37m\u001b[0m \u001b[1m0s\u001b[0m 4ms/step - loss: 0.4083\n",
            "Epoch 47/100\n",
            "\u001b[1m21/36\u001b[0m \u001b[32m━━━━━━━━━━━\u001b[0m\u001b[37m━━━━━━━━━\u001b[0m \u001b[1m0s\u001b[0m 3ms/step - loss: 0.4109 \n",
            "Epoch 47: loss did not improve from 0.39603\n",
            "\u001b[1m36/36\u001b[0m \u001b[32m━━━━━━━━━━━━━━━━━━━━\u001b[0m\u001b[37m\u001b[0m \u001b[1m0s\u001b[0m 3ms/step - loss: 0.4074\n",
            "Epoch 48/100\n",
            "\u001b[1m22/36\u001b[0m \u001b[32m━━━━━━━━━━━━\u001b[0m\u001b[37m━━━━━━━━\u001b[0m \u001b[1m0s\u001b[0m 2ms/step - loss: 0.4169 \n",
            "Epoch 48: loss did not improve from 0.39603\n",
            "\u001b[1m36/36\u001b[0m \u001b[32m━━━━━━━━━━━━━━━━━━━━\u001b[0m\u001b[37m\u001b[0m \u001b[1m0s\u001b[0m 3ms/step - loss: 0.4152\n",
            "Epoch 49/100\n",
            "\u001b[1m23/36\u001b[0m \u001b[32m━━━━━━━━━━━━\u001b[0m\u001b[37m━━━━━━━━\u001b[0m \u001b[1m0s\u001b[0m 2ms/step - loss: 0.4573 \n",
            "Epoch 49: loss did not improve from 0.39603\n",
            "\u001b[1m36/36\u001b[0m \u001b[32m━━━━━━━━━━━━━━━━━━━━\u001b[0m\u001b[37m\u001b[0m \u001b[1m0s\u001b[0m 3ms/step - loss: 0.4460\n",
            "Epoch 50/100\n",
            "\u001b[1m24/36\u001b[0m \u001b[32m━━━━━━━━━━━━━\u001b[0m\u001b[37m━━━━━━━\u001b[0m \u001b[1m0s\u001b[0m 2ms/step - loss: 0.4119 \n",
            "Epoch 50: loss did not improve from 0.39603\n",
            "\u001b[1m36/36\u001b[0m \u001b[32m━━━━━━━━━━━━━━━━━━━━\u001b[0m\u001b[37m\u001b[0m \u001b[1m0s\u001b[0m 3ms/step - loss: 0.4122\n",
            "Epoch 51/100\n",
            "\u001b[1m21/36\u001b[0m \u001b[32m━━━━━━━━━━━\u001b[0m\u001b[37m━━━━━━━━━\u001b[0m \u001b[1m0s\u001b[0m 3ms/step - loss: 0.4162 \n",
            "Epoch 51: loss did not improve from 0.39603\n",
            "\u001b[1m36/36\u001b[0m \u001b[32m━━━━━━━━━━━━━━━━━━━━\u001b[0m\u001b[37m\u001b[0m \u001b[1m0s\u001b[0m 3ms/step - loss: 0.4172\n",
            "Epoch 52/100\n",
            "\u001b[1m20/36\u001b[0m \u001b[32m━━━━━━━━━━━\u001b[0m\u001b[37m━━━━━━━━━\u001b[0m \u001b[1m0s\u001b[0m 3ms/step - loss: 0.4131 \n",
            "Epoch 52: loss did not improve from 0.39603\n",
            "\u001b[1m36/36\u001b[0m \u001b[32m━━━━━━━━━━━━━━━━━━━━\u001b[0m\u001b[37m\u001b[0m \u001b[1m0s\u001b[0m 3ms/step - loss: 0.4091\n",
            "Epoch 53/100\n",
            "\u001b[1m25/36\u001b[0m \u001b[32m━━━━━━━━━━━━━\u001b[0m\u001b[37m━━━━━━━\u001b[0m \u001b[1m0s\u001b[0m 4ms/step - loss: 0.3953 \n",
            "Epoch 53: loss did not improve from 0.39603\n",
            "\u001b[1m36/36\u001b[0m \u001b[32m━━━━━━━━━━━━━━━━━━━━\u001b[0m\u001b[37m\u001b[0m \u001b[1m0s\u001b[0m 5ms/step - loss: 0.3995\n",
            "Epoch 54/100\n",
            "\u001b[1m36/36\u001b[0m \u001b[32m━━━━━━━━━━━━━━━━━━━━\u001b[0m\u001b[37m\u001b[0m \u001b[1m0s\u001b[0m 3ms/step - loss: 0.4303\n",
            "Epoch 54: loss did not improve from 0.39603\n",
            "\u001b[1m36/36\u001b[0m \u001b[32m━━━━━━━━━━━━━━━━━━━━\u001b[0m\u001b[37m\u001b[0m \u001b[1m0s\u001b[0m 4ms/step - loss: 0.4299\n",
            "Epoch 55/100\n",
            "\u001b[1m21/36\u001b[0m \u001b[32m━━━━━━━━━━━\u001b[0m\u001b[37m━━━━━━━━━\u001b[0m \u001b[1m0s\u001b[0m 3ms/step - loss: 0.3926 \n",
            "Epoch 55: loss did not improve from 0.39603\n",
            "\u001b[1m36/36\u001b[0m \u001b[32m━━━━━━━━━━━━━━━━━━━━\u001b[0m\u001b[37m\u001b[0m \u001b[1m0s\u001b[0m 3ms/step - loss: 0.3983\n",
            "Epoch 56/100\n",
            "\u001b[1m24/36\u001b[0m \u001b[32m━━━━━━━━━━━━━\u001b[0m\u001b[37m━━━━━━━\u001b[0m \u001b[1m0s\u001b[0m 2ms/step - loss: 0.4104 \n",
            "Epoch 56: loss did not improve from 0.39603\n",
            "\u001b[1m36/36\u001b[0m \u001b[32m━━━━━━━━━━━━━━━━━━━━\u001b[0m\u001b[37m\u001b[0m \u001b[1m0s\u001b[0m 3ms/step - loss: 0.4107\n",
            "Epoch 57/100\n",
            "\u001b[1m19/36\u001b[0m \u001b[32m━━━━━━━━━━\u001b[0m\u001b[37m━━━━━━━━━━\u001b[0m \u001b[1m0s\u001b[0m 3ms/step - loss: 0.4127 \n",
            "Epoch 57: loss did not improve from 0.39603\n",
            "\u001b[1m36/36\u001b[0m \u001b[32m━━━━━━━━━━━━━━━━━━━━\u001b[0m\u001b[37m\u001b[0m \u001b[1m0s\u001b[0m 3ms/step - loss: 0.4111\n",
            "Epoch 58/100\n",
            "\u001b[1m19/36\u001b[0m \u001b[32m━━━━━━━━━━\u001b[0m\u001b[37m━━━━━━━━━━\u001b[0m \u001b[1m0s\u001b[0m 3ms/step - loss: 0.4121 \n",
            "Epoch 58: loss did not improve from 0.39603\n",
            "\u001b[1m36/36\u001b[0m \u001b[32m━━━━━━━━━━━━━━━━━━━━\u001b[0m\u001b[37m\u001b[0m \u001b[1m0s\u001b[0m 3ms/step - loss: 0.4108\n",
            "Epoch 59/100\n",
            "\u001b[1m23/36\u001b[0m \u001b[32m━━━━━━━━━━━━\u001b[0m\u001b[37m━━━━━━━━\u001b[0m \u001b[1m0s\u001b[0m 2ms/step - loss: 0.4148 \n",
            "Epoch 59: loss did not improve from 0.39603\n",
            "\u001b[1m36/36\u001b[0m \u001b[32m━━━━━━━━━━━━━━━━━━━━\u001b[0m\u001b[37m\u001b[0m \u001b[1m0s\u001b[0m 3ms/step - loss: 0.4162\n",
            "Epoch 60/100\n",
            "\u001b[1m19/36\u001b[0m \u001b[32m━━━━━━━━━━\u001b[0m\u001b[37m━━━━━━━━━━\u001b[0m \u001b[1m0s\u001b[0m 3ms/step - loss: 0.4168 \n",
            "Epoch 60: loss did not improve from 0.39603\n",
            "\u001b[1m36/36\u001b[0m \u001b[32m━━━━━━━━━━━━━━━━━━━━\u001b[0m\u001b[37m\u001b[0m \u001b[1m0s\u001b[0m 4ms/step - loss: 0.4123\n",
            "Epoch 61/100\n",
            "\u001b[1m33/36\u001b[0m \u001b[32m━━━━━━━━━━━━━━━━━━\u001b[0m\u001b[37m━━\u001b[0m \u001b[1m0s\u001b[0m 5ms/step - loss: 0.4361\n",
            "Epoch 61: loss did not improve from 0.39603\n",
            "\u001b[1m36/36\u001b[0m \u001b[32m━━━━━━━━━━━━━━━━━━━━\u001b[0m\u001b[37m\u001b[0m \u001b[1m0s\u001b[0m 6ms/step - loss: 0.4353\n",
            "Epoch 62/100\n",
            "\u001b[1m35/36\u001b[0m \u001b[32m━━━━━━━━━━━━━━━━━━━\u001b[0m\u001b[37m━\u001b[0m \u001b[1m0s\u001b[0m 3ms/step - loss: 0.4135\n",
            "Epoch 62: loss did not improve from 0.39603\n",
            "\u001b[1m36/36\u001b[0m \u001b[32m━━━━━━━━━━━━━━━━━━━━\u001b[0m\u001b[37m\u001b[0m \u001b[1m0s\u001b[0m 4ms/step - loss: 0.4133\n",
            "Epoch 63/100\n",
            "\u001b[1m26/36\u001b[0m \u001b[32m━━━━━━━━━━━━━━\u001b[0m\u001b[37m━━━━━━\u001b[0m \u001b[1m0s\u001b[0m 12ms/step - loss: 0.4081\n",
            "Epoch 63: loss did not improve from 0.39603\n",
            "\u001b[1m36/36\u001b[0m \u001b[32m━━━━━━━━━━━━━━━━━━━━\u001b[0m\u001b[37m\u001b[0m \u001b[1m0s\u001b[0m 11ms/step - loss: 0.4069\n",
            "Epoch 64/100\n",
            "\u001b[1m36/36\u001b[0m \u001b[32m━━━━━━━━━━━━━━━━━━━━\u001b[0m\u001b[37m\u001b[0m \u001b[1m0s\u001b[0m 4ms/step - loss: 0.4054\n",
            "Epoch 64: loss did not improve from 0.39603\n",
            "\u001b[1m36/36\u001b[0m \u001b[32m━━━━━━━━━━━━━━━━━━━━\u001b[0m\u001b[37m\u001b[0m \u001b[1m0s\u001b[0m 5ms/step - loss: 0.4054\n",
            "Epoch 65/100\n",
            "\u001b[1m28/36\u001b[0m \u001b[32m━━━━━━━━━━━━━━━\u001b[0m\u001b[37m━━━━━\u001b[0m \u001b[1m0s\u001b[0m 4ms/step - loss: 0.4114\n",
            "Epoch 65: loss did not improve from 0.39603\n",
            "\u001b[1m36/36\u001b[0m \u001b[32m━━━━━━━━━━━━━━━━━━━━\u001b[0m\u001b[37m\u001b[0m \u001b[1m0s\u001b[0m 5ms/step - loss: 0.4108\n",
            "Epoch 66/100\n",
            "\u001b[1m34/36\u001b[0m \u001b[32m━━━━━━━━━━━━━━━━━━\u001b[0m\u001b[37m━━\u001b[0m \u001b[1m0s\u001b[0m 3ms/step - loss: 0.4063\n",
            "Epoch 66: loss did not improve from 0.39603\n",
            "\u001b[1m36/36\u001b[0m \u001b[32m━━━━━━━━━━━━━━━━━━━━\u001b[0m\u001b[37m\u001b[0m \u001b[1m0s\u001b[0m 4ms/step - loss: 0.4061\n",
            "Epoch 67/100\n",
            "\u001b[1m27/36\u001b[0m \u001b[32m━━━━━━━━━━━━━━━\u001b[0m\u001b[37m━━━━━\u001b[0m \u001b[1m0s\u001b[0m 4ms/step - loss: 0.4145\n",
            "Epoch 67: loss did not improve from 0.39603\n",
            "\u001b[1m36/36\u001b[0m \u001b[32m━━━━━━━━━━━━━━━━━━━━\u001b[0m\u001b[37m\u001b[0m \u001b[1m0s\u001b[0m 6ms/step - loss: 0.4143\n",
            "Epoch 68/100\n",
            "\u001b[1m31/36\u001b[0m \u001b[32m━━━━━━━━━━━━━━━━━\u001b[0m\u001b[37m━━━\u001b[0m \u001b[1m0s\u001b[0m 4ms/step - loss: 0.4175\n",
            "Epoch 68: loss did not improve from 0.39603\n",
            "\u001b[1m36/36\u001b[0m \u001b[32m━━━━━━━━━━━━━━━━━━━━\u001b[0m\u001b[37m\u001b[0m \u001b[1m0s\u001b[0m 5ms/step - loss: 0.4171\n",
            "Epoch 69/100\n",
            "\u001b[1m29/36\u001b[0m \u001b[32m━━━━━━━━━━━━━━━━\u001b[0m\u001b[37m━━━━\u001b[0m \u001b[1m0s\u001b[0m 4ms/step - loss: 0.4104\n",
            "Epoch 69: loss did not improve from 0.39603\n",
            "\u001b[1m36/36\u001b[0m \u001b[32m━━━━━━━━━━━━━━━━━━━━\u001b[0m\u001b[37m\u001b[0m \u001b[1m0s\u001b[0m 5ms/step - loss: 0.4097\n",
            "Epoch 70/100\n",
            "\u001b[1m34/36\u001b[0m \u001b[32m━━━━━━━━━━━━━━━━━━\u001b[0m\u001b[37m━━\u001b[0m \u001b[1m0s\u001b[0m 7ms/step - loss: 0.4104\n",
            "Epoch 70: loss did not improve from 0.39603\n",
            "\u001b[1m36/36\u001b[0m \u001b[32m━━━━━━━━━━━━━━━━━━━━\u001b[0m\u001b[37m\u001b[0m \u001b[1m0s\u001b[0m 9ms/step - loss: 0.4101\n",
            "Epoch 71/100\n",
            "\u001b[1m28/36\u001b[0m \u001b[32m━━━━━━━━━━━━━━━\u001b[0m\u001b[37m━━━━━\u001b[0m \u001b[1m0s\u001b[0m 6ms/step - loss: 0.4133\n",
            "Epoch 71: loss did not improve from 0.39603\n",
            "\u001b[1m36/36\u001b[0m \u001b[32m━━━━━━━━━━━━━━━━━━━━\u001b[0m\u001b[37m\u001b[0m \u001b[1m0s\u001b[0m 7ms/step - loss: 0.4119\n",
            "Epoch 72/100\n",
            "\u001b[1m32/36\u001b[0m \u001b[32m━━━━━━━━━━━━━━━━━\u001b[0m\u001b[37m━━━\u001b[0m \u001b[1m0s\u001b[0m 3ms/step - loss: 0.4118\n",
            "Epoch 72: loss did not improve from 0.39603\n",
            "\u001b[1m36/36\u001b[0m \u001b[32m━━━━━━━━━━━━━━━━━━━━\u001b[0m\u001b[37m\u001b[0m \u001b[1m0s\u001b[0m 5ms/step - loss: 0.4104\n",
            "Epoch 73/100\n",
            "\u001b[1m28/36\u001b[0m \u001b[32m━━━━━━━━━━━━━━━\u001b[0m\u001b[37m━━━━━\u001b[0m \u001b[1m0s\u001b[0m 4ms/step - loss: 0.4213\n",
            "Epoch 73: loss did not improve from 0.39603\n",
            "\u001b[1m36/36\u001b[0m \u001b[32m━━━━━━━━━━━━━━━━━━━━\u001b[0m\u001b[37m\u001b[0m \u001b[1m0s\u001b[0m 5ms/step - loss: 0.4232\n",
            "Epoch 74/100\n",
            "\u001b[1m27/36\u001b[0m \u001b[32m━━━━━━━━━━━━━━━\u001b[0m\u001b[37m━━━━━\u001b[0m \u001b[1m0s\u001b[0m 4ms/step - loss: 0.4065\n",
            "Epoch 74: loss did not improve from 0.39603\n",
            "\u001b[1m36/36\u001b[0m \u001b[32m━━━━━━━━━━━━━━━━━━━━\u001b[0m\u001b[37m\u001b[0m \u001b[1m0s\u001b[0m 5ms/step - loss: 0.4056\n",
            "Epoch 75/100\n",
            "\u001b[1m35/36\u001b[0m \u001b[32m━━━━━━━━━━━━━━━━━━━\u001b[0m\u001b[37m━\u001b[0m \u001b[1m0s\u001b[0m 5ms/step - loss: 0.4079\n",
            "Epoch 75: loss did not improve from 0.39603\n",
            "\u001b[1m36/36\u001b[0m \u001b[32m━━━━━━━━━━━━━━━━━━━━\u001b[0m\u001b[37m\u001b[0m \u001b[1m0s\u001b[0m 6ms/step - loss: 0.4077\n",
            "Epoch 76/100\n",
            "\u001b[1m25/36\u001b[0m \u001b[32m━━━━━━━━━━━━━\u001b[0m\u001b[37m━━━━━━━\u001b[0m \u001b[1m0s\u001b[0m 4ms/step - loss: 0.4155\n",
            "Epoch 76: loss did not improve from 0.39603\n",
            "\u001b[1m36/36\u001b[0m \u001b[32m━━━━━━━━━━━━━━━━━━━━\u001b[0m\u001b[37m\u001b[0m \u001b[1m0s\u001b[0m 5ms/step - loss: 0.4160\n",
            "Epoch 77/100\n",
            "\u001b[1m27/36\u001b[0m \u001b[32m━━━━━━━━━━━━━━━\u001b[0m\u001b[37m━━━━━\u001b[0m \u001b[1m0s\u001b[0m 4ms/step - loss: 0.4083\n",
            "Epoch 77: loss did not improve from 0.39603\n",
            "\u001b[1m36/36\u001b[0m \u001b[32m━━━━━━━━━━━━━━━━━━━━\u001b[0m\u001b[37m\u001b[0m \u001b[1m0s\u001b[0m 5ms/step - loss: 0.4075\n",
            "Epoch 78/100\n",
            "\u001b[1m34/36\u001b[0m \u001b[32m━━━━━━━━━━━━━━━━━━\u001b[0m\u001b[37m━━\u001b[0m \u001b[1m0s\u001b[0m 8ms/step - loss: 0.4131\n",
            "Epoch 78: loss did not improve from 0.39603\n",
            "\u001b[1m36/36\u001b[0m \u001b[32m━━━━━━━━━━━━━━━━━━━━\u001b[0m\u001b[37m\u001b[0m \u001b[1m0s\u001b[0m 9ms/step - loss: 0.4126\n",
            "Epoch 79/100\n",
            "\u001b[1m33/36\u001b[0m \u001b[32m━━━━━━━━━━━━━━━━━━\u001b[0m\u001b[37m━━\u001b[0m \u001b[1m0s\u001b[0m 3ms/step - loss: 0.4069\n",
            "Epoch 79: loss did not improve from 0.39603\n",
            "\u001b[1m36/36\u001b[0m \u001b[32m━━━━━━━━━━━━━━━━━━━━\u001b[0m\u001b[37m\u001b[0m \u001b[1m0s\u001b[0m 5ms/step - loss: 0.4065\n",
            "Epoch 80/100\n",
            "\u001b[1m29/36\u001b[0m \u001b[32m━━━━━━━━━━━━━━━━\u001b[0m\u001b[37m━━━━\u001b[0m \u001b[1m0s\u001b[0m 7ms/step - loss: 0.4102\n",
            "Epoch 80: loss did not improve from 0.39603\n",
            "\u001b[1m36/36\u001b[0m \u001b[32m━━━━━━━━━━━━━━━━━━━━\u001b[0m\u001b[37m\u001b[0m \u001b[1m0s\u001b[0m 8ms/step - loss: 0.4110\n",
            "Epoch 81/100\n",
            "\u001b[1m27/36\u001b[0m \u001b[32m━━━━━━━━━━━━━━━\u001b[0m\u001b[37m━━━━━\u001b[0m \u001b[1m0s\u001b[0m 4ms/step - loss: 0.4080\n",
            "Epoch 81: loss did not improve from 0.39603\n",
            "\u001b[1m36/36\u001b[0m \u001b[32m━━━━━━━━━━━━━━━━━━━━\u001b[0m\u001b[37m\u001b[0m \u001b[1m0s\u001b[0m 5ms/step - loss: 0.4074\n",
            "Epoch 82/100\n",
            "\u001b[1m31/36\u001b[0m \u001b[32m━━━━━━━━━━━━━━━━━\u001b[0m\u001b[37m━━━\u001b[0m \u001b[1m0s\u001b[0m 3ms/step - loss: 0.4087\n",
            "Epoch 82: loss did not improve from 0.39603\n",
            "\u001b[1m36/36\u001b[0m \u001b[32m━━━━━━━━━━━━━━━━━━━━\u001b[0m\u001b[37m\u001b[0m \u001b[1m0s\u001b[0m 5ms/step - loss: 0.4081\n",
            "Epoch 83/100\n",
            "\u001b[1m31/36\u001b[0m \u001b[32m━━━━━━━━━━━━━━━━━\u001b[0m\u001b[37m━━━\u001b[0m \u001b[1m0s\u001b[0m 3ms/step - loss: 0.4069\n",
            "Epoch 83: loss did not improve from 0.39603\n",
            "\u001b[1m36/36\u001b[0m \u001b[32m━━━━━━━━━━━━━━━━━━━━\u001b[0m\u001b[37m\u001b[0m \u001b[1m0s\u001b[0m 4ms/step - loss: 0.4066\n",
            "Epoch 84/100\n",
            "\u001b[1m25/36\u001b[0m \u001b[32m━━━━━━━━━━━━━\u001b[0m\u001b[37m━━━━━━━\u001b[0m \u001b[1m0s\u001b[0m 4ms/step - loss: 0.4076\n",
            "Epoch 84: loss did not improve from 0.39603\n",
            "\u001b[1m36/36\u001b[0m \u001b[32m━━━━━━━━━━━━━━━━━━━━\u001b[0m\u001b[37m\u001b[0m \u001b[1m0s\u001b[0m 5ms/step - loss: 0.4101\n",
            "Epoch 85/100\n",
            "\u001b[1m29/36\u001b[0m \u001b[32m━━━━━━━━━━━━━━━━\u001b[0m\u001b[37m━━━━\u001b[0m \u001b[1m0s\u001b[0m 6ms/step - loss: 0.4067\n",
            "Epoch 85: loss did not improve from 0.39603\n",
            "\u001b[1m36/36\u001b[0m \u001b[32m━━━━━━━━━━━━━━━━━━━━\u001b[0m\u001b[37m\u001b[0m \u001b[1m0s\u001b[0m 7ms/step - loss: 0.4063\n",
            "Epoch 86/100\n",
            "\u001b[1m32/36\u001b[0m \u001b[32m━━━━━━━━━━━━━━━━━\u001b[0m\u001b[37m━━━\u001b[0m \u001b[1m0s\u001b[0m 3ms/step - loss: 0.4093\n",
            "Epoch 86: loss did not improve from 0.39603\n",
            "\u001b[1m36/36\u001b[0m \u001b[32m━━━━━━━━━━━━━━━━━━━━\u001b[0m\u001b[37m\u001b[0m \u001b[1m0s\u001b[0m 5ms/step - loss: 0.4096\n",
            "Epoch 87/100\n",
            "\u001b[1m31/36\u001b[0m \u001b[32m━━━━━━━━━━━━━━━━━\u001b[0m\u001b[37m━━━\u001b[0m \u001b[1m0s\u001b[0m 5ms/step - loss: 0.4017\n",
            "Epoch 87: loss did not improve from 0.39603\n",
            "\u001b[1m36/36\u001b[0m \u001b[32m━━━━━━━━━━━━━━━━━━━━\u001b[0m\u001b[37m\u001b[0m \u001b[1m0s\u001b[0m 9ms/step - loss: 0.4020\n",
            "Epoch 88/100\n",
            "\u001b[1m21/36\u001b[0m \u001b[32m━━━━━━━━━━━\u001b[0m\u001b[37m━━━━━━━━━\u001b[0m \u001b[1m0s\u001b[0m 5ms/step - loss: 0.4120\n",
            "Epoch 88: loss did not improve from 0.39603\n",
            "\u001b[1m36/36\u001b[0m \u001b[32m━━━━━━━━━━━━━━━━━━━━\u001b[0m\u001b[37m\u001b[0m \u001b[1m0s\u001b[0m 5ms/step - loss: 0.4103\n",
            "Epoch 89/100\n",
            "\u001b[1m27/36\u001b[0m \u001b[32m━━━━━━━━━━━━━━━\u001b[0m\u001b[37m━━━━━\u001b[0m \u001b[1m0s\u001b[0m 4ms/step - loss: 0.4111\n",
            "Epoch 89: loss did not improve from 0.39603\n",
            "\u001b[1m36/36\u001b[0m \u001b[32m━━━━━━━━━━━━━━━━━━━━\u001b[0m\u001b[37m\u001b[0m \u001b[1m0s\u001b[0m 5ms/step - loss: 0.4103\n",
            "Epoch 90/100\n",
            "\u001b[1m34/36\u001b[0m \u001b[32m━━━━━━━━━━━━━━━━━━\u001b[0m\u001b[37m━━\u001b[0m \u001b[1m0s\u001b[0m 3ms/step - loss: 0.4012\n",
            "Epoch 90: loss did not improve from 0.39603\n",
            "\u001b[1m36/36\u001b[0m \u001b[32m━━━━━━━━━━━━━━━━━━━━\u001b[0m\u001b[37m\u001b[0m \u001b[1m0s\u001b[0m 5ms/step - loss: 0.4014\n",
            "Epoch 91/100\n",
            "\u001b[1m36/36\u001b[0m \u001b[32m━━━━━━━━━━━━━━━━━━━━\u001b[0m\u001b[37m\u001b[0m \u001b[1m0s\u001b[0m 3ms/step - loss: 0.4343\n",
            "Epoch 91: loss did not improve from 0.39603\n",
            "\u001b[1m36/36\u001b[0m \u001b[32m━━━━━━━━━━━━━━━━━━━━\u001b[0m\u001b[37m\u001b[0m \u001b[1m0s\u001b[0m 4ms/step - loss: 0.4342\n",
            "Epoch 92/100\n",
            "\u001b[1m27/36\u001b[0m \u001b[32m━━━━━━━━━━━━━━━\u001b[0m\u001b[37m━━━━━\u001b[0m \u001b[1m0s\u001b[0m 4ms/step - loss: 0.4473\n",
            "Epoch 92: loss did not improve from 0.39603\n",
            "\u001b[1m36/36\u001b[0m \u001b[32m━━━━━━━━━━━━━━━━━━━━\u001b[0m\u001b[37m\u001b[0m \u001b[1m0s\u001b[0m 5ms/step - loss: 0.4448\n",
            "Epoch 93/100\n",
            "\u001b[1m22/36\u001b[0m \u001b[32m━━━━━━━━━━━━\u001b[0m\u001b[37m━━━━━━━━\u001b[0m \u001b[1m0s\u001b[0m 3ms/step - loss: 0.4542 \n",
            "Epoch 93: loss did not improve from 0.39603\n",
            "\u001b[1m36/36\u001b[0m \u001b[32m━━━━━━━━━━━━━━━━━━━━\u001b[0m\u001b[37m\u001b[0m \u001b[1m0s\u001b[0m 3ms/step - loss: 0.4451\n",
            "Epoch 94/100\n",
            "\u001b[1m24/36\u001b[0m \u001b[32m━━━━━━━━━━━━━\u001b[0m\u001b[37m━━━━━━━\u001b[0m \u001b[1m0s\u001b[0m 2ms/step - loss: 0.4091 \n",
            "Epoch 94: loss did not improve from 0.39603\n",
            "\u001b[1m36/36\u001b[0m \u001b[32m━━━━━━━━━━━━━━━━━━━━\u001b[0m\u001b[37m\u001b[0m \u001b[1m0s\u001b[0m 3ms/step - loss: 0.4081\n",
            "Epoch 95/100\n",
            "\u001b[1m24/36\u001b[0m \u001b[32m━━━━━━━━━━━━━\u001b[0m\u001b[37m━━━━━━━\u001b[0m \u001b[1m0s\u001b[0m 2ms/step - loss: 0.4013 \n",
            "Epoch 95: loss did not improve from 0.39603\n",
            "\u001b[1m36/36\u001b[0m \u001b[32m━━━━━━━━━━━━━━━━━━━━\u001b[0m\u001b[37m\u001b[0m \u001b[1m0s\u001b[0m 3ms/step - loss: 0.4031\n",
            "Epoch 96/100\n",
            "\u001b[1m35/36\u001b[0m \u001b[32m━━━━━━━━━━━━━━━━━━━\u001b[0m\u001b[37m━\u001b[0m \u001b[1m0s\u001b[0m 3ms/step - loss: 0.4067\n",
            "Epoch 96: loss did not improve from 0.39603\n",
            "\u001b[1m36/36\u001b[0m \u001b[32m━━━━━━━━━━━━━━━━━━━━\u001b[0m\u001b[37m\u001b[0m \u001b[1m0s\u001b[0m 4ms/step - loss: 0.4074\n",
            "Epoch 97/100\n",
            "\u001b[1m19/36\u001b[0m \u001b[32m━━━━━━━━━━\u001b[0m\u001b[37m━━━━━━━━━━\u001b[0m \u001b[1m0s\u001b[0m 3ms/step - loss: 0.4306 \n",
            "Epoch 97: loss did not improve from 0.39603\n",
            "\u001b[1m36/36\u001b[0m \u001b[32m━━━━━━━━━━━━━━━━━━━━\u001b[0m\u001b[37m\u001b[0m \u001b[1m0s\u001b[0m 4ms/step - loss: 0.4310\n",
            "Epoch 98/100\n",
            "\u001b[1m22/36\u001b[0m \u001b[32m━━━━━━━━━━━━\u001b[0m\u001b[37m━━━━━━━━\u001b[0m \u001b[1m0s\u001b[0m 2ms/step - loss: 0.4073 \n",
            "Epoch 98: loss did not improve from 0.39603\n",
            "\u001b[1m36/36\u001b[0m \u001b[32m━━━━━━━━━━━━━━━━━━━━\u001b[0m\u001b[37m\u001b[0m \u001b[1m0s\u001b[0m 3ms/step - loss: 0.4060\n",
            "Epoch 99/100\n",
            "\u001b[1m24/36\u001b[0m \u001b[32m━━━━━━━━━━━━━\u001b[0m\u001b[37m━━━━━━━\u001b[0m \u001b[1m0s\u001b[0m 2ms/step - loss: 0.4086 \n",
            "Epoch 99: loss did not improve from 0.39603\n",
            "\u001b[1m36/36\u001b[0m \u001b[32m━━━━━━━━━━━━━━━━━━━━\u001b[0m\u001b[37m\u001b[0m \u001b[1m0s\u001b[0m 3ms/step - loss: 0.4076\n",
            "Epoch 100/100\n",
            "\u001b[1m20/36\u001b[0m \u001b[32m━━━━━━━━━━━\u001b[0m\u001b[37m━━━━━━━━━\u001b[0m \u001b[1m0s\u001b[0m 3ms/step - loss: 0.4087 \n",
            "Epoch 100: loss did not improve from 0.39603\n",
            "\u001b[1m36/36\u001b[0m \u001b[32m━━━━━━━━━━━━━━━━━━━━\u001b[0m\u001b[37m\u001b[0m \u001b[1m0s\u001b[0m 4ms/step - loss: 0.4090\n"
          ]
        }
      ],
      "source": [
        "model, history = train_MLP_supervised(trainX, trainY,1,1,  num_feature= num_feature,binary = True)"
      ]
    },
    {
      "cell_type": "code",
      "execution_count": null,
      "metadata": {},
      "outputs": [
        {
          "data": {
            "image/png": "[encoded data removed]",
            "text/plain": [
              "<Figure size 800x500 with 1 Axes>"
            ]
          },
          "metadata": {},
          "output_type": "display_data"
        }
      ],
      "source": [
        "pd.DataFrame(history.history).plot(figsize=(8,5))\n",
        "plt.show()"
      ]
    },
    {
      "cell_type": "code",
      "execution_count": null,
      "metadata": {},
      "outputs": [
        {
          "data": {
            "text/html": [
              "<pre style=\"white-space:pre;overflow-x:auto;line-height:normal;font-family:Menlo,'DejaVu Sans Mono',consolas,'Courier New',monospace\"><span style=\"font-weight: bold\">Model: \"sequential_1\"</span>\n",
              "</pre>\n"
            ],
            "text/plain": [
              "\u001b[1mModel: \"sequential_1\"\u001b[0m\n"
            ]
          },
          "metadata": {},
          "output_type": "display_data"
        },
        {
          "data": {
            "text/html": [
              "<pre style=\"white-space:pre;overflow-x:auto;line-height:normal;font-family:Menlo,'DejaVu Sans Mono',consolas,'Courier New',monospace\">┏━━━━━━━━━━━━━━━━━━━━━━━━━━━━━━━━━┳━━━━━━━━━━━━━━━━━━━━━━━━┳━━━━━━━━━━━━━━━┓\n",
              "┃<span style=\"font-weight: bold\"> Layer (type)                    </span>┃<span style=\"font-weight: bold\"> Output Shape           </span>┃<span style=\"font-weight: bold\">       Param # </span>┃\n",
              "┡━━━━━━━━━━━━━━━━━━━━━━━━━━━━━━━━━╇━━━━━━━━━━━━━━━━━━━━━━━━╇━━━━━━━━━━━━━━━┩\n",
              "│ dropout_2 (<span style=\"color: #0087ff; text-decoration-color: #0087ff\">Dropout</span>)             │ (<span style=\"color: #00d7ff; text-decoration-color: #00d7ff\">None</span>, <span style=\"color: #00af00; text-decoration-color: #00af00\">11</span>)             │             <span style=\"color: #00af00; text-decoration-color: #00af00\">0</span> │\n",
              "├─────────────────────────────────┼────────────────────────┼───────────────┤\n",
              "│ dense_2 (<span style=\"color: #0087ff; text-decoration-color: #0087ff\">Dense</span>)                 │ (<span style=\"color: #00d7ff; text-decoration-color: #00d7ff\">None</span>, <span style=\"color: #00af00; text-decoration-color: #00af00\">5</span>)              │            <span style=\"color: #00af00; text-decoration-color: #00af00\">60</span> │\n",
              "├─────────────────────────────────┼────────────────────────┼───────────────┤\n",
              "│ dropout_3 (<span style=\"color: #0087ff; text-decoration-color: #0087ff\">Dropout</span>)             │ (<span style=\"color: #00d7ff; text-decoration-color: #00d7ff\">None</span>, <span style=\"color: #00af00; text-decoration-color: #00af00\">5</span>)              │             <span style=\"color: #00af00; text-decoration-color: #00af00\">0</span> │\n",
              "├─────────────────────────────────┼────────────────────────┼───────────────┤\n",
              "│ dense_3 (<span style=\"color: #0087ff; text-decoration-color: #0087ff\">Dense</span>)                 │ (<span style=\"color: #00d7ff; text-decoration-color: #00d7ff\">None</span>, <span style=\"color: #00af00; text-decoration-color: #00af00\">11</span>)             │            <span style=\"color: #00af00; text-decoration-color: #00af00\">66</span> │\n",
              "└─────────────────────────────────┴────────────────────────┴───────────────┘\n",
              "</pre>\n"
            ],
            "text/plain": [
              "┏━━━━━━━━━━━━━━━━━━━━━━━━━━━━━━━━━┳━━━━━━━━━━━━━━━━━━━━━━━━┳━━━━━━━━━━━━━━━┓\n",
              "┃\u001b[1m \u001b[0m\u001b[1mLayer (type)                   \u001b[0m\u001b[1m \u001b[0m┃\u001b[1m \u001b[0m\u001b[1mOutput Shape          \u001b[0m\u001b[1m \u001b[0m┃\u001b[1m \u001b[0m\u001b[1m      Param #\u001b[0m\u001b[1m \u001b[0m┃\n",
              "┡━━━━━━━━━━━━━━━━━━━━━━━━━━━━━━━━━╇━━━━━━━━━━━━━━━━━━━━━━━━╇━━━━━━━━━━━━━━━┩\n",
              "│ dropout_2 (\u001b[38;5;33mDropout\u001b[0m)             │ (\u001b[38;5;45mNone\u001b[0m, \u001b[38;5;34m11\u001b[0m)             │             \u001b[38;5;34m0\u001b[0m │\n",
              "├─────────────────────────────────┼────────────────────────┼───────────────┤\n",
              "│ dense_2 (\u001b[38;5;33mDense\u001b[0m)                 │ (\u001b[38;5;45mNone\u001b[0m, \u001b[38;5;34m5\u001b[0m)              │            \u001b[38;5;34m60\u001b[0m │\n",
              "├─────────────────────────────────┼────────────────────────┼───────────────┤\n",
              "│ dropout_3 (\u001b[38;5;33mDropout\u001b[0m)             │ (\u001b[38;5;45mNone\u001b[0m, \u001b[38;5;34m5\u001b[0m)              │             \u001b[38;5;34m0\u001b[0m │\n",
              "├─────────────────────────────────┼────────────────────────┼───────────────┤\n",
              "│ dense_3 (\u001b[38;5;33mDense\u001b[0m)                 │ (\u001b[38;5;45mNone\u001b[0m, \u001b[38;5;34m11\u001b[0m)             │            \u001b[38;5;34m66\u001b[0m │\n",
              "└─────────────────────────────────┴────────────────────────┴───────────────┘\n"
            ]
          },
          "metadata": {},
          "output_type": "display_data"
        },
        {
          "data": {
            "text/html": [
              "<pre style=\"white-space:pre;overflow-x:auto;line-height:normal;font-family:Menlo,'DejaVu Sans Mono',consolas,'Courier New',monospace\"><span style=\"font-weight: bold\"> Total params: </span><span style=\"color: #00af00; text-decoration-color: #00af00\">380</span> (1.49 KB)\n",
              "</pre>\n"
            ],
            "text/plain": [
              "\u001b[1m Total params: \u001b[0m\u001b[38;5;34m380\u001b[0m (1.49 KB)\n"
            ]
          },
          "metadata": {},
          "output_type": "display_data"
        },
        {
          "data": {
            "text/html": [
              "<pre style=\"white-space:pre;overflow-x:auto;line-height:normal;font-family:Menlo,'DejaVu Sans Mono',consolas,'Courier New',monospace\"><span style=\"font-weight: bold\"> Trainable params: </span><span style=\"color: #00af00; text-decoration-color: #00af00\">126</span> (504.00 B)\n",
              "</pre>\n"
            ],
            "text/plain": [
              "\u001b[1m Trainable params: \u001b[0m\u001b[38;5;34m126\u001b[0m (504.00 B)\n"
            ]
          },
          "metadata": {},
          "output_type": "display_data"
        },
        {
          "data": {
            "text/html": [
              "<pre style=\"white-space:pre;overflow-x:auto;line-height:normal;font-family:Menlo,'DejaVu Sans Mono',consolas,'Courier New',monospace\"><span style=\"font-weight: bold\"> Non-trainable params: </span><span style=\"color: #00af00; text-decoration-color: #00af00\">0</span> (0.00 B)\n",
              "</pre>\n"
            ],
            "text/plain": [
              "\u001b[1m Non-trainable params: \u001b[0m\u001b[38;5;34m0\u001b[0m (0.00 B)\n"
            ]
          },
          "metadata": {},
          "output_type": "display_data"
        },
        {
          "data": {
            "text/html": [
              "<pre style=\"white-space:pre;overflow-x:auto;line-height:normal;font-family:Menlo,'DejaVu Sans Mono',consolas,'Courier New',monospace\"><span style=\"font-weight: bold\"> Optimizer params: </span><span style=\"color: #00af00; text-decoration-color: #00af00\">254</span> (1020.00 B)\n",
              "</pre>\n"
            ],
            "text/plain": [
              "\u001b[1m Optimizer params: \u001b[0m\u001b[38;5;34m254\u001b[0m (1020.00 B)\n"
            ]
          },
          "metadata": {},
          "output_type": "display_data"
        }
      ],
      "source": [
        "model.summary()"
      ]
    },
    {
      "cell_type": "code",
      "execution_count": null,
      "metadata": {},
      "outputs": [
        {
          "name": "stdout",
          "output_type": "stream",
          "text": [
            "              precision    recall  f1-score   support\n",
            "\n",
            "         0.0       1.00      1.00      1.00     29458\n",
            "         1.0       1.00      1.00      1.00      6432\n",
            "\n",
            "    accuracy                           1.00     35890\n",
            "   macro avg       1.00      1.00      1.00     35890\n",
            "weighted avg       1.00      1.00      1.00     35890\n",
            "\n"
          ]
        }
      ],
      "source": [
        "prediction = test_model.predict(trainX)\n",
        "print(classification_report(trainY, prediction))"
      ]
    },
    {
      "cell_type": "code",
      "execution_count": null,
      "metadata": {},
      "outputs": [
        {
          "name": "stdout",
          "output_type": "stream",
          "text": [
            "              precision    recall  f1-score   support\n",
            "\n",
            "         0.0       0.95      0.97      0.96      8121\n",
            "         1.0       0.66      0.47      0.55       849\n",
            "\n",
            "    accuracy                           0.93      8970\n",
            "   macro avg       0.80      0.72      0.75      8970\n",
            "weighted avg       0.92      0.93      0.92      8970\n",
            "\n"
          ]
        }
      ],
      "source": [
        "prediction = test_model.predict(testX)\n",
        "print(classification_report(testY, prediction))"
      ]
    },
    {
      "cell_type": "code",
      "execution_count": null,
      "metadata": {},
      "outputs": [
        {
          "data": {
            "text/plain": [
              "(array([0., 1.]), array([8361,  609], dtype=int64))"
            ]
          },
          "execution_count": 105,
          "metadata": {},
          "output_type": "execute_result"
        }
      ],
      "source": [
        "np.unique(prediction, return_counts= True)"
      ]
    },
    {
      "cell_type": "code",
      "execution_count": null,
      "metadata": {},
      "outputs": [
        {
          "name": "stdout",
          "output_type": "stream",
          "text": [
            "Trial 100 Complete [00h 04m 16s]\n",
            "loss: 0.306769996881485\n",
            "\n",
            "Best loss So Far: 0.2743125557899475\n",
            "Total elapsed time: 05h 52m 05s\n",
            "Epoch 1/100\n",
            "\u001b[1m561/561\u001b[0m \u001b[32m━━━━━━━━━━━━━━━━━━━━\u001b[0m\u001b[37m\u001b[0m \u001b[1m4s\u001b[0m 4ms/step - loss: 0.6251\n",
            "Epoch 2/100\n",
            "\u001b[1m561/561\u001b[0m \u001b[32m━━━━━━━━━━━━━━━━━━━━\u001b[0m\u001b[37m\u001b[0m \u001b[1m2s\u001b[0m 4ms/step - loss: 0.4238\n",
            "Epoch 3/100\n",
            "\u001b[1m561/561\u001b[0m \u001b[32m━━━━━━━━━━━━━━━━━━━━\u001b[0m\u001b[37m\u001b[0m \u001b[1m3s\u001b[0m 5ms/step - loss: 0.3917\n",
            "Epoch 4/100\n",
            "\u001b[1m561/561\u001b[0m \u001b[32m━━━━━━━━━━━━━━━━━━━━\u001b[0m\u001b[37m\u001b[0m \u001b[1m2s\u001b[0m 4ms/step - loss: 0.3715\n",
            "Epoch 5/100\n",
            "\u001b[1m561/561\u001b[0m \u001b[32m━━━━━━━━━━━━━━━━━━━━\u001b[0m\u001b[37m\u001b[0m \u001b[1m2s\u001b[0m 4ms/step - loss: 0.3583\n",
            "Epoch 6/100\n",
            "\u001b[1m561/561\u001b[0m \u001b[32m━━━━━━━━━━━━━━━━━━━━\u001b[0m\u001b[37m\u001b[0m \u001b[1m2s\u001b[0m 4ms/step - loss: 0.3493\n",
            "Epoch 7/100\n",
            "\u001b[1m561/561\u001b[0m \u001b[32m━━━━━━━━━━━━━━━━━━━━\u001b[0m\u001b[37m\u001b[0m \u001b[1m2s\u001b[0m 4ms/step - loss: 0.3464\n",
            "Epoch 8/100\n",
            "\u001b[1m561/561\u001b[0m \u001b[32m━━━━━━━━━━━━━━━━━━━━\u001b[0m\u001b[37m\u001b[0m \u001b[1m2s\u001b[0m 4ms/step - loss: 0.3334\n",
            "Epoch 9/100\n",
            "\u001b[1m561/561\u001b[0m \u001b[32m━━━━━━━━━━━━━━━━━━━━\u001b[0m\u001b[37m\u001b[0m \u001b[1m2s\u001b[0m 4ms/step - loss: 0.3409\n",
            "Epoch 10/100\n",
            "\u001b[1m561/561\u001b[0m \u001b[32m━━━━━━━━━━━━━━━━━━━━\u001b[0m\u001b[37m\u001b[0m \u001b[1m2s\u001b[0m 4ms/step - loss: 0.3328\n",
            "Epoch 11/100\n",
            "\u001b[1m561/561\u001b[0m \u001b[32m━━━━━━━━━━━━━━━━━━━━\u001b[0m\u001b[37m\u001b[0m \u001b[1m3s\u001b[0m 4ms/step - loss: 0.3297\n",
            "Epoch 12/100\n",
            "\u001b[1m561/561\u001b[0m \u001b[32m━━━━━━━━━━━━━━━━━━━━\u001b[0m\u001b[37m\u001b[0m \u001b[1m3s\u001b[0m 4ms/step - loss: 0.3341\n",
            "Epoch 13/100\n",
            "\u001b[1m561/561\u001b[0m \u001b[32m━━━━━━━━━━━━━━━━━━━━\u001b[0m\u001b[37m\u001b[0m \u001b[1m2s\u001b[0m 4ms/step - loss: 0.3204\n",
            "Epoch 14/100\n",
            "\u001b[1m561/561\u001b[0m \u001b[32m━━━━━━━━━━━━━━━━━━━━\u001b[0m\u001b[37m\u001b[0m \u001b[1m3s\u001b[0m 4ms/step - loss: 0.3222\n",
            "Epoch 15/100\n",
            "\u001b[1m561/561\u001b[0m \u001b[32m━━━━━━━━━━━━━━━━━━━━\u001b[0m\u001b[37m\u001b[0m \u001b[1m2s\u001b[0m 4ms/step - loss: 0.3222\n",
            "Epoch 16/100\n",
            "\u001b[1m561/561\u001b[0m \u001b[32m━━━━━━━━━━━━━━━━━━━━\u001b[0m\u001b[37m\u001b[0m \u001b[1m3s\u001b[0m 4ms/step - loss: 0.3178\n",
            "Epoch 17/100\n",
            "\u001b[1m561/561\u001b[0m \u001b[32m━━━━━━━━━━━━━━━━━━━━\u001b[0m\u001b[37m\u001b[0m \u001b[1m2s\u001b[0m 4ms/step - loss: 0.3160\n",
            "Epoch 18/100\n",
            "\u001b[1m561/561\u001b[0m \u001b[32m━━━━━━━━━━━━━━━━━━━━\u001b[0m\u001b[37m\u001b[0m \u001b[1m2s\u001b[0m 4ms/step - loss: 0.3058\n",
            "Epoch 19/100\n",
            "\u001b[1m561/561\u001b[0m \u001b[32m━━━━━━━━━━━━━━━━━━━━\u001b[0m\u001b[37m\u001b[0m \u001b[1m3s\u001b[0m 4ms/step - loss: 0.3103\n",
            "Epoch 20/100\n",
            "\u001b[1m561/561\u001b[0m \u001b[32m━━━━━━━━━━━━━━━━━━━━\u001b[0m\u001b[37m\u001b[0m \u001b[1m3s\u001b[0m 4ms/step - loss: 0.3137\n",
            "Epoch 21/100\n",
            "\u001b[1m561/561\u001b[0m \u001b[32m━━━━━━━━━━━━━━━━━━━━\u001b[0m\u001b[37m\u001b[0m \u001b[1m3s\u001b[0m 4ms/step - loss: 0.3203\n",
            "Epoch 22/100\n",
            "\u001b[1m561/561\u001b[0m \u001b[32m━━━━━━━━━━━━━━━━━━━━\u001b[0m\u001b[37m\u001b[0m \u001b[1m3s\u001b[0m 5ms/step - loss: 0.3159\n",
            "Epoch 23/100\n",
            "\u001b[1m561/561\u001b[0m \u001b[32m━━━━━━━━━━━━━━━━━━━━\u001b[0m\u001b[37m\u001b[0m \u001b[1m2s\u001b[0m 4ms/step - loss: 0.3106\n",
            "Epoch 24/100\n",
            "\u001b[1m561/561\u001b[0m \u001b[32m━━━━━━━━━━━━━━━━━━━━\u001b[0m\u001b[37m\u001b[0m \u001b[1m3s\u001b[0m 4ms/step - loss: 0.3133\n",
            "Epoch 25/100\n",
            "\u001b[1m561/561\u001b[0m \u001b[32m━━━━━━━━━━━━━━━━━━━━\u001b[0m\u001b[37m\u001b[0m \u001b[1m3s\u001b[0m 4ms/step - loss: 0.3140\n",
            "Epoch 26/100\n",
            "\u001b[1m561/561\u001b[0m \u001b[32m━━━━━━━━━━━━━━━━━━━━\u001b[0m\u001b[37m\u001b[0m \u001b[1m3s\u001b[0m 4ms/step - loss: 0.3048\n",
            "Epoch 27/100\n",
            "\u001b[1m561/561\u001b[0m \u001b[32m━━━━━━━━━━━━━━━━━━━━\u001b[0m\u001b[37m\u001b[0m \u001b[1m3s\u001b[0m 4ms/step - loss: 0.3139\n",
            "Epoch 28/100\n",
            "\u001b[1m561/561\u001b[0m \u001b[32m━━━━━━━━━━━━━━━━━━━━\u001b[0m\u001b[37m\u001b[0m \u001b[1m2s\u001b[0m 4ms/step - loss: 0.3090\n",
            "Epoch 29/100\n",
            "\u001b[1m561/561\u001b[0m \u001b[32m━━━━━━━━━━━━━━━━━━━━\u001b[0m\u001b[37m\u001b[0m \u001b[1m2s\u001b[0m 4ms/step - loss: 0.3126\n",
            "Epoch 30/100\n",
            "\u001b[1m561/561\u001b[0m \u001b[32m━━━━━━━━━━━━━━━━━━━━\u001b[0m\u001b[37m\u001b[0m \u001b[1m2s\u001b[0m 4ms/step - loss: 0.3116\n",
            "Epoch 31/100\n",
            "\u001b[1m561/561\u001b[0m \u001b[32m━━━━━━━━━━━━━━━━━━━━\u001b[0m\u001b[37m\u001b[0m \u001b[1m3s\u001b[0m 5ms/step - loss: 0.3035\n",
            "Epoch 32/100\n",
            "\u001b[1m561/561\u001b[0m \u001b[32m━━━━━━━━━━━━━━━━━━━━\u001b[0m\u001b[37m\u001b[0m \u001b[1m2s\u001b[0m 4ms/step - loss: 0.3096\n",
            "Epoch 33/100\n",
            "\u001b[1m561/561\u001b[0m \u001b[32m━━━━━━━━━━━━━━━━━━━━\u001b[0m\u001b[37m\u001b[0m \u001b[1m2s\u001b[0m 4ms/step - loss: 0.3134\n",
            "Epoch 34/100\n",
            "\u001b[1m561/561\u001b[0m \u001b[32m━━━━━━━━━━━━━━━━━━━━\u001b[0m\u001b[37m\u001b[0m \u001b[1m3s\u001b[0m 5ms/step - loss: 0.3055\n",
            "Epoch 35/100\n",
            "\u001b[1m561/561\u001b[0m \u001b[32m━━━━━━━━━━━━━━━━━━━━\u001b[0m\u001b[37m\u001b[0m \u001b[1m2s\u001b[0m 4ms/step - loss: 0.3101\n",
            "Epoch 36/100\n",
            "\u001b[1m561/561\u001b[0m \u001b[32m━━━━━━━━━━━━━━━━━━━━\u001b[0m\u001b[37m\u001b[0m \u001b[1m3s\u001b[0m 5ms/step - loss: 0.3109\n",
            "Epoch 37/100\n",
            "\u001b[1m561/561\u001b[0m \u001b[32m━━━━━━━━━━━━━━━━━━━━\u001b[0m\u001b[37m\u001b[0m \u001b[1m3s\u001b[0m 4ms/step - loss: 0.3129\n",
            "Epoch 38/100\n",
            "\u001b[1m561/561\u001b[0m \u001b[32m━━━━━━━━━━━━━━━━━━━━\u001b[0m\u001b[37m\u001b[0m \u001b[1m3s\u001b[0m 4ms/step - loss: 0.3065\n",
            "Epoch 39/100\n",
            "\u001b[1m561/561\u001b[0m \u001b[32m━━━━━━━━━━━━━━━━━━━━\u001b[0m\u001b[37m\u001b[0m \u001b[1m2s\u001b[0m 4ms/step - loss: 0.3049\n",
            "Epoch 40/100\n",
            "\u001b[1m561/561\u001b[0m \u001b[32m━━━━━━━━━━━━━━━━━━━━\u001b[0m\u001b[37m\u001b[0m \u001b[1m2s\u001b[0m 4ms/step - loss: 0.3093\n",
            "Epoch 41/100\n",
            "\u001b[1m561/561\u001b[0m \u001b[32m━━━━━━━━━━━━━━━━━━━━\u001b[0m\u001b[37m\u001b[0m \u001b[1m2s\u001b[0m 4ms/step - loss: 0.3033\n",
            "Epoch 42/100\n",
            "\u001b[1m561/561\u001b[0m \u001b[32m━━━━━━━━━━━━━━━━━━━━\u001b[0m\u001b[37m\u001b[0m \u001b[1m2s\u001b[0m 4ms/step - loss: 0.3076\n",
            "Epoch 43/100\n",
            "\u001b[1m561/561\u001b[0m \u001b[32m━━━━━━━━━━━━━━━━━━━━\u001b[0m\u001b[37m\u001b[0m \u001b[1m3s\u001b[0m 4ms/step - loss: 0.3053\n",
            "Epoch 44/100\n",
            "\u001b[1m561/561\u001b[0m \u001b[32m━━━━━━━━━━━━━━━━━━━━\u001b[0m\u001b[37m\u001b[0m \u001b[1m3s\u001b[0m 4ms/step - loss: 0.3029\n",
            "Epoch 45/100\n",
            "\u001b[1m561/561\u001b[0m \u001b[32m━━━━━━━━━━━━━━━━━━━━\u001b[0m\u001b[37m\u001b[0m \u001b[1m2s\u001b[0m 4ms/step - loss: 0.3020\n",
            "Epoch 46/100\n",
            "\u001b[1m561/561\u001b[0m \u001b[32m━━━━━━━━━━━━━━━━━━━━\u001b[0m\u001b[37m\u001b[0m \u001b[1m2s\u001b[0m 4ms/step - loss: 0.2957\n",
            "Epoch 47/100\n",
            "\u001b[1m561/561\u001b[0m \u001b[32m━━━━━━━━━━━━━━━━━━━━\u001b[0m\u001b[37m\u001b[0m \u001b[1m3s\u001b[0m 5ms/step - loss: 0.3042\n",
            "Epoch 48/100\n",
            "\u001b[1m561/561\u001b[0m \u001b[32m━━━━━━━━━━━━━━━━━━━━\u001b[0m\u001b[37m\u001b[0m \u001b[1m3s\u001b[0m 5ms/step - loss: 0.3013\n",
            "Epoch 49/100\n",
            "\u001b[1m561/561\u001b[0m \u001b[32m━━━━━━━━━━━━━━━━━━━━\u001b[0m\u001b[37m\u001b[0m \u001b[1m3s\u001b[0m 4ms/step - loss: 0.3030\n",
            "Epoch 50/100\n",
            "\u001b[1m561/561\u001b[0m \u001b[32m━━━━━━━━━━━━━━━━━━━━\u001b[0m\u001b[37m\u001b[0m \u001b[1m3s\u001b[0m 4ms/step - loss: 0.3029\n",
            "Epoch 51/100\n",
            "\u001b[1m561/561\u001b[0m \u001b[32m━━━━━━━━━━━━━━━━━━━━\u001b[0m\u001b[37m\u001b[0m \u001b[1m2s\u001b[0m 4ms/step - loss: 0.2998\n",
            "Epoch 52/100\n",
            "\u001b[1m561/561\u001b[0m \u001b[32m━━━━━━━━━━━━━━━━━━━━\u001b[0m\u001b[37m\u001b[0m \u001b[1m3s\u001b[0m 4ms/step - loss: 0.2979\n",
            "Epoch 53/100\n",
            "\u001b[1m561/561\u001b[0m \u001b[32m━━━━━━━━━━━━━━━━━━━━\u001b[0m\u001b[37m\u001b[0m \u001b[1m2s\u001b[0m 4ms/step - loss: 0.3051\n",
            "Epoch 54/100\n",
            "\u001b[1m561/561\u001b[0m \u001b[32m━━━━━━━━━━━━━━━━━━━━\u001b[0m\u001b[37m\u001b[0m \u001b[1m3s\u001b[0m 4ms/step - loss: 0.3008\n",
            "Epoch 55/100\n",
            "\u001b[1m561/561\u001b[0m \u001b[32m━━━━━━━━━━━━━━━━━━━━\u001b[0m\u001b[37m\u001b[0m \u001b[1m3s\u001b[0m 4ms/step - loss: 0.3003\n",
            "Epoch 56/100\n",
            "\u001b[1m561/561\u001b[0m \u001b[32m━━━━━━━━━━━━━━━━━━━━\u001b[0m\u001b[37m\u001b[0m \u001b[1m2s\u001b[0m 4ms/step - loss: 0.3045\n",
            "Epoch 57/100\n",
            "\u001b[1m561/561\u001b[0m \u001b[32m━━━━━━━━━━━━━━━━━━━━\u001b[0m\u001b[37m\u001b[0m \u001b[1m3s\u001b[0m 4ms/step - loss: 0.3028\n",
            "Epoch 58/100\n",
            "\u001b[1m561/561\u001b[0m \u001b[32m━━━━━━━━━━━━━━━━━━━━\u001b[0m\u001b[37m\u001b[0m \u001b[1m2s\u001b[0m 4ms/step - loss: 0.2998\n",
            "Epoch 59/100\n",
            "\u001b[1m561/561\u001b[0m \u001b[32m━━━━━━━━━━━━━━━━━━━━\u001b[0m\u001b[37m\u001b[0m \u001b[1m3s\u001b[0m 5ms/step - loss: 0.2986\n",
            "Epoch 60/100\n",
            "\u001b[1m561/561\u001b[0m \u001b[32m━━━━━━━━━━━━━━━━━━━━\u001b[0m\u001b[37m\u001b[0m \u001b[1m3s\u001b[0m 5ms/step - loss: 0.3061\n",
            "Epoch 61/100\n",
            "\u001b[1m561/561\u001b[0m \u001b[32m━━━━━━━━━━━━━━━━━━━━\u001b[0m\u001b[37m\u001b[0m \u001b[1m2s\u001b[0m 4ms/step - loss: 0.3006\n",
            "Epoch 62/100\n",
            "\u001b[1m561/561\u001b[0m \u001b[32m━━━━━━━━━━━━━━━━━━━━\u001b[0m\u001b[37m\u001b[0m \u001b[1m2s\u001b[0m 4ms/step - loss: 0.3022\n",
            "Epoch 63/100\n",
            "\u001b[1m561/561\u001b[0m \u001b[32m━━━━━━━━━━━━━━━━━━━━\u001b[0m\u001b[37m\u001b[0m \u001b[1m2s\u001b[0m 4ms/step - loss: 0.2969\n",
            "Epoch 64/100\n",
            "\u001b[1m561/561\u001b[0m \u001b[32m━━━━━━━━━━━━━━━━━━━━\u001b[0m\u001b[37m\u001b[0m \u001b[1m2s\u001b[0m 4ms/step - loss: 0.2965\n",
            "Epoch 65/100\n",
            "\u001b[1m561/561\u001b[0m \u001b[32m━━━━━━━━━━━━━━━━━━━━\u001b[0m\u001b[37m\u001b[0m \u001b[1m3s\u001b[0m 4ms/step - loss: 0.2967\n",
            "Epoch 66/100\n",
            "\u001b[1m561/561\u001b[0m \u001b[32m━━━━━━━━━━━━━━━━━━━━\u001b[0m\u001b[37m\u001b[0m \u001b[1m2s\u001b[0m 4ms/step - loss: 0.3016\n",
            "Epoch 67/100\n",
            "\u001b[1m561/561\u001b[0m \u001b[32m━━━━━━━━━━━━━━━━━━━━\u001b[0m\u001b[37m\u001b[0m \u001b[1m3s\u001b[0m 4ms/step - loss: 0.2967\n",
            "Epoch 68/100\n",
            "\u001b[1m561/561\u001b[0m \u001b[32m━━━━━━━━━━━━━━━━━━━━\u001b[0m\u001b[37m\u001b[0m \u001b[1m2s\u001b[0m 4ms/step - loss: 0.2963\n",
            "Epoch 69/100\n",
            "\u001b[1m561/561\u001b[0m \u001b[32m━━━━━━━━━━━━━━━━━━━━\u001b[0m\u001b[37m\u001b[0m \u001b[1m3s\u001b[0m 4ms/step - loss: 0.2966\n",
            "Epoch 70/100\n",
            "\u001b[1m561/561\u001b[0m \u001b[32m━━━━━━━━━━━━━━━━━━━━\u001b[0m\u001b[37m\u001b[0m \u001b[1m3s\u001b[0m 4ms/step - loss: 0.2950\n",
            "Epoch 71/100\n",
            "\u001b[1m561/561\u001b[0m \u001b[32m━━━━━━━━━━━━━━━━━━━━\u001b[0m\u001b[37m\u001b[0m \u001b[1m2s\u001b[0m 4ms/step - loss: 0.3004\n",
            "Epoch 72/100\n",
            "\u001b[1m561/561\u001b[0m \u001b[32m━━━━━━━━━━━━━━━━━━━━\u001b[0m\u001b[37m\u001b[0m \u001b[1m3s\u001b[0m 5ms/step - loss: 0.2998\n",
            "Epoch 73/100\n",
            "\u001b[1m561/561\u001b[0m \u001b[32m━━━━━━━━━━━━━━━━━━━━\u001b[0m\u001b[37m\u001b[0m \u001b[1m3s\u001b[0m 4ms/step - loss: 0.2961\n",
            "Epoch 74/100\n",
            "\u001b[1m561/561\u001b[0m \u001b[32m━━━━━━━━━━━━━━━━━━━━\u001b[0m\u001b[37m\u001b[0m \u001b[1m3s\u001b[0m 4ms/step - loss: 0.2964\n",
            "Epoch 75/100\n",
            "\u001b[1m561/561\u001b[0m \u001b[32m━━━━━━━━━━━━━━━━━━━━\u001b[0m\u001b[37m\u001b[0m \u001b[1m3s\u001b[0m 4ms/step - loss: 0.2972\n",
            "Epoch 76/100\n",
            "\u001b[1m561/561\u001b[0m \u001b[32m━━━━━━━━━━━━━━━━━━━━\u001b[0m\u001b[37m\u001b[0m \u001b[1m3s\u001b[0m 5ms/step - loss: 0.2931\n",
            "Epoch 77/100\n",
            "\u001b[1m561/561\u001b[0m \u001b[32m━━━━━━━━━━━━━━━━━━━━\u001b[0m\u001b[37m\u001b[0m \u001b[1m3s\u001b[0m 5ms/step - loss: 0.2901\n",
            "Epoch 78/100\n",
            "\u001b[1m561/561\u001b[0m \u001b[32m━━━━━━━━━━━━━━━━━━━━\u001b[0m\u001b[37m\u001b[0m \u001b[1m3s\u001b[0m 4ms/step - loss: 0.2953\n",
            "Epoch 79/100\n",
            "\u001b[1m561/561\u001b[0m \u001b[32m━━━━━━━━━━━━━━━━━━━━\u001b[0m\u001b[37m\u001b[0m \u001b[1m3s\u001b[0m 4ms/step - loss: 0.2962\n",
            "Epoch 80/100\n",
            "\u001b[1m561/561\u001b[0m \u001b[32m━━━━━━━━━━━━━━━━━━━━\u001b[0m\u001b[37m\u001b[0m \u001b[1m3s\u001b[0m 5ms/step - loss: 0.2884\n",
            "Epoch 81/100\n",
            "\u001b[1m561/561\u001b[0m \u001b[32m━━━━━━━━━━━━━━━━━━━━\u001b[0m\u001b[37m\u001b[0m \u001b[1m2s\u001b[0m 4ms/step - loss: 0.2939\n",
            "Epoch 82/100\n",
            "\u001b[1m561/561\u001b[0m \u001b[32m━━━━━━━━━━━━━━━━━━━━\u001b[0m\u001b[37m\u001b[0m \u001b[1m3s\u001b[0m 5ms/step - loss: 0.2960\n",
            "Epoch 83/100\n",
            "\u001b[1m561/561\u001b[0m \u001b[32m━━━━━━━━━━━━━━━━━━━━\u001b[0m\u001b[37m\u001b[0m \u001b[1m3s\u001b[0m 5ms/step - loss: 0.2966\n",
            "Epoch 84/100\n",
            "\u001b[1m561/561\u001b[0m \u001b[32m━━━━━━━━━━━━━━━━━━━━\u001b[0m\u001b[37m\u001b[0m \u001b[1m3s\u001b[0m 5ms/step - loss: 0.2898\n",
            "Epoch 85/100\n",
            "\u001b[1m561/561\u001b[0m \u001b[32m━━━━━━━━━━━━━━━━━━━━\u001b[0m\u001b[37m\u001b[0m \u001b[1m3s\u001b[0m 5ms/step - loss: 0.2945\n",
            "Epoch 86/100\n",
            "\u001b[1m561/561\u001b[0m \u001b[32m━━━━━━━━━━━━━━━━━━━━\u001b[0m\u001b[37m\u001b[0m \u001b[1m3s\u001b[0m 5ms/step - loss: 0.2934\n",
            "Epoch 87/100\n",
            "\u001b[1m561/561\u001b[0m \u001b[32m━━━━━━━━━━━━━━━━━━━━\u001b[0m\u001b[37m\u001b[0m \u001b[1m2s\u001b[0m 4ms/step - loss: 0.2955\n",
            "Epoch 88/100\n",
            "\u001b[1m561/561\u001b[0m \u001b[32m━━━━━━━━━━━━━━━━━━━━\u001b[0m\u001b[37m\u001b[0m \u001b[1m3s\u001b[0m 5ms/step - loss: 0.2946\n",
            "Epoch 89/100\n",
            "\u001b[1m561/561\u001b[0m \u001b[32m━━━━━━━━━━━━━━━━━━━━\u001b[0m\u001b[37m\u001b[0m \u001b[1m3s\u001b[0m 4ms/step - loss: 0.2929\n",
            "Epoch 90/100\n",
            "\u001b[1m561/561\u001b[0m \u001b[32m━━━━━━━━━━━━━━━━━━━━\u001b[0m\u001b[37m\u001b[0m \u001b[1m2s\u001b[0m 4ms/step - loss: 0.2948\n",
            "Epoch 91/100\n",
            "\u001b[1m561/561\u001b[0m \u001b[32m━━━━━━━━━━━━━━━━━━━━\u001b[0m\u001b[37m\u001b[0m \u001b[1m3s\u001b[0m 4ms/step - loss: 0.2920\n",
            "Epoch 92/100\n",
            "\u001b[1m561/561\u001b[0m \u001b[32m━━━━━━━━━━━━━━━━━━━━\u001b[0m\u001b[37m\u001b[0m \u001b[1m3s\u001b[0m 4ms/step - loss: 0.2932\n",
            "Epoch 93/100\n",
            "\u001b[1m561/561\u001b[0m \u001b[32m━━━━━━━━━━━━━━━━━━━━\u001b[0m\u001b[37m\u001b[0m \u001b[1m2s\u001b[0m 4ms/step - loss: 0.3016\n",
            "Epoch 94/100\n",
            "\u001b[1m561/561\u001b[0m \u001b[32m━━━━━━━━━━━━━━━━━━━━\u001b[0m\u001b[37m\u001b[0m \u001b[1m3s\u001b[0m 5ms/step - loss: 0.2947\n",
            "Epoch 95/100\n",
            "\u001b[1m561/561\u001b[0m \u001b[32m━━━━━━━━━━━━━━━━━━━━\u001b[0m\u001b[37m\u001b[0m \u001b[1m3s\u001b[0m 4ms/step - loss: 0.2980\n",
            "Epoch 96/100\n",
            "\u001b[1m561/561\u001b[0m \u001b[32m━━━━━━━━━━━━━━━━━━━━\u001b[0m\u001b[37m\u001b[0m \u001b[1m3s\u001b[0m 5ms/step - loss: 0.2928\n",
            "Epoch 97/100\n",
            "\u001b[1m561/561\u001b[0m \u001b[32m━━━━━━━━━━━━━━━━━━━━\u001b[0m\u001b[37m\u001b[0m \u001b[1m3s\u001b[0m 5ms/step - loss: 0.2911\n",
            "Epoch 98/100\n",
            "\u001b[1m561/561\u001b[0m \u001b[32m━━━━━━━━━━━━━━━━━━━━\u001b[0m\u001b[37m\u001b[0m \u001b[1m4s\u001b[0m 3ms/step - loss: 0.2981\n",
            "Epoch 99/100\n",
            "\u001b[1m561/561\u001b[0m \u001b[32m━━━━━━━━━━━━━━━━━━━━\u001b[0m\u001b[37m\u001b[0m \u001b[1m2s\u001b[0m 3ms/step - loss: 0.2996\n",
            "Epoch 100/100\n",
            "\u001b[1m561/561\u001b[0m \u001b[32m━━━━━━━━━━━━━━━━━━━━\u001b[0m\u001b[37m\u001b[0m \u001b[1m2s\u001b[0m 4ms/step - loss: 0.2879\n"
          ]
        }
      ],
      "source": [
        "model, history = train_LSTM_supervised(trainX, trainY,1, num_feature= num_feature,binary = True)  "
      ]
    },
    {
      "cell_type": "code",
      "execution_count": null,
      "metadata": {},
      "outputs": [
        {
          "data": {
            "text/plain": [
              "{'name': 'sequential_1',\n",
              " 'trainable': True,\n",
              " 'dtype': {'module': 'keras',\n",
              "  'class_name': 'DTypePolicy',\n",
              "  'config': {'name': 'float32'},\n",
              "  'registered_name': None},\n",
              " 'layers': [{'module': 'keras.layers',\n",
              "   'class_name': 'InputLayer',\n",
              "   'config': {'batch_shape': (None, 11, 1),\n",
              "    'dtype': 'float32',\n",
              "    'sparse': False,\n",
              "    'ragged': False,\n",
              "    'name': 'input_layer_1'},\n",
              "   'registered_name': None},\n",
              "  {'module': 'keras.layers',\n",
              "   'class_name': 'LSTM',\n",
              "   'config': {'name': 'lstm_1',\n",
              "    'trainable': True,\n",
              "    'dtype': {'module': 'keras',\n",
              "     'class_name': 'DTypePolicy',\n",
              "     'config': {'name': 'float32'},\n",
              "     'registered_name': None},\n",
              "    'return_sequences': False,\n",
              "    'return_state': False,\n",
              "    'go_backwards': False,\n",
              "    'stateful': False,\n",
              "    'unroll': False,\n",
              "    'zero_output_for_mask': False,\n",
              "    'units': 16,\n",
              "    'activation': 'tanh',\n",
              "    'recurrent_activation': 'sigmoid',\n",
              "    'use_bias': True,\n",
              "    'kernel_initializer': {'module': 'keras.initializers',\n",
              "     'class_name': 'GlorotUniform',\n",
              "     'config': {'seed': None},\n",
              "     'registered_name': None},\n",
              "    'recurrent_initializer': {'module': 'keras.initializers',\n",
              "     'class_name': 'Orthogonal',\n",
              "     'config': {'seed': None, 'gain': 1.0},\n",
              "     'registered_name': None},\n",
              "    'bias_initializer': {'module': 'keras.initializers',\n",
              "     'class_name': 'Zeros',\n",
              "     'config': {},\n",
              "     'registered_name': None},\n",
              "    'unit_forget_bias': True,\n",
              "    'kernel_regularizer': None,\n",
              "    'recurrent_regularizer': None,\n",
              "    'bias_regularizer': None,\n",
              "    'activity_regularizer': None,\n",
              "    'kernel_constraint': None,\n",
              "    'recurrent_constraint': None,\n",
              "    'bias_constraint': None,\n",
              "    'dropout': 0.0,\n",
              "    'recurrent_dropout': 0.0,\n",
              "    'seed': None},\n",
              "   'registered_name': None,\n",
              "   'build_config': {'input_shape': (None, 11, 1)}},\n",
              "  {'module': 'keras.layers',\n",
              "   'class_name': 'Dropout',\n",
              "   'config': {'name': 'dropout_1',\n",
              "    'trainable': True,\n",
              "    'dtype': {'module': 'keras',\n",
              "     'class_name': 'DTypePolicy',\n",
              "     'config': {'name': 'float32'},\n",
              "     'registered_name': None},\n",
              "    'rate': 0.1,\n",
              "    'seed': None,\n",
              "    'noise_shape': None},\n",
              "   'registered_name': None},\n",
              "  {'module': 'keras.layers',\n",
              "   'class_name': 'Dense',\n",
              "   'config': {'name': 'dense_1',\n",
              "    'trainable': True,\n",
              "    'dtype': {'module': 'keras',\n",
              "     'class_name': 'DTypePolicy',\n",
              "     'config': {'name': 'float32'},\n",
              "     'registered_name': None},\n",
              "    'units': 11,\n",
              "    'activation': 'softmax',\n",
              "    'use_bias': True,\n",
              "    'kernel_initializer': {'module': 'keras.initializers',\n",
              "     'class_name': 'GlorotUniform',\n",
              "     'config': {'seed': None},\n",
              "     'registered_name': None},\n",
              "    'bias_initializer': {'module': 'keras.initializers',\n",
              "     'class_name': 'Zeros',\n",
              "     'config': {},\n",
              "     'registered_name': None},\n",
              "    'kernel_regularizer': None,\n",
              "    'bias_regularizer': None,\n",
              "    'kernel_constraint': None,\n",
              "    'bias_constraint': None},\n",
              "   'registered_name': None,\n",
              "   'build_config': {'input_shape': (None, 16)}}],\n",
              " 'build_input_shape': (None, 11, 1)}"
            ]
          },
          "execution_count": 107,
          "metadata": {},
          "output_type": "execute_result"
        }
      ],
      "source": [
        "model.get_config()"
      ]
    },
    {
      "cell_type": "code",
      "execution_count": null,
      "metadata": {},
      "outputs": [
        {
          "data": {
            "image/png": "[encoded data removed]",
            "text/plain": [
              "<Figure size 800x500 with 1 Axes>"
            ]
          },
          "metadata": {},
          "output_type": "display_data"
        }
      ],
      "source": [
        "pd.DataFrame(history.history).plot(figsize=(8,5))\n",
        "plt.show()"
      ]
    },
    {
      "cell_type": "code",
      "execution_count": null,
      "metadata": {},
      "outputs": [
        {
          "data": {
            "text/html": [
              "<pre style=\"white-space:pre;overflow-x:auto;line-height:normal;font-family:Menlo,'DejaVu Sans Mono',consolas,'Courier New',monospace\"><span style=\"font-weight: bold\">Model: \"sequential_1\"</span>\n",
              "</pre>\n"
            ],
            "text/plain": [
              "\u001b[1mModel: \"sequential_1\"\u001b[0m\n"
            ]
          },
          "metadata": {},
          "output_type": "display_data"
        },
        {
          "data": {
            "text/html": [
              "<pre style=\"white-space:pre;overflow-x:auto;line-height:normal;font-family:Menlo,'DejaVu Sans Mono',consolas,'Courier New',monospace\">┏━━━━━━━━━━━━━━━━━━━━━━━━━━━━━━━━━┳━━━━━━━━━━━━━━━━━━━━━━━━┳━━━━━━━━━━━━━━━┓\n",
              "┃<span style=\"font-weight: bold\"> Layer (type)                    </span>┃<span style=\"font-weight: bold\"> Output Shape           </span>┃<span style=\"font-weight: bold\">       Param # </span>┃\n",
              "┡━━━━━━━━━━━━━━━━━━━━━━━━━━━━━━━━━╇━━━━━━━━━━━━━━━━━━━━━━━━╇━━━━━━━━━━━━━━━┩\n",
              "│ lstm_1 (<span style=\"color: #0087ff; text-decoration-color: #0087ff\">LSTM</span>)                   │ (<span style=\"color: #00d7ff; text-decoration-color: #00d7ff\">None</span>, <span style=\"color: #00af00; text-decoration-color: #00af00\">16</span>)             │         <span style=\"color: #00af00; text-decoration-color: #00af00\">1,152</span> │\n",
              "├─────────────────────────────────┼────────────────────────┼───────────────┤\n",
              "│ dropout_1 (<span style=\"color: #0087ff; text-decoration-color: #0087ff\">Dropout</span>)             │ (<span style=\"color: #00d7ff; text-decoration-color: #00d7ff\">None</span>, <span style=\"color: #00af00; text-decoration-color: #00af00\">16</span>)             │             <span style=\"color: #00af00; text-decoration-color: #00af00\">0</span> │\n",
              "├─────────────────────────────────┼────────────────────────┼───────────────┤\n",
              "│ dense_1 (<span style=\"color: #0087ff; text-decoration-color: #0087ff\">Dense</span>)                 │ (<span style=\"color: #00d7ff; text-decoration-color: #00d7ff\">None</span>, <span style=\"color: #00af00; text-decoration-color: #00af00\">11</span>)             │           <span style=\"color: #00af00; text-decoration-color: #00af00\">187</span> │\n",
              "└─────────────────────────────────┴────────────────────────┴───────────────┘\n",
              "</pre>\n"
            ],
            "text/plain": [
              "┏━━━━━━━━━━━━━━━━━━━━━━━━━━━━━━━━━┳━━━━━━━━━━━━━━━━━━━━━━━━┳━━━━━━━━━━━━━━━┓\n",
              "┃\u001b[1m \u001b[0m\u001b[1mLayer (type)                   \u001b[0m\u001b[1m \u001b[0m┃\u001b[1m \u001b[0m\u001b[1mOutput Shape          \u001b[0m\u001b[1m \u001b[0m┃\u001b[1m \u001b[0m\u001b[1m      Param #\u001b[0m\u001b[1m \u001b[0m┃\n",
              "┡━━━━━━━━━━━━━━━━━━━━━━━━━━━━━━━━━╇━━━━━━━━━━━━━━━━━━━━━━━━╇━━━━━━━━━━━━━━━┩\n",
              "│ lstm_1 (\u001b[38;5;33mLSTM\u001b[0m)                   │ (\u001b[38;5;45mNone\u001b[0m, \u001b[38;5;34m16\u001b[0m)             │         \u001b[38;5;34m1,152\u001b[0m │\n",
              "├─────────────────────────────────┼────────────────────────┼───────────────┤\n",
              "│ dropout_1 (\u001b[38;5;33mDropout\u001b[0m)             │ (\u001b[38;5;45mNone\u001b[0m, \u001b[38;5;34m16\u001b[0m)             │             \u001b[38;5;34m0\u001b[0m │\n",
              "├─────────────────────────────────┼────────────────────────┼───────────────┤\n",
              "│ dense_1 (\u001b[38;5;33mDense\u001b[0m)                 │ (\u001b[38;5;45mNone\u001b[0m, \u001b[38;5;34m11\u001b[0m)             │           \u001b[38;5;34m187\u001b[0m │\n",
              "└─────────────────────────────────┴────────────────────────┴───────────────┘\n"
            ]
          },
          "metadata": {},
          "output_type": "display_data"
        },
        {
          "data": {
            "text/html": [
              "<pre style=\"white-space:pre;overflow-x:auto;line-height:normal;font-family:Menlo,'DejaVu Sans Mono',consolas,'Courier New',monospace\"><span style=\"font-weight: bold\"> Total params: </span><span style=\"color: #00af00; text-decoration-color: #00af00\">4,019</span> (15.70 KB)\n",
              "</pre>\n"
            ],
            "text/plain": [
              "\u001b[1m Total params: \u001b[0m\u001b[38;5;34m4,019\u001b[0m (15.70 KB)\n"
            ]
          },
          "metadata": {},
          "output_type": "display_data"
        },
        {
          "data": {
            "text/html": [
              "<pre style=\"white-space:pre;overflow-x:auto;line-height:normal;font-family:Menlo,'DejaVu Sans Mono',consolas,'Courier New',monospace\"><span style=\"font-weight: bold\"> Trainable params: </span><span style=\"color: #00af00; text-decoration-color: #00af00\">1,339</span> (5.23 KB)\n",
              "</pre>\n"
            ],
            "text/plain": [
              "\u001b[1m Trainable params: \u001b[0m\u001b[38;5;34m1,339\u001b[0m (5.23 KB)\n"
            ]
          },
          "metadata": {},
          "output_type": "display_data"
        },
        {
          "data": {
            "text/html": [
              "<pre style=\"white-space:pre;overflow-x:auto;line-height:normal;font-family:Menlo,'DejaVu Sans Mono',consolas,'Courier New',monospace\"><span style=\"font-weight: bold\"> Non-trainable params: </span><span style=\"color: #00af00; text-decoration-color: #00af00\">0</span> (0.00 B)\n",
              "</pre>\n"
            ],
            "text/plain": [
              "\u001b[1m Non-trainable params: \u001b[0m\u001b[38;5;34m0\u001b[0m (0.00 B)\n"
            ]
          },
          "metadata": {},
          "output_type": "display_data"
        },
        {
          "data": {
            "text/html": [
              "<pre style=\"white-space:pre;overflow-x:auto;line-height:normal;font-family:Menlo,'DejaVu Sans Mono',consolas,'Courier New',monospace\"><span style=\"font-weight: bold\"> Optimizer params: </span><span style=\"color: #00af00; text-decoration-color: #00af00\">2,680</span> (10.47 KB)\n",
              "</pre>\n"
            ],
            "text/plain": [
              "\u001b[1m Optimizer params: \u001b[0m\u001b[38;5;34m2,680\u001b[0m (10.47 KB)\n"
            ]
          },
          "metadata": {},
          "output_type": "display_data"
        }
      ],
      "source": [
        "model.summary()"
      ]
    },
    {
      "cell_type": "code",
      "execution_count": null,
      "metadata": {},
      "outputs": [
        {
          "name": "stdout",
          "output_type": "stream",
          "text": [
            "              precision    recall  f1-score   support\n",
            "\n",
            "         0.0       1.00      1.00      1.00     29458\n",
            "         1.0       1.00      1.00      1.00      6432\n",
            "\n",
            "    accuracy                           1.00     35890\n",
            "   macro avg       1.00      1.00      1.00     35890\n",
            "weighted avg       1.00      1.00      1.00     35890\n",
            "\n"
          ]
        }
      ],
      "source": [
        "prediction = test_model.predict(trainX)\n",
        "print(classification_report(trainY, prediction))"
      ]
    },
    {
      "cell_type": "code",
      "execution_count": null,
      "metadata": {},
      "outputs": [
        {
          "name": "stdout",
          "output_type": "stream",
          "text": [
            "              precision    recall  f1-score   support\n",
            "\n",
            "         0.0       0.95      0.97      0.96      8121\n",
            "         1.0       0.66      0.47      0.55       849\n",
            "\n",
            "    accuracy                           0.93      8970\n",
            "   macro avg       0.80      0.72      0.75      8970\n",
            "weighted avg       0.92      0.93      0.92      8970\n",
            "\n"
          ]
        }
      ],
      "source": [
        "prediction = test_model.predict(testX)\n",
        "print(classification_report( testY, prediction))"
      ]
    }
  ],
  "metadata": {
    "colab": {
      "provenance": []
    },
    "kernelspec": {
      "display_name": "base",
      "language": "python",
      "name": "python3"
    },
    "language_info": {
      "codemirror_mode": {
        "name": "ipython",
        "version": 3
      },
      "file_extension": ".py",
      "mimetype": "text/x-python",
      "name": "python",
      "nbconvert_exporter": "python",
      "pygments_lexer": "ipython3",
      "version": "3.12.7"
    }
  },
  "nbformat": 4,
  "nbformat_minor": 0
}
